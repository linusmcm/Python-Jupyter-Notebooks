{
 "cells": [
  {
   "cell_type": "code",
   "execution_count": 18,
   "metadata": {
    "collapsed": false
   },
   "outputs": [],
   "source": [
    "import pandas as pd\n",
    "import numpy as np\n",
    "import matplotlib\n",
    "import time\n",
    "from IPython.core.interactiveshell import InteractiveShell\n",
    "InteractiveShell.ast_node_interactivity = \"all\"\n",
    "%matplotlib inline"
   ]
  },
  {
   "cell_type": "markdown",
   "metadata": {},
   "source": [
    "### PLOTLY LIBRARIES"
   ]
  },
  {
   "cell_type": "code",
   "execution_count": 19,
   "metadata": {
    "collapsed": false
   },
   "outputs": [
    {
     "data": {
      "text/html": [
       "<script>requirejs.config({paths: { 'plotly': ['https://cdn.plot.ly/plotly-latest.min']},});if(!window.Plotly) {{require(['plotly'],function(plotly) {window.Plotly=plotly;});}}</script>"
      ],
      "text/vnd.plotly.v1+html": [
       "<script>requirejs.config({paths: { 'plotly': ['https://cdn.plot.ly/plotly-latest.min']},});if(!window.Plotly) {{require(['plotly'],function(plotly) {window.Plotly=plotly;});}}</script>"
      ]
     },
     "metadata": {},
     "output_type": "display_data"
    },
    {
     "data": {
      "text/plain": [
       "'2.0.9'"
      ]
     },
     "execution_count": 19,
     "metadata": {},
     "output_type": "execute_result"
    }
   ],
   "source": [
    "import plotly\n",
    "plotly.tools.set_credentials_file(username='linus.austen.mcmanamey', api_key='3tqgEzyZAGTIeFY5sQ1T')\n",
    "import plotly.plotly as py\n",
    "import plotly.graph_objs as go\n",
    "from plotly.graph_objs import *\n",
    "from plotly.graph_objs import Surface, Layout, Scene\n",
    "from plotly.grid_objs import Grid, Column\n",
    "from plotly.tools import FigureFactory as FF\n",
    "from plotly.offline import init_notebook_mode, iplot\n",
    "from IPython.display import display, HTML\n",
    "init_notebook_mode(connected=True)\n",
    "import plotly.tools as tls\n",
    "plotly.__version__"
   ]
  },
  {
   "cell_type": "code",
   "execution_count": 20,
   "metadata": {
    "collapsed": true
   },
   "outputs": [],
   "source": [
    "#! conda install --channel https://conda.anaconda.org/conda-forge plotly=1.13.0"
   ]
  },
  {
   "cell_type": "code",
   "execution_count": 21,
   "metadata": {
    "collapsed": false
   },
   "outputs": [],
   "source": [
    "#! pip install cufflinks --upgrade"
   ]
  },
  {
   "cell_type": "markdown",
   "metadata": {},
   "source": [
    "### list all csv files in directory"
   ]
  },
  {
   "cell_type": "code",
   "execution_count": 22,
   "metadata": {
    "collapsed": false
   },
   "outputs": [],
   "source": [
    "#!ls *.csv"
   ]
  },
  {
   "cell_type": "markdown",
   "metadata": {},
   "source": [
    "### list all excel files in directory"
   ]
  },
  {
   "cell_type": "code",
   "execution_count": 23,
   "metadata": {
    "collapsed": false
   },
   "outputs": [],
   "source": [
    "#!ls *.xls"
   ]
  },
  {
   "cell_type": "code",
   "execution_count": 24,
   "metadata": {
    "collapsed": false
   },
   "outputs": [
    {
     "data": {
      "text/html": [
       "<div>\n",
       "<table border=\"1\" class=\"dataframe\">\n",
       "  <thead>\n",
       "    <tr style=\"text-align: right;\">\n",
       "      <th></th>\n",
       "      <th>State/Territory</th>\n",
       "      <th>Date</th>\n",
       "      <th>Employment Rate (15-64)</th>\n",
       "      <th>Unemployment Rate (15+)</th>\n",
       "      <th>Participation Rate (15+)</th>\n",
       "    </tr>\n",
       "  </thead>\n",
       "  <tbody>\n",
       "    <tr>\n",
       "      <th>0</th>\n",
       "      <td>NSW</td>\n",
       "      <td>1978-02-01</td>\n",
       "      <td>n/a</td>\n",
       "      <td>6.773762</td>\n",
       "      <td>60.735313</td>\n",
       "    </tr>\n",
       "    <tr>\n",
       "      <th>1</th>\n",
       "      <td>NSW</td>\n",
       "      <td>1978-03-01</td>\n",
       "      <td>n/a</td>\n",
       "      <td>6.490161</td>\n",
       "      <td>59.851078</td>\n",
       "    </tr>\n",
       "    <tr>\n",
       "      <th>2</th>\n",
       "      <td>NSW</td>\n",
       "      <td>1978-04-01</td>\n",
       "      <td>63.7195</td>\n",
       "      <td>6.507978</td>\n",
       "      <td>60.168513</td>\n",
       "    </tr>\n",
       "    <tr>\n",
       "      <th>3</th>\n",
       "      <td>NSW</td>\n",
       "      <td>1978-05-01</td>\n",
       "      <td>63.682</td>\n",
       "      <td>6.115171</td>\n",
       "      <td>60.003564</td>\n",
       "    </tr>\n",
       "    <tr>\n",
       "      <th>4</th>\n",
       "      <td>NSW</td>\n",
       "      <td>1978-06-01</td>\n",
       "      <td>63.6829</td>\n",
       "      <td>6.424127</td>\n",
       "      <td>60.145380</td>\n",
       "    </tr>\n",
       "  </tbody>\n",
       "</table>\n",
       "</div>"
      ],
      "text/plain": [
       "  State/Territory       Date Employment Rate (15-64)  Unemployment Rate (15+)  \\\n",
       "0             NSW 1978-02-01                     n/a                 6.773762   \n",
       "1             NSW 1978-03-01                     n/a                 6.490161   \n",
       "2             NSW 1978-04-01                 63.7195                 6.507978   \n",
       "3             NSW 1978-05-01                  63.682                 6.115171   \n",
       "4             NSW 1978-06-01                 63.6829                 6.424127   \n",
       "\n",
       "   Participation Rate (15+)  \n",
       "0                 60.735313  \n",
       "1                 59.851078  \n",
       "2                 60.168513  \n",
       "3                 60.003564  \n",
       "4                 60.145380  "
      ]
     },
     "execution_count": 24,
     "metadata": {},
     "output_type": "execute_result"
    }
   ],
   "source": [
    "SA4 = pd.read_excel('SA4 Time Series - October 2016.xls', sheetname = 'Time Series') # we will have to specify the sheet name\n",
    "SA4.head(5)"
   ]
  },
  {
   "cell_type": "markdown",
   "metadata": {},
   "source": [
    "### rename columns"
   ]
  },
  {
   "cell_type": "code",
   "execution_count": 25,
   "metadata": {
    "collapsed": false
   },
   "outputs": [
    {
     "data": {
      "text/html": [
       "<div>\n",
       "<table border=\"1\" class=\"dataframe\">\n",
       "  <thead>\n",
       "    <tr style=\"text-align: right;\">\n",
       "      <th></th>\n",
       "      <th>State</th>\n",
       "      <th>Date</th>\n",
       "      <th>E_Rate</th>\n",
       "      <th>U_Rate</th>\n",
       "      <th>P_Rate</th>\n",
       "    </tr>\n",
       "  </thead>\n",
       "  <tbody>\n",
       "    <tr>\n",
       "      <th>0</th>\n",
       "      <td>NSW</td>\n",
       "      <td>1978-02-01</td>\n",
       "      <td>n/a</td>\n",
       "      <td>6.773762</td>\n",
       "      <td>60.735313</td>\n",
       "    </tr>\n",
       "    <tr>\n",
       "      <th>1</th>\n",
       "      <td>NSW</td>\n",
       "      <td>1978-03-01</td>\n",
       "      <td>n/a</td>\n",
       "      <td>6.490161</td>\n",
       "      <td>59.851078</td>\n",
       "    </tr>\n",
       "    <tr>\n",
       "      <th>2</th>\n",
       "      <td>NSW</td>\n",
       "      <td>1978-04-01</td>\n",
       "      <td>63.7195</td>\n",
       "      <td>6.507978</td>\n",
       "      <td>60.168513</td>\n",
       "    </tr>\n",
       "    <tr>\n",
       "      <th>3</th>\n",
       "      <td>NSW</td>\n",
       "      <td>1978-05-01</td>\n",
       "      <td>63.682</td>\n",
       "      <td>6.115171</td>\n",
       "      <td>60.003564</td>\n",
       "    </tr>\n",
       "    <tr>\n",
       "      <th>4</th>\n",
       "      <td>NSW</td>\n",
       "      <td>1978-06-01</td>\n",
       "      <td>63.6829</td>\n",
       "      <td>6.424127</td>\n",
       "      <td>60.145380</td>\n",
       "    </tr>\n",
       "  </tbody>\n",
       "</table>\n",
       "</div>"
      ],
      "text/plain": [
       "  State       Date   E_Rate    U_Rate     P_Rate\n",
       "0   NSW 1978-02-01      n/a  6.773762  60.735313\n",
       "1   NSW 1978-03-01      n/a  6.490161  59.851078\n",
       "2   NSW 1978-04-01  63.7195  6.507978  60.168513\n",
       "3   NSW 1978-05-01   63.682  6.115171  60.003564\n",
       "4   NSW 1978-06-01  63.6829  6.424127  60.145380"
      ]
     },
     "execution_count": 25,
     "metadata": {},
     "output_type": "execute_result"
    }
   ],
   "source": [
    "SA4 = SA4.rename(columns={'State/Territory':'State'})\n",
    "SA4 = SA4.rename(columns={'Employment Rate (15-64)':'E_Rate'})\n",
    "SA4 = SA4.rename(columns={'Unemployment Rate (15+)':'U_Rate'})\n",
    "SA4 = SA4.rename(columns={'Participation Rate (15+)':'P_Rate'})\n",
    "SA4.head(5)"
   ]
  },
  {
   "cell_type": "code",
   "execution_count": 26,
   "metadata": {
    "collapsed": false
   },
   "outputs": [
    {
     "name": "stdout",
     "output_type": "stream",
     "text": [
      "check for number of n/a's  in E_Rate\n"
     ]
    },
    {
     "data": {
      "text/plain": [
       "16"
      ]
     },
     "execution_count": 26,
     "metadata": {},
     "output_type": "execute_result"
    }
   ],
   "source": [
    "print(\"check for number of n/a's  in E_Rate\")\n",
    "len(SA4[SA4.E_Rate  == 'n/a'])"
   ]
  },
  {
   "cell_type": "markdown",
   "metadata": {},
   "source": [
    "### Remove 'n/a' and cast as float"
   ]
  },
  {
   "cell_type": "code",
   "execution_count": 27,
   "metadata": {
    "collapsed": false
   },
   "outputs": [
    {
     "name": "stdout",
     "output_type": "stream",
     "text": [
      "3704\n"
     ]
    }
   ],
   "source": [
    "SA4 = SA4[SA4.E_Rate  != 'n/a']\n",
    "SA4.E_Rate = SA4.E_Rate.astype('float')\n",
    "print(len(SA4))"
   ]
  },
  {
   "cell_type": "markdown",
   "metadata": {},
   "source": [
    "### Check  dataframe types"
   ]
  },
  {
   "cell_type": "code",
   "execution_count": 28,
   "metadata": {
    "collapsed": false
   },
   "outputs": [
    {
     "data": {
      "text/plain": [
       "State             object\n",
       "Date      datetime64[ns]\n",
       "E_Rate           float64\n",
       "U_Rate           float64\n",
       "P_Rate           float64\n",
       "dtype: object"
      ]
     },
     "execution_count": 28,
     "metadata": {},
     "output_type": "execute_result"
    }
   ],
   "source": [
    "SA4.dtypes"
   ]
  },
  {
   "cell_type": "markdown",
   "metadata": {},
   "source": [
    "###  check for null values"
   ]
  },
  {
   "cell_type": "code",
   "execution_count": 29,
   "metadata": {
    "collapsed": false
   },
   "outputs": [
    {
     "data": {
      "text/plain": [
       "0"
      ]
     },
     "execution_count": 29,
     "metadata": {},
     "output_type": "execute_result"
    },
    {
     "data": {
      "text/plain": [
       "0"
      ]
     },
     "execution_count": 29,
     "metadata": {},
     "output_type": "execute_result"
    },
    {
     "data": {
      "text/plain": [
       "0"
      ]
     },
     "execution_count": 29,
     "metadata": {},
     "output_type": "execute_result"
    }
   ],
   "source": [
    "SA4.U_Rate.isnull().sum()\n",
    "SA4.P_Rate.isnull().sum()\n",
    "SA4.E_Rate.isnull().sum()"
   ]
  },
  {
   "cell_type": "markdown",
   "metadata": {},
   "source": [
    "### Set Date as index and then remove \"Date\" column"
   ]
  },
  {
   "cell_type": "code",
   "execution_count": 30,
   "metadata": {
    "collapsed": false
   },
   "outputs": [
    {
     "data": {
      "text/html": [
       "<div>\n",
       "<table border=\"1\" class=\"dataframe\">\n",
       "  <thead>\n",
       "    <tr style=\"text-align: right;\">\n",
       "      <th></th>\n",
       "      <th>State</th>\n",
       "      <th>E_Rate</th>\n",
       "      <th>U_Rate</th>\n",
       "      <th>P_Rate</th>\n",
       "    </tr>\n",
       "    <tr>\n",
       "      <th>Date</th>\n",
       "      <th></th>\n",
       "      <th></th>\n",
       "      <th></th>\n",
       "      <th></th>\n",
       "    </tr>\n",
       "  </thead>\n",
       "  <tbody>\n",
       "    <tr>\n",
       "      <th>1978-04-01</th>\n",
       "      <td>NSW</td>\n",
       "      <td>63.719468</td>\n",
       "      <td>6.507978</td>\n",
       "      <td>60.168513</td>\n",
       "    </tr>\n",
       "    <tr>\n",
       "      <th>1978-05-01</th>\n",
       "      <td>NSW</td>\n",
       "      <td>63.682010</td>\n",
       "      <td>6.115171</td>\n",
       "      <td>60.003564</td>\n",
       "    </tr>\n",
       "    <tr>\n",
       "      <th>1978-06-01</th>\n",
       "      <td>NSW</td>\n",
       "      <td>63.682900</td>\n",
       "      <td>6.424127</td>\n",
       "      <td>60.145380</td>\n",
       "    </tr>\n",
       "    <tr>\n",
       "      <th>1978-07-01</th>\n",
       "      <td>NSW</td>\n",
       "      <td>63.696062</td>\n",
       "      <td>6.100929</td>\n",
       "      <td>59.884195</td>\n",
       "    </tr>\n",
       "    <tr>\n",
       "      <th>1978-08-01</th>\n",
       "      <td>NSW</td>\n",
       "      <td>63.541314</td>\n",
       "      <td>6.258992</td>\n",
       "      <td>60.075240</td>\n",
       "    </tr>\n",
       "  </tbody>\n",
       "</table>\n",
       "</div>"
      ],
      "text/plain": [
       "           State     E_Rate    U_Rate     P_Rate\n",
       "Date                                            \n",
       "1978-04-01   NSW  63.719468  6.507978  60.168513\n",
       "1978-05-01   NSW  63.682010  6.115171  60.003564\n",
       "1978-06-01   NSW  63.682900  6.424127  60.145380\n",
       "1978-07-01   NSW  63.696062  6.100929  59.884195\n",
       "1978-08-01   NSW  63.541314  6.258992  60.075240"
      ]
     },
     "execution_count": 30,
     "metadata": {},
     "output_type": "execute_result"
    }
   ],
   "source": [
    "SA4.index = pd.to_datetime(SA4.Date)\n",
    "SA4 = SA4.drop('Date', axis=1)\n",
    "SA4.head(5)"
   ]
  },
  {
   "cell_type": "markdown",
   "metadata": {},
   "source": [
    "### import csv files to pandas data frame"
   ]
  },
  {
   "cell_type": "code",
   "execution_count": 31,
   "metadata": {
    "collapsed": false
   },
   "outputs": [],
   "source": [
    "ERP = pd.read_csv('ERP_by state and gender.csv',infer_datetime_format=True,parse_dates=True, index_col=0)\n",
    "jobVacDF = pd.read_csv('Job Vacancies.csv',header=0,index_col=0, infer_datetime_format=True, parse_dates=True)"
   ]
  },
  {
   "cell_type": "code",
   "execution_count": 32,
   "metadata": {
    "collapsed": false
   },
   "outputs": [
    {
     "data": {
      "text/html": [
       "<div>\n",
       "<table border=\"1\" class=\"dataframe\">\n",
       "  <thead>\n",
       "    <tr style=\"text-align: right;\">\n",
       "      <th></th>\n",
       "      <th>2006-01-01</th>\n",
       "      <th>2006-02-01</th>\n",
       "      <th>2006-03-01</th>\n",
       "      <th>2006-04-01</th>\n",
       "      <th>2006-05-01</th>\n",
       "      <th>2006-06-01</th>\n",
       "      <th>2006-07-01</th>\n",
       "      <th>2006-08-01</th>\n",
       "      <th>2006-09-01</th>\n",
       "      <th>2006-10-01</th>\n",
       "      <th>...</th>\n",
       "      <th>2016-01-01</th>\n",
       "      <th>2016-02-01</th>\n",
       "      <th>2016-03-01</th>\n",
       "      <th>2016-04-01</th>\n",
       "      <th>2016-05-01</th>\n",
       "      <th>2016-06-01</th>\n",
       "      <th>2016-07-01</th>\n",
       "      <th>2016-08-01</th>\n",
       "      <th>2016-09-01</th>\n",
       "      <th>2016-10-01</th>\n",
       "    </tr>\n",
       "    <tr>\n",
       "      <th>State</th>\n",
       "      <th></th>\n",
       "      <th></th>\n",
       "      <th></th>\n",
       "      <th></th>\n",
       "      <th></th>\n",
       "      <th></th>\n",
       "      <th></th>\n",
       "      <th></th>\n",
       "      <th></th>\n",
       "      <th></th>\n",
       "      <th></th>\n",
       "      <th></th>\n",
       "      <th></th>\n",
       "      <th></th>\n",
       "      <th></th>\n",
       "      <th></th>\n",
       "      <th></th>\n",
       "      <th></th>\n",
       "      <th></th>\n",
       "      <th></th>\n",
       "      <th></th>\n",
       "    </tr>\n",
       "  </thead>\n",
       "  <tbody>\n",
       "    <tr>\n",
       "      <th>NSW</th>\n",
       "      <td>73047.8</td>\n",
       "      <td>73995.0</td>\n",
       "      <td>75246.3</td>\n",
       "      <td>76539.8</td>\n",
       "      <td>75614.9</td>\n",
       "      <td>81637.1</td>\n",
       "      <td>77047.4</td>\n",
       "      <td>78148.5</td>\n",
       "      <td>76411.3</td>\n",
       "      <td>82945.5</td>\n",
       "      <td>...</td>\n",
       "      <td>65297.0</td>\n",
       "      <td>64206.1</td>\n",
       "      <td>63909.2</td>\n",
       "      <td>65951.1</td>\n",
       "      <td>66060.8</td>\n",
       "      <td>66225.8</td>\n",
       "      <td>65063.3</td>\n",
       "      <td>65154.9</td>\n",
       "      <td>63121.4</td>\n",
       "      <td>63534.1</td>\n",
       "    </tr>\n",
       "    <tr>\n",
       "      <th>VIC</th>\n",
       "      <td>49399.3</td>\n",
       "      <td>51027.9</td>\n",
       "      <td>51492.4</td>\n",
       "      <td>51473.1</td>\n",
       "      <td>50570.0</td>\n",
       "      <td>53746.2</td>\n",
       "      <td>52149.5</td>\n",
       "      <td>52783.5</td>\n",
       "      <td>51013.6</td>\n",
       "      <td>56556.5</td>\n",
       "      <td>...</td>\n",
       "      <td>42227.9</td>\n",
       "      <td>41179.8</td>\n",
       "      <td>40338.7</td>\n",
       "      <td>42380.6</td>\n",
       "      <td>42968.9</td>\n",
       "      <td>42947.6</td>\n",
       "      <td>42292.8</td>\n",
       "      <td>42511.9</td>\n",
       "      <td>40092.0</td>\n",
       "      <td>42182.9</td>\n",
       "    </tr>\n",
       "    <tr>\n",
       "      <th>QLD</th>\n",
       "      <td>49807.5</td>\n",
       "      <td>49526.3</td>\n",
       "      <td>49233.0</td>\n",
       "      <td>50440.4</td>\n",
       "      <td>51387.3</td>\n",
       "      <td>54667.4</td>\n",
       "      <td>45802.9</td>\n",
       "      <td>51814.4</td>\n",
       "      <td>51180.1</td>\n",
       "      <td>55388.3</td>\n",
       "      <td>...</td>\n",
       "      <td>29960.6</td>\n",
       "      <td>29343.9</td>\n",
       "      <td>28065.8</td>\n",
       "      <td>29299.3</td>\n",
       "      <td>29289.6</td>\n",
       "      <td>29800.4</td>\n",
       "      <td>28935.9</td>\n",
       "      <td>29292.3</td>\n",
       "      <td>28885.3</td>\n",
       "      <td>29695.4</td>\n",
       "    </tr>\n",
       "    <tr>\n",
       "      <th>SA</th>\n",
       "      <td>13111.4</td>\n",
       "      <td>13160.9</td>\n",
       "      <td>13669.6</td>\n",
       "      <td>13308.7</td>\n",
       "      <td>13095.8</td>\n",
       "      <td>13611.8</td>\n",
       "      <td>13762.3</td>\n",
       "      <td>14033.7</td>\n",
       "      <td>13287.1</td>\n",
       "      <td>13886.8</td>\n",
       "      <td>...</td>\n",
       "      <td>6675.6</td>\n",
       "      <td>6697.5</td>\n",
       "      <td>6737.0</td>\n",
       "      <td>6959.7</td>\n",
       "      <td>6943.3</td>\n",
       "      <td>7521.8</td>\n",
       "      <td>7208.4</td>\n",
       "      <td>7218.4</td>\n",
       "      <td>6976.9</td>\n",
       "      <td>7005.8</td>\n",
       "    </tr>\n",
       "    <tr>\n",
       "      <th>WA</th>\n",
       "      <td>18087.6</td>\n",
       "      <td>18943.3</td>\n",
       "      <td>19739.3</td>\n",
       "      <td>19854.2</td>\n",
       "      <td>20351.9</td>\n",
       "      <td>22077.5</td>\n",
       "      <td>20374.8</td>\n",
       "      <td>20834.9</td>\n",
       "      <td>20614.3</td>\n",
       "      <td>21736.4</td>\n",
       "      <td>...</td>\n",
       "      <td>13695.0</td>\n",
       "      <td>13146.9</td>\n",
       "      <td>12792.1</td>\n",
       "      <td>13159.4</td>\n",
       "      <td>13335.0</td>\n",
       "      <td>13113.0</td>\n",
       "      <td>12624.8</td>\n",
       "      <td>12649.2</td>\n",
       "      <td>12224.9</td>\n",
       "      <td>12323.4</td>\n",
       "    </tr>\n",
       "  </tbody>\n",
       "</table>\n",
       "<p>5 rows × 130 columns</p>\n",
       "</div>"
      ],
      "text/plain": [
       "       2006-01-01  2006-02-01  2006-03-01  2006-04-01  2006-05-01  2006-06-01  \\\n",
       "State                                                                           \n",
       "NSW       73047.8     73995.0     75246.3     76539.8     75614.9     81637.1   \n",
       "VIC       49399.3     51027.9     51492.4     51473.1     50570.0     53746.2   \n",
       "QLD       49807.5     49526.3     49233.0     50440.4     51387.3     54667.4   \n",
       "SA        13111.4     13160.9     13669.6     13308.7     13095.8     13611.8   \n",
       "WA        18087.6     18943.3     19739.3     19854.2     20351.9     22077.5   \n",
       "\n",
       "       2006-07-01  2006-08-01  2006-09-01  2006-10-01     ...      2016-01-01  \\\n",
       "State                                                     ...                   \n",
       "NSW       77047.4     78148.5     76411.3     82945.5     ...         65297.0   \n",
       "VIC       52149.5     52783.5     51013.6     56556.5     ...         42227.9   \n",
       "QLD       45802.9     51814.4     51180.1     55388.3     ...         29960.6   \n",
       "SA        13762.3     14033.7     13287.1     13886.8     ...          6675.6   \n",
       "WA        20374.8     20834.9     20614.3     21736.4     ...         13695.0   \n",
       "\n",
       "       2016-02-01  2016-03-01  2016-04-01  2016-05-01  2016-06-01  2016-07-01  \\\n",
       "State                                                                           \n",
       "NSW       64206.1     63909.2     65951.1     66060.8     66225.8     65063.3   \n",
       "VIC       41179.8     40338.7     42380.6     42968.9     42947.6     42292.8   \n",
       "QLD       29343.9     28065.8     29299.3     29289.6     29800.4     28935.9   \n",
       "SA         6697.5      6737.0      6959.7      6943.3      7521.8      7208.4   \n",
       "WA        13146.9     12792.1     13159.4     13335.0     13113.0     12624.8   \n",
       "\n",
       "       2016-08-01  2016-09-01  2016-10-01  \n",
       "State                                      \n",
       "NSW       65154.9     63121.4     63534.1  \n",
       "VIC       42511.9     40092.0     42182.9  \n",
       "QLD       29292.3     28885.3     29695.4  \n",
       "SA         7218.4      6976.9      7005.8  \n",
       "WA        12649.2     12224.9     12323.4  \n",
       "\n",
       "[5 rows x 130 columns]"
      ]
     },
     "execution_count": 32,
     "metadata": {},
     "output_type": "execute_result"
    }
   ],
   "source": [
    "jobVacDF.head(5)"
   ]
  },
  {
   "cell_type": "markdown",
   "metadata": {},
   "source": [
    "### transpose dataframe"
   ]
  },
  {
   "cell_type": "code",
   "execution_count": 33,
   "metadata": {
    "collapsed": false
   },
   "outputs": [],
   "source": [
    "jobVacDF = jobVacDF.T\n"
   ]
  },
  {
   "cell_type": "code",
   "execution_count": 34,
   "metadata": {
    "collapsed": false
   },
   "outputs": [
    {
     "data": {
      "text/html": [
       "<div>\n",
       "<table border=\"1\" class=\"dataframe\">\n",
       "  <thead>\n",
       "    <tr style=\"text-align: right;\">\n",
       "      <th>State</th>\n",
       "      <th>NSW</th>\n",
       "      <th>VIC</th>\n",
       "      <th>QLD</th>\n",
       "      <th>SA</th>\n",
       "      <th>WA</th>\n",
       "      <th>TAS</th>\n",
       "      <th>NT</th>\n",
       "      <th>ACT</th>\n",
       "    </tr>\n",
       "  </thead>\n",
       "  <tbody>\n",
       "    <tr>\n",
       "      <th>2006-01-01</th>\n",
       "      <td>73047.8</td>\n",
       "      <td>49399.3</td>\n",
       "      <td>49807.5</td>\n",
       "      <td>13111.4</td>\n",
       "      <td>18087.6</td>\n",
       "      <td>2895.0</td>\n",
       "      <td>2563.0</td>\n",
       "      <td>3165.3</td>\n",
       "    </tr>\n",
       "    <tr>\n",
       "      <th>2006-02-01</th>\n",
       "      <td>73995.0</td>\n",
       "      <td>51027.9</td>\n",
       "      <td>49526.3</td>\n",
       "      <td>13160.9</td>\n",
       "      <td>18943.3</td>\n",
       "      <td>2874.7</td>\n",
       "      <td>2402.0</td>\n",
       "      <td>3335.5</td>\n",
       "    </tr>\n",
       "    <tr>\n",
       "      <th>2006-03-01</th>\n",
       "      <td>75246.3</td>\n",
       "      <td>51492.4</td>\n",
       "      <td>49233.0</td>\n",
       "      <td>13669.6</td>\n",
       "      <td>19739.3</td>\n",
       "      <td>3272.3</td>\n",
       "      <td>2485.0</td>\n",
       "      <td>3473.9</td>\n",
       "    </tr>\n",
       "    <tr>\n",
       "      <th>2006-04-01</th>\n",
       "      <td>76539.8</td>\n",
       "      <td>51473.1</td>\n",
       "      <td>50440.4</td>\n",
       "      <td>13308.7</td>\n",
       "      <td>19854.2</td>\n",
       "      <td>2833.2</td>\n",
       "      <td>2590.6</td>\n",
       "      <td>3493.0</td>\n",
       "    </tr>\n",
       "    <tr>\n",
       "      <th>2006-05-01</th>\n",
       "      <td>75614.9</td>\n",
       "      <td>50570.0</td>\n",
       "      <td>51387.3</td>\n",
       "      <td>13095.8</td>\n",
       "      <td>20351.9</td>\n",
       "      <td>2747.1</td>\n",
       "      <td>2805.4</td>\n",
       "      <td>3666.7</td>\n",
       "    </tr>\n",
       "  </tbody>\n",
       "</table>\n",
       "</div>"
      ],
      "text/plain": [
       "State           NSW      VIC      QLD       SA       WA     TAS      NT  \\\n",
       "2006-01-01  73047.8  49399.3  49807.5  13111.4  18087.6  2895.0  2563.0   \n",
       "2006-02-01  73995.0  51027.9  49526.3  13160.9  18943.3  2874.7  2402.0   \n",
       "2006-03-01  75246.3  51492.4  49233.0  13669.6  19739.3  3272.3  2485.0   \n",
       "2006-04-01  76539.8  51473.1  50440.4  13308.7  19854.2  2833.2  2590.6   \n",
       "2006-05-01  75614.9  50570.0  51387.3  13095.8  20351.9  2747.1  2805.4   \n",
       "\n",
       "State          ACT  \n",
       "2006-01-01  3165.3  \n",
       "2006-02-01  3335.5  \n",
       "2006-03-01  3473.9  \n",
       "2006-04-01  3493.0  \n",
       "2006-05-01  3666.7  "
      ]
     },
     "execution_count": 34,
     "metadata": {},
     "output_type": "execute_result"
    }
   ],
   "source": [
    "jobVacDF.head(5)"
   ]
  },
  {
   "cell_type": "markdown",
   "metadata": {},
   "source": [
    "### convert index column to datetime value"
   ]
  },
  {
   "cell_type": "code",
   "execution_count": 35,
   "metadata": {
    "collapsed": false,
    "scrolled": true
   },
   "outputs": [],
   "source": [
    "jobVacDF.index = pd.to_datetime(jobVacDF.index)"
   ]
  },
  {
   "cell_type": "code",
   "execution_count": 36,
   "metadata": {
    "collapsed": false
   },
   "outputs": [
    {
     "data": {
      "text/plain": [
       "<matplotlib.axes._subplots.AxesSubplot at 0xc34b6d8>"
      ]
     },
     "execution_count": 36,
     "metadata": {},
     "output_type": "execute_result"
    },
    {
     "data": {
      "image/png": "[encoded data removed]",
      "text/plain": [
       "<matplotlib.figure.Figure at 0xc34fd68>"
      ]
     },
     "metadata": {},
     "output_type": "display_data"
    }
   ],
   "source": [
    "jobVacDF['2006-01-01':'2016-10-01'].plot()"
   ]
  },
  {
   "cell_type": "markdown",
   "metadata": {},
   "source": []
  },
  {
   "cell_type": "code",
   "execution_count": 37,
   "metadata": {
    "collapsed": false
   },
   "outputs": [
    {
     "name": "stdout",
     "output_type": "stream",
     "text": [
      "Col name: NSW\n",
      "Col name: VIC\n",
      "Col name: QLD\n",
      "Col name: SA\n",
      "Col name: WA\n",
      "Col name: TAS\n",
      "Col name: NT\n",
      "Col name: ACT\n"
     ]
    }
   ],
   "source": [
    "for (name, series) in jobVacDF.iteritems():\n",
    " print('Col name: ' + str(name))"
   ]
  },
  {
   "cell_type": "markdown",
   "metadata": {},
   "source": [
    "### Plot  -  Number of Job Vacancies per year by State"
   ]
  },
  {
   "cell_type": "code",
   "execution_count": 38,
   "metadata": {
    "collapsed": false,
    "scrolled": false
   },
   "outputs": [
    {
     "data": {
      "text/html": [
       "<iframe id=\"igraph\" scrolling=\"no\" style=\"border:none;\" seamless=\"seamless\" src=\"https://plot.ly/~linus.austen.mcmanamey/20.embed\" height=\"525px\" width=\"100%\"></iframe>"
      ],
      "text/plain": [
       "<plotly.tools.PlotlyDisplay object>"
      ]
     },
     "execution_count": 38,
     "metadata": {},
     "output_type": "execute_result"
    }
   ],
   "source": [
    "data = []\n",
    "for (name, series) in jobVacDF.iteritems():\n",
    "            data.append(dict(type='scatter', mode='lines',x=jobVacDF.index, y=jobVacDF[name], name=jobVacDF[name].name))\n",
    "\n",
    "layout = dict(title='Number of Job Vacancies per year by State',showlegend=True)\n",
    "fig = dict(data=data, layout=layout)\n",
    "py.iplot(fig, filename = 'basic-line')"
   ]
  },
  {
   "cell_type": "markdown",
   "metadata": {},
   "source": [
    "## Rename  Estimated Resident Population dataframe columns"
   ]
  },
  {
   "cell_type": "code",
   "execution_count": 39,
   "metadata": {
    "collapsed": false
   },
   "outputs": [],
   "source": [
    "ERP = ERP.rename(columns={'Estimated Resident Population ;  Male ;  New South Wales ;':'NSW_Male'})\n",
    "ERP = ERP.rename(columns={'Estimated Resident Population ;  Male ;  Victoria ;':'VIC_Male'})\n",
    "ERP = ERP.rename(columns={'Estimated Resident Population ;  Male ;  Queensland ;':'QLD_Male'})\n",
    "ERP = ERP.rename(columns={'Estimated Resident Population ;  Male ;  South Australia ;':'SA_Male'})\n",
    "ERP = ERP.rename(columns={'Estimated Resident Population ;  Male ;  Western Australia ;':'WA_Male'})\n",
    "ERP = ERP.rename(columns={'Estimated Resident Population ;  Male ;  Tasmania ;':'TAS_Male'})\n",
    "ERP = ERP.rename(columns={'Estimated Resident Population ;  Male ;  Northern Territory ;':'NT_Male'})\n",
    "ERP = ERP.rename(columns={'Estimated Resident Population ;  Male ;  Australian Capital Territory ;':'ACT_Male'})\n",
    "ERP = ERP.rename(columns={'Estimated Resident Population ;  Male ;  Australia ;':'AUST_Male'})\n",
    "\n",
    "ERP = ERP.rename(columns={'Estimated Resident Population ;  Female ;  New South Wales ;':'NSW_Female'})\n",
    "ERP = ERP.rename(columns={'Estimated Resident Population ;  Female ;  Victoria ;':'VIC_Female'})\n",
    "ERP = ERP.rename(columns={'Estimated Resident Population ;  Female ;  Queensland ;':'QLD_Female'})\n",
    "ERP = ERP.rename(columns={'Estimated Resident Population ;  Female ;  South Australia ;':'SA_Female'})\n",
    "ERP = ERP.rename(columns={'Estimated Resident Population ;  Female ;  Western Australia ;':'WA_Female'})\n",
    "ERP = ERP.rename(columns={'Estimated Resident Population ;  Female ;  Tasmania ;':'TAS_Female'})\n",
    "ERP = ERP.rename(columns={'Estimated Resident Population ;  Female ;  Northern Territory ;':'NT_Female'})\n",
    "ERP = ERP.rename(columns={'Estimated Resident Population ;  Female ;  Australian Capital Territory ;':'ACT_Female'})\n",
    "ERP = ERP.rename(columns={'Estimated Resident Population ;  Female ;  Australia ;':'AUST_Female'})\n",
    "\n",
    "\n",
    "ERP = ERP.rename(columns={'Estimated Resident Population ;  Persons ;  New South Wales ;':'NSW_Persons'})\n",
    "ERP = ERP.rename(columns={'Estimated Resident Population ;  Persons ;  Victoria ;':'VIC_Persons'})\n",
    "ERP = ERP.rename(columns={'Estimated Resident Population ;  Persons ;  Queensland ;':'QLD_Persons'})\n",
    "ERP = ERP.rename(columns={'Estimated Resident Population ;  Persons ;  South Australia ;':'SA_Persons'})\n",
    "ERP = ERP.rename(columns={'Estimated Resident Population ;  Persons ;  Western Australia ;':'WA_Persons'})\n",
    "ERP = ERP.rename(columns={'Estimated Resident Population ;  Persons ;  Tasmania ;':'TAS_Persons'})\n",
    "ERP = ERP.rename(columns={'Estimated Resident Population ;  Persons ;  Northern Territory ;':'NT_Persons'})\n",
    "ERP = ERP.rename(columns={'Estimated Resident Population ;  Persons ;  Australian Capital Territory ;':'ACT_Persons'})\n",
    "ERP = ERP.rename(columns={'Estimated Resident Population ;  Persons ;  Australia ;':'TOTAL'})"
   ]
  },
  {
   "cell_type": "markdown",
   "metadata": {},
   "source": [
    "### convert index column to datetime value"
   ]
  },
  {
   "cell_type": "code",
   "execution_count": 40,
   "metadata": {
    "collapsed": false
   },
   "outputs": [],
   "source": [
    "ERP.index = pd.to_datetime(ERP.index)"
   ]
  },
  {
   "cell_type": "code",
   "execution_count": 41,
   "metadata": {
    "collapsed": false
   },
   "outputs": [
    {
     "data": {
      "text/html": [
       "<div>\n",
       "<table border=\"1\" class=\"dataframe\">\n",
       "  <thead>\n",
       "    <tr style=\"text-align: right;\">\n",
       "      <th></th>\n",
       "      <th>NSW_Male</th>\n",
       "      <th>VIC_Male</th>\n",
       "      <th>QLD_Male</th>\n",
       "      <th>SA_Male</th>\n",
       "      <th>WA_Male</th>\n",
       "      <th>TAS_Male</th>\n",
       "      <th>NT_Male</th>\n",
       "      <th>ACT_Male</th>\n",
       "      <th>AUST_Male</th>\n",
       "      <th>NSW_Female</th>\n",
       "      <th>...</th>\n",
       "      <th>AUST_Female</th>\n",
       "      <th>NSW_Persons</th>\n",
       "      <th>VIC_Persons</th>\n",
       "      <th>QLD_Persons</th>\n",
       "      <th>SA_Persons</th>\n",
       "      <th>WA_Persons</th>\n",
       "      <th>TAS_Persons</th>\n",
       "      <th>NT_Persons</th>\n",
       "      <th>ACT_Persons</th>\n",
       "      <th>TOTAL</th>\n",
       "    </tr>\n",
       "  </thead>\n",
       "  <tbody>\n",
       "    <tr>\n",
       "      <th>2005-12-01</th>\n",
       "      <td>3327461</td>\n",
       "      <td>2481962</td>\n",
       "      <td>1977783</td>\n",
       "      <td>762665</td>\n",
       "      <td>1022918</td>\n",
       "      <td>240625</td>\n",
       "      <td>107839</td>\n",
       "      <td>164850</td>\n",
       "      <td>10087382</td>\n",
       "      <td>3390562</td>\n",
       "      <td>...</td>\n",
       "      <td>10224161</td>\n",
       "      <td>6718023</td>\n",
       "      <td>5023203</td>\n",
       "      <td>3964175</td>\n",
       "      <td>1544852</td>\n",
       "      <td>2029936</td>\n",
       "      <td>488098</td>\n",
       "      <td>207385</td>\n",
       "      <td>333505</td>\n",
       "      <td>20311543</td>\n",
       "    </tr>\n",
       "    <tr>\n",
       "      <th>2006-03-01</th>\n",
       "      <td>3336005</td>\n",
       "      <td>2495951</td>\n",
       "      <td>1989764</td>\n",
       "      <td>765272</td>\n",
       "      <td>1030021</td>\n",
       "      <td>241193</td>\n",
       "      <td>108137</td>\n",
       "      <td>165351</td>\n",
       "      <td>10132982</td>\n",
       "      <td>3399523</td>\n",
       "      <td>...</td>\n",
       "      <td>10265150</td>\n",
       "      <td>6735528</td>\n",
       "      <td>5048207</td>\n",
       "      <td>3987653</td>\n",
       "      <td>1550135</td>\n",
       "      <td>2042450</td>\n",
       "      <td>489140</td>\n",
       "      <td>208347</td>\n",
       "      <td>334299</td>\n",
       "      <td>20398132</td>\n",
       "    </tr>\n",
       "  </tbody>\n",
       "</table>\n",
       "<p>2 rows × 27 columns</p>\n",
       "</div>"
      ],
      "text/plain": [
       "            NSW_Male  VIC_Male  QLD_Male  SA_Male  WA_Male  TAS_Male  NT_Male  \\\n",
       "2005-12-01   3327461   2481962   1977783   762665  1022918    240625   107839   \n",
       "2006-03-01   3336005   2495951   1989764   765272  1030021    241193   108137   \n",
       "\n",
       "            ACT_Male  AUST_Male  NSW_Female    ...     AUST_Female  \\\n",
       "2005-12-01    164850   10087382     3390562    ...        10224161   \n",
       "2006-03-01    165351   10132982     3399523    ...        10265150   \n",
       "\n",
       "            NSW_Persons  VIC_Persons  QLD_Persons  SA_Persons  WA_Persons  \\\n",
       "2005-12-01      6718023      5023203      3964175     1544852     2029936   \n",
       "2006-03-01      6735528      5048207      3987653     1550135     2042450   \n",
       "\n",
       "            TAS_Persons  NT_Persons  ACT_Persons     TOTAL  \n",
       "2005-12-01       488098      207385       333505  20311543  \n",
       "2006-03-01       489140      208347       334299  20398132  \n",
       "\n",
       "[2 rows x 27 columns]"
      ]
     },
     "execution_count": 41,
     "metadata": {},
     "output_type": "execute_result"
    }
   ],
   "source": [
    "ERP.head(2)"
   ]
  },
  {
   "cell_type": "markdown",
   "metadata": {},
   "source": [
    "### break down dataframes in to population totals by state"
   ]
  },
  {
   "cell_type": "code",
   "execution_count": 42,
   "metadata": {
    "collapsed": false
   },
   "outputs": [],
   "source": [
    "maleDF = ERP[[col for col in ERP.columns if \"Male\" in col]]\n",
    "femaleDF = ERP[[col for col in ERP.columns if \"Female\" in col]]\n",
    "personDF = ERP[[col for col in ERP.columns if \"Persons\" in col]]"
   ]
  },
  {
   "cell_type": "markdown",
   "metadata": {},
   "source": []
  },
  {
   "cell_type": "markdown",
   "metadata": {},
   "source": [
    "### Rename to population totals by state"
   ]
  },
  {
   "cell_type": "code",
   "execution_count": 43,
   "metadata": {
    "collapsed": false
   },
   "outputs": [],
   "source": [
    "personDF = personDF.rename(columns={'NSW_Persons':'NSW'})\n",
    "personDF = personDF.rename(columns={'VIC_Persons':'VIC'})\n",
    "personDF = personDF.rename(columns={'QLD_Persons':'QLD'})\n",
    "personDF = personDF.rename(columns={'SA_Persons':'SA'})\n",
    "personDF = personDF.rename(columns={'WA_Persons':'WA'})\n",
    "personDF = personDF.rename(columns={'TAS_Persons':'TAS'})\n",
    "personDF = personDF.rename(columns={'NT_Persons':'NT'})\n",
    "personDF = personDF.rename(columns={'ACT_Persons':'ACT'})"
   ]
  },
  {
   "cell_type": "code",
   "execution_count": 44,
   "metadata": {
    "collapsed": false
   },
   "outputs": [],
   "source": [
    "populationDF = personDF.copy()"
   ]
  },
  {
   "cell_type": "code",
   "execution_count": 45,
   "metadata": {
    "collapsed": false
   },
   "outputs": [
    {
     "data": {
      "text/html": [
       "<iframe id=\"igraph\" scrolling=\"no\" style=\"border:none;\" seamless=\"seamless\" src=\"https://plot.ly/~linus.austen.mcmanamey/20.embed\" height=\"525px\" width=\"100%\"></iframe>"
      ],
      "text/plain": [
       "<plotly.tools.PlotlyDisplay object>"
      ]
     },
     "execution_count": 45,
     "metadata": {},
     "output_type": "execute_result"
    }
   ],
   "source": [
    "data = []\n",
    "for (name, series) in populationDF.iteritems():\n",
    "            data.append(dict(type='scatter', mode='lines',x=populationDF.index, y=populationDF[name], name=populationDF[name].name))\n",
    "\n",
    "\n",
    "layout = dict(title='Population States  of Australia',showlegend=True)\n",
    "fig = dict(data=data, layout=layout)\n",
    "py.iplot(fig, filename = 'basic-line')"
   ]
  },
  {
   "cell_type": "markdown",
   "metadata": {},
   "source": [
    "### Initial plot to check populationDF working"
   ]
  },
  {
   "cell_type": "markdown",
   "metadata": {
    "collapsed": false
   },
   "source": [
    "from plotly.offline import init_notebook_mode, iplot\n",
    "from IPython.display import display, HTML\n",
    "import numpy as np\n",
    "\n",
    "frame =[]\n",
    "data = []\n",
    "\n",
    "\n",
    "\n",
    "year = populationDF.index.tolist()\n",
    "for (name, series) in populationDF.iteritems():\n",
    "    data.append(dict(type='scatter', x=populationDF.index, y=populationDF[name], name=populationDF[name].name,mode='markers', \n",
    "                    marker=dict(symbol='circle', size=populationDF[name]/100000 ,sizeref=0.65, sizemode='radius')))\n",
    "   \n",
    "   \n",
    "    \n",
    "   \n",
    "\n",
    "\n",
    "  \n",
    "          \n",
    "figure1=dict(data=data, layout=layout)          \n",
    "iplot(figure1)"
   ]
  },
  {
   "cell_type": "markdown",
   "metadata": {},
   "source": [
    "### Retrive list of dates from index of population dataframe and subset other dataframes for the same dates"
   ]
  },
  {
   "cell_type": "code",
   "execution_count": 46,
   "metadata": {
    "collapsed": false
   },
   "outputs": [],
   "source": [
    "baseDates = populationDF.index.tolist()\n",
    "jobVacDF = jobVacDF.ix[baseDates]\n",
    "SA4 = SA4.ix[baseDates]"
   ]
  },
  {
   "cell_type": "code",
   "execution_count": 47,
   "metadata": {
    "collapsed": false
   },
   "outputs": [
    {
     "data": {
      "text/html": [
       "<div>\n",
       "<table border=\"1\" class=\"dataframe\">\n",
       "  <thead>\n",
       "    <tr style=\"text-align: right;\">\n",
       "      <th>State</th>\n",
       "      <th>NSW</th>\n",
       "      <th>VIC</th>\n",
       "      <th>QLD</th>\n",
       "      <th>SA</th>\n",
       "      <th>WA</th>\n",
       "      <th>TAS</th>\n",
       "      <th>NT</th>\n",
       "      <th>ACT</th>\n",
       "    </tr>\n",
       "  </thead>\n",
       "  <tbody>\n",
       "    <tr>\n",
       "      <th>2005-12-01</th>\n",
       "      <td>NaN</td>\n",
       "      <td>NaN</td>\n",
       "      <td>NaN</td>\n",
       "      <td>NaN</td>\n",
       "      <td>NaN</td>\n",
       "      <td>NaN</td>\n",
       "      <td>NaN</td>\n",
       "      <td>NaN</td>\n",
       "    </tr>\n",
       "    <tr>\n",
       "      <th>2006-03-01</th>\n",
       "      <td>75246.3</td>\n",
       "      <td>51492.4</td>\n",
       "      <td>49233.0</td>\n",
       "      <td>13669.6</td>\n",
       "      <td>19739.3</td>\n",
       "      <td>3272.3</td>\n",
       "      <td>2485.0</td>\n",
       "      <td>3473.9</td>\n",
       "    </tr>\n",
       "  </tbody>\n",
       "</table>\n",
       "</div>"
      ],
      "text/plain": [
       "State           NSW      VIC      QLD       SA       WA     TAS      NT  \\\n",
       "2005-12-01      NaN      NaN      NaN      NaN      NaN     NaN     NaN   \n",
       "2006-03-01  75246.3  51492.4  49233.0  13669.6  19739.3  3272.3  2485.0   \n",
       "\n",
       "State          ACT  \n",
       "2005-12-01     NaN  \n",
       "2006-03-01  3473.9  "
      ]
     },
     "execution_count": 47,
     "metadata": {},
     "output_type": "execute_result"
    },
    {
     "data": {
      "text/html": [
       "<div>\n",
       "<table border=\"1\" class=\"dataframe\">\n",
       "  <thead>\n",
       "    <tr style=\"text-align: right;\">\n",
       "      <th></th>\n",
       "      <th>NSW</th>\n",
       "      <th>VIC</th>\n",
       "      <th>QLD</th>\n",
       "      <th>SA</th>\n",
       "      <th>WA</th>\n",
       "      <th>TAS</th>\n",
       "      <th>NT</th>\n",
       "      <th>ACT</th>\n",
       "    </tr>\n",
       "  </thead>\n",
       "  <tbody>\n",
       "    <tr>\n",
       "      <th>2005-12-01</th>\n",
       "      <td>6718023</td>\n",
       "      <td>5023203</td>\n",
       "      <td>3964175</td>\n",
       "      <td>1544852</td>\n",
       "      <td>2029936</td>\n",
       "      <td>488098</td>\n",
       "      <td>207385</td>\n",
       "      <td>333505</td>\n",
       "    </tr>\n",
       "    <tr>\n",
       "      <th>2006-03-01</th>\n",
       "      <td>6735528</td>\n",
       "      <td>5048207</td>\n",
       "      <td>3987653</td>\n",
       "      <td>1550135</td>\n",
       "      <td>2042450</td>\n",
       "      <td>489140</td>\n",
       "      <td>208347</td>\n",
       "      <td>334299</td>\n",
       "    </tr>\n",
       "  </tbody>\n",
       "</table>\n",
       "</div>"
      ],
      "text/plain": [
       "                NSW      VIC      QLD       SA       WA     TAS      NT  \\\n",
       "2005-12-01  6718023  5023203  3964175  1544852  2029936  488098  207385   \n",
       "2006-03-01  6735528  5048207  3987653  1550135  2042450  489140  208347   \n",
       "\n",
       "               ACT  \n",
       "2005-12-01  333505  \n",
       "2006-03-01  334299  "
      ]
     },
     "execution_count": 47,
     "metadata": {},
     "output_type": "execute_result"
    },
    {
     "data": {
      "text/html": [
       "<div>\n",
       "<table border=\"1\" class=\"dataframe\">\n",
       "  <thead>\n",
       "    <tr style=\"text-align: right;\">\n",
       "      <th></th>\n",
       "      <th>State</th>\n",
       "      <th>E_Rate</th>\n",
       "      <th>U_Rate</th>\n",
       "      <th>P_Rate</th>\n",
       "    </tr>\n",
       "    <tr>\n",
       "      <th>Date</th>\n",
       "      <th></th>\n",
       "      <th></th>\n",
       "      <th></th>\n",
       "      <th></th>\n",
       "    </tr>\n",
       "  </thead>\n",
       "  <tbody>\n",
       "    <tr>\n",
       "      <th>2005-12-01</th>\n",
       "      <td>NSW</td>\n",
       "      <td>70.481740</td>\n",
       "      <td>5.293757</td>\n",
       "      <td>63.106123</td>\n",
       "    </tr>\n",
       "    <tr>\n",
       "      <th>2005-12-01</th>\n",
       "      <td>VIC</td>\n",
       "      <td>71.806591</td>\n",
       "      <td>5.260037</td>\n",
       "      <td>64.045364</td>\n",
       "    </tr>\n",
       "  </tbody>\n",
       "</table>\n",
       "</div>"
      ],
      "text/plain": [
       "           State     E_Rate    U_Rate     P_Rate\n",
       "Date                                            \n",
       "2005-12-01   NSW  70.481740  5.293757  63.106123\n",
       "2005-12-01   VIC  71.806591  5.260037  64.045364"
      ]
     },
     "execution_count": 47,
     "metadata": {},
     "output_type": "execute_result"
    }
   ],
   "source": [
    "jobVacDF.head(2)\n",
    "populationDF.head(2)\n",
    "SA4.head(2)"
   ]
  },
  {
   "cell_type": "markdown",
   "metadata": {},
   "source": [
    "### Drop All NAN rows"
   ]
  },
  {
   "cell_type": "code",
   "execution_count": 48,
   "metadata": {
    "collapsed": false
   },
   "outputs": [],
   "source": [
    "populationDF = populationDF.dropna(how='any')\n",
    "jobVacDF = jobVacDF.dropna(how='any')"
   ]
  },
  {
   "cell_type": "markdown",
   "metadata": {},
   "source": [
    "### chage structure of dataframe to match other two\n",
    "* Extract the unemployment rate"
   ]
  },
  {
   "cell_type": "code",
   "execution_count": 49,
   "metadata": {
    "collapsed": false
   },
   "outputs": [
    {
     "name": "stdout",
     "output_type": "stream",
     "text": [
      "Before_____________\n"
     ]
    },
    {
     "data": {
      "text/html": [
       "<div>\n",
       "<table border=\"1\" class=\"dataframe\">\n",
       "  <thead>\n",
       "    <tr style=\"text-align: right;\">\n",
       "      <th></th>\n",
       "      <th>State</th>\n",
       "      <th>E_Rate</th>\n",
       "      <th>U_Rate</th>\n",
       "      <th>P_Rate</th>\n",
       "    </tr>\n",
       "    <tr>\n",
       "      <th>Date</th>\n",
       "      <th></th>\n",
       "      <th></th>\n",
       "      <th></th>\n",
       "      <th></th>\n",
       "    </tr>\n",
       "  </thead>\n",
       "  <tbody>\n",
       "    <tr>\n",
       "      <th>2005-12-01</th>\n",
       "      <td>NSW</td>\n",
       "      <td>70.481740</td>\n",
       "      <td>5.293757</td>\n",
       "      <td>63.106123</td>\n",
       "    </tr>\n",
       "    <tr>\n",
       "      <th>2005-12-01</th>\n",
       "      <td>VIC</td>\n",
       "      <td>71.806591</td>\n",
       "      <td>5.260037</td>\n",
       "      <td>64.045364</td>\n",
       "    </tr>\n",
       "  </tbody>\n",
       "</table>\n",
       "</div>"
      ],
      "text/plain": [
       "           State     E_Rate    U_Rate     P_Rate\n",
       "Date                                            \n",
       "2005-12-01   NSW  70.481740  5.293757  63.106123\n",
       "2005-12-01   VIC  71.806591  5.260037  64.045364"
      ]
     },
     "execution_count": 49,
     "metadata": {},
     "output_type": "execute_result"
    },
    {
     "name": "stdout",
     "output_type": "stream",
     "text": [
      "After_____________\n"
     ]
    },
    {
     "data": {
      "text/html": [
       "<div>\n",
       "<table border=\"1\" class=\"dataframe\">\n",
       "  <thead>\n",
       "    <tr style=\"text-align: right;\">\n",
       "      <th>State</th>\n",
       "      <th>ACT</th>\n",
       "      <th>NSW</th>\n",
       "      <th>NT</th>\n",
       "      <th>QLD</th>\n",
       "      <th>SA</th>\n",
       "      <th>TAS</th>\n",
       "      <th>VIC</th>\n",
       "      <th>WA</th>\n",
       "    </tr>\n",
       "  </thead>\n",
       "  <tbody>\n",
       "    <tr>\n",
       "      <th>2005-12-01</th>\n",
       "      <td>3.422536</td>\n",
       "      <td>5.293757</td>\n",
       "      <td>6.004577</td>\n",
       "      <td>4.863610</td>\n",
       "      <td>4.868181</td>\n",
       "      <td>5.962563</td>\n",
       "      <td>5.260037</td>\n",
       "      <td>4.326411</td>\n",
       "    </tr>\n",
       "    <tr>\n",
       "      <th>2006-03-01</th>\n",
       "      <td>3.254369</td>\n",
       "      <td>4.978780</td>\n",
       "      <td>5.765331</td>\n",
       "      <td>4.705125</td>\n",
       "      <td>5.035000</td>\n",
       "      <td>6.608448</td>\n",
       "      <td>5.112932</td>\n",
       "      <td>3.988064</td>\n",
       "    </tr>\n",
       "  </tbody>\n",
       "</table>\n",
       "</div>"
      ],
      "text/plain": [
       "State            ACT       NSW        NT       QLD        SA       TAS  \\\n",
       "2005-12-01  3.422536  5.293757  6.004577  4.863610  4.868181  5.962563   \n",
       "2006-03-01  3.254369  4.978780  5.765331  4.705125  5.035000  6.608448   \n",
       "\n",
       "State            VIC        WA  \n",
       "2005-12-01  5.260037  4.326411  \n",
       "2006-03-01  5.112932  3.988064  "
      ]
     },
     "execution_count": 49,
     "metadata": {},
     "output_type": "execute_result"
    }
   ],
   "source": [
    "print(\"Before_____________\")\n",
    "SA4.head(2)\n",
    "unemploymentDF = SA4.pivot(columns='State', values='U_Rate')\n",
    "del unemploymentDF.index.name\n",
    "print(\"After_____________\")\n",
    "unemploymentDF.head(2)"
   ]
  },
  {
   "cell_type": "markdown",
   "metadata": {},
   "source": [
    "### Check structure an print "
   ]
  },
  {
   "cell_type": "code",
   "execution_count": 50,
   "metadata": {
    "collapsed": false
   },
   "outputs": [
    {
     "name": "stdout",
     "output_type": "stream",
     "text": [
      "38\n"
     ]
    },
    {
     "data": {
      "text/html": [
       "<div>\n",
       "<table border=\"1\" class=\"dataframe\">\n",
       "  <thead>\n",
       "    <tr style=\"text-align: right;\">\n",
       "      <th>State</th>\n",
       "      <th>NSW</th>\n",
       "      <th>VIC</th>\n",
       "      <th>QLD</th>\n",
       "      <th>SA</th>\n",
       "      <th>WA</th>\n",
       "      <th>TAS</th>\n",
       "      <th>NT</th>\n",
       "      <th>ACT</th>\n",
       "    </tr>\n",
       "  </thead>\n",
       "  <tbody>\n",
       "    <tr>\n",
       "      <th>2006-03-01</th>\n",
       "      <td>75246.3</td>\n",
       "      <td>51492.4</td>\n",
       "      <td>49233.0</td>\n",
       "      <td>13669.6</td>\n",
       "      <td>19739.3</td>\n",
       "      <td>3272.3</td>\n",
       "      <td>2485.0</td>\n",
       "      <td>3473.9</td>\n",
       "    </tr>\n",
       "    <tr>\n",
       "      <th>2006-06-01</th>\n",
       "      <td>81637.1</td>\n",
       "      <td>53746.2</td>\n",
       "      <td>54667.4</td>\n",
       "      <td>13611.8</td>\n",
       "      <td>22077.5</td>\n",
       "      <td>2978.1</td>\n",
       "      <td>3201.0</td>\n",
       "      <td>3719.0</td>\n",
       "    </tr>\n",
       "  </tbody>\n",
       "</table>\n",
       "</div>"
      ],
      "text/plain": [
       "State           NSW      VIC      QLD       SA       WA     TAS      NT  \\\n",
       "2006-03-01  75246.3  51492.4  49233.0  13669.6  19739.3  3272.3  2485.0   \n",
       "2006-06-01  81637.1  53746.2  54667.4  13611.8  22077.5  2978.1  3201.0   \n",
       "\n",
       "State          ACT  \n",
       "2006-03-01  3473.9  \n",
       "2006-06-01  3719.0  "
      ]
     },
     "execution_count": 50,
     "metadata": {},
     "output_type": "execute_result"
    },
    {
     "name": "stdout",
     "output_type": "stream",
     "text": [
      "39\n"
     ]
    },
    {
     "data": {
      "text/html": [
       "<div>\n",
       "<table border=\"1\" class=\"dataframe\">\n",
       "  <thead>\n",
       "    <tr style=\"text-align: right;\">\n",
       "      <th></th>\n",
       "      <th>NSW</th>\n",
       "      <th>VIC</th>\n",
       "      <th>QLD</th>\n",
       "      <th>SA</th>\n",
       "      <th>WA</th>\n",
       "      <th>TAS</th>\n",
       "      <th>NT</th>\n",
       "      <th>ACT</th>\n",
       "    </tr>\n",
       "  </thead>\n",
       "  <tbody>\n",
       "    <tr>\n",
       "      <th>2005-12-01</th>\n",
       "      <td>6718023</td>\n",
       "      <td>5023203</td>\n",
       "      <td>3964175</td>\n",
       "      <td>1544852</td>\n",
       "      <td>2029936</td>\n",
       "      <td>488098</td>\n",
       "      <td>207385</td>\n",
       "      <td>333505</td>\n",
       "    </tr>\n",
       "    <tr>\n",
       "      <th>2006-03-01</th>\n",
       "      <td>6735528</td>\n",
       "      <td>5048207</td>\n",
       "      <td>3987653</td>\n",
       "      <td>1550135</td>\n",
       "      <td>2042450</td>\n",
       "      <td>489140</td>\n",
       "      <td>208347</td>\n",
       "      <td>334299</td>\n",
       "    </tr>\n",
       "  </tbody>\n",
       "</table>\n",
       "</div>"
      ],
      "text/plain": [
       "                NSW      VIC      QLD       SA       WA     TAS      NT  \\\n",
       "2005-12-01  6718023  5023203  3964175  1544852  2029936  488098  207385   \n",
       "2006-03-01  6735528  5048207  3987653  1550135  2042450  489140  208347   \n",
       "\n",
       "               ACT  \n",
       "2005-12-01  333505  \n",
       "2006-03-01  334299  "
      ]
     },
     "execution_count": 50,
     "metadata": {},
     "output_type": "execute_result"
    },
    {
     "name": "stdout",
     "output_type": "stream",
     "text": [
      "39\n"
     ]
    },
    {
     "data": {
      "text/html": [
       "<div>\n",
       "<table border=\"1\" class=\"dataframe\">\n",
       "  <thead>\n",
       "    <tr style=\"text-align: right;\">\n",
       "      <th>State</th>\n",
       "      <th>ACT</th>\n",
       "      <th>NSW</th>\n",
       "      <th>NT</th>\n",
       "      <th>QLD</th>\n",
       "      <th>SA</th>\n",
       "      <th>TAS</th>\n",
       "      <th>VIC</th>\n",
       "      <th>WA</th>\n",
       "    </tr>\n",
       "  </thead>\n",
       "  <tbody>\n",
       "    <tr>\n",
       "      <th>2005-12-01</th>\n",
       "      <td>3.422536</td>\n",
       "      <td>5.293757</td>\n",
       "      <td>6.004577</td>\n",
       "      <td>4.863610</td>\n",
       "      <td>4.868181</td>\n",
       "      <td>5.962563</td>\n",
       "      <td>5.260037</td>\n",
       "      <td>4.326411</td>\n",
       "    </tr>\n",
       "    <tr>\n",
       "      <th>2006-03-01</th>\n",
       "      <td>3.254369</td>\n",
       "      <td>4.978780</td>\n",
       "      <td>5.765331</td>\n",
       "      <td>4.705125</td>\n",
       "      <td>5.035000</td>\n",
       "      <td>6.608448</td>\n",
       "      <td>5.112932</td>\n",
       "      <td>3.988064</td>\n",
       "    </tr>\n",
       "  </tbody>\n",
       "</table>\n",
       "</div>"
      ],
      "text/plain": [
       "State            ACT       NSW        NT       QLD        SA       TAS  \\\n",
       "2005-12-01  3.422536  5.293757  6.004577  4.863610  4.868181  5.962563   \n",
       "2006-03-01  3.254369  4.978780  5.765331  4.705125  5.035000  6.608448   \n",
       "\n",
       "State            VIC        WA  \n",
       "2005-12-01  5.260037  4.326411  \n",
       "2006-03-01  5.112932  3.988064  "
      ]
     },
     "execution_count": 50,
     "metadata": {},
     "output_type": "execute_result"
    }
   ],
   "source": [
    "print(len(jobVacDF))\n",
    "jobVacDF.head(2)\n",
    "print(len(populationDF))\n",
    "populationDF.head(2)\n",
    "print(len(unemploymentDF))\n",
    "unemploymentDF.head(2)"
   ]
  },
  {
   "cell_type": "markdown",
   "metadata": {
    "collapsed": false
   },
   "source": [
    "### Drop first row so dates indexes are the same for each dataframe"
   ]
  },
  {
   "cell_type": "code",
   "execution_count": 51,
   "metadata": {
    "collapsed": false
   },
   "outputs": [],
   "source": [
    "unemploymentDF = unemploymentDF.drop(unemploymentDF.index[[0]])\n",
    "populationDF = populationDF.drop(populationDF.index[[0]])"
   ]
  },
  {
   "cell_type": "code",
   "execution_count": 52,
   "metadata": {
    "collapsed": false
   },
   "outputs": [
    {
     "name": "stdout",
     "output_type": "stream",
     "text": [
      "38\n"
     ]
    },
    {
     "data": {
      "text/html": [
       "<div>\n",
       "<table border=\"1\" class=\"dataframe\">\n",
       "  <thead>\n",
       "    <tr style=\"text-align: right;\">\n",
       "      <th>State</th>\n",
       "      <th>NSW</th>\n",
       "      <th>VIC</th>\n",
       "      <th>QLD</th>\n",
       "      <th>SA</th>\n",
       "      <th>WA</th>\n",
       "      <th>TAS</th>\n",
       "      <th>NT</th>\n",
       "      <th>ACT</th>\n",
       "    </tr>\n",
       "  </thead>\n",
       "  <tbody>\n",
       "    <tr>\n",
       "      <th>2006-03-01</th>\n",
       "      <td>75246.3</td>\n",
       "      <td>51492.4</td>\n",
       "      <td>49233.0</td>\n",
       "      <td>13669.6</td>\n",
       "      <td>19739.3</td>\n",
       "      <td>3272.3</td>\n",
       "      <td>2485.0</td>\n",
       "      <td>3473.9</td>\n",
       "    </tr>\n",
       "    <tr>\n",
       "      <th>2006-06-01</th>\n",
       "      <td>81637.1</td>\n",
       "      <td>53746.2</td>\n",
       "      <td>54667.4</td>\n",
       "      <td>13611.8</td>\n",
       "      <td>22077.5</td>\n",
       "      <td>2978.1</td>\n",
       "      <td>3201.0</td>\n",
       "      <td>3719.0</td>\n",
       "    </tr>\n",
       "  </tbody>\n",
       "</table>\n",
       "</div>"
      ],
      "text/plain": [
       "State           NSW      VIC      QLD       SA       WA     TAS      NT  \\\n",
       "2006-03-01  75246.3  51492.4  49233.0  13669.6  19739.3  3272.3  2485.0   \n",
       "2006-06-01  81637.1  53746.2  54667.4  13611.8  22077.5  2978.1  3201.0   \n",
       "\n",
       "State          ACT  \n",
       "2006-03-01  3473.9  \n",
       "2006-06-01  3719.0  "
      ]
     },
     "execution_count": 52,
     "metadata": {},
     "output_type": "execute_result"
    },
    {
     "name": "stdout",
     "output_type": "stream",
     "text": [
      "38\n"
     ]
    },
    {
     "data": {
      "text/html": [
       "<div>\n",
       "<table border=\"1\" class=\"dataframe\">\n",
       "  <thead>\n",
       "    <tr style=\"text-align: right;\">\n",
       "      <th></th>\n",
       "      <th>NSW</th>\n",
       "      <th>VIC</th>\n",
       "      <th>QLD</th>\n",
       "      <th>SA</th>\n",
       "      <th>WA</th>\n",
       "      <th>TAS</th>\n",
       "      <th>NT</th>\n",
       "      <th>ACT</th>\n",
       "    </tr>\n",
       "  </thead>\n",
       "  <tbody>\n",
       "    <tr>\n",
       "      <th>2006-03-01</th>\n",
       "      <td>6735528</td>\n",
       "      <td>5048207</td>\n",
       "      <td>3987653</td>\n",
       "      <td>1550135</td>\n",
       "      <td>2042450</td>\n",
       "      <td>489140</td>\n",
       "      <td>208347</td>\n",
       "      <td>334299</td>\n",
       "    </tr>\n",
       "    <tr>\n",
       "      <th>2006-06-01</th>\n",
       "      <td>6742690</td>\n",
       "      <td>5061266</td>\n",
       "      <td>4007992</td>\n",
       "      <td>1552529</td>\n",
       "      <td>2050581</td>\n",
       "      <td>489302</td>\n",
       "      <td>209057</td>\n",
       "      <td>335170</td>\n",
       "    </tr>\n",
       "  </tbody>\n",
       "</table>\n",
       "</div>"
      ],
      "text/plain": [
       "                NSW      VIC      QLD       SA       WA     TAS      NT  \\\n",
       "2006-03-01  6735528  5048207  3987653  1550135  2042450  489140  208347   \n",
       "2006-06-01  6742690  5061266  4007992  1552529  2050581  489302  209057   \n",
       "\n",
       "               ACT  \n",
       "2006-03-01  334299  \n",
       "2006-06-01  335170  "
      ]
     },
     "execution_count": 52,
     "metadata": {},
     "output_type": "execute_result"
    },
    {
     "name": "stdout",
     "output_type": "stream",
     "text": [
      "38\n"
     ]
    },
    {
     "data": {
      "text/html": [
       "<div>\n",
       "<table border=\"1\" class=\"dataframe\">\n",
       "  <thead>\n",
       "    <tr style=\"text-align: right;\">\n",
       "      <th>State</th>\n",
       "      <th>ACT</th>\n",
       "      <th>NSW</th>\n",
       "      <th>NT</th>\n",
       "      <th>QLD</th>\n",
       "      <th>SA</th>\n",
       "      <th>TAS</th>\n",
       "      <th>VIC</th>\n",
       "      <th>WA</th>\n",
       "    </tr>\n",
       "  </thead>\n",
       "  <tbody>\n",
       "    <tr>\n",
       "      <th>2006-03-01</th>\n",
       "      <td>3.254369</td>\n",
       "      <td>4.978780</td>\n",
       "      <td>5.765331</td>\n",
       "      <td>4.705125</td>\n",
       "      <td>5.035000</td>\n",
       "      <td>6.608448</td>\n",
       "      <td>5.112932</td>\n",
       "      <td>3.988064</td>\n",
       "    </tr>\n",
       "    <tr>\n",
       "      <th>2006-06-01</th>\n",
       "      <td>3.004263</td>\n",
       "      <td>5.288439</td>\n",
       "      <td>4.942226</td>\n",
       "      <td>4.500243</td>\n",
       "      <td>4.730513</td>\n",
       "      <td>6.669892</td>\n",
       "      <td>5.021526</td>\n",
       "      <td>3.351213</td>\n",
       "    </tr>\n",
       "  </tbody>\n",
       "</table>\n",
       "</div>"
      ],
      "text/plain": [
       "State            ACT       NSW        NT       QLD        SA       TAS  \\\n",
       "2006-03-01  3.254369  4.978780  5.765331  4.705125  5.035000  6.608448   \n",
       "2006-06-01  3.004263  5.288439  4.942226  4.500243  4.730513  6.669892   \n",
       "\n",
       "State            VIC        WA  \n",
       "2006-03-01  5.112932  3.988064  \n",
       "2006-06-01  5.021526  3.351213  "
      ]
     },
     "execution_count": 52,
     "metadata": {},
     "output_type": "execute_result"
    }
   ],
   "source": [
    "print(len(jobVacDF))\n",
    "jobVacDF.head(2)\n",
    "print(len(populationDF))\n",
    "populationDF.head(2)\n",
    "print(len(unemploymentDF))\n",
    "unemploymentDF.head(2)"
   ]
  },
  {
   "cell_type": "code",
   "execution_count": 53,
   "metadata": {
    "collapsed": false
   },
   "outputs": [],
   "source": [
    "dataset = pd.DataFrame() \n",
    "dataset['unemployment'] = unemploymentDF.unstack()\n",
    "dataset['population'] = populationDF.unstack()\n",
    "dataset['jobVacancies'] = jobVacDF.unstack()"
   ]
  },
  {
   "cell_type": "code",
   "execution_count": 54,
   "metadata": {
    "collapsed": false
   },
   "outputs": [],
   "source": [
    "dataset.reset_index(level=0, inplace=True)"
   ]
  },
  {
   "cell_type": "markdown",
   "metadata": {
    "collapsed": false
   },
   "source": [
    "### Plot table of dataframe"
   ]
  },
  {
   "cell_type": "code",
   "execution_count": 55,
   "metadata": {
    "collapsed": false
   },
   "outputs": [
    {
     "name": "stderr",
     "output_type": "stream",
     "text": [
      "C:\\Users\\linus\\Anaconda2\\lib\\site-packages\\plotly\\tools.py:1422: UserWarning:\n",
      "\n",
      "plotly.tools.FigureFactory.create_table is deprecated. Use plotly.figure_factory.create_table\n",
      "\n"
     ]
    },
    {
     "data": {
      "text/html": [
       "<iframe id=\"igraph\" scrolling=\"no\" style=\"border:none;\" seamless=\"seamless\" src=\"https://plot.ly/~linus.austen.mcmanamey/22.embed\" height=\"380px\" width=\"100%\"></iframe>"
      ],
      "text/plain": [
       "<plotly.tools.PlotlyDisplay object>"
      ]
     },
     "execution_count": 55,
     "metadata": {},
     "output_type": "execute_result"
    }
   ],
   "source": [
    "table = FF.create_table(dataset.head(10))\n",
    "py.iplot(table, filename='animations-gapminder-data-preview')"
   ]
  },
  {
   "cell_type": "code",
   "execution_count": null,
   "metadata": {
    "collapsed": false
   },
   "outputs": [],
   "source": []
  },
  {
   "cell_type": "code",
   "execution_count": null,
   "metadata": {
    "collapsed": false
   },
   "outputs": [],
   "source": []
  },
  {
   "cell_type": "code",
   "execution_count": null,
   "metadata": {
    "collapsed": false
   },
   "outputs": [],
   "source": []
  },
  {
   "cell_type": "code",
   "execution_count": null,
   "metadata": {
    "collapsed": false
   },
   "outputs": [],
   "source": []
  },
  {
   "cell_type": "markdown",
   "metadata": {
    "collapsed": false
   },
   "source": [
    "## Generate a Motion chart\n",
    "* number of job vacancies on the x-axis, \n",
    "* unemployment rate on the y-axis, \n",
    "* the colour the bubbles is given by the state and the size of the bubbles is given by the population of the state."
   ]
  },
  {
   "cell_type": "code",
   "execution_count": 59,
   "metadata": {
    "collapsed": false
   },
   "outputs": [],
   "source": [
    "years = dataset.index.unique()\n",
    "years = years.strftime('%Y-%m-%d')\n",
    "years = sorted(years)\n",
    "states = dataset.State.unique()\n",
    "states = sorted(states)\n",
    "figure = {\n",
    "    'data': [],\n",
    "    'layout': {},\n",
    "    'frames': [],\n",
    "    'config': {'scrollzoom': True}\n",
    "}\n",
    "\n",
    "# fill in most of layout\n",
    "figure['layout']['xaxis'] = {'range': [ dataset.jobVacancies.min(), dataset.jobVacancies.max()],'title': 'Job Vacancies'}\n",
    "figure['layout']['yaxis'] = {'range': [ dataset.unemployment.min(), dataset.unemployment.max()],'title': 'unemployment', 'type':'linear'}\n",
    "figure['layout']['hovermode'] = 'closest'\n",
    "#figure['layout']['autosize'] = False\n",
    "figure['layout']['Margin']  = {'l':50, 'r': 50, 'b': 100, 't': 100, 'pad':4}"
   ]
  },
  {
   "cell_type": "code",
   "execution_count": 60,
   "metadata": {
    "collapsed": true
   },
   "outputs": [],
   "source": [
    "figure['layout']['updatemenus'] = [\n",
    "    {\n",
    "        'buttons': [\n",
    "            {\n",
    "                'args': [None, {'frame': {'duration': 300, 'redraw': False},'fromcurrent': True, \n",
    "                                'transition': {'duration': 300, 'easing': 'quadratic-in-out'}}],\n",
    "                'label': 'Play','method': 'animate'},\n",
    "            {\n",
    "                'args': [[None], {'frame': {'duration': 0, 'redraw': False}, 'mode': 'immediate',\n",
    "                'transition': {'duration': 0}}],\n",
    "                'label': 'Pause',\n",
    "                'method': 'animate'\n",
    "            }\n",
    "        ],\n",
    "        'direction': 'left',\n",
    "        'pad': {'r': 1, 't': 1},\n",
    "        'showactive': True,\n",
    "        'type': 'buttons',\n",
    "        'x': 0.1,\n",
    "        'xanchor': 'right',\n",
    "        'y': 0,\n",
    "        'yanchor': 'top'\n",
    "    }\n",
    "]"
   ]
  },
  {
   "cell_type": "code",
   "execution_count": 61,
   "metadata": {
    "collapsed": false
   },
   "outputs": [],
   "source": [
    "figure['layout']['slider'] = {\n",
    "    'args': [\n",
    "        'slider.value', {\n",
    "            'duration': 300,\n",
    "            'ease': 'cubic-in-out'\n",
    "        }\n",
    "    ],\n",
    "    'initialValue': years[0],\n",
    "    'plotlycommand': 'animate',\n",
    "    'values': years,\n",
    "    'visible': True\n",
    "}"
   ]
  },
  {
   "cell_type": "code",
   "execution_count": 62,
   "metadata": {
    "collapsed": false
   },
   "outputs": [],
   "source": [
    "    \n",
    "sliders_dict = {\n",
    "    'active': 1,\n",
    "    'yanchor': 'top',\n",
    "    'xanchor': 'left',\n",
    "    'currentvalue': {\n",
    "        'font': {'size': 20},\n",
    "        'prefix': 'Year: ',\n",
    "        'visible': True,\n",
    "        'xanchor': 'right'\n",
    "    },\n",
    "    'transition': {'duration': 300, 'easing': 'cubic-in-out'},\n",
    "    'pad': {'b': 10, 't': 50},\n",
    "    'len': 0.9,\n",
    "    'x': 0.1,\n",
    "    'y': 0,\n",
    "    'steps': []\n",
    "}"
   ]
  },
  {
   "cell_type": "code",
   "execution_count": 63,
   "metadata": {
    "collapsed": false
   },
   "outputs": [],
   "source": [
    "\n",
    "for state in states:\n",
    "    dataset_by_state = dataset[dataset['State'] == state]\n",
    "    figure['data'].append(dict(textposition=\"middle right\",\n",
    "                               hoverinfo =\"all\", \n",
    "                               type='scatter', \n",
    "                               x=dataset_by_state['jobVacancies'], \n",
    "                               y=dataset_by_state['unemployment'],\n",
    "                               name=state,mode='markers',\n",
    "                               marker=dict(symbol='circle', \n",
    "                                           size=dataset_by_state['population']/100000,\n",
    "                                           sizeref=0.8, \n",
    "                                           sizemode='radius')))"
   ]
  },
  {
   "cell_type": "code",
   "execution_count": 64,
   "metadata": {
    "collapsed": false,
    "scrolled": true
   },
   "outputs": [
    {
     "ename": "PlotlyError",
     "evalue": "Invalid 'figure_or_data' argument. Plotly will not be able to properly parse the resulting JSON. If you want to send this 'figure_or_data' to Plotly anyway (not recommended), you can set 'validate=False' as a plot option.\nHere's why you're seeing this error:\n\n'Margin' is not allowed in 'layout'\n\nPath To Error: ['layout']['Margin']\n\nValid attributes for 'layout' at path ['layout'] under parents ['figure']:\n\n    ['angularaxis', 'annotations', 'autosize', 'bargap', 'bargroupgap',\n    'barmode', 'barnorm', 'boxgap', 'boxgroupgap', 'boxmode', 'calendar',\n    'direction', 'dragmode', 'font', 'geo', 'height', 'hiddenlabels',\n    'hiddenlabelssrc', 'hidesources', 'hovermode', 'images', 'legend',\n    'mapbox', 'margin', 'orientation', 'paper_bgcolor', 'plot_bgcolor',\n    'radialaxis', 'scene', 'separators', 'shapes', 'showlegend', 'sliders',\n    'smith', 'ternary', 'title', 'titlefont', 'updatemenus', 'width',\n    'xaxis', 'yaxis']\n\nRun `<layout-object>.help('attribute')` on any of the above.\n'<layout-object>' is the object at ['layout']",
     "output_type": "error",
     "traceback": [
      "\u001b[0;31m---------------------------------------------------------------------------\u001b[0m",
      "\u001b[0;31mPlotlyError\u001b[0m                               Traceback (most recent call last)",
      "\u001b[0;32m<ipython-input-64-3625a653ef43>\u001b[0m in \u001b[0;36m<module>\u001b[0;34m()\u001b[0m\n\u001b[1;32m     22\u001b[0m \u001b[1;33m\u001b[0m\u001b[0m\n\u001b[1;32m     23\u001b[0m \u001b[0mfigure\u001b[0m\u001b[1;33m[\u001b[0m\u001b[1;34m'layout'\u001b[0m\u001b[1;33m]\u001b[0m\u001b[1;33m[\u001b[0m\u001b[1;34m'sliders'\u001b[0m\u001b[1;33m]\u001b[0m \u001b[1;33m=\u001b[0m \u001b[1;33m[\u001b[0m\u001b[0msliders_dict\u001b[0m\u001b[1;33m]\u001b[0m\u001b[1;33m\u001b[0m\u001b[0m\n\u001b[0;32m---> 24\u001b[0;31m \u001b[0miplot\u001b[0m\u001b[1;33m(\u001b[0m\u001b[0mfigure\u001b[0m\u001b[1;33m)\u001b[0m\u001b[1;33m\u001b[0m\u001b[0m\n\u001b[0m",
      "\u001b[0;32mC:\\Users\\linus\\Anaconda2\\lib\\site-packages\\plotly\\offline\\offline.pyc\u001b[0m in \u001b[0;36miplot\u001b[0;34m(figure_or_data, show_link, link_text, validate, image, filename, image_width, image_height, config)\u001b[0m\n\u001b[1;32m    343\u001b[0m     )\n\u001b[1;32m    344\u001b[0m \u001b[1;33m\u001b[0m\u001b[0m\n\u001b[0;32m--> 345\u001b[0;31m     \u001b[0mfigure\u001b[0m \u001b[1;33m=\u001b[0m \u001b[0mtools\u001b[0m\u001b[1;33m.\u001b[0m\u001b[0mreturn_figure_from_figure_or_data\u001b[0m\u001b[1;33m(\u001b[0m\u001b[0mfigure_or_data\u001b[0m\u001b[1;33m,\u001b[0m \u001b[0mvalidate\u001b[0m\u001b[1;33m)\u001b[0m\u001b[1;33m\u001b[0m\u001b[0m\n\u001b[0m\u001b[1;32m    346\u001b[0m \u001b[1;33m\u001b[0m\u001b[0m\n\u001b[1;32m    347\u001b[0m     \u001b[1;31m# Though it can add quite a bit to the display-bundle size, we include\u001b[0m\u001b[1;33m\u001b[0m\u001b[1;33m\u001b[0m\u001b[0m\n",
      "\u001b[0;32mC:\\Users\\linus\\Anaconda2\\lib\\site-packages\\plotly\\tools.pyc\u001b[0m in \u001b[0;36mreturn_figure_from_figure_or_data\u001b[0;34m(figure_or_data, validate_figure)\u001b[0m\n\u001b[1;32m   1393\u001b[0m                                          \u001b[1;34m\"plot option.\\nHere's why you're \"\u001b[0m\u001b[1;33m\u001b[0m\u001b[0m\n\u001b[1;32m   1394\u001b[0m                                          \u001b[1;34m\"seeing this error:\\n\\n{0}\"\u001b[0m\u001b[1;33m\u001b[0m\u001b[0m\n\u001b[0;32m-> 1395\u001b[0;31m                                          \"\".format(err))\n\u001b[0m\u001b[1;32m   1396\u001b[0m         \u001b[1;32mif\u001b[0m \u001b[1;32mnot\u001b[0m \u001b[0mfigure\u001b[0m\u001b[1;33m[\u001b[0m\u001b[1;34m'data'\u001b[0m\u001b[1;33m]\u001b[0m\u001b[1;33m:\u001b[0m\u001b[1;33m\u001b[0m\u001b[0m\n\u001b[1;32m   1397\u001b[0m             raise exceptions.PlotlyEmptyDataError(\n",
      "\u001b[0;31mPlotlyError\u001b[0m: Invalid 'figure_or_data' argument. Plotly will not be able to properly parse the resulting JSON. If you want to send this 'figure_or_data' to Plotly anyway (not recommended), you can set 'validate=False' as a plot option.\nHere's why you're seeing this error:\n\n'Margin' is not allowed in 'layout'\n\nPath To Error: ['layout']['Margin']\n\nValid attributes for 'layout' at path ['layout'] under parents ['figure']:\n\n    ['angularaxis', 'annotations', 'autosize', 'bargap', 'bargroupgap',\n    'barmode', 'barnorm', 'boxgap', 'boxgroupgap', 'boxmode', 'calendar',\n    'direction', 'dragmode', 'font', 'geo', 'height', 'hiddenlabels',\n    'hiddenlabelssrc', 'hidesources', 'hovermode', 'images', 'legend',\n    'mapbox', 'margin', 'orientation', 'paper_bgcolor', 'plot_bgcolor',\n    'radialaxis', 'scene', 'separators', 'shapes', 'showlegend', 'sliders',\n    'smith', 'ternary', 'title', 'titlefont', 'updatemenus', 'width',\n    'xaxis', 'yaxis']\n\nRun `<layout-object>.help('attribute')` on any of the above.\n'<layout-object>' is the object at ['layout']"
     ]
    }
   ],
   "source": [
    "for year in years:\n",
    "    frame = {'data': [], 'name': str(year)}\n",
    "    for state in states:\n",
    "        dataset_by_state = dataset[dataset.index == year]\n",
    "        dataset_by_state = dataset_by_state[dataset_by_state['State'] == state]\n",
    "        frame['data'].append(dict(textposition=\"middle right\",\n",
    "                                  hoverinfo =\"all\",\n",
    "                                  type='scatter',\n",
    "                                  x=dataset_by_state['jobVacancies'], \n",
    "                                  y=dataset_by_state['unemployment'],\n",
    "                                  name=state,mode='markers',\n",
    "                                  marker=dict(symbol='circle', \n",
    "                                              size=dataset_by_state['population']/100000 ,\n",
    "                                              sizeref=0.8, \n",
    "                                              sizemode='radius')))\n",
    "    \n",
    "    figure['frames'].append(frame)\n",
    "    slider_step = {'args': [[year],{'frame': {'duration': 300, 'redraw': False},\n",
    "         'mode': 'immediate','transition': {'duration': 300,  'easing': 'cubic-in-out'}}],'label': year,'method': 'animate'}\n",
    "    sliders_dict['steps'].append(slider_step)\n",
    "\n",
    "    \n",
    "figure['layout']['sliders'] = [sliders_dict]\n",
    "iplot(figure)"
   ]
  },
  {
   "cell_type": "markdown",
   "metadata": {
    "collapsed": false
   },
   "source": [
    "# make frames\n",
    "for year in years:\n",
    "    frame = {'data': [], 'name': str(year)}\n",
    "    for state in states:\n",
    "        dataset_by_state = dataset[dataset.index == year]\n",
    "        dataset_by_state = dataset_by_state[dataset_by_state['State'] == state]\n",
    "        data_dict = {\n",
    "            'x': list(dataset_by_state['unemployment']),\n",
    "            'y': list(dataset_by_state['jobVacancies']),\n",
    "            'mode': 'markers',\n",
    "            'text': list(dataset_by_state['State']),\n",
    "            'marker': {\n",
    "                'sizemode': 'area',\n",
    "                'sizeref': 200000,\n",
    "                'size': list(dataset_by_state['population']/100000)\n",
    "            },\n",
    "            'name': state\n",
    "        }\n",
    "        frame['data'].append(data_dict)\n",
    "        \n",
    "    figure['frames'].append(frame)\n",
    "    slider_step = {'args': [[year],{'frame': {'duration': 300, 'redraw': False},\n",
    "         'mode': 'immediate','transition': {'duration': 300,  'easing': 'cubic-in-out'}}],'label': year,'method': 'animate'}\n",
    "    sliders_dict['steps'].append(slider_step)\n",
    "\n",
    "    \n",
    "figure['layout']['sliders'] = [sliders_dict]\n",
    "iplot(figure)"
   ]
  },
  {
   "cell_type": "markdown",
   "metadata": {
    "collapsed": false
   },
   "source": [
    "from plotly.offline import init_notebook_mode, iplot\n",
    "from IPython.display import display, HTML\n",
    "import numpy as np\n",
    "\n",
    "init_notebook_mode(connected=True)\n",
    "\n",
    "N=50\n",
    "s=np.linspace(-1,1,N)\n",
    "vx=1+2*s\n",
    "vy=1-2*s #v=(vx, vy) is the velocity\n",
    "speed=np.sqrt(vx**2+vy**2)\n",
    "ux=vx/speed #(ux, uy) unit tangent vector, (-uy, ux) unit normal vector\n",
    "uy=vy/speed\n",
    "\n",
    "xend=xx+ux #end coordinates for the unit tangent vector at (xx, yy)\n",
    "yend=yy+uy\n",
    "\n",
    "xnoe=xx-uy #end coordinates for the unit normal vector at (xx,yy)\n",
    "ynoe=yy+ux\n",
    "\n",
    "\n",
    "data=[dict(x=x, y=y,\n",
    "           name='frame',\n",
    "           mode='lines', \n",
    "           line=dict(width=2, color='blue')),\n",
    "      dict(x=x, y=y,\n",
    "           name='curve',\n",
    "           mode='lines', \n",
    "           line=dict(width=2, color='blue'))\n",
    "    ]\n",
    "\n",
    "layout=dict(width=600, height=600,\n",
    "            xaxis=dict(range=[xm, xM], autorange=False, zeroline=False),\n",
    "            yaxis=dict(range=[ym, yM], autorange=False, zeroline=False),\n",
    "            title='Moving Frenet Frame Along a Planar Curve', hovermode='closest',\n",
    "            updatemenus= [{'type': 'buttons',\n",
    "                           'buttons': [{'label': 'Play',\n",
    "                                        'method': 'animate',\n",
    "                                        'args': [None]}]}])\n",
    "\n",
    "frames=[dict(data=[dict(x=[xx[k], xend[k], None, xx[k], xnoe[k]], y=[yy[k], yend[k], None, yy[k], ynoe[k]], \n",
    "                        mode='lines', \n",
    "                        line=dict(color='red', width=2))\n",
    "                  ]) for k in range(N)]    \n",
    "          \n",
    "figure2=dict(data=data, layout=layout, frames=frames)          \n",
    "iplot(figure2)"
   ]
  },
  {
   "cell_type": "code",
   "execution_count": null,
   "metadata": {
    "collapsed": false
   },
   "outputs": [],
   "source": []
  },
  {
   "cell_type": "code",
   "execution_count": null,
   "metadata": {
    "collapsed": false
   },
   "outputs": [],
   "source": []
  },
  {
   "cell_type": "code",
   "execution_count": null,
   "metadata": {
    "collapsed": false
   },
   "outputs": [],
   "source": []
  },
  {
   "cell_type": "code",
   "execution_count": null,
   "metadata": {
    "collapsed": false
   },
   "outputs": [],
   "source": []
  }
 ],
 "metadata": {
  "anaconda-cloud": {},
  "kernelspec": {
   "display_name": "Python 2",
   "language": "python",
   "name": "python2"
  },
  "language_info": {
   "codemirror_mode": {
    "name": "ipython",
    "version": 2
   },
   "file_extension": ".py",
   "mimetype": "text/x-python",
   "name": "python",
   "nbconvert_exporter": "python",
   "pygments_lexer": "ipython2",
   "version": "2.7.13"
  }
 },
 "nbformat": 4,
 "nbformat_minor": 1
}
