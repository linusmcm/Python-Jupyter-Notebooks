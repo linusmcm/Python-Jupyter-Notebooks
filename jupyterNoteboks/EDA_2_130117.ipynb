{
 "cells": [
  {
   "cell_type": "markdown",
   "metadata": {},
   "source": [
    "### notes"
   ]
  },
  {
   "cell_type": "markdown",
   "metadata": {},
   "source": [
    "### L_mC - 110117\n",
    "\n",
    "I'd be keen to explore:\n",
    "* relationships between the fields and data. \n",
    "* highlighting high bounce zones, \n",
    "* dead spots, \n",
    "* zones, \n",
    "* relationship between speed and xyz. \n",
    "* increased / decreased bounce over time of day etc.\n",
    "\n",
    "x = depth\n",
    "y = horizon\n",
    "z = height"
   ]
  },
  {
   "cell_type": "markdown",
   "metadata": {},
   "source": [
    "### import libraries"
   ]
  },
  {
   "cell_type": "code",
   "execution_count": 155,
   "metadata": {
    "collapsed": false
   },
   "outputs": [
    {
     "ename": "ImportError",
     "evalue": "No module named GR",
     "output_type": "error",
     "traceback": [
      "\u001b[0;31m---------------------------------------------------------------------------\u001b[0m",
      "\u001b[0;31mImportError\u001b[0m                               Traceback (most recent call last)",
      "\u001b[0;32m<ipython-input-155-5bbf9658c7ef>\u001b[0m in \u001b[0;36m<module>\u001b[0;34m()\u001b[0m\n\u001b[1;32m     19\u001b[0m \u001b[1;32mimport\u001b[0m \u001b[0mplotly\u001b[0m\u001b[1;33m.\u001b[0m\u001b[0mgraph_objs\u001b[0m \u001b[1;32mas\u001b[0m \u001b[0mgo\u001b[0m\u001b[1;33m\u001b[0m\u001b[0m\n\u001b[1;32m     20\u001b[0m \u001b[1;32mfrom\u001b[0m \u001b[0mplotly\u001b[0m\u001b[1;33m.\u001b[0m\u001b[0mgraph_objs\u001b[0m \u001b[1;32mimport\u001b[0m \u001b[0mSurface\u001b[0m\u001b[1;33m,\u001b[0m \u001b[0mLayout\u001b[0m\u001b[1;33m,\u001b[0m \u001b[0mScene\u001b[0m\u001b[1;33m\u001b[0m\u001b[0m\n\u001b[0;32m---> 21\u001b[0;31m \u001b[1;32mimport\u001b[0m \u001b[0mGR\u001b[0m\u001b[1;33m\u001b[0m\u001b[0m\n\u001b[0m\u001b[1;32m     22\u001b[0m \u001b[1;32mfrom\u001b[0m \u001b[0mos\u001b[0m \u001b[1;32mimport\u001b[0m \u001b[0menviron\u001b[0m\u001b[1;33m\u001b[0m\u001b[0m\n\u001b[1;32m     23\u001b[0m \u001b[0menviron\u001b[0m\u001b[1;33m[\u001b[0m\u001b[1;34m'MPLBACKEND'\u001b[0m\u001b[1;33m]\u001b[0m \u001b[1;33m=\u001b[0m \u001b[1;34m'module://gr.matplotlib.backend_gr'\u001b[0m\u001b[1;33m\u001b[0m\u001b[0m\n",
      "\u001b[0;31mImportError\u001b[0m: No module named GR"
     ]
    }
   ],
   "source": [
    "import notebook\n",
    "import pandas as pd\n",
    "import numpy as np\n",
    "import matplotlib as mpl\n",
    "from mpl_toolkits.mplot3d import Axes3D as p3\n",
    "from matplotlib import pyplot as plt\n",
    "from matplotlib import colors, ticker, cm\n",
    "import matplotlib.patches as mpatches\n",
    "import seaborn as sns\n",
    "import notebook\n",
    "from scipy.stats import kendalltau\n",
    "from bokeh.io import output_notebook, show\n",
    "from bokeh.plotting import figure, output_file, show, ColumnDataSource\n",
    "from bokeh.models import HoverTool, BoxSelectTool, BoxZoomTool, LassoSelectTool, ResetTool\n",
    "from mpl_toolkits.mplot3d import Axes3D\n",
    "import plotly\n",
    "plotly.tools.set_credentials_file(username='linus.austen.mcmanamey', api_key='3tqgEzyZAGTIeFY5sQ1T')\n",
    "import plotly.plotly as py\n",
    "import plotly.graph_objs as go\n",
    "from plotly.graph_objs import Surface, Layout, Scene\n",
    "import gr\n",
    "from os import environ\n",
    "environ['MPLBACKEND'] = 'module://gr.matplotlib.backend_gr'\n",
    "import numpy as np\n",
    "%matplotlib inline"
   ]
  },
  {
   "cell_type": "code",
   "execution_count": null,
   "metadata": {
    "collapsed": false
   },
   "outputs": [],
   "source": []
  },
  {
   "cell_type": "code",
   "execution_count": 135,
   "metadata": {
    "collapsed": false
   },
   "outputs": [
    {
     "data": {
      "text/html": [
       "\n",
       "    <div class=\"bk-root\">\n",
       "        <a href=\"http://bokeh.pydata.org\" target=\"_blank\" class=\"bk-logo bk-logo-small bk-logo-notebook\"></a>\n",
       "        <span id=\"a62a7931-7c6d-4bdc-a0a3-edc8f901f1e1\">Loading BokehJS ...</span>\n",
       "    </div>"
      ]
     },
     "metadata": {},
     "output_type": "display_data"
    },
    {
     "data": {
      "application/javascript": [
       "\n",
       "(function(global) {\n",
       "  function now() {\n",
       "    return new Date();\n",
       "  }\n",
       "\n",
       "  var force = \"1\";\n",
       "\n",
       "  if (typeof (window._bokeh_onload_callbacks) === \"undefined\" || force !== \"\") {\n",
       "    window._bokeh_onload_callbacks = [];\n",
       "    window._bokeh_is_loading = undefined;\n",
       "  }\n",
       "\n",
       "\n",
       "  \n",
       "  if (typeof (window._bokeh_timeout) === \"undefined\" || force !== \"\") {\n",
       "    window._bokeh_timeout = Date.now() + 5000;\n",
       "    window._bokeh_failed_load = false;\n",
       "  }\n",
       "\n",
       "  var NB_LOAD_WARNING = {'data': {'text/html':\n",
       "     \"<div style='background-color: #fdd'>\\n\"+\n",
       "     \"<p>\\n\"+\n",
       "     \"BokehJS does not appear to have successfully loaded. If loading BokehJS from CDN, this \\n\"+\n",
       "     \"may be due to a slow or bad network connection. Possible fixes:\\n\"+\n",
       "     \"</p>\\n\"+\n",
       "     \"<ul>\\n\"+\n",
       "     \"<li>re-rerun `output_notebook()` to attempt to load from CDN again, or</li>\\n\"+\n",
       "     \"<li>use INLINE resources instead, as so:</li>\\n\"+\n",
       "     \"</ul>\\n\"+\n",
       "     \"<code>\\n\"+\n",
       "     \"from bokeh.resources import INLINE\\n\"+\n",
       "     \"output_notebook(resources=INLINE)\\n\"+\n",
       "     \"</code>\\n\"+\n",
       "     \"</div>\"}};\n",
       "\n",
       "  function display_loaded() {\n",
       "    if (window.Bokeh !== undefined) {\n",
       "      Bokeh.$(\"#a62a7931-7c6d-4bdc-a0a3-edc8f901f1e1\").text(\"BokehJS successfully loaded.\");\n",
       "    } else if (Date.now() < window._bokeh_timeout) {\n",
       "      setTimeout(display_loaded, 100)\n",
       "    }\n",
       "  }\n",
       "\n",
       "  function run_callbacks() {\n",
       "    window._bokeh_onload_callbacks.forEach(function(callback) { callback() });\n",
       "    delete window._bokeh_onload_callbacks\n",
       "    console.info(\"Bokeh: all callbacks have finished\");\n",
       "  }\n",
       "\n",
       "  function load_libs(js_urls, callback) {\n",
       "    window._bokeh_onload_callbacks.push(callback);\n",
       "    if (window._bokeh_is_loading > 0) {\n",
       "      console.log(\"Bokeh: BokehJS is being loaded, scheduling callback at\", now());\n",
       "      return null;\n",
       "    }\n",
       "    if (js_urls == null || js_urls.length === 0) {\n",
       "      run_callbacks();\n",
       "      return null;\n",
       "    }\n",
       "    console.log(\"Bokeh: BokehJS not loaded, scheduling load and callback at\", now());\n",
       "    window._bokeh_is_loading = js_urls.length;\n",
       "    for (var i = 0; i < js_urls.length; i++) {\n",
       "      var url = js_urls[i];\n",
       "      var s = document.createElement('script');\n",
       "      s.src = url;\n",
       "      s.async = false;\n",
       "      s.onreadystatechange = s.onload = function() {\n",
       "        window._bokeh_is_loading--;\n",
       "        if (window._bokeh_is_loading === 0) {\n",
       "          console.log(\"Bokeh: all BokehJS libraries loaded\");\n",
       "          run_callbacks()\n",
       "        }\n",
       "      };\n",
       "      s.onerror = function() {\n",
       "        console.warn(\"failed to load library \" + url);\n",
       "      };\n",
       "      console.log(\"Bokeh: injecting script tag for BokehJS library: \", url);\n",
       "      document.getElementsByTagName(\"head\")[0].appendChild(s);\n",
       "    }\n",
       "  };var element = document.getElementById(\"a62a7931-7c6d-4bdc-a0a3-edc8f901f1e1\");\n",
       "  if (element == null) {\n",
       "    console.log(\"Bokeh: ERROR: autoload.js configured with elementid 'a62a7931-7c6d-4bdc-a0a3-edc8f901f1e1' but no matching script tag was found. \")\n",
       "    return false;\n",
       "  }\n",
       "\n",
       "  var js_urls = ['https://cdn.pydata.org/bokeh/release/bokeh-0.12.2.min.js', 'https://cdn.pydata.org/bokeh/release/bokeh-widgets-0.12.2.min.js', 'https://cdn.pydata.org/bokeh/release/bokeh-compiler-0.12.2.min.js'];\n",
       "\n",
       "  var inline_js = [\n",
       "    function(Bokeh) {\n",
       "      Bokeh.set_log_level(\"info\");\n",
       "    },\n",
       "    \n",
       "    function(Bokeh) {\n",
       "      \n",
       "      Bokeh.$(\"#a62a7931-7c6d-4bdc-a0a3-edc8f901f1e1\").text(\"BokehJS is loading...\");\n",
       "    },\n",
       "    function(Bokeh) {\n",
       "      console.log(\"Bokeh: injecting CSS: https://cdn.pydata.org/bokeh/release/bokeh-0.12.2.min.css\");\n",
       "      Bokeh.embed.inject_css(\"https://cdn.pydata.org/bokeh/release/bokeh-0.12.2.min.css\");\n",
       "      console.log(\"Bokeh: injecting CSS: https://cdn.pydata.org/bokeh/release/bokeh-widgets-0.12.2.min.css\");\n",
       "      Bokeh.embed.inject_css(\"https://cdn.pydata.org/bokeh/release/bokeh-widgets-0.12.2.min.css\");\n",
       "    }\n",
       "  ];\n",
       "\n",
       "  function run_inline_js() {\n",
       "    \n",
       "    if ((window.Bokeh !== undefined) || (force === \"1\")) {\n",
       "      for (var i = 0; i < inline_js.length; i++) {\n",
       "        inline_js[i](window.Bokeh);\n",
       "      }if (force === \"1\") {\n",
       "        display_loaded();\n",
       "      }} else if (Date.now() < window._bokeh_timeout) {\n",
       "      setTimeout(run_inline_js, 100);\n",
       "    } else if (!window._bokeh_failed_load) {\n",
       "      console.log(\"Bokeh: BokehJS failed to load within specified timeout.\");\n",
       "      window._bokeh_failed_load = true;\n",
       "    } else if (!force) {\n",
       "      var cell = $(\"#a62a7931-7c6d-4bdc-a0a3-edc8f901f1e1\").parents('.cell').data().cell;\n",
       "      cell.output_area.append_execute_result(NB_LOAD_WARNING)\n",
       "    }\n",
       "\n",
       "  }\n",
       "\n",
       "  if (window._bokeh_is_loading === 0) {\n",
       "    console.log(\"Bokeh: BokehJS loaded, going straight to plotting\");\n",
       "    run_inline_js();\n",
       "  } else {\n",
       "    load_libs(js_urls, function() {\n",
       "      console.log(\"Bokeh: BokehJS plotting callback run at\", now());\n",
       "      run_inline_js();\n",
       "    });\n",
       "  }\n",
       "}(this));"
      ]
     },
     "metadata": {},
     "output_type": "display_data"
    }
   ],
   "source": [
    "output_notebook()"
   ]
  },
  {
   "cell_type": "markdown",
   "metadata": {},
   "source": [
    "### The wickets\n",
    "Two sets of wickets shall be pitched opposite and parallel to each other at a distance of 22 yards/20.12 m between the centres of the two middle stumps. Each set shall be 9 in/22.86 cm wide and shall consist of three wooden stumps with two wooden bails on top. See Appendix A.\n",
    "\n",
    "The tops of the stumps shall be 28 in/71.1 cm above the playing surface and shall be dome shaped except for the bail grooves. The portion of a stump above the playing surface shall be cylindrical apart from the domed top, with circular section of diameter not less than 1⅜ in/3.49 cm nor more than 1½ in/3.81 cm. See Appendix A.\n",
    "\n",
    "https://www.lords.org/mcc/laws-of-cricket/laws/law-8-the-wickets/"
   ]
  },
  {
   "cell_type": "code",
   "execution_count": 136,
   "metadata": {
    "collapsed": true
   },
   "outputs": [],
   "source": [
    "#### Global Wicket Variables\n",
    "# measurement in meters\n",
    "LENGTH_OF_PITCH = 20.12\n",
    "WIDTH_OF_PITCH = 3.66\n",
    "WIDTH_OF_STUMPS = 0.2286\n",
    "HEIGHT_OF_STUMPS = 0.711\n",
    "HEIGHT_OF_BAILS = 0.0349\n",
    "STUMPS = HEIGHT_OF_STUMPS + HEIGHT_OF_BAILS\n",
    "#### measurement for graphing \n",
    "PITCH_WIDTH = 366\n",
    "PITCH_LENGTH = 2012\n",
    "PITCH_SCALE = 1"
   ]
  },
  {
   "cell_type": "code",
   "execution_count": 137,
   "metadata": {
    "collapsed": true
   },
   "outputs": [],
   "source": [
    "#### matplotlib graph size\n",
    "plt.rcParams['figure.figsize']=(50,10)"
   ]
  },
  {
   "cell_type": "markdown",
   "metadata": {},
   "source": [
    "### read in csv file"
   ]
  },
  {
   "cell_type": "code",
   "execution_count": 138,
   "metadata": {
    "collapsed": false
   },
   "outputs": [],
   "source": [
    "df = pd.read_csv('day5.csv', parse_dates=True)"
   ]
  },
  {
   "cell_type": "markdown",
   "metadata": {},
   "source": [
    "### strip out leading spaces"
   ]
  },
  {
   "cell_type": "code",
   "execution_count": 139,
   "metadata": {
    "collapsed": true
   },
   "outputs": [],
   "source": [
    "df = df.rename(columns=lambda x: x.strip())"
   ]
  },
  {
   "cell_type": "markdown",
   "metadata": {},
   "source": [
    "### convert TimeBowled to time object"
   ]
  },
  {
   "cell_type": "code",
   "execution_count": 140,
   "metadata": {
    "collapsed": true
   },
   "outputs": [],
   "source": [
    "df.TimeBowled = pd.to_datetime(df.TimeBowled)"
   ]
  },
  {
   "cell_type": "markdown",
   "metadata": {},
   "source": [
    "###  set TimeBowled to index"
   ]
  },
  {
   "cell_type": "code",
   "execution_count": 141,
   "metadata": {
    "collapsed": false
   },
   "outputs": [],
   "source": [
    "df = df.set_index(pd.DatetimeIndex(df['TimeBowled']),inplace=False)"
   ]
  },
  {
   "cell_type": "markdown",
   "metadata": {},
   "source": [
    "### strip out hour for time sequencing"
   ]
  },
  {
   "cell_type": "code",
   "execution_count": 142,
   "metadata": {
    "collapsed": false
   },
   "outputs": [],
   "source": [
    "df['hour'] = df.index.hour"
   ]
  },
  {
   "cell_type": "markdown",
   "metadata": {},
   "source": [
    "### cast variables as floats"
   ]
  },
  {
   "cell_type": "code",
   "execution_count": 143,
   "metadata": {
    "collapsed": true
   },
   "outputs": [],
   "source": [
    "df.releaseX = df.releaseX.astype('float64')\n",
    "df.releaseSpeed = df.releaseSpeed.astype('float64')\n",
    "df.dropAngle = df.dropAngle.astype('float64')\n",
    "df.bounceX = df.bounceX.astype('float64')\n",
    "df.bounceSpeed = df.bounceSpeed.astype('float64')\n",
    "df.bounceAngle = df.bounceAngle.astype('float64')"
   ]
  },
  {
   "cell_type": "markdown",
   "metadata": {},
   "source": [
    "### convert universal co-ordinates to seperate bowling ends"
   ]
  },
  {
   "cell_type": "code",
   "execution_count": 144,
   "metadata": {
    "collapsed": true
   },
   "outputs": [],
   "source": [
    "def releaseXMod(row):\n",
    "    if(row['Over'] == 0):\n",
    "          rValue = row['releaseX'] - (LENGTH_OF_PITCH/2)\n",
    "    if(row['Over'] % 2 != 0):\n",
    "        rValue = -(row['releaseX'] - (LENGTH_OF_PITCH/2))\n",
    "    else:\n",
    "        rValue = row['releaseX'] - (LENGTH_OF_PITCH/2)\n",
    "    return(rValue)   "
   ]
  },
  {
   "cell_type": "code",
   "execution_count": 145,
   "metadata": {
    "collapsed": false
   },
   "outputs": [],
   "source": [
    "def bounceXMod(row):\n",
    "    if(row['Over'] == 0):\n",
    "          rValue = (row['bounceX'] - (LENGTH_OF_PITCH/2))\n",
    "    if(row['Over'] % 2 != 0):\n",
    "        rValue = -(row['bounceX'] - (LENGTH_OF_PITCH/2))\n",
    "    else:\n",
    "        rValue = (row['bounceX'] - (LENGTH_OF_PITCH/2))\n",
    "    return(rValue)    "
   ]
  },
  {
   "cell_type": "code",
   "execution_count": 146,
   "metadata": {
    "collapsed": true
   },
   "outputs": [],
   "source": [
    "def stumpPosXMod(row):\n",
    "    if(row['Over'] == 0):\n",
    "          rValue = -(LENGTH_OF_PITCH/2)\n",
    "    if(row['Over'] % 2 != 0):\n",
    "        rValue = (LENGTH_OF_PITCH/2)\n",
    "    else:\n",
    "        rValue = -(LENGTH_OF_PITCH/2)\n",
    "    return(rValue)"
   ]
  },
  {
   "cell_type": "code",
   "execution_count": 147,
   "metadata": {
    "collapsed": true
   },
   "outputs": [],
   "source": [
    "def bounceZMod(row):\n",
    "    if(row['Over'] == 0):\n",
    "          rValue = 0.0001\n",
    "    if(row['Over'] % 2 != 0):\n",
    "        rValue = 0.0001\n",
    "    else:\n",
    "        rValue = 0.0001\n",
    "    return(rValue)"
   ]
  },
  {
   "cell_type": "markdown",
   "metadata": {},
   "source": [
    "### apply functions to dataframe"
   ]
  },
  {
   "cell_type": "code",
   "execution_count": 148,
   "metadata": {
    "collapsed": false
   },
   "outputs": [],
   "source": [
    "df['bounceX'] = df.apply(bounceXMod, axis=1)\n",
    "df['releaseX'] = df.apply(releaseXMod, axis=1)\n",
    "df['stumpPosX'] = df.apply(stumpPosXMod, axis=1)\n",
    "df['bounceZ'] = df.apply(bounceZMod, axis=1)"
   ]
  },
  {
   "cell_type": "code",
   "execution_count": null,
   "metadata": {
    "collapsed": false
   },
   "outputs": [],
   "source": []
  },
  {
   "cell_type": "markdown",
   "metadata": {},
   "source": [
    "### remove null values"
   ]
  },
  {
   "cell_type": "code",
   "execution_count": 149,
   "metadata": {
    "collapsed": false
   },
   "outputs": [],
   "source": [
    "df = df[df.bounceY > -2]\n",
    "df.Batsman.dropna(how='any', inplace=True)"
   ]
  },
  {
   "cell_type": "markdown",
   "metadata": {},
   "source": [
    "## bokeh plots"
   ]
  },
  {
   "cell_type": "code",
   "execution_count": 150,
   "metadata": {
    "collapsed": true
   },
   "outputs": [],
   "source": [
    "width = PITCH_WIDTH / PITCH_SCALE\n",
    "height = PITCH_LENGTH / PITCH_SCALE"
   ]
  },
  {
   "cell_type": "code",
   "execution_count": 151,
   "metadata": {
    "collapsed": true
   },
   "outputs": [],
   "source": [
    "source = ColumnDataSource(data=dict(Bowler=df.Bowler,Batsman=df.Batsman,speed=df.bounceSpeed,rspeed=df.releaseSpeed,))\n",
    "hover = HoverTool(tooltips=[(\"Bowler\", \"@Bowler\"),(\"Batsman\",\"@Batsman\"),(\"Bounce Speed km/h\",\"@speed\"),(\"Release Speed km/h\",\"@rspeed\")])"
   ]
  },
  {
   "cell_type": "code",
   "execution_count": 152,
   "metadata": {
    "collapsed": false
   },
   "outputs": [
    {
     "data": {
      "text/html": [
       "\n",
       "\n",
       "    <div class=\"bk-root\">\n",
       "        <div class=\"plotdiv\" id=\"cb0cc472-4396-4610-b364-f7204e34ab9c\"></div>\n",
       "    </div>\n",
       "<script type=\"text/javascript\">\n",
       "  \n",
       "  (function(global) {\n",
       "    function now() {\n",
       "      return new Date();\n",
       "    }\n",
       "  \n",
       "    var force = \"\";\n",
       "  \n",
       "    if (typeof (window._bokeh_onload_callbacks) === \"undefined\" || force !== \"\") {\n",
       "      window._bokeh_onload_callbacks = [];\n",
       "      window._bokeh_is_loading = undefined;\n",
       "    }\n",
       "  \n",
       "  \n",
       "    \n",
       "    if (typeof (window._bokeh_timeout) === \"undefined\" || force !== \"\") {\n",
       "      window._bokeh_timeout = Date.now() + 0;\n",
       "      window._bokeh_failed_load = false;\n",
       "    }\n",
       "  \n",
       "    var NB_LOAD_WARNING = {'data': {'text/html':\n",
       "       \"<div style='background-color: #fdd'>\\n\"+\n",
       "       \"<p>\\n\"+\n",
       "       \"BokehJS does not appear to have successfully loaded. If loading BokehJS from CDN, this \\n\"+\n",
       "       \"may be due to a slow or bad network connection. Possible fixes:\\n\"+\n",
       "       \"</p>\\n\"+\n",
       "       \"<ul>\\n\"+\n",
       "       \"<li>re-rerun `output_notebook()` to attempt to load from CDN again, or</li>\\n\"+\n",
       "       \"<li>use INLINE resources instead, as so:</li>\\n\"+\n",
       "       \"</ul>\\n\"+\n",
       "       \"<code>\\n\"+\n",
       "       \"from bokeh.resources import INLINE\\n\"+\n",
       "       \"output_notebook(resources=INLINE)\\n\"+\n",
       "       \"</code>\\n\"+\n",
       "       \"</div>\"}};\n",
       "  \n",
       "    function display_loaded() {\n",
       "      if (window.Bokeh !== undefined) {\n",
       "        Bokeh.$(\"#cb0cc472-4396-4610-b364-f7204e34ab9c\").text(\"BokehJS successfully loaded.\");\n",
       "      } else if (Date.now() < window._bokeh_timeout) {\n",
       "        setTimeout(display_loaded, 100)\n",
       "      }\n",
       "    }\n",
       "  \n",
       "    function run_callbacks() {\n",
       "      window._bokeh_onload_callbacks.forEach(function(callback) { callback() });\n",
       "      delete window._bokeh_onload_callbacks\n",
       "      console.info(\"Bokeh: all callbacks have finished\");\n",
       "    }\n",
       "  \n",
       "    function load_libs(js_urls, callback) {\n",
       "      window._bokeh_onload_callbacks.push(callback);\n",
       "      if (window._bokeh_is_loading > 0) {\n",
       "        console.log(\"Bokeh: BokehJS is being loaded, scheduling callback at\", now());\n",
       "        return null;\n",
       "      }\n",
       "      if (js_urls == null || js_urls.length === 0) {\n",
       "        run_callbacks();\n",
       "        return null;\n",
       "      }\n",
       "      console.log(\"Bokeh: BokehJS not loaded, scheduling load and callback at\", now());\n",
       "      window._bokeh_is_loading = js_urls.length;\n",
       "      for (var i = 0; i < js_urls.length; i++) {\n",
       "        var url = js_urls[i];\n",
       "        var s = document.createElement('script');\n",
       "        s.src = url;\n",
       "        s.async = false;\n",
       "        s.onreadystatechange = s.onload = function() {\n",
       "          window._bokeh_is_loading--;\n",
       "          if (window._bokeh_is_loading === 0) {\n",
       "            console.log(\"Bokeh: all BokehJS libraries loaded\");\n",
       "            run_callbacks()\n",
       "          }\n",
       "        };\n",
       "        s.onerror = function() {\n",
       "          console.warn(\"failed to load library \" + url);\n",
       "        };\n",
       "        console.log(\"Bokeh: injecting script tag for BokehJS library: \", url);\n",
       "        document.getElementsByTagName(\"head\")[0].appendChild(s);\n",
       "      }\n",
       "    };var element = document.getElementById(\"cb0cc472-4396-4610-b364-f7204e34ab9c\");\n",
       "    if (element == null) {\n",
       "      console.log(\"Bokeh: ERROR: autoload.js configured with elementid 'cb0cc472-4396-4610-b364-f7204e34ab9c' but no matching script tag was found. \")\n",
       "      return false;\n",
       "    }\n",
       "  \n",
       "    var js_urls = [];\n",
       "  \n",
       "    var inline_js = [\n",
       "      function(Bokeh) {\n",
       "        Bokeh.$(function() {\n",
       "            var docs_json = {\"44d39109-d893-4ec5-81a0-78cf38c1ac7a\":{\"roots\":{\"references\":[{\"attributes\":{\"callback\":null,\"column_names\":[\"Batsman\",\"speed\",\"rspeed\",\"Bowler\",\"y\",\"x\"],\"data\":{\"Batsman\":[\"Matt Renshaw\",\"David Warner\",\"David Warner\",\"David Warner\",\"Matt Renshaw\",\"Matt Renshaw\",\"David Warner\",\"David Warner\",\"David Warner\",\"David Warner\",\"Matt Renshaw\",\"Matt Renshaw\",\"David Warner\",\"David Warner\",\"David Warner\",\"David Warner\",\"David Warner\",\"David Warner\",\"Matt Renshaw\",\"Matt Renshaw\",\"Matt Renshaw\",\"Matt Renshaw\",\"Matt Renshaw\",\"Matt Renshaw\",\"David Warner\",\"David Warner\",\"David Warner\",\"David Warner\",\"Matt Renshaw\",\"Matt Renshaw\",\"David Warner\",\"David Warner\",\"David Warner\",\"David Warner\",\"David Warner\",\"David Warner\",\"Matt Renshaw\",\"Matt Renshaw\",\"David Warner\",\"David Warner\",\"Matt Renshaw\",\"Matt Renshaw\",\"David Warner\",\"David Warner\",\"Matt Renshaw\",\"Matt Renshaw\",\"Matt Renshaw\",\"Matt Renshaw\",\"David Warner\",\"David Warner\",\"David Warner\",\"David Warner\",\"David Warner\",\"David Warner\",\"Matt Renshaw\",\"Matt Renshaw\",\"Matt Renshaw\",\"Matt Renshaw\",\"Matt Renshaw\",\"Matt Renshaw\",\"David Warner\",\"David Warner\",\"David Warner\",\"David Warner\",\"Matt Renshaw\",\"David Warner\",\"Matt Renshaw\",\"Matt Renshaw\",\"Matt Renshaw\",\"David Warner\",\"David Warner\",\"David Warner\",\"Matt Renshaw\",\"Matt Renshaw\",\"Matt Renshaw\",\"Matt Renshaw\",\"David Warner\",\"David Warner\",\"Matt Renshaw\",\"Matt Renshaw\",\"Matt Renshaw\",\"David Warner\",\"David Warner\",\"Matt Renshaw\",\"David Warner\",\"David Warner\",\"David Warner\",\"David Warner\",\"David Warner\",\"David Warner\",\"Matt Renshaw\",\"Matt Renshaw\",\"David Warner\",\"David Warner\",\"Matt Renshaw\",\"Matt Renshaw\",\"David Warner\",\"David Warner\",\"David Warner\",\"Matt Renshaw\",\"Matt Renshaw\",\"Matt Renshaw\",\"David Warner\",\"David Warner\",\"David Warner\",\"David Warner\",\"Matt Renshaw\",\"David Warner\",\"Matt Renshaw\",\"David Warner\",\"David Warner\",\"Matt Renshaw\",\"Matt Renshaw\",\"Matt Renshaw\",\"David Warner\",\"Matt Renshaw\",\"Matt Renshaw\",\"Matt Renshaw\",\"David Warner\",\"David Warner\",\"Matt Renshaw\",\"Matt Renshaw\",\"Matt Renshaw\",\"David Warner\",\"David Warner\",\"Matt Renshaw\",\"David Warner\",\"Matt Renshaw\",\"David Warner\",\"Matt Renshaw\",\"Matt Renshaw\",\"David Warner\",\"Matt Renshaw\",\"Matt Renshaw\",\"Matt Renshaw\",\"Matt Renshaw\",\"Matt Renshaw\",\"Matt Renshaw\",\"David Warner\",\"David Warner\",\"Matt Renshaw\",\"Matt Renshaw\",\"Matt Renshaw\",\"Matt Renshaw\",\"David Warner\",\"David Warner\",\"Matt Renshaw\",\"Matt Renshaw\",\"Matt Renshaw\",\"Matt Renshaw\",\"David Warner\",\"Matt Renshaw\",\"Matt Renshaw\",\"Matt Renshaw\",\"Matt Renshaw\",\"Matt Renshaw\",\"David Warner\",\"David Warner\",\"Matt Renshaw\",\"Matt Renshaw\",\"Matt Renshaw\",\"Matt Renshaw\",\"David Warner\",\"David Warner\",\"Matt Renshaw\",\"Matt Renshaw\",\"Matt Renshaw\",\"David Warner\",\"Matt Renshaw\",\"Matt Renshaw\",\"David Warner\",\"Matt Renshaw\",\"Matt Renshaw\",\"Matt Renshaw\",\"David Warner\",\"David Warner\",\"David Warner\",\"Matt Renshaw\",\"David Warner\",\"David Warner\",\"David Warner\",\"David Warner\",\"David Warner\",\"Matt Renshaw\",\"David Warner\",\"Matt Renshaw\",\"David Warner\",\"Matt Renshaw\",\"Matt Renshaw\",\"Matt Renshaw\",\"Matt Renshaw\",\"Matt Renshaw\",\"David Warner\",\"David Warner\",\"David Warner\",\"Usman Khawaja\",\"Usman Khawaja\",\"Usman Khawaja\",\"Matt Renshaw\",\"Matt Renshaw\",\"Matt Renshaw\",\"Matt Renshaw\",\"Usman Khawaja\",\"Usman Khawaja\",\"Matt Renshaw\",\"Matt Renshaw\",\"Matt Renshaw\",\"Matt Renshaw\",\"Matt Renshaw\",\"Matt Renshaw\",\"Matt Renshaw\",\"Matt Renshaw\",\"Matt Renshaw\",\"Matt Renshaw\",\"Matt Renshaw\",\"Usman Khawaja\",\"Matt Renshaw\",\"Usman Khawaja\",\"Usman Khawaja\",\"Usman Khawaja\",\"Usman Khawaja\",\"Usman Khawaja\",\"Usman Khawaja\",\"Matt Renshaw\",\"Matt Renshaw\",\"Matt Renshaw\",\"Matt Renshaw\",\"Matt Renshaw\",\"Matt Renshaw\",\"Matt Renshaw\",\"Usman Khawaja\",\"Usman Khawaja\",\"Usman Khawaja\",\"Usman Khawaja\",\"Matt Renshaw\",\"Usman Khawaja\",\"Usman Khawaja\",\"Usman Khawaja\",\"Usman Khawaja\",\"Usman Khawaja\",\"Usman Khawaja\",\"Matt Renshaw\",\"Matt Renshaw\",\"Matt Renshaw\",\"Matt Renshaw\",\"Matt Renshaw\",\"Matt Renshaw\",\"Matt Renshaw\",\"Usman Khawaja\",\"Usman Khawaja\",\"Matt Renshaw\",\"Matt Renshaw\",\"Matt Renshaw\",\"Usman Khawaja\",\"Usman Khawaja\",\"Usman Khawaja\",\"Usman Khawaja\",\"Usman Khawaja\",\"Usman Khawaja\",\"Matt Renshaw\",\"Usman Khawaja\",\"Usman Khawaja\",\"Usman Khawaja\",\"Usman Khawaja\",\"Matt Renshaw\",\"Matt Renshaw\",\"Matt Renshaw\",\"Matt Renshaw\",\"Matt Renshaw\",\"Matt Renshaw\",\"Matt Renshaw\",\"Matt Renshaw\",\"Matt Renshaw\",\"Usman Khawaja\",\"Usman Khawaja\",\"Matt Renshaw\",\"Matt Renshaw\",\"Usman Khawaja\",\"Matt Renshaw\",\"Matt Renshaw\",\"Matt Renshaw\",\"Matt Renshaw\",\"Matt Renshaw\",\"Matt Renshaw\",\"Usman Khawaja\",\"Usman Khawaja\",\"Matt Renshaw\",\"Matt Renshaw\",\"Matt Renshaw\",\"Matt Renshaw\",\"Usman Khawaja\",\"Steve Smith\",\"Steve Smith\",\"Steve Smith\",\"Matt Renshaw\",\"Matt Renshaw\",\"Steve Smith\",\"Steve Smith\",\"Steve Smith\",\"Steve Smith\",\"Matt Renshaw\",\"Steve Smith\",\"Matt Renshaw\",\"Matt Renshaw\",\"Matt Renshaw\",\"Matt Renshaw\",\"Matt Renshaw\",\"Matt Renshaw\",\"Steve Smith\",\"Steve Smith\",\"Steve Smith\",\"Steve Smith\",\"Steve Smith\",\"Steve Smith\",\"Matt Renshaw\",\"Matt Renshaw\",\"Matt Renshaw\",\"Matt Renshaw\",\"Matt Renshaw\",\"Matt Renshaw\",\"Steve Smith\",\"Steve Smith\",\"Steve Smith\",\"Steve Smith\",\"Steve Smith\",\"Steve Smith\",\"Matt Renshaw\",\"Matt Renshaw\",\"Matt Renshaw\",\"Matt Renshaw\",\"Steve Smith\",\"Steve Smith\",\"Matt Renshaw\",\"Matt Renshaw\",\"Steve Smith\",\"Steve Smith\",\"Steve Smith\",\"Steve Smith\",\"Matt Renshaw\",\"Matt Renshaw\",\"Matt Renshaw\",\"Matt Renshaw\",\"Steve Smith\",\"Steve Smith\",\"Matt Renshaw\",\"Matt Renshaw\",\"Steve Smith\",\"Steve Smith\",\"Steve Smith\",\"Steve Smith\",\"Steve Smith\",\"Steve Smith\",\"Matt Renshaw\",\"Matt Renshaw\",\"Steve Smith\",\"Steve Smith\",\"Matt Renshaw\",\"Steve Smith\",\"Steve Smith\",\"Steve Smith\",\"Steve Smith\",\"Peter Handscomb\",\"Matt Renshaw\",\"Matt Renshaw\",\"Matt Renshaw\",\"Matt Renshaw\",\"Matt Renshaw\",\"Matt Renshaw\",\"Peter Handscomb\",\"Peter Handscomb\",\"Peter Handscomb\",\"Peter Handscomb\",\"Matt Renshaw\",\"Matt Renshaw\",\"Matt Renshaw\",\"Matt Renshaw\",\"Peter Handscomb\",\"Peter Handscomb\",\"Peter Handscomb\",\"Peter Handscomb\",\"Matt Renshaw\",\"Matt Renshaw\",\"Peter Handscomb\",\"Peter Handscomb\",\"Peter Handscomb\",\"Peter Handscomb\",\"Matt Renshaw\",\"Peter Handscomb\",\"Peter Handscomb\",\"Peter Handscomb\",\"Peter Handscomb\",\"Peter Handscomb\",\"Matt Renshaw\",\"Matt Renshaw\",\"Peter Handscomb\",\"Peter Handscomb\",\"Peter Handscomb\",\"Peter Handscomb\",\"Peter Handscomb\",\"Peter Handscomb\",\"Peter Handscomb\",\"Peter Handscomb\",\"Peter Handscomb\",\"Peter Handscomb\",\"Peter Handscomb\",\"Matt Renshaw\",\"Matt Renshaw\",\"Matt Renshaw\",\"Peter Handscomb\",\"Peter Handscomb\",\"Peter Handscomb\",\"Matt Renshaw\",\"Matt Renshaw\",\"Matt Renshaw\",\"Peter Handscomb\",\"Peter Handscomb\",\"Peter Handscomb\",\"Peter Handscomb\",\"Matt Renshaw\",\"Matt Renshaw\",\"Matt Renshaw\",\"Peter Handscomb\",\"Matt Renshaw\",\"Matt Renshaw\",\"Matt Renshaw\",\"Matt Renshaw\",\"Matt Renshaw\",\"Matt Renshaw\",\"Matt Renshaw\",\"Matt Renshaw\",\"Peter Handscomb\",\"Peter Handscomb\",\"Matt Renshaw\",\"Matt Renshaw\",\"Matt Renshaw\",\"Matt Renshaw\",\"Matt Renshaw\",\"Peter Handscomb\",\"Peter Handscomb\",\"Matt Renshaw\",\"Matt Renshaw\",\"Matt Renshaw\",\"Peter Handscomb\",\"Peter Handscomb\",\"Peter Handscomb\",\"Peter Handscomb\",\"Peter Handscomb\",\"Peter Handscomb\",\"Matt Renshaw\",\"Matt Renshaw\",\"Matt Renshaw\",\"Matt Renshaw\",\"Matt Renshaw\",\"Matt Renshaw\",\"Matt Renshaw\",\"Matt Renshaw\",\"Matt Renshaw\",\"Matt Renshaw\",\"Peter Handscomb\",\"Matt Renshaw\",\"Matt Renshaw\",\"Peter Handscomb\",\"Peter Handscomb\",\"Peter Handscomb\",\"Peter Handscomb\",\"Peter Handscomb\",\"Peter Handscomb\",\"Matt Renshaw\",\"Matt Renshaw\",\"Matt Renshaw\",\"Matt Renshaw\",\"Peter Handscomb\",\"Peter Handscomb\",\"Matt Renshaw\",\"Peter Handscomb\",\"Matt Renshaw\",\"Matt Renshaw\",\"Peter Handscomb\",\"Matt Renshaw\",\"Matt Renshaw\",\"Matt Renshaw\",\"Peter Handscomb\",\"Peter Handscomb\",\"Peter Handscomb\",\"Peter Handscomb\",\"Peter Handscomb\",\"Peter Handscomb\",\"Peter Handscomb\",\"Peter Handscomb\",\"Matt Renshaw\",\"Matt Renshaw\",\"Matt Renshaw\",\"Matt Renshaw\",\"Matt Renshaw\",\"Matt Renshaw\",\"Matt Renshaw\",\"Matt Renshaw\",\"Matt Renshaw\",\"Matt Renshaw\",\"Matt Renshaw\",\"Matt Renshaw\",\"Matt Renshaw\",\"Matt Renshaw\",\"Peter Handscomb\",\"Peter Handscomb\",\"Peter Handscomb\",\"Peter Handscomb\",\"Matt Renshaw\",\"Matt Renshaw\",\"Peter Handscomb\",\"Peter Handscomb\",\"Peter Handscomb\",\"Peter Handscomb\",\"Matt Renshaw\",\"Matt Renshaw\",\"Matt Renshaw\",\"Matt Renshaw\",\"Peter Handscomb\",\"Peter Handscomb\",\"Peter Handscomb\",\"Matt Renshaw\",\"Matt Renshaw\",\"Matt Renshaw\",\"Matt Renshaw\",\"Peter Handscomb\",\"Peter Handscomb\",\"Matt Renshaw\",\"Peter Handscomb\",\"Peter Handscomb\",\"Matt Renshaw\",\"Matt Renshaw\",\"Peter Handscomb\",\"Matt Renshaw\",\"Matt Renshaw\",\"Peter Handscomb\",\"Peter Handscomb\",\"Peter Handscomb\",\"Peter Handscomb\",\"Matt Renshaw\",\"Matt Renshaw\",\"Matt Renshaw\",\"Matt Renshaw\",\"Matt Renshaw\",\"Matt Renshaw\",\"Peter Handscomb\",\"Peter Handscomb\",\"Peter Handscomb\",\"Matt Renshaw\",\"Peter Handscomb\",\"Peter Handscomb\",\"Matt Renshaw\",\"Peter Handscomb\",\"Peter Handscomb\",\"Peter Handscomb\",\"Peter Handscomb\",\"Peter Handscomb\",\"Matt Renshaw\",\"Peter Handscomb\",\"Matt Renshaw\",\"Peter Handscomb\",\"Peter Handscomb\",\"Peter Handscomb\",\"Matt Renshaw\",\"Matt Renshaw\",\"Matt Renshaw\",\"Matt Renshaw\",\"Matt Renshaw\",\"Matt Renshaw\",\"Peter Handscomb\",\"Peter Handscomb\",\"Peter Handscomb\",\"Hilton Cartwright\",\"Hilton Cartwright\",\"Hilton Cartwright\",\"Peter Handscomb\",\"Peter Handscomb\",\"Peter Handscomb\",\"Peter Handscomb\",\"Peter Handscomb\",\"Peter Handscomb\",\"Peter Handscomb\",\"Peter Handscomb\",\"Peter Handscomb\",\"Peter Handscomb\",\"Peter Handscomb\",\"Peter Handscomb\",\"Hilton Cartwright\",\"Hilton Cartwright\",\"Hilton Cartwright\",\"Hilton Cartwright\",\"Hilton Cartwright\",\"Hilton Cartwright\",\"Peter Handscomb\",\"Peter Handscomb\",\"Peter Handscomb\",\"Hilton Cartwright\",\"Hilton Cartwright\",\"Hilton Cartwright\",\"Peter Handscomb\",\"Hilton Cartwright\",\"Hilton Cartwright\",\"Peter Handscomb\",\"Peter Handscomb\",\"Peter Handscomb\",\"Hilton Cartwright\",\"Hilton Cartwright\",\"Hilton Cartwright\",\"Peter Handscomb\",\"Hilton Cartwright\",\"Hilton Cartwright\",\"Hilton Cartwright\",\"Peter Handscomb\",\"Peter Handscomb\",\"Peter Handscomb\",\"Peter Handscomb\",\"Peter Handscomb\",\"Hilton Cartwright\",\"Peter Handscomb\",\"Peter Handscomb\",\"Peter Handscomb\",\"Peter Handscomb\",\"Peter Handscomb\",\"Peter Handscomb\",\"Hilton Cartwright\",\"Hilton Cartwright\",\"Hilton Cartwright\",\"Hilton Cartwright\",\"Hilton Cartwright\",\"Peter Handscomb\",\"Hilton Cartwright\",\"Hilton Cartwright\",\"Hilton Cartwright\",\"Hilton Cartwright\",\"Hilton Cartwright\",\"Hilton Cartwright\",\"Peter Handscomb\",\"Peter Handscomb\",\"Peter Handscomb\",\"Peter Handscomb\",\"Peter Handscomb\",\"Peter Handscomb\",\"Peter Handscomb\",\"Hilton Cartwright\",\"Hilton Cartwright\",\"Hilton Cartwright\",\"Peter Handscomb\",\"Peter Handscomb\",\"Peter Handscomb\",\"Hilton Cartwright\",\"Hilton Cartwright\",\"Hilton Cartwright\",\"Hilton Cartwright\",\"Hilton Cartwright\",\"Hilton Cartwright\",\"Peter Handscomb\",\"Peter Handscomb\",\"Peter Handscomb\",\"Hilton Cartwright\",\"Hilton Cartwright\",\"Hilton Cartwright\",\"Hilton Cartwright\",\"Hilton Cartwright\",\"Hilton Cartwright\",\"Hilton Cartwright\",\"Hilton Cartwright\",\"Hilton Cartwright\",\"Peter Handscomb\",\"Hilton Cartwright\",\"Hilton Cartwright\",\"Hilton Cartwright\",\"Hilton Cartwright\",\"Peter Handscomb\",\"Peter Handscomb\",\"Peter Handscomb\",\"Peter Handscomb\",\"Peter Handscomb\",\"Peter Handscomb\",\"Hilton Cartwright\",\"Peter Handscomb\",\"Peter Handscomb\",\"Hilton Cartwright\",\"Hilton Cartwright\",\"Hilton Cartwright\",\"Hilton Cartwright\",\"Peter Handscomb\",\"Peter Handscomb\",\"Peter Handscomb\",\"Peter Handscomb\",\"Peter Handscomb\",\"Peter Handscomb\",\"Peter Handscomb\",\"Peter Handscomb\",\"Hilton Cartwright\",\"Hilton Cartwright\",\"Hilton Cartwright\",\"Hilton Cartwright\",\"Peter Handscomb\",\"Hilton Cartwright\",\"Peter Handscomb\",\"Hilton Cartwright\",\"Hilton Cartwright\",\"Hilton Cartwright\",\"Peter Handscomb\",\"Hilton Cartwright\",\"Hilton Cartwright\",\"Hilton Cartwright\",\"Hilton Cartwright\",\"Hilton Cartwright\",\"Peter Handscomb\",\"Peter Handscomb\",\"Peter Handscomb\",\"Peter Handscomb\",\"Peter Handscomb\",\"Peter Handscomb\",\"Hilton Cartwright\",\"Hilton Cartwright\",\"Hilton Cartwright\",\"Hilton Cartwright\",\"Hilton Cartwright\",\"Hilton Cartwright\",\"Peter Handscomb\",\"Hilton Cartwright\",\"Peter Handscomb\",\"Peter Handscomb\",\"Hilton Cartwright\",\"Hilton Cartwright\",\"Hilton Cartwright\",\"Hilton Cartwright\",\"Hilton Cartwright\",\"Hilton Cartwright\",\"Hilton Cartwright\",\"Hilton Cartwright\",\"Peter Handscomb\",\"Peter Handscomb\",\"Peter Handscomb\",\"Hilton Cartwright\",\"Hilton Cartwright\",\"Hilton Cartwright\",\"Peter Handscomb\",\"Peter Handscomb\",\"Peter Handscomb\",\"Hilton Cartwright\",\"Hilton Cartwright\",\"Hilton Cartwright\",\"Peter Handscomb\",\"Hilton Cartwright\",\"Hilton Cartwright\",\"Hilton Cartwright\",\"Hilton Cartwright\",\"Matthew Wade\",\"Peter Handscomb\",\"Matthew Wade\",\"Matthew Wade\",\"Matthew Wade\",\"Peter Handscomb\",\"Peter Handscomb\",\"Peter Handscomb\",\"Peter Handscomb\",\"Peter Handscomb\",\"Peter Handscomb\",\"Peter Handscomb\",\"Peter Handscomb\",\"Matthew Wade\",\"Matthew Wade\",\"Matthew Wade\",\"Matthew Wade\",\"Matthew Wade\",\"Matthew Wade\",\"Peter Handscomb\",\"Matthew Wade\",\"Matthew Wade\",\"Matthew Wade\",\"Matthew Wade\",\"Matthew Wade\",\"Peter Handscomb\",\"Peter Handscomb\",\"Peter Handscomb\",\"Matthew Wade\",\"Peter Handscomb\",\"Matthew Wade\",\"Peter Handscomb\",\"Peter Handscomb\",\"Peter Handscomb\",\"Peter Handscomb\",\"Matthew Wade\",\"Peter Handscomb\",\"Matthew Wade\",\"Matthew Wade\",\"Matthew Wade\",\"Peter Handscomb\",\"Matthew Wade\",\"Peter Handscomb\",\"Matthew Wade\",\"Matthew Wade\",\"Peter Handscomb\",\"Matthew Wade\",\"Peter Handscomb\",\"Mitchell Starc\",\"Matthew Wade\",\"Matthew Wade\",\"Matthew Wade\",\"Mitchell Starc\",\"Matthew Wade\",\"Mitchell Starc\",\"Matthew Wade\",\"Matthew Wade\",\"Mitchell Starc\",\"Mitchell Starc\",\"Mitchell Starc\",\"Mitchell Starc\",\"Matthew Wade\",\"Mitchell Starc\",\"Mitchell Starc\",\"Matthew Wade\",\"Mitchell Starc\",\"Mitchell Starc\",\"Azhar Ali\",\"Azhar Ali\",\"Azhar Ali\",\"Azhar Ali\",\"Azhar Ali\",\"Azhar Ali\",\"Sharjeel Khan\",\"Sharjeel Khan\",\"Sharjeel Khan\",\"Sharjeel Khan\",\"Sharjeel Khan\",\"Sharjeel Khan\",\"Azhar Ali\",\"Azhar Ali\",\"Azhar Ali\",\"Azhar Ali\",\"Azhar Ali\",\"Azhar Ali\",\"Sharjeel Khan\",\"Babar Azam\",\"Babar Azam\",\"Babar Azam\",\"Babar Azam\",\"Younus Khan\",\"Azhar Ali\",\"Azhar Ali\",\"Azhar Ali\",\"Azhar Ali\",\"Azhar Ali\",\"Azhar Ali\",\"Azhar Ali\",\"Azhar Ali\",\"Azhar Ali\",\"Azhar Ali\",\"Azhar Ali\",\"Younus Khan\",\"Azhar Ali\",\"Azhar Ali\",\"Azhar Ali\",\"Azhar Ali\",\"Azhar Ali\",\"Azhar Ali\",\"Younus Khan\",\"Younus Khan\",\"Younus Khan\",\"Azhar Ali\",\"Azhar Ali\",\"Azhar Ali\",\"Younus Khan\",\"Younus Khan\",\"Younus Khan\",\"Younus Khan\",\"Younus Khan\",\"Younus Khan\",\"Azhar Ali\",\"Azhar Ali\",\"Azhar Ali\",\"Azhar Ali\",\"Azhar Ali\",\"Azhar Ali\",\"Younus Khan\",\"Younus Khan\",\"Younus Khan\",\"Younus Khan\",\"Younus Khan\",\"Younus Khan\",\"Azhar Ali\",\"Younus Khan\",\"Azhar Ali\",\"Azhar Ali\",\"Younus Khan\",\"Younus Khan\",\"Azhar Ali\",\"Azhar Ali\",\"Azhar Ali\",\"Azhar Ali\",\"Azhar Ali\",\"Younus Khan\",\"Younus Khan\",\"Younus Khan\",\"Younus Khan\",\"Younus Khan\",\"Younus Khan\",\"Azhar Ali\",\"Azhar Ali\",\"Azhar Ali\",\"Azhar Ali\",\"Azhar Ali\",\"Azhar Ali\",\"Younus Khan\",\"Younus Khan\",\"Azhar Ali\",\"Azhar Ali\",\"Younus Khan\",\"Younus Khan\",\"Azhar Ali\",\"Azhar Ali\",\"Azhar Ali\",\"Azhar Ali\",\"Azhar Ali\",\"Azhar Ali\",\"Younus Khan\",\"Younus Khan\",\"Younus Khan\",\"Younus Khan\",\"Azhar Ali\",\"Azhar Ali\",\"Younus Khan\",\"Younus Khan\",\"Younus Khan\",\"Younus Khan\",\"Younus Khan\",\"Younus Khan\",\"Azhar Ali\",\"Azhar Ali\",\"Azhar Ali\",\"Younus Khan\",\"Younus Khan\",\"Younus Khan\",\"Azhar Ali\",\"Azhar Ali\",\"Azhar Ali\",\"Azhar Ali\",\"Younus Khan\",\"Younus Khan\",\"Azhar Ali\",\"Younus Khan\",\"Younus Khan\",\"Younus Khan\",\"Younus Khan\",\"Younus Khan\",\"Azhar Ali\",\"Azhar Ali\",\"Azhar Ali\",\"Azhar Ali\",\"Younus Khan\",\"Younus Khan\",\"Azhar Ali\",\"Azhar Ali\",\"Younus Khan\",\"Younus Khan\",\"Azhar Ali\",\"Azhar Ali\",\"Younus Khan\",\"Azhar Ali\",\"Azhar Ali\",\"Azhar Ali\",\"Azhar Ali\",\"Azhar Ali\",\"Younus Khan\",\"Younus Khan\",\"Azhar Ali\",\"Azhar Ali\",\"Younus Khan\",\"Younus Khan\",\"Azhar Ali\",\"Azhar Ali\",\"Azhar Ali\",\"Azhar Ali\",\"Azhar Ali\",\"Azhar Ali\",\"Younus Khan\",\"Younus Khan\",\"Younus Khan\",\"Younus Khan\",\"Azhar Ali\",\"Azhar Ali\",\"Younus Khan\",\"Younus Khan\",\"Younus Khan\",\"Younus Khan\",\"Younus Khan\",\"Younus Khan\",\"Younus Khan\",\"Younus Khan\",\"Younus Khan\",\"Azhar Ali\",\"Azhar Ali\",\"Azhar Ali\",\"Younus Khan\",\"Younus Khan\",\"Younus Khan\",\"Younus Khan\",\"Younus Khan\",\"Younus Khan\",\"Azhar Ali\",\"Younus Khan\",\"Younus Khan\",\"Younus Khan\",\"Younus Khan\",\"Younus Khan\",\"Younus Khan\",\"Younus Khan\",\"Younus Khan\",\"Azhar Ali\",\"Azhar Ali\",\"Azhar Ali\",\"Younus Khan\",\"Younus Khan\",\"Younus Khan\",\"Younus Khan\",\"Younus Khan\",\"Younus Khan\",\"Younus Khan\",\"Younus Khan\",\"Younus Khan\",\"Younus Khan\",\"Younus Khan\",\"Younus Khan\",\"Younus Khan\",\"Younus Khan\",\"Younus Khan\",\"Younus Khan\",\"Younus Khan\",\"Younus Khan\",\"Azhar Ali\",\"Azhar Ali\",\"Azhar Ali\",\"Azhar Ali\",\"Azhar Ali\",\"Azhar Ali\",\"Younus Khan\",\"Younus Khan\",\"Younus Khan\",\"Azhar Ali\",\"Azhar Ali\",\"Younus Khan\",\"Azhar Ali\",\"Azhar Ali\",\"Azhar Ali\",\"Younus Khan\",\"Azhar Ali\",\"Azhar Ali\",\"Younus Khan\",\"Azhar Ali\",\"Azhar Ali\",\"Azhar Ali\",\"Azhar Ali\",\"Younus Khan\",\"Azhar Ali\",\"Azhar Ali\",\"Azhar Ali\",\"Azhar Ali\",\"Azhar Ali\",\"Azhar Ali\",\"Younus Khan\",\"Younus Khan\",\"Azhar Ali\",\"Azhar Ali\",\"Azhar Ali\",\"Azhar Ali\",\"Younus Khan\",\"Younus Khan\",\"Younus Khan\",\"Younus Khan\",\"Azhar Ali\",\"Azhar Ali\",\"Younus Khan\",\"Younus Khan\",\"Younus Khan\",\"Younus Khan\",\"Azhar Ali\",\"Azhar Ali\",\"Azhar Ali\",\"Azhar Ali\",\"Azhar Ali\",\"Azhar Ali\",\"Azhar Ali\",\"Azhar Ali\",\"Younus Khan\",\"Younus Khan\",\"Younus Khan\",\"Younus Khan\",\"Younus Khan\",\"Younus Khan\",\"Azhar Ali\",\"Azhar Ali\",\"Azhar Ali\",\"Younus Khan\",\"Younus Khan\",\"Younus Khan\",\"Azhar Ali\",\"Azhar Ali\",\"Azhar Ali\",\"Azhar Ali\",\"Azhar Ali\",\"Azhar Ali\",\"Younus Khan\",\"Younus Khan\",\"Younus Khan\",\"Younus Khan\",\"Younus Khan\",\"Younus Khan\",\"Azhar Ali\",\"Azhar Ali\",\"Azhar Ali\",\"Azhar Ali\",\"Azhar Ali\",\"Azhar Ali\",\"Younus Khan\",\"Younus Khan\",\"Younus Khan\",\"Azhar Ali\",\"Azhar Ali\",\"Azhar Ali\",\"Younus Khan\",\"Younus Khan\",\"Younus Khan\",\"Azhar Ali\",\"Azhar Ali\",\"Azhar Ali\",\"Younus Khan\",\"Younus Khan\",\"Younus Khan\",\"Younus Khan\",\"Younus Khan\",\"Younus Khan\",\"Azhar Ali\",\"Younus Khan\",\"Misbah-ul-haq\",\"Misbah-ul-haq\",\"Misbah-ul-haq\",\"Misbah-ul-haq\",\"Younus Khan\",\"Younus Khan\",\"Younus Khan\",\"Misbah-ul-haq\",\"Misbah-ul-haq\",\"Younus Khan\",\"Misbah-ul-haq\",\"Misbah-ul-haq\",\"Misbah-ul-haq\",\"Younus Khan\",\"Younus Khan\",\"Younus Khan\",\"Misbah-ul-haq\",\"Misbah-ul-haq\",\"Misbah-ul-haq\",\"Misbah-ul-haq\",\"Younus Khan\",\"Younus Khan\",\"Misbah-ul-haq\",\"Misbah-ul-haq\",\"Misbah-ul-haq\",\"Misbah-ul-haq\",\"Younus Khan\",\"Younus Khan\",\"Misbah-ul-haq\",\"Misbah-ul-haq\",\"Misbah-ul-haq\",\"Misbah-ul-haq\",\"Misbah-ul-haq\",\"Misbah-ul-haq\",\"Misbah-ul-haq\",\"Younus Khan\",\"Younus Khan\",\"Younus Khan\",\"Misbah-ul-haq\",\"Younus Khan\",\"Misbah-ul-haq\",\"Misbah-ul-haq\",\"Younus Khan\",\"Younus Khan\",\"Younus Khan\",\"Younus Khan\",\"Misbah-ul-haq\",\"Younus Khan\",\"Younus Khan\",\"Misbah-ul-haq\",\"Misbah-ul-haq\",\"Younus Khan\",\"Younus Khan\",\"Younus Khan\",\"Younus Khan\",\"Younus Khan\",\"Younus Khan\",\"Misbah-ul-haq\",\"Misbah-ul-haq\",\"Misbah-ul-haq\",\"Younus Khan\",\"Younus Khan\",\"Younus Khan\",\"Misbah-ul-haq\",\"Misbah-ul-haq\",\"Misbah-ul-haq\",\"Misbah-ul-haq\",\"Misbah-ul-haq\",\"Misbah-ul-haq\",\"Younus Khan\",\"Younus Khan\",\"Misbah-ul-haq\",\"Misbah-ul-haq\",\"Misbah-ul-haq\",\"Misbah-ul-haq\",\"Younus Khan\",\"Younus Khan\",\"Younus Khan\",\"Asad Shafiq\",\"Asad Shafiq\",\"Asad Shafiq\",\"Younus Khan\",\"Younus Khan\",\"Younus Khan\",\"Younus Khan\",\"Younus Khan\",\"Asad Shafiq\",\"Younus Khan\",\"Asad Shafiq\",\"Asad Shafiq\",\"Asad Shafiq\",\"Asad Shafiq\",\"Asad Shafiq\",\"Younus Khan\",\"Asad Shafiq\",\"Younus Khan\",\"Younus Khan\",\"Asad Shafiq\",\"Asad Shafiq\",\"Younus Khan\",\"Asad Shafiq\",\"Younus Khan\",\"Younus Khan\",\"Younus Khan\",\"Asad Shafiq\",\"Younus Khan\",\"Younus Khan\",\"Younus Khan\",\"Asad Shafiq\",\"Asad Shafiq\",\"Asad Shafiq\",\"Younus Khan\",\"Younus Khan\",\"Younus Khan\",\"Asad Shafiq\",\"Sarfraz Ahmed\",\"Sarfraz Ahmed\",\"Younus Khan\",\"Younus Khan\",\"Younus Khan\",\"Younus Khan\",\"Younus Khan\",\"Sarfraz Ahmed\",\"Younus Khan\",\"Younus Khan\",\"Sarfraz Ahmed\",\"Younus Khan\",\"Younus Khan\",\"Sarfraz Ahmed\",\"Younus Khan\",\"Younus Khan\",\"Younus Khan\",\"Younus Khan\",\"Younus Khan\",\"Younus Khan\",\"Sarfraz Ahmed\",\"Sarfraz Ahmed\",\"Sarfraz Ahmed\",\"Sarfraz Ahmed\",\"Sarfraz Ahmed\",\"Sarfraz Ahmed\",\"Younus Khan\",\"Sarfraz Ahmed\",\"Younus Khan\",\"Sarfraz Ahmed\",\"Younus Khan\",\"Younus Khan\",\"Sarfraz Ahmed\",\"Sarfraz Ahmed\",\"Younus Khan\",\"Younus Khan\",\"Younus Khan\",\"Younus Khan\",\"Sarfraz Ahmed\",\"Sarfraz Ahmed\",\"Sarfraz Ahmed\",\"Younus Khan\",\"Sarfraz Ahmed\",\"Sarfraz Ahmed\",\"Younus Khan\",\"Younus Khan\",\"Younus Khan\",\"Younus Khan\",\"Younus Khan\",\"Younus Khan\",\"Sarfraz Ahmed\",\"Younus Khan\",\"Younus Khan\",\"Younus Khan\",\"Younus Khan\",\"Younus Khan\",\"Sarfraz Ahmed\",\"Sarfraz Ahmed\",\"Sarfraz Ahmed\",\"Mohammad Amir\",\"Mohammad Amir\",\"Mohammad Amir\",\"Younus Khan\",\"Younus Khan\",\"Mohammad Amir\",\"Mohammad Amir\",\"Mohammad Amir\",\"Mohammad Amir\",\"Younus Khan\",\"Younus Khan\",\"Younus Khan\",\"Younus Khan\",\"Younus Khan\",\"Younus Khan\",\"Mohammad Amir\",\"Mohammad Amir\",\"Mohammad Amir\",\"Mohammad Amir\",\"Mohammad Amir\",\"Wahab Riaz\",\"Younus Khan\",\"Younus Khan\",\"Younus Khan\",\"Younus Khan\",\"Younus Khan\",\"Wahab Riaz\",\"Younus Khan\",\"Wahab Riaz\",\"Wahab Riaz\",\"Wahab Riaz\",\"Wahab Riaz\",\"Wahab Riaz\",\"Younus Khan\",\"Younus Khan\",\"Younus Khan\",\"Younus Khan\",\"Younus Khan\",\"Younus Khan\",\"Wahab Riaz\",\"Wahab Riaz\",\"Wahab Riaz\",\"Wahab Riaz\",\"Younus Khan\",\"Younus Khan\",\"Younus Khan\",\"Younus Khan\",\"Wahab Riaz\",\"Wahab Riaz\",\"Wahab Riaz\",\"Wahab Riaz\",\"Younus Khan\",\"Younus Khan\",\"Younus Khan\",\"Younus Khan\",\"Younus Khan\",\"Younus Khan\",\"Wahab Riaz\",\"Wahab Riaz\",\"Wahab Riaz\",\"Younus Khan\",\"Younus Khan\",\"Younus Khan\",\"Wahab Riaz\",\"Yasir Shah\",\"Yasir Shah\",\"Younus Khan\",\"Younus Khan\",\"Yasir Shah\",\"Younus Khan\",\"Younus Khan\",\"Younus Khan\",\"Younus Khan\",\"Yasir Shah\",\"Yasir Shah\",\"Younus Khan\",\"Younus Khan\",\"Younus Khan\",\"Younus Khan\",\"Younus Khan\",\"Yasir Shah\",\"Younus Khan\",\"Younus Khan\",\"Younus Khan\",\"Younus Khan\",\"Yasir Shah\",\"Yasir Shah\",\"Younus Khan\",\"Younus Khan\",\"Younus Khan\",\"Younus Khan\",\"Yasir Shah\",\"Yasir Shah\",\"Younus Khan\",\"Younus Khan\",\"Younus Khan\",\"Younus Khan\",\"Yasir Shah\",\"Yasir Shah\",\"Younus Khan\",\"Younus Khan\",\"Younus Khan\",\"Younus Khan\",\"Younus Khan\",\"Younus Khan\",\"Younus Khan\",\"Younus Khan\",\"Younus Khan\",\"Younus Khan\",\"Younus Khan\",\"Younus Khan\",\"Yasir Shah\",\"Yasir Shah\",\"Yasir Shah\",\"Yasir Shah\",\"Yasir Shah\",\"Yasir Shah\",\"Younus Khan\",\"Younus Khan\",\"Younus Khan\",\"Younus Khan\",\"Younus Khan\",\"Younus Khan\",\"Yasir Shah\",\"Yasir Shah\",\"Yasir Shah\",\"Younus Khan\",\"Younus Khan\",\"Younus Khan\",\"Yasir Shah\",\"Yasir Shah\",\"Yasir Shah\",\"Yasir Shah\",\"Yasir Shah\",\"Yasir Shah\",\"Younus Khan\",\"Younus Khan\",\"Yasir Shah\",\"Yasir Shah\",\"Yasir Shah\",\"Younus Khan\",\"Younus Khan\",\"Younus Khan\",\"Younus Khan\",\"Younus Khan\",\"Yasir Shah\",\"Yasir Shah\",\"Younus Khan\",\"Younus Khan\",\"Younus Khan\",\"Yasir Shah\",\"Yasir Shah\",\"Yasir Shah\",\"Younus Khan\",\"Younus Khan\",\"Yasir Shah\",\"Yasir Shah\",\"Yasir Shah\",\"Yasir Shah\",\"Younus Khan\",\"Younus Khan\",\"Younus Khan\",\"Younus Khan\",\"Yasir Shah\",\"Younus Khan\",\"Yasir Shah\",\"Imran Khan\",\"Imran Khan\",\"David Warner\",\"David Warner\",\"David Warner\",\"David Warner\",\"David Warner\",\"Usman Khawaja\",\"David Warner\",\"Usman Khawaja\",\"David Warner\",\"Usman Khawaja\",\"Usman Khawaja\",\"Usman Khawaja\",\"David Warner\",\"David Warner\",\"Usman Khawaja\",\"Usman Khawaja\",\"Usman Khawaja\",\"Usman Khawaja\",\"David Warner\",\"David Warner\",\"David Warner\",\"David Warner\",\"David Warner\",\"Usman Khawaja\",\"Usman Khawaja\",\"Usman Khawaja\",\"Usman Khawaja\",\"Usman Khawaja\",\"Usman Khawaja\",\"Usman Khawaja\",\"David Warner\",\"David Warner\",\"Usman Khawaja\",\"Usman Khawaja\",\"Usman Khawaja\",\"Usman Khawaja\",\"Usman Khawaja\",\"David Warner\",\"David Warner\",\"David Warner\",\"David Warner\",\"David Warner\",\"David Warner\",\"Usman Khawaja\",\"David Warner\",\"David Warner\",\"Usman Khawaja\",\"David Warner\",\"David Warner\",\"Usman Khawaja\",\"Usman Khawaja\",\"Usman Khawaja\",\"David Warner\",\"Steve Smith\",\"Steve Smith\",\"Usman Khawaja\",\"Usman Khawaja\",\"Usman Khawaja\",\"Usman Khawaja\",\"Steve Smith\",\"Steve Smith\",\"Steve Smith\",\"Usman Khawaja\",\"Usman Khawaja\",\"Usman Khawaja\",\"Usman Khawaja\",\"Steve Smith\",\"Usman Khawaja\",\"Usman Khawaja\",\"Usman Khawaja\",\"Usman Khawaja\",\"Usman Khawaja\",\"Usman Khawaja\",\"Steve Smith\",\"Usman Khawaja\",\"Usman Khawaja\",\"Usman Khawaja\",\"Usman Khawaja\",\"Steve Smith\",\"Usman Khawaja\",\"Steve Smith\",\"Steve Smith\",\"Steve Smith\",\"Usman Khawaja\",\"Steve Smith\",\"Usman Khawaja\",\"Usman Khawaja\",\"Usman Khawaja\",\"Usman Khawaja\",\"Usman Khawaja\",\"Usman Khawaja\",\"Usman Khawaja\",\"Steve Smith\",\"Steve Smith\",\"Steve Smith\",\"Steve Smith\",\"Steve Smith\",\"Steve Smith\",\"Usman Khawaja\",\"Usman Khawaja\",\"Usman Khawaja\",\"Usman Khawaja\",\"Usman Khawaja\",\"Usman Khawaja\",\"Steve Smith\",\"Steve Smith\",\"Steve Smith\",\"Usman Khawaja\",\"Usman Khawaja\",\"Steve Smith\",\"Usman Khawaja\",\"Usman Khawaja\",\"Usman Khawaja\",\"Usman Khawaja\",\"Steve Smith\",\"Steve Smith\",\"Usman Khawaja\",\"Steve Smith\",\"Steve Smith\",\"Steve Smith\",\"Steve Smith\",\"Usman Khawaja\",\"Usman Khawaja\",\"Steve Smith\",\"Steve Smith\",\"Usman Khawaja\",\"Usman Khawaja\",\"Steve Smith\",\"Usman Khawaja\",\"Steve Smith\",\"Usman Khawaja\",\"Steve Smith\",\"Steve Smith\",\"Steve Smith\",\"Usman Khawaja\",\"Steve Smith\",\"Steve Smith\",\"Usman Khawaja\",\"Usman Khawaja\",\"Usman Khawaja\",\"Steve Smith\",\"Usman Khawaja\",\"Steve Smith\",\"Steve Smith\",\"Steve Smith\",\"Usman Khawaja\",\"Usman Khawaja\",\"Usman Khawaja\",\"Usman Khawaja\",\"Usman Khawaja\",\"Steve Smith\",\"Steve Smith\",\"Usman Khawaja\",\"Peter Handscomb\",\"Peter Handscomb\",\"Peter Handscomb\",\"Peter Handscomb\",\"Usman Khawaja\",\"Usman Khawaja\",\"Usman Khawaja\",\"Peter Handscomb\",\"Usman Khawaja\",\"Peter Handscomb\",\"Peter Handscomb\",\"Peter Handscomb\",\"Peter Handscomb\",\"Peter Handscomb\",\"Peter Handscomb\",\"Usman Khawaja\",\"Peter Handscomb\",\"Peter Handscomb\",\"Peter Handscomb\",\"Usman Khawaja\",\"Usman Khawaja\",\"Usman Khawaja\",\"Peter Handscomb\",\"Usman Khawaja\",\"Peter Handscomb\",\"Peter Handscomb\",\"Usman Khawaja\",\"Peter Handscomb\",\"Usman Khawaja\",\"Peter Handscomb\",\"Peter Handscomb\",\"Peter Handscomb\",\"Usman Khawaja\",\"Usman Khawaja\",\"Peter Handscomb\",\"Usman Khawaja\",\"Peter Handscomb\",\"Usman Khawaja\",\"Peter Handscomb\",\"Usman Khawaja\",\"Peter Handscomb\",\"Azhar Ali\",\"Azhar Ali\",\"Azhar Ali\",\"Azhar Ali\",\"Azhar Ali\",\"Azhar Ali\",\"Azhar Ali\",\"Sharjeel Khan\",\"Sharjeel Khan\",\"Sharjeel Khan\",\"Sharjeel Khan\",\"Azhar Ali\",\"Azhar Ali\",\"Sharjeel Khan\",\"Sharjeel Khan\",\"Sharjeel Khan\",\"Sharjeel Khan\",\"Sharjeel Khan\",\"Sharjeel Khan\",\"Azhar Ali\",\"Azhar Ali\",\"Azhar Ali\",\"Azhar Ali\",\"Azhar Ali\",\"Azhar Ali\",\"Sharjeel Khan\",\"Sharjeel Khan\",\"Sharjeel Khan\",\"Sharjeel Khan\",\"Sharjeel Khan\",\"Sharjeel Khan\",\"Azhar Ali\",\"Sharjeel Khan\",\"Sharjeel Khan\",\"Sharjeel Khan\",\"Sharjeel Khan\",\"Sharjeel Khan\",\"Azhar Ali\",\"Azhar Ali\",\"Azhar Ali\",\"Azhar Ali\",\"Azhar Ali\",\"Sharjeel Khan\",\"Azhar Ali\",\"Azhar Ali\",\"Azhar Ali\",\"Sharjeel Khan\",\"Azhar Ali\",\"Azhar Ali\",\"Sharjeel Khan\",\"Sharjeel Khan\",\"Sharjeel Khan\",\"Sharjeel Khan\",\"Sharjeel Khan\",\"Sharjeel Khan\",\"Azhar Ali\",\"Azhar Ali\",\"Azhar Ali\",\"Sharjeel Khan\",\"Sharjeel Khan\",\"Sharjeel Khan\",\"Azhar Ali\",\"Azhar Ali\",\"Azhar Ali\",\"Azhar Ali\",\"Azhar Ali\",\"Azhar Ali\",\"Sharjeel Khan\",\"Sharjeel Khan\",\"Sharjeel Khan\",\"Sharjeel Khan\",\"Sharjeel Khan\",\"Sharjeel Khan\",\"Azhar Ali\",\"Azhar Ali\",\"Azhar Ali\",\"Azhar Ali\",\"Azhar Ali\",\"Azhar Ali\",\"Yasir Shah\",\"Yasir Shah\",\"Yasir Shah\",\"Yasir Shah\",\"Azhar Ali\",\"Azhar Ali\",\"Yasir Shah\",\"Yasir Shah\",\"Yasir Shah\",\"Yasir Shah\",\"Yasir Shah\",\"Yasir Shah\",\"Azhar Ali\",\"Azhar Ali\",\"Azhar Ali\",\"Azhar Ali\",\"Azhar Ali\",\"Yasir Shah\"],\"Bowler\":[\" Mohammad Amir\",\" Mohammad Amir\",\" Mohammad Amir\",\" Mohammad Amir\",\" Mohammad Amir\",\" Mohammad Amir\",\" Imran Khan\",\" Imran Khan\",\" Imran Khan\",\" Imran Khan\",\" Imran Khan\",\" Imran Khan\",\" Mohammad Amir\",\" Mohammad Amir\",\" Mohammad Amir\",\" Mohammad Amir\",\" Mohammad Amir\",\" Mohammad Amir\",\" Imran Khan\",\" Imran Khan\",\" Imran Khan\",\" Imran Khan\",\" Imran Khan\",\" Imran Khan\",\" Mohammad Amir\",\" Mohammad Amir\",\" Mohammad Amir\",\" Mohammad Amir\",\" Mohammad Amir\",\" Mohammad Amir\",\" Imran Khan\",\" Imran Khan\",\" Imran Khan\",\" Imran Khan\",\" Imran Khan\",\" Imran Khan\",\" Mohammad Amir\",\" Mohammad Amir\",\" Mohammad Amir\",\" Mohammad Amir\",\" Mohammad Amir\",\" Mohammad Amir\",\" Wahab Riaz\",\" Wahab Riaz\",\" Wahab Riaz\",\" Wahab Riaz\",\" Wahab Riaz\",\" Wahab Riaz\",\" Mohammad Amir\",\" Mohammad Amir\",\" Mohammad Amir\",\" Mohammad Amir\",\" Mohammad Amir\",\" Mohammad Amir\",\" Wahab Riaz\",\" Wahab Riaz\",\" Wahab Riaz\",\" Wahab Riaz\",\" Wahab Riaz\",\" Wahab Riaz\",\" Yasir Shah\",\" Yasir Shah\",\" Yasir Shah\",\" Yasir Shah\",\" Yasir Shah\",\" Yasir Shah\",\" Wahab Riaz\",\" Wahab Riaz\",\" Wahab Riaz\",\" Wahab Riaz\",\" Wahab Riaz\",\" Wahab Riaz\",\" Yasir Shah\",\" Yasir Shah\",\" Yasir Shah\",\" Yasir Shah\",\" Yasir Shah\",\" Yasir Shah\",\" Wahab Riaz\",\" Wahab Riaz\",\" Wahab Riaz\",\" Wahab Riaz\",\" Wahab Riaz\",\" Wahab Riaz\",\" Imran Khan\",\" Imran Khan\",\" Imran Khan\",\" Imran Khan\",\" Imran Khan\",\" Imran Khan\",\" Yasir Shah\",\" Yasir Shah\",\" Yasir Shah\",\" Yasir Shah\",\" Yasir Shah\",\" Yasir Shah\",\" Imran Khan\",\" Imran Khan\",\" Imran Khan\",\" Imran Khan\",\" Imran Khan\",\" Imran Khan\",\" Yasir Shah\",\" Yasir Shah\",\" Yasir Shah\",\" Yasir Shah\",\" Yasir Shah\",\" Yasir Shah\",\" Imran Khan\",\" Imran Khan\",\" Imran Khan\",\" Imran Khan\",\" Imran Khan\",\" Imran Khan\",\" Yasir Shah\",\" Yasir Shah\",\" Yasir Shah\",\" Yasir Shah\",\" Yasir Shah\",\" Yasir Shah\",\" Imran Khan\",\" Imran Khan\",\" Imran Khan\",\" Imran Khan\",\" Imran Khan\",\" Imran Khan\",\" Yasir Shah\",\" Yasir Shah\",\" Yasir Shah\",\" Yasir Shah\",\" Yasir Shah\",\" Yasir Shah\",\" Wahab Riaz\",\" Wahab Riaz\",\" Wahab Riaz\",\" Wahab Riaz\",\" Wahab Riaz\",\" Wahab Riaz\",\" Mohammad Amir\",\" Mohammad Amir\",\" Mohammad Amir\",\" Mohammad Amir\",\" Mohammad Amir\",\" Mohammad Amir\",\" Wahab Riaz\",\" Wahab Riaz\",\" Wahab Riaz\",\" Wahab Riaz\",\" Wahab Riaz\",\" Wahab Riaz\",\" Mohammad Amir\",\" Mohammad Amir\",\" Mohammad Amir\",\" Mohammad Amir\",\" Mohammad Amir\",\" Mohammad Amir\",\" Wahab Riaz\",\" Wahab Riaz\",\" Wahab Riaz\",\" Wahab Riaz\",\" Wahab Riaz\",\" Wahab Riaz\",\" Yasir Shah\",\" Yasir Shah\",\" Yasir Shah\",\" Yasir Shah\",\" Yasir Shah\",\" Yasir Shah\",\" Wahab Riaz\",\" Wahab Riaz\",\" Wahab Riaz\",\" Wahab Riaz\",\" Wahab Riaz\",\" Wahab Riaz\",\" Yasir Shah\",\" Yasir Shah\",\" Yasir Shah\",\" Yasir Shah\",\" Yasir Shah\",\" Yasir Shah\",\" Wahab Riaz\",\" Wahab Riaz\",\" Wahab Riaz\",\" Wahab Riaz\",\" Wahab Riaz\",\" Wahab Riaz\",\" Yasir Shah\",\" Yasir Shah\",\" Yasir Shah\",\" Yasir Shah\",\" Yasir Shah\",\" Yasir Shah\",\" Wahab Riaz\",\" Wahab Riaz\",\" Wahab Riaz\",\" Wahab Riaz\",\" Wahab Riaz\",\" Wahab Riaz\",\" Yasir Shah\",\" Yasir Shah\",\" Yasir Shah\",\" Yasir Shah\",\" Yasir Shah\",\" Yasir Shah\",\" Wahab Riaz\",\" Wahab Riaz\",\" Wahab Riaz\",\" Wahab Riaz\",\" Wahab Riaz\",\" Wahab Riaz\",\" Wahab Riaz\",\" Yasir Shah\",\" Yasir Shah\",\" Yasir Shah\",\" Yasir Shah\",\" Yasir Shah\",\" Yasir Shah\",\" Imran Khan\",\" Imran Khan\",\" Imran Khan\",\" Imran Khan\",\" Imran Khan\",\" Imran Khan\",\" Yasir Shah\",\" Yasir Shah\",\" Yasir Shah\",\" Yasir Shah\",\" Yasir Shah\",\" Yasir Shah\",\" Imran Khan\",\" Imran Khan\",\" Imran Khan\",\" Imran Khan\",\" Imran Khan\",\" Imran Khan\",\" Yasir Shah\",\" Yasir Shah\",\" Yasir Shah\",\" Yasir Shah\",\" Yasir Shah\",\" Yasir Shah\",\" Imran Khan\",\" Imran Khan\",\" Imran Khan\",\" Imran Khan\",\" Imran Khan\",\" Imran Khan\",\" Yasir Shah\",\" Yasir Shah\",\" Yasir Shah\",\" Yasir Shah\",\" Yasir Shah\",\" Yasir Shah\",\" Imran Khan\",\" Imran Khan\",\" Imran Khan\",\" Imran Khan\",\" Imran Khan\",\" Imran Khan\",\" Azhar Ali\",\" Azhar Ali\",\" Azhar Ali\",\" Azhar Ali\",\" Azhar Ali\",\" Azhar Ali\",\" Imran Khan\",\" Imran Khan\",\" Imran Khan\",\" Imran Khan\",\" Imran Khan\",\" Imran Khan\",\" Azhar Ali\",\" Azhar Ali\",\" Azhar Ali\",\" Azhar Ali\",\" Azhar Ali\",\" Azhar Ali\",\" Wahab Riaz\",\" Wahab Riaz\",\" Wahab Riaz\",\" Wahab Riaz\",\" Wahab Riaz\",\" Wahab Riaz\",\" Wahab Riaz\",\" Azhar Ali\",\" Azhar Ali\",\" Azhar Ali\",\" Azhar Ali\",\" Azhar Ali\",\" Azhar Ali\",\" Wahab Riaz\",\" Wahab Riaz\",\" Wahab Riaz\",\" Wahab Riaz\",\" Wahab Riaz\",\" Wahab Riaz\",\" Azhar Ali\",\" Azhar Ali\",\" Azhar Ali\",\" Azhar Ali\",\" Azhar Ali\",\" Azhar Ali\",\" Wahab Riaz\",\" Wahab Riaz\",\" Wahab Riaz\",\" Wahab Riaz\",\" Wahab Riaz\",\" Wahab Riaz\",\" Yasir Shah\",\" Yasir Shah\",\" Yasir Shah\",\" Yasir Shah\",\" Yasir Shah\",\" Yasir Shah\",\" Wahab Riaz\",\" Wahab Riaz\",\" Wahab Riaz\",\" Wahab Riaz\",\" Wahab Riaz\",\" Wahab Riaz\",\" Yasir Shah\",\" Yasir Shah\",\" Yasir Shah\",\" Yasir Shah\",\" Yasir Shah\",\" Yasir Shah\",\" Asad Shafiq\",\" Asad Shafiq\",\" Asad Shafiq\",\" Asad Shafiq\",\" Asad Shafiq\",\" Asad Shafiq\",\" Yasir Shah\",\" Yasir Shah\",\" Yasir Shah\",\" Yasir Shah\",\" Yasir Shah\",\" Yasir Shah\",\" Mohammad Amir\",\" Mohammad Amir\",\" Mohammad Amir\",\" Mohammad Amir\",\" Mohammad Amir\",\" Mohammad Amir\",\" Yasir Shah\",\" Yasir Shah\",\" Yasir Shah\",\" Yasir Shah\",\" Yasir Shah\",\" Yasir Shah\",\" Mohammad Amir\",\" Mohammad Amir\",\" Mohammad Amir\",\" Mohammad Amir\",\" Mohammad Amir\",\" Mohammad Amir\",\" Yasir Shah\",\" Yasir Shah\",\" Yasir Shah\",\" Yasir Shah\",\" Yasir Shah\",\" Yasir Shah\",\" Mohammad Amir\",\" Mohammad Amir\",\" Mohammad Amir\",\" Mohammad Amir\",\" Mohammad Amir\",\" Mohammad Amir\",\" Yasir Shah\",\" Yasir Shah\",\" Yasir Shah\",\" Yasir Shah\",\" Yasir Shah\",\" Yasir Shah\",\" Mohammad Amir\",\" Mohammad Amir\",\" Mohammad Amir\",\" Mohammad Amir\",\" Mohammad Amir\",\" Mohammad Amir\",\" Yasir Shah\",\" Yasir Shah\",\" Yasir Shah\",\" Yasir Shah\",\" Yasir Shah\",\" Yasir Shah\",\" Mohammad Amir\",\" Mohammad Amir\",\" Mohammad Amir\",\" Mohammad Amir\",\" Mohammad Amir\",\" Mohammad Amir\",\" Yasir Shah\",\" Yasir Shah\",\" Yasir Shah\",\" Yasir Shah\",\" Yasir Shah\",\" Yasir Shah\",\" Imran Khan\",\" Imran Khan\",\" Imran Khan\",\" Imran Khan\",\" Imran Khan\",\" Imran Khan\",\" Imran Khan\",\" Yasir Shah\",\" Yasir Shah\",\" Yasir Shah\",\" Yasir Shah\",\" Yasir Shah\",\" Yasir Shah\",\" Imran Khan\",\" Imran Khan\",\" Imran Khan\",\" Imran Khan\",\" Imran Khan\",\" Imran Khan\",\" Imran Khan\",\" Yasir Shah\",\" Yasir Shah\",\" Yasir Shah\",\" Yasir Shah\",\" Yasir Shah\",\" Yasir Shah\",\" Imran Khan\",\" Imran Khan\",\" Imran Khan\",\" Imran Khan\",\" Imran Khan\",\" Imran Khan\",\" Yasir Shah\",\" Yasir Shah\",\" Yasir Shah\",\" Yasir Shah\",\" Yasir Shah\",\" Yasir Shah\",\" Wahab Riaz\",\" Wahab Riaz\",\" Wahab Riaz\",\" Wahab Riaz\",\" Wahab Riaz\",\" Wahab Riaz\",\" Yasir Shah\",\" Yasir Shah\",\" Yasir Shah\",\" Yasir Shah\",\" Yasir Shah\",\" Yasir Shah\",\" Wahab Riaz\",\" Wahab Riaz\",\" Wahab Riaz\",\" Wahab Riaz\",\" Wahab Riaz\",\" Yasir Shah\",\" Yasir Shah\",\" Yasir Shah\",\" Yasir Shah\",\" Yasir Shah\",\" Yasir Shah\",\" Wahab Riaz\",\" Wahab Riaz\",\" Wahab Riaz\",\" Wahab Riaz\",\" Wahab Riaz\",\" Wahab Riaz\",\" Yasir Shah\",\" Yasir Shah\",\" Yasir Shah\",\" Yasir Shah\",\" Yasir Shah\",\" Yasir Shah\",\" Asad Shafiq\",\" Asad Shafiq\",\" Asad Shafiq\",\" Asad Shafiq\",\" Asad Shafiq\",\" Asad Shafiq\",\" Yasir Shah\",\" Yasir Shah\",\" Yasir Shah\",\" Yasir Shah\",\" Yasir Shah\",\" Yasir Shah\",\" Mohammad Amir\",\" Mohammad Amir\",\" Mohammad Amir\",\" Mohammad Amir\",\" Mohammad Amir\",\" Mohammad Amir\",\" Imran Khan\",\" Imran Khan\",\" Imran Khan\",\" Imran Khan\",\" Imran Khan\",\" Imran Khan\",\" Mohammad Amir\",\" Mohammad Amir\",\" Mohammad Amir\",\" Mohammad Amir\",\" Mohammad Amir\",\" Mohammad Amir\",\" Imran Khan\",\" Imran Khan\",\" Imran Khan\",\" Imran Khan\",\" Imran Khan\",\" Imran Khan\",\" Mohammad Amir\",\" Mohammad Amir\",\" Mohammad Amir\",\" Mohammad Amir\",\" Mohammad Amir\",\" Mohammad Amir\",\" Wahab Riaz\",\" Wahab Riaz\",\" Wahab Riaz\",\" Wahab Riaz\",\" Wahab Riaz\",\" Wahab Riaz\",\" Wahab Riaz\",\" Mohammad Amir\",\" Mohammad Amir\",\" Mohammad Amir\",\" Mohammad Amir\",\" Mohammad Amir\",\" Mohammad Amir\",\" Yasir Shah\",\" Yasir Shah\",\" Yasir Shah\",\" Yasir Shah\",\" Yasir Shah\",\" Yasir Shah\",\" Mohammad Amir\",\" Mohammad Amir\",\" Mohammad Amir\",\" Mohammad Amir\",\" Mohammad Amir\",\" Mohammad Amir\",\" Imran Khan\",\" Imran Khan\",\" Imran Khan\",\" Imran Khan\",\" Imran Khan\",\" Imran Khan\",\" Mohammad Amir\",\" Mohammad Amir\",\" Mohammad Amir\",\" Mohammad Amir\",\" Mohammad Amir\",\" Mohammad Amir\",\" Imran Khan\",\" Imran Khan\",\" Imran Khan\",\" Imran Khan\",\" Imran Khan\",\" Imran Khan\",\" Mohammad Amir\",\" Mohammad Amir\",\" Mohammad Amir\",\" Mohammad Amir\",\" Mohammad Amir\",\" Mohammad Amir\",\" Imran Khan\",\" Imran Khan\",\" Imran Khan\",\" Imran Khan\",\" Imran Khan\",\" Imran Khan\",\" Mohammad Amir\",\" Mohammad Amir\",\" Mohammad Amir\",\" Mohammad Amir\",\" Mohammad Amir\",\" Mohammad Amir\",\" Imran Khan\",\" Imran Khan\",\" Imran Khan\",\" Imran Khan\",\" Imran Khan\",\" Imran Khan\",\" Mohammad Amir\",\" Mohammad Amir\",\" Mohammad Amir\",\" Mohammad Amir\",\" Mohammad Amir\",\" Mohammad Amir\",\" Imran Khan\",\" Imran Khan\",\" Imran Khan\",\" Imran Khan\",\" Imran Khan\",\" Imran Khan\",\" Yasir Shah\",\" Yasir Shah\",\" Yasir Shah\",\" Yasir Shah\",\" Yasir Shah\",\" Yasir Shah\",\" Imran Khan\",\" Wahab Riaz\",\" Wahab Riaz\",\" Wahab Riaz\",\" Wahab Riaz\",\" Wahab Riaz\",\" Yasir Shah\",\" Yasir Shah\",\" Yasir Shah\",\" Yasir Shah\",\" Yasir Shah\",\" Yasir Shah\",\" Wahab Riaz\",\" Wahab Riaz\",\" Wahab Riaz\",\" Wahab Riaz\",\" Wahab Riaz\",\" Wahab Riaz\",\" Yasir Shah\",\" Yasir Shah\",\" Yasir Shah\",\" Yasir Shah\",\" Yasir Shah\",\" Yasir Shah\",\" Yasir Shah\",\" Wahab Riaz\",\" Wahab Riaz\",\" Wahab Riaz\",\" Wahab Riaz\",\" Wahab Riaz\",\" Wahab Riaz\",\" Yasir Shah\",\" Yasir Shah\",\" Yasir Shah\",\" Yasir Shah\",\" Yasir Shah\",\" Yasir Shah\",\" \",\" Wahab Riaz\",\" Wahab Riaz\",\" Wahab Riaz\",\" Wahab Riaz\",\" Wahab Riaz\",\" Wahab Riaz\",\" Wahab Riaz\",\" Yasir Shah\",\" Yasir Shah\",\" Yasir Shah\",\" Yasir Shah\",\" Yasir Shah\",\" Yasir Shah\",\" Wahab Riaz\",\" Wahab Riaz\",\" Wahab Riaz\",\" Wahab Riaz\",\" Wahab Riaz\",\" Wahab Riaz\",\" Yasir Shah\",\" Yasir Shah\",\" Yasir Shah\",\" Yasir Shah\",\" Yasir Shah\",\" Yasir Shah\",\" Mohammad Amir\",\" Mohammad Amir\",\" Mohammad Amir\",\" Mohammad Amir\",\" Mohammad Amir\",\" Mohammad Amir\",\" Yasir Shah\",\" Yasir Shah\",\" Yasir Shah\",\" Yasir Shah\",\" Yasir Shah\",\" Yasir Shah\",\" Mohammad Amir\",\" Mohammad Amir\",\" Mohammad Amir\",\" Mohammad Amir\",\" Mohammad Amir\",\" Mohammad Amir\",\" Yasir Shah\",\" Yasir Shah\",\" Yasir Shah\",\" Yasir Shah\",\" Yasir Shah\",\" Yasir Shah\",\" Mohammad Amir\",\" Mohammad Amir\",\" Mohammad Amir\",\" Mohammad Amir\",\" Mohammad Amir\",\" Mohammad Amir\",\" Yasir Shah\",\" Yasir Shah\",\" Yasir Shah\",\" Yasir Shah\",\" Yasir Shah\",\" Yasir Shah\",\" Azhar Ali\",\" Azhar Ali\",\" Azhar Ali\",\" Azhar Ali\",\" Azhar Ali\",\" Azhar Ali\",\" Yasir Shah\",\" Yasir Shah\",\" Yasir Shah\",\" Yasir Shah\",\" Yasir Shah\",\" Yasir Shah\",\" Imran Khan\",\" Imran Khan\",\" Imran Khan\",\" Imran Khan\",\" Imran Khan\",\" Imran Khan\",\" Azhar Ali\",\" Azhar Ali\",\" Azhar Ali\",\" Azhar Ali\",\" Azhar Ali\",\" Azhar Ali\",\" Imran Khan\",\" Imran Khan\",\" Imran Khan\",\" Imran Khan\",\" Imran Khan\",\" Imran Khan\",\" Azhar Ali\",\" Azhar Ali\",\" Azhar Ali\",\" Azhar Ali\",\" Azhar Ali\",\" Azhar Ali\",\" Imran Khan\",\" Imran Khan\",\" Imran Khan\",\" Imran Khan\",\" Imran Khan\",\" Imran Khan\",\" Azhar Ali\",\" Azhar Ali\",\" Azhar Ali\",\" Azhar Ali\",\" Azhar Ali\",\" Azhar Ali\",\" Imran Khan\",\" Imran Khan\",\" Imran Khan\",\" Imran Khan\",\" Imran Khan\",\" Imran Khan\",\" Azhar Ali\",\" Azhar Ali\",\" Azhar Ali\",\" Azhar Ali\",\" Azhar Ali\",\" Azhar Ali\",\" Imran Khan\",\" Imran Khan\",\" Imran Khan\",\" Imran Khan\",\" Imran Khan\",\" Imran Khan\",\" Azhar Ali\",\" Azhar Ali\",\" Azhar Ali\",\" Azhar Ali\",\" Azhar Ali\",\" Azhar Ali\",\" Wahab Riaz\",\" Wahab Riaz\",\" Wahab Riaz\",\" Wahab Riaz\",\" Wahab Riaz\",\" Wahab Riaz\",\" Azhar Ali\",\" Azhar Ali\",\" Azhar Ali\",\" Azhar Ali\",\" Azhar Ali\",\" Azhar Ali\",\" Wahab Riaz\",\" Wahab Riaz\",\" Wahab Riaz\",\" Wahab Riaz\",\" Wahab Riaz\",\" Wahab Riaz\",\" Azhar Ali\",\" Azhar Ali\",\" Azhar Ali\",\" Azhar Ali\",\" Azhar Ali\",\" Azhar Ali\",\" Wahab Riaz\",\" Wahab Riaz\",\" Wahab Riaz\",\" Wahab Riaz\",\" Wahab Riaz\",\" Wahab Riaz\",\" Azhar Ali\",\" Azhar Ali\",\" Azhar Ali\",\" Azhar Ali\",\" Azhar Ali\",\" Azhar Ali\",\" Wahab Riaz\",\" Wahab Riaz\",\" Wahab Riaz\",\" Wahab Riaz\",\" Wahab Riaz\",\" Wahab Riaz\",\" Azhar Ali\",\" Azhar Ali\",\" Azhar Ali\",\" Azhar Ali\",\" Azhar Ali\",\" Azhar Ali\",\" Mitchell Starc\",\" Mitchell Starc\",\" Mitchell Starc\",\" Mitchell Starc\",\" Mitchell Starc\",\" Mitchell Starc\",\" Josh Hazlewood\",\" Josh Hazlewood\",\" Josh Hazlewood\",\" Josh Hazlewood\",\" Josh Hazlewood\",\" Josh Hazlewood\",\" Mitchell Starc\",\" Mitchell Starc\",\" Mitchell Starc\",\" Mitchell Starc\",\" Mitchell Starc\",\" Mitchell Starc\",\" Josh Hazlewood\",\" Josh Hazlewood\",\" Josh Hazlewood\",\" Josh Hazlewood\",\" Josh Hazlewood\",\" Josh Hazlewood\",\" Mitchell Starc\",\" Mitchell Starc\",\" Mitchell Starc\",\" Mitchell Starc\",\" Mitchell Starc\",\" Mitchell Starc\",\" Josh Hazlewood\",\" Josh Hazlewood\",\" Josh Hazlewood\",\" Josh Hazlewood\",\" Josh Hazlewood\",\" Josh Hazlewood\",\" Steve O'Keefe \",\" Steve O'Keefe \",\" Steve O'Keefe \",\" Steve O'Keefe \",\" Steve O'Keefe \",\" Steve O'Keefe \",\" Josh Hazlewood\",\" Josh Hazlewood\",\" Josh Hazlewood\",\" Josh Hazlewood\",\" Josh Hazlewood\",\" Josh Hazlewood\",\" Mitchell Starc\",\" Mitchell Starc\",\" Mitchell Starc\",\" Mitchell Starc\",\" Mitchell Starc\",\" Mitchell Starc\",\" Josh Hazlewood\",\" Josh Hazlewood\",\" Josh Hazlewood\",\" Josh Hazlewood\",\" Josh Hazlewood\",\" Josh Hazlewood\",\" Mitchell Starc\",\" Mitchell Starc\",\" Mitchell Starc\",\" Mitchell Starc\",\" Mitchell Starc\",\" Mitchell Starc\",\" Nathan Lyon\",\" Nathan Lyon\",\" Nathan Lyon\",\" Nathan Lyon\",\" Nathan Lyon\",\" Nathan Lyon\",\" Mitchell Starc\",\" Mitchell Starc\",\" Mitchell Starc\",\" Mitchell Starc\",\" Mitchell Starc\",\" Nathan Lyon\",\" Nathan Lyon\",\" Nathan Lyon\",\" Nathan Lyon\",\" Nathan Lyon\",\" Nathan Lyon\",\" Josh Hazlewood\",\" Josh Hazlewood\",\" Josh Hazlewood\",\" Josh Hazlewood\",\" Josh Hazlewood\",\" Josh Hazlewood\",\" Nathan Lyon\",\" Nathan Lyon\",\" Nathan Lyon\",\" Nathan Lyon\",\" Nathan Lyon\",\" Nathan Lyon\",\" Josh Hazlewood\",\" Josh Hazlewood\",\" Josh Hazlewood\",\" Josh Hazlewood\",\" Josh Hazlewood\",\" Josh Hazlewood\",\" Nathan Lyon\",\" Nathan Lyon\",\" Nathan Lyon\",\" Nathan Lyon\",\" Nathan Lyon\",\" Nathan Lyon\",\" Josh Hazlewood\",\" Josh Hazlewood\",\" Josh Hazlewood\",\" Josh Hazlewood\",\" Josh Hazlewood\",\" Josh Hazlewood\",\" Nathan Lyon\",\" Nathan Lyon\",\" Nathan Lyon\",\" Nathan Lyon\",\" Nathan Lyon\",\" Nathan Lyon\",\" Hilton Cartwright\",\" Hilton Cartwright\",\" Hilton Cartwright\",\" Hilton Cartwright\",\" Hilton Cartwright\",\" Hilton Cartwright\",\" Nathan Lyon\",\" Nathan Lyon\",\" Nathan Lyon\",\" Nathan Lyon\",\" Nathan Lyon\",\" Nathan Lyon\",\" Hilton Cartwright\",\" Hilton Cartwright\",\" Hilton Cartwright\",\" Hilton Cartwright\",\" Hilton Cartwright\",\" Hilton Cartwright\",\" Steve O'Keefe \",\" Steve O'Keefe \",\" Steve O'Keefe \",\" Steve O'Keefe \",\" Steve O'Keefe \",\" Steve O'Keefe \",\" Hilton Cartwright\",\" Hilton Cartwright\",\" Hilton Cartwright\",\" Hilton Cartwright\",\" Hilton Cartwright\",\" Hilton Cartwright\",\" Steve O'Keefe \",\" Steve O'Keefe \",\" Steve O'Keefe \",\" Steve O'Keefe \",\" Steve O'Keefe \",\" Steve O'Keefe \",\" Hilton Cartwright\",\" Hilton Cartwright\",\" Hilton Cartwright\",\" Hilton Cartwright\",\" Hilton Cartwright\",\" Hilton Cartwright\",\" Steve O'Keefe \",\" Steve O'Keefe \",\" Steve O'Keefe \",\" Steve O'Keefe \",\" Steve O'Keefe \",\" Steve O'Keefe \",\" Mitchell Starc\",\" Mitchell Starc\",\" Mitchell Starc\",\" Mitchell Starc\",\" Mitchell Starc\",\" Mitchell Starc\",\" Steve O'Keefe \",\" Steve O'Keefe \",\" Steve O'Keefe \",\" Steve O'Keefe \",\" Steve O'Keefe \",\" Steve O'Keefe \",\" Mitchell Starc\",\" Mitchell Starc\",\" Mitchell Starc\",\" Mitchell Starc\",\" Mitchell Starc\",\" Mitchell Starc\",\" Steve O'Keefe \",\" Steve O'Keefe \",\" Steve O'Keefe \",\" Steve O'Keefe \",\" Steve O'Keefe \",\" Steve O'Keefe \",\" Mitchell Starc\",\" Mitchell Starc\",\" Mitchell Starc\",\" Mitchell Starc\",\" Mitchell Starc\",\" Mitchell Starc\",\" Steve O'Keefe \",\" Steve O'Keefe \",\" Steve O'Keefe \",\" Steve O'Keefe \",\" Steve O'Keefe \",\" Steve O'Keefe \",\" Mitchell Starc\",\" Mitchell Starc\",\" Mitchell Starc\",\" Mitchell Starc\",\" Mitchell Starc\",\" Mitchell Starc\",\" Nathan Lyon\",\" Nathan Lyon\",\" Nathan Lyon\",\" Nathan Lyon\",\" Nathan Lyon\",\" Nathan Lyon\",\" Josh Hazlewood\",\" Josh Hazlewood\",\" Josh Hazlewood\",\" Josh Hazlewood\",\" Josh Hazlewood\",\" Josh Hazlewood\",\" Nathan Lyon\",\" Nathan Lyon\",\" Nathan Lyon\",\" Nathan Lyon\",\" Nathan Lyon\",\" Nathan Lyon\",\" Josh Hazlewood\",\" Josh Hazlewood\",\" Josh Hazlewood\",\" Josh Hazlewood\",\" Josh Hazlewood\",\" Josh Hazlewood\",\" Nathan Lyon\",\" Nathan Lyon\",\" Nathan Lyon\",\" Nathan Lyon\",\" Nathan Lyon\",\" Nathan Lyon\",\" Josh Hazlewood\",\" Josh Hazlewood\",\" Josh Hazlewood\",\" Josh Hazlewood\",\" Josh Hazlewood\",\" Josh Hazlewood\",\" Mitchell Starc\",\" Mitchell Starc\",\" Mitchell Starc\",\" Mitchell Starc\",\" Mitchell Starc\",\" Mitchell Starc\",\" Josh Hazlewood\",\" Josh Hazlewood\",\" Josh Hazlewood\",\" Josh Hazlewood\",\" Josh Hazlewood\",\" Josh Hazlewood\",\" Mitchell Starc\",\" Mitchell Starc\",\" Mitchell Starc\",\" Mitchell Starc\",\" Mitchell Starc\",\" Mitchell Starc\",\" Josh Hazlewood\",\" Josh Hazlewood\",\" Josh Hazlewood\",\" Josh Hazlewood\",\" Josh Hazlewood\",\" Josh Hazlewood\",\" Mitchell Starc\",\" Mitchell Starc\",\" Mitchell Starc\",\" Mitchell Starc\",\" Mitchell Starc\",\" Mitchell Starc\",\" Josh Hazlewood\",\" Josh Hazlewood\",\" Josh Hazlewood\",\" Josh Hazlewood\",\" Josh Hazlewood\",\" Josh Hazlewood\",\" Mitchell Starc\",\" Mitchell Starc\",\" Mitchell Starc\",\" Mitchell Starc\",\" Mitchell Starc\",\" Mitchell Starc\",\" Josh Hazlewood\",\" Josh Hazlewood\",\" Josh Hazlewood\",\" Josh Hazlewood\",\" Josh Hazlewood\",\" Josh Hazlewood\",\" Mitchell Starc\",\" Mitchell Starc\",\" Mitchell Starc\",\" Mitchell Starc\",\" Mitchell Starc\",\" Mitchell Starc\",\" Josh Hazlewood\",\" Josh Hazlewood\",\" Josh Hazlewood\",\" Josh Hazlewood\",\" Josh Hazlewood\",\" Josh Hazlewood\",\" Mitchell Starc\",\" Mitchell Starc\",\" Mitchell Starc\",\" Mitchell Starc\",\" Mitchell Starc\",\" Mitchell Starc\",\" Josh Hazlewood\",\" Josh Hazlewood\",\" Josh Hazlewood\",\" Josh Hazlewood\",\" Josh Hazlewood\",\" Josh Hazlewood\",\" Nathan Lyon\",\" Nathan Lyon\",\" Nathan Lyon\",\" Nathan Lyon\",\" Nathan Lyon\",\" Nathan Lyon\",\" Josh Hazlewood\",\" Josh Hazlewood\",\" Josh Hazlewood\",\" Josh Hazlewood\",\" Josh Hazlewood\",\" Josh Hazlewood\",\" Nathan Lyon\",\" Nathan Lyon\",\" Nathan Lyon\",\" Nathan Lyon\",\" Nathan Lyon\",\" Nathan Lyon\",\" Steve O'Keefe \",\" Steve O'Keefe \",\" Steve O'Keefe \",\" Steve O'Keefe \",\" Steve O'Keefe \",\" Steve O'Keefe \",\" Nathan Lyon\",\" Nathan Lyon\",\" Nathan Lyon\",\" Nathan Lyon\",\" Nathan Lyon\",\" Nathan Lyon\",\" Steve O'Keefe \",\" Steve O'Keefe \",\" Steve O'Keefe \",\" Steve O'Keefe \",\" Steve O'Keefe \",\" Steve O'Keefe \",\" Nathan Lyon\",\" Nathan Lyon\",\" Nathan Lyon\",\" Nathan Lyon\",\" Nathan Lyon\",\" Nathan Lyon\",\" Steve O'Keefe \",\" Steve O'Keefe \",\" Steve O'Keefe \",\" Steve O'Keefe \",\" Steve O'Keefe \",\" Steve O'Keefe \",\" Nathan Lyon\",\" Nathan Lyon\",\" Nathan Lyon\",\" Nathan Lyon\",\" Nathan Lyon\",\" Steve O'Keefe \",\" Steve O'Keefe \",\" Steve O'Keefe \",\" Steve O'Keefe \",\" Steve O'Keefe \",\" Steve O'Keefe \",\" Nathan Lyon\",\" Nathan Lyon\",\" Nathan Lyon\",\" Nathan Lyon\",\" Nathan Lyon\",\" Nathan Lyon\",\" Josh Hazlewood\",\" Josh Hazlewood\",\" Josh Hazlewood\",\" Josh Hazlewood\",\" Josh Hazlewood\",\" Josh Hazlewood\",\" Nathan Lyon\",\" Nathan Lyon\",\" Nathan Lyon\",\" Nathan Lyon\",\" Nathan Lyon\",\" Nathan Lyon\",\" Josh Hazlewood\",\" Josh Hazlewood\",\" Josh Hazlewood\",\" Josh Hazlewood\",\" Josh Hazlewood\",\" Josh Hazlewood\",\" Nathan Lyon\",\" Nathan Lyon\",\" Nathan Lyon\",\" Nathan Lyon\",\" Nathan Lyon\",\" Nathan Lyon\",\" Josh Hazlewood\",\" Josh Hazlewood\",\" Josh Hazlewood\",\" Josh Hazlewood\",\" Josh Hazlewood\",\" Josh Hazlewood\",\" Nathan Lyon\",\" Nathan Lyon\",\" Nathan Lyon\",\" Nathan Lyon\",\" Nathan Lyon\",\" Nathan Lyon\",\" Steve O'Keefe \",\" Steve O'Keefe \",\" Steve O'Keefe \",\" Steve O'Keefe \",\" Steve O'Keefe \",\" Steve O'Keefe \",\" Nathan Lyon\",\" Nathan Lyon\",\" Nathan Lyon\",\" Nathan Lyon\",\" Nathan Lyon\",\" Nathan Lyon\",\" Steve O'Keefe \",\" Steve O'Keefe \",\" Steve O'Keefe \",\" Steve O'Keefe \",\" Steve O'Keefe \",\" Steve O'Keefe \",\" Nathan Lyon\",\" Nathan Lyon\",\" Nathan Lyon\",\" Nathan Lyon\",\" Nathan Lyon\",\" Nathan Lyon\",\" Steve O'Keefe \",\" Steve O'Keefe \",\" Steve O'Keefe \",\" Steve O'Keefe \",\" Steve O'Keefe \",\" Steve O'Keefe \",\" Nathan Lyon\",\" Nathan Lyon\",\" Nathan Lyon\",\" Nathan Lyon\",\" Nathan Lyon\",\" Nathan Lyon\",\" Steve O'Keefe \",\" Steve O'Keefe \",\" Steve O'Keefe \",\" Steve O'Keefe \",\" Steve O'Keefe \",\" Steve O'Keefe \",\" Nathan Lyon\",\" Nathan Lyon\",\" Nathan Lyon\",\" Nathan Lyon\",\" Nathan Lyon\",\" Nathan Lyon\",\" Steve O'Keefe \",\" Steve O'Keefe \",\" Steve O'Keefe \",\" Steve O'Keefe \",\" Steve O'Keefe \",\" Steve O'Keefe \",\" Nathan Lyon\",\" Nathan Lyon\",\" Nathan Lyon\",\" Nathan Lyon\",\" Nathan Lyon\",\" Nathan Lyon\",\" Mitchell Starc\",\" Mitchell Starc\",\" Mitchell Starc\",\" Mitchell Starc\",\" Mitchell Starc\",\" Mitchell Starc\",\" Josh Hazlewood\",\" Josh Hazlewood\",\" Josh Hazlewood\",\" Josh Hazlewood\",\" Josh Hazlewood\",\" Josh Hazlewood\",\" Mitchell Starc\",\" Mitchell Starc\",\" Mitchell Starc\",\" Mitchell Starc\",\" Mitchell Starc\",\" Mitchell Starc\",\" Josh Hazlewood\",\" Josh Hazlewood\",\" Josh Hazlewood\",\" Josh Hazlewood\",\" Josh Hazlewood\",\" Josh Hazlewood\",\" Mitchell Starc\",\" Mitchell Starc\",\" Mitchell Starc\",\" Mitchell Starc\",\" Mitchell Starc\",\" Mitchell Starc\",\" Nathan Lyon\",\" Nathan Lyon\",\" Nathan Lyon\",\" Nathan Lyon\",\" Nathan Lyon\",\" Nathan Lyon\",\" Mitchell Starc\",\" Mitchell Starc\",\" Mitchell Starc\",\" Mitchell Starc\",\" Mitchell Starc\",\" Mitchell Starc\",\" Steve O'Keefe \",\" Steve O'Keefe \",\" Steve O'Keefe \",\" Steve O'Keefe \",\" Steve O'Keefe \",\" Steve O'Keefe \",\" Mitchell Starc\",\" Mitchell Starc\",\" Mitchell Starc\",\" Mitchell Starc\",\" Mitchell Starc\",\" Mitchell Starc\",\" Nathan Lyon\",\" Nathan Lyon\",\" Nathan Lyon\",\" Nathan Lyon\",\" Nathan Lyon\",\" Nathan Lyon\",\" Josh Hazlewood\",\" Josh Hazlewood\",\" Josh Hazlewood\",\" Josh Hazlewood\",\" Josh Hazlewood\",\" Josh Hazlewood\",\" Nathan Lyon\",\" Nathan Lyon\",\" Nathan Lyon\",\" Nathan Lyon\",\" Nathan Lyon\",\" Nathan Lyon\",\" Josh Hazlewood\",\" Josh Hazlewood\",\" Josh Hazlewood\",\" Josh Hazlewood\",\" Josh Hazlewood\",\" Josh Hazlewood\",\" Nathan Lyon\",\" Nathan Lyon\",\" Nathan Lyon\",\" Nathan Lyon\",\" Nathan Lyon\",\" Nathan Lyon\",\" Steve O'Keefe \",\" Steve O'Keefe \",\" Steve O'Keefe \",\" Steve O'Keefe \",\" Steve O'Keefe \",\" Steve O'Keefe \",\" Nathan Lyon\",\" Nathan Lyon\",\" Nathan Lyon\",\" Nathan Lyon\",\" Nathan Lyon\",\" Nathan Lyon\",\" Mitchell Starc\",\" Mitchell Starc\",\" Mitchell Starc\",\" Mitchell Starc\",\" Mitchell Starc\",\" Mitchell Starc\",\" Nathan Lyon\",\" Nathan Lyon\",\" Nathan Lyon\",\" Nathan Lyon\",\" Nathan Lyon\",\" Nathan Lyon\",\" Mitchell Starc\",\" Mitchell Starc\",\" Mitchell Starc\",\" Mitchell Starc\",\" Mitchell Starc\",\" Mitchell Starc\",\" Nathan Lyon\",\" Nathan Lyon\",\" Nathan Lyon\",\" Nathan Lyon\",\" Nathan Lyon\",\" Nathan Lyon\",\" Mitchell Starc\",\" Mitchell Starc\",\" Mitchell Starc\",\" Mitchell Starc\",\" Mitchell Starc\",\" Mitchell Starc\",\" Nathan Lyon\",\" Nathan Lyon\",\" Nathan Lyon\",\" Nathan Lyon\",\" Nathan Lyon\",\" Nathan Lyon\",\" Mitchell Starc\",\" Mitchell Starc\",\" Mitchell Starc\",\" Mitchell Starc\",\" Mitchell Starc\",\" Mitchell Starc\",\" Nathan Lyon\",\" Nathan Lyon\",\" Nathan Lyon\",\" Nathan Lyon\",\" Nathan Lyon\",\" Nathan Lyon\",\" Mitchell Starc\",\" Mitchell Starc\",\" Mitchell Starc\",\" Mitchell Starc\",\" Mitchell Starc\",\" Mitchell Starc\",\" Nathan Lyon\",\" Nathan Lyon\",\" Nathan Lyon\",\" Nathan Lyon\",\" Nathan Lyon\",\" Nathan Lyon\",\" Josh Hazlewood\",\" Josh Hazlewood\",\" Josh Hazlewood\",\" Josh Hazlewood\",\" Josh Hazlewood\",\" Josh Hazlewood\",\" Steve O'Keefe \",\" Steve O'Keefe \",\" Steve O'Keefe \",\" Steve O'Keefe \",\" Steve O'Keefe \",\" Steve O'Keefe \",\" Josh Hazlewood\",\" Josh Hazlewood\",\" Josh Hazlewood\",\" Josh Hazlewood\",\" Josh Hazlewood\",\" Josh Hazlewood\",\" Steve O'Keefe \",\" Steve O'Keefe \",\" Steve O'Keefe \",\" Steve O'Keefe \",\" Steve O'Keefe \",\" Steve O'Keefe \",\" Josh Hazlewood\",\" Josh Hazlewood\",\" Josh Hazlewood\",\" Imran Khan\",\" Imran Khan\",\" Imran Khan\",\" Imran Khan\",\" Imran Khan\",\" Imran Khan\",\" Yasir Shah\",\" Yasir Shah\",\" Yasir Shah\",\" Yasir Shah\",\" Yasir Shah\",\" Yasir Shah\",\" Imran Khan\",\" Imran Khan\",\" Imran Khan\",\" Imran Khan\",\" Imran Khan\",\" Imran Khan\",\" Yasir Shah\",\" Yasir Shah\",\" Yasir Shah\",\" Yasir Shah\",\" Yasir Shah\",\" Yasir Shah\",\" Imran Khan\",\" Imran Khan\",\" Imran Khan\",\" Imran Khan\",\" Imran Khan\",\" Imran Khan\",\" Wahab Riaz\",\" Wahab Riaz\",\" Wahab Riaz\",\" Wahab Riaz\",\" Wahab Riaz\",\" Wahab Riaz\",\" Wahab Riaz\",\" Imran Khan\",\" Imran Khan\",\" Imran Khan\",\" Imran Khan\",\" Imran Khan\",\" Imran Khan\",\" Yasir Shah\",\" Yasir Shah\",\" Yasir Shah\",\" Yasir Shah\",\" Yasir Shah\",\" Yasir Shah\",\" Wahab Riaz\",\" Wahab Riaz\",\" Wahab Riaz\",\" Wahab Riaz\",\" Wahab Riaz\",\" Wahab Riaz\",\" Yasir Shah\",\" Yasir Shah\",\" Yasir Shah\",\" Yasir Shah\",\" Yasir Shah\",\" Yasir Shah\",\" Wahab Riaz\",\" Wahab Riaz\",\" Wahab Riaz\",\" Wahab Riaz\",\" Wahab Riaz\",\" Wahab Riaz\",\" Yasir Shah\",\" Yasir Shah\",\" Yasir Shah\",\" Yasir Shah\",\" Yasir Shah\",\" Yasir Shah\",\" Wahab Riaz\",\" Wahab Riaz\",\" Wahab Riaz\",\" Wahab Riaz\",\" Wahab Riaz\",\" Wahab Riaz\",\" Yasir Shah\",\" Yasir Shah\",\" Yasir Shah\",\" Yasir Shah\",\" Yasir Shah\",\" Yasir Shah\",\" Wahab Riaz\",\" Wahab Riaz\",\" Wahab Riaz\",\" Wahab Riaz\",\" Wahab Riaz\",\" Wahab Riaz\",\" Wahab Riaz\",\" Yasir Shah\",\" Yasir Shah\",\" Yasir Shah\",\" Yasir Shah\",\" Yasir Shah\",\" Yasir Shah\",\" Wahab Riaz\",\" Wahab Riaz\",\" Wahab Riaz\",\" Wahab Riaz\",\" Wahab Riaz\",\" Wahab Riaz\",\" Yasir Shah\",\" Yasir Shah\",\" Yasir Shah\",\" Yasir Shah\",\" Yasir Shah\",\" Yasir Shah\",\" Wahab Riaz\",\" Wahab Riaz\",\" Wahab Riaz\",\" Wahab Riaz\",\" Wahab Riaz\",\" Wahab Riaz\",\" Yasir Shah\",\" Yasir Shah\",\" Yasir Shah\",\" Yasir Shah\",\" Yasir Shah\",\" Yasir Shah\",\" Wahab Riaz\",\" Wahab Riaz\",\" Wahab Riaz\",\" Wahab Riaz\",\" Wahab Riaz\",\" Wahab Riaz\",\" Imran Khan\",\" Imran Khan\",\" Imran Khan\",\" Imran Khan\",\" Imran Khan\",\" Imran Khan\",\" Yasir Shah\",\" Yasir Shah\",\" Yasir Shah\",\" Yasir Shah\",\" Yasir Shah\",\" Yasir Shah\",\" Imran Khan\",\" Imran Khan\",\" Imran Khan\",\" Imran Khan\",\" Imran Khan\",\" Imran Khan\",\" Yasir Shah\",\" Yasir Shah\",\" Yasir Shah\",\" Yasir Shah\",\" Yasir Shah\",\" Yasir Shah\",\" Azhar Ali\",\" Azhar Ali\",\" Azhar Ali\",\" Azhar Ali\",\" Azhar Ali\",\" Azhar Ali\",\" Yasir Shah\",\" Yasir Shah\",\" Yasir Shah\",\" Yasir Shah\",\" Yasir Shah\",\" Yasir Shah\",\" Azhar Ali\",\" Azhar Ali\",\" Azhar Ali\",\" Azhar Ali\",\" Azhar Ali\",\" Azhar Ali\",\" Yasir Shah\",\" Yasir Shah\",\" Yasir Shah\",\" Yasir Shah\",\" Yasir Shah\",\" Yasir Shah\",\" Azhar Ali\",\" Azhar Ali\",\" Azhar Ali\",\" Azhar Ali\",\" Azhar Ali\",\" Azhar Ali\",\" Yasir Shah\",\" Yasir Shah\",\" Yasir Shah\",\" Yasir Shah\",\" Yasir Shah\",\" Yasir Shah\",\" Azhar Ali\",\" Azhar Ali\",\" Azhar Ali\",\" Azhar Ali\",\" Azhar Ali\",\" Azhar Ali\",\" Mitchell Starc\",\" Mitchell Starc\",\" Mitchell Starc\",\" Mitchell Starc\",\" Mitchell Starc\",\" Mitchell Starc\",\" Mitchell Starc\",\" Josh Hazlewood\",\" Josh Hazlewood\",\" Josh Hazlewood\",\" Josh Hazlewood\",\" Josh Hazlewood\",\" Josh Hazlewood\",\" Mitchell Starc\",\" Mitchell Starc\",\" Mitchell Starc\",\" Mitchell Starc\",\" Mitchell Starc\",\" Mitchell Starc\",\" Josh Hazlewood\",\" Josh Hazlewood\",\" Josh Hazlewood\",\" Josh Hazlewood\",\" Josh Hazlewood\",\" Josh Hazlewood\",\" Mitchell Starc\",\" Mitchell Starc\",\" Mitchell Starc\",\" Mitchell Starc\",\" Mitchell Starc\",\" Mitchell Starc\",\" Nathan Lyon\",\" Nathan Lyon\",\" Nathan Lyon\",\" Nathan Lyon\",\" Nathan Lyon\",\" Nathan Lyon\",\" Josh Hazlewood\",\" Josh Hazlewood\",\" Josh Hazlewood\",\" Josh Hazlewood\",\" Josh Hazlewood\",\" Josh Hazlewood\",\" Nathan Lyon\",\" Nathan Lyon\",\" Nathan Lyon\",\" Nathan Lyon\",\" Nathan Lyon\",\" Nathan Lyon\",\" Josh Hazlewood\",\" Josh Hazlewood\",\" Josh Hazlewood\",\" Josh Hazlewood\",\" Josh Hazlewood\",\" Josh Hazlewood\",\" Nathan Lyon\",\" Nathan Lyon\",\" Nathan Lyon\",\" Nathan Lyon\",\" Nathan Lyon\",\" Nathan Lyon\",\" Josh Hazlewood\",\" Josh Hazlewood\",\" Josh Hazlewood\",\" Josh Hazlewood\",\" Josh Hazlewood\",\" Josh Hazlewood\",\" Nathan Lyon\",\" Nathan Lyon\",\" Nathan Lyon\",\" Nathan Lyon\",\" Nathan Lyon\",\" Nathan Lyon\",\" Steve O'Keefe \",\" Steve O'Keefe \",\" Steve O'Keefe \",\" Steve O'Keefe \",\" Steve O'Keefe \",\" Steve O'Keefe \",\" Mitchell Starc\",\" Mitchell Starc\",\" Mitchell Starc\",\" Mitchell Starc\",\" Mitchell Starc\",\" Mitchell Starc\",\" Steve O'Keefe \",\" Steve O'Keefe \",\" Steve O'Keefe \",\" Steve O'Keefe \",\" Steve O'Keefe \",\" Steve O'Keefe \",\" Nathan Lyon\",\" Nathan Lyon\",\" Nathan Lyon\",\" Nathan Lyon\",\" Nathan Lyon\",\" Nathan Lyon\"],\"rspeed\":[136.226,143.716,139.935,141.295,146.312,140.851,128.231,133.671,130.941,133.012,131.433,136.713,143.359,140.635,143.444,142.77700000000002,150.065,142.266,134.037,138.121,140.335,130.15200000000002,136.129,136.34799999999998,142.22299999999998,145.35299999999998,146.724,140.7,140.023,140.89700000000002,132.591,136.638,137.453,136.02700000000002,135.003,134.506,141.851,140.576,144.72799999999998,124.698,146.015,141.968,140.256,137.691,136.925,140.47899999999998,139.02,142.162,141.64600000000002,144.645,143.342,142.92600000000002,145.752,140.799,142.017,145.793,142.735,140.393,141.072,149.172,88.3041,84.6848,85.0053,84.8654,86.1692,85.9885,143.22299999999998,141.239,139.95600000000002,147.822,141.839,144.02200000000002,85.3938,83.2584,83.0874,86.4602,87.3109,87.399,141.635,141.784,141.35399999999998,147.517,142.704,139.833,131.808,136.102,130.64,135.583,134.86,129.55,89.8917,84.5468,89.3775,83.5415,84.7496,85.0576,130.857,138.512,134.594,136.50799999999998,136.84,130.755,82.82600000000001,88.6495,84.8539,89.8886,84.4939,85.05,132.639,134.468,135.991,138.89600000000002,137.11,129.484,86.6603,84.6556,90.3634,88.2493,83.7925,87.3803,140.08100000000002,133.511,136.44799999999998,133.389,141.247,140.281,83.9388,82.79899999999999,86.1285,85.3826,88.512,84.8512,139.845,143.446,142.414,141.129,141.435,143.188,140.549,139.697,139.015,144.251,138.797,135.686,146.30700000000002,145.451,144.906,142.048,137.57399999999998,142.39600000000002,141.126,138.105,139.871,137.218,128.064,138.575,145.04399999999998,148.14600000000002,147.09,141.003,141.804,141.445,85.8956,86.1334,84.0358,83.9416,85.6462,85.6834,137.933,140.35,143.907,136.906,138.16899999999998,141.225,86.0208,84.8222,82.2676,84.0376,84.656,83.5358,140.985,140.047,144.487,142.468,142.964,139.783,86.361,85.6479,84.3268,83.8842,84.9911,85.6145,142.586,138.395,142.178,141.583,135.436,140.347,85.8291,84.9132,84.5951,87.8561,87.5307,86.2087,139.42600000000002,139.921,143.053,147.014,139.039,141.079,139.725,86.4567,85.8352,85.8286,81.3527,84.236,84.9917,134.808,132.946,131.429,133.877,132.55700000000002,137.30200000000002,86.905,83.1108,81.8354,84.5205,85.4785,87.5123,132.912,132.454,137.355,140.047,130.734,133.058,85.6282,84.4995,84.8284,85.2843,83.1085,83.7841,136.153,135.45600000000002,136.224,134.47299999999998,139.94799999999998,135.767,87.5303,84.8722,83.8737,86.4589,88.4778,83.7323,131.614,137.95600000000002,131.809,136.379,136.51,131.048,80.7374,83.0158,82.0593,82.859,82.3244,83.5038,131.384,134.975,134.911,135.141,130.95,133.55200000000002,83.4142,84.7789,84.8185,87.0707,83.4113,85.2237,135.076,134.037,141.65,138.631,136.659,140.827,142.58,83.4212,83.2197,82.8631,77.9675,79.0934,86.083,141.3,150.335,141.358,142.454,140.618,139.628,81.9685,85.4088,87.1677,83.0323,82.6903,86.1444,136.437,138.868,138.502,142.181,137.68200000000002,137.017,87.2893,86.8628,86.1781,86.9074,83.7114,87.3924,141.52,140.717,137.085,136.208,142.80100000000002,139.875,86.976,84.8633,83.7897,84.06700000000001,87.471,86.5839,79.7151,84.4802,81.2086,88.1662,82.641,83.0503,81.7349,82.1553,85.8675,83.6295,89.3877,82.5872,133.569,136.45,138.94,138.809,143.454,140.858,84.041,82.2095,84.5027,85.8291,83.1282,86.2324,145.995,123.87899999999999,147.125,136.774,137.614,139.685,83.4353,83.9094,85.0394,82.7331,86.559,87.8033,125.95,139.011,131.016,139.076,145.651,127.896,89.169,84.8021,84.6227,83.4907,82.7047,81.6393,140.89600000000002,141.748,146.55700000000002,145.752,145.055,145.692,84.525,82.0654,86.8859,83.1082,84.3148,87.0535,148.743,142.013,139.578,140.702,125.65299999999999,128.791,84.6767,84.3068,84.5235,84.7441,83.4932,82.7634,128.49200000000002,129.32299999999998,131.129,136.149,130.787,129.11,126.896,88.0429,83.1976,81.4411,87.4944,84.5537,87.6772,133.754,131.442,126.413,129.974,132.016,131.601,131.719,83.8755,83.4941,82.2617,86.5567,82.7365,84.2792,129.37,132.357,132.925,132.422,130.085,136.249,83.9329,85.6578,86.4094,82.7639,80.7138,83.325,135.858,139.658,141.797,142.513,145.556,146.923,86.5241,84.2441,83.7978,84.1235,83.4264,83.601,146.372,141.981,144.30200000000002,141.197,139.67600000000002,83.4724,83.8368,82.7373,82.5158,81.9057,83.5328,144.57399999999998,139.055,142.279,143.40200000000002,143.718,145.99200000000002,88.7939,85.6212,82.8669,83.766,84.8881,82.7937,82.6609,84.3649,87.9103,86.5691,82.8921,75.4939,85.6268,82.9322,81.7302,83.0145,83.6398,84.1176,136.289,142.107,143.912,137.936,140.523,137.688,122.337,123.22200000000001,126.414,122.579,126.209,123.947,143.365,136.813,144.313,138.52100000000002,138.63299999999998,136.945,123.48,126.914,127.404,122.992,125.969,127.573,144.409,143.86700000000002,142.859,137.431,138.57399999999998,140.982,133.914,133.05,141.003,142.576,145.488,141.548,143.278,138.356,143.086,140.054,139.689,137.105,137.884,86.1031,85.6819,84.6382,84.8639,85.6316,87.5734,138.583,139.125,138.445,134.446,136.578,139.164,125.581,129.126,133.813,136.005,134.944,134.488,138.349,140.061,135.26,143.697,142.535,141.879,133.075,133.64600000000002,130.084,131.032,131.42700000000002,132.45,142.27,136.231,142.882,124.89399999999999,135.71,143.18200000000002,137.517,131.031,138.904,131.467,131.105,133.651,135.447,141.64600000000002,136.32399999999998,146.5,142.886,140.78799999999998,134.314,135.815,131.685,134.55,138.995,140.55,136.121,144.06799999999998,120.59899999999999,143.10299999999998,139.476,121.93,135.954,138.15,139.543,138.018,134.071,134.866,83.3546,84.8802,81.9808,88.454,83.9983,81.9243,143.882,138.691,139.46200000000002,144.119,138.504,145.72899999999998,84.7396,83.2602,81.55199999999999,84.5636,81.9126,82.9051,146.68,142.569,142.969,143.799,144.071,147.296,87.1461,83.7189,103.509,80.665,82.3009,84.3332,82.6952,143.025,148.219,143.079,140.928,142.722,143.928,81.5764,85.235,82.4739,105.34299999999999,85.1333,83.8787,85.1394,152.295,143.613,148.439,146.42700000000002,146.41,126.197,140.778,83.7916,81.3354,82.1035,83.4995,83.4159,86.5528,145.484,144.185,127.061,143.358,145.799,146.53799999999998,83.2156,80.6255,83.2399,85.4641,81.1754,82.3636,136.745,128.815,136.659,140.205,140.109,125.889,85.1561,84.4705,86.6711,87.7734,81.6017,84.2279,138.697,125.71700000000001,139.501,139.471,143.154,137.88299999999998,82.3019,82.943,81.39699999999999,81.4693,83.3475,82.2777,131.877,139.696,140.82399999999998,143.997,130.84799999999998,142.806,83.9409,84.345,85.6314,83.3894,83.1848,84.7994,83.2148,81.6347,85.0962,86.007,85.5594,84.3235,85.8997,83.0814,81.2244,80.9864,87.9786,83.7901,126.93299999999999,132.852,128.048,132.078,134.7,132.792,81.1024,82.337,82.1026,84.0296,82.0634,82.5068,126.029,132.78799999999998,137.332,129.989,133.112,131.708,84.3975,82.9413,81.7511,83.5819,90.7935,80.0009,128.339,130.615,134.105,130.507,133.97799999999998,130.137,82.5327,82.4941,82.743,87.4595,85.594,84.8169,128.887,135.16,133.14,135.379,127.63,132.482,82.2104,82.59100000000001,81.8485,82.5165,84.9835,85.9795,137.782,134.285,128.906,137.63299999999998,133.083,134.579,83.0137,82.1268,85.6592,82.3254,83.4063,83.9392,146.938,137.688,143.577,145.809,144.356,143.175,84.4977,83.7808,82.4859,83.2429,83.9727,84.7862,138.811,145.42700000000002,132.151,149.253,144.781,144.564,81.8447,84.7128,83.4842,83.5022,83.3246,84.2381,145.313,144.80700000000002,132.67,147.209,135.458,151.248,81.8256,89.2958,81.5513,81.7681,84.9875,83.2421,150.874,149.49,139.179,145.005,118.35,143.477,84.4693,86.4369,83.0239,89.5817,88.5855,113.161,143.39700000000002,149.30700000000002,149.444,149.254,147.14600000000002,148.662,131.276,134.435,135.537,136.681,136.36,134.869,140.10299999999998,141.73,142.334,146.844,150.29,144.442,133.825,135.666,137.376,134.222,144.769,140.205,143.911,146.493,142.453,150.32399999999998,146.216,145.274,134.55700000000002,136.505,138.739,134.42,131.539,134.89700000000002,82.0725,84.1623,84.7838,81.9969,84.6319,85.9587,131.75799999999998,139.279,133.755,135.52,135.847,136.149,140.984,148.047,140.907,150.46200000000002,143.91,145.859,133.986,135.194,129.62,135.105,134.175,132.536,148.035,149.111,147.107,150.21200000000002,145.459,146.489,86.4645,87.4616,89.8591,89.64399999999999,88.7528,89.0198,149.032,148.626,149.33700000000002,149.564,150.749,88.0451,86.4337,88.4909,88.6917,88.1873,87.5551,131.842,143.55700000000002,131.778,135.882,142.298,138.691,88.3197,87.4669,88.1756,88.7789,88.1524,88.5522,135.055,138.85299999999998,141.782,136.969,140.741,139.572,89.8662,89.1342,86.7249,86.4368,88.1338,87.1405,137.91299999999998,139.054,142.87,140.344,136.57,140.428,86.6913,86.3891,89.5762,87.3905,87.2418,86.8259,123.96,126.36,130.085,128.411,129.628,127.427,87.5668,87.2327,86.7952,85.0732,86.9587,88.0634,125.948,129.683,132.357,124.584,130.45,126.094,82.3949,83.3162,82.7633,83.7705,86.0617,82.6523,131.582,128.42600000000002,133.262,126.898,130.92600000000002,130.414,82.3073,83.4908,83.7825,82.4413,82.9038,81.9722,130.423,129.971,123.833,124.215,131.535,128.968,83.7829,82.5247,81.7456,84.0099,80.1555,82.1853,138.769,145.715,145.914,140.783,145.25,143.326,84.1959,84.70700000000001,81.3651,86.0224,86.0019,84.35,152.221,147.605,149.01,150.752,145.721,149.622,87.5141,82.2357,82.2285,82.23200000000001,81.8502,80.5832,149.988,146.368,142.60399999999998,139.74200000000002,150.159,147.689,83.495,80.1499,84.6882,77.1758,85.3877,84.7491,151.764,149.94799999999998,147.395,149.63299999999998,145.095,148.555,85.4873,86.794,86.1974,88.1983,86.935,86.9359,134.638,141.659,140.014,137.52100000000002,136.357,137.179,86.5027,85.3852,91.6186,87.5819,89.044,87.2692,133.97899999999998,136.334,141.82399999999998,139.911,144.67700000000002,140.358,87.8808,90.9534,88.0653,88.1523,88.1501,89.2296,140.591,141.168,138.19899999999998,143.17600000000002,139.461,148.267,142.632,145.60399999999998,142.743,153.043,144.719,141.424,135.168,134.234,138.66,133.97,144.906,142.656,143.651,147.078,142.376,146.84799999999998,146.83100000000002,147.455,141.718,145.024,143.66,139.468,145.082,138.793,143.634,147.38299999999998,146.95600000000002,143.341,145.83100000000002,142.393,143.136,140.718,139.10399999999998,148.97899999999998,144.47,142.009,142.845,145.998,147.81,150.727,145.484,148.475,138.094,142.062,142.838,140.57399999999998,137.376,136.718,148.214,145.674,143.15200000000002,154.66899999999998,145.016,143.28,140.816,134.659,143.13,135.435,139.363,141.942,141.451,145.886,144.642,146.827,144.483,149.96,136.533,139.227,135.974,138.49200000000002,125.06299999999999,136.398,85.3966,88.2689,89.2178,84.5671,88.5126,86.8519,138.283,135.912,137.155,143.17700000000002,145.05,137.194,86.8375,85.1985,87.5491,86.1512,85.8542,89.2261,81.2117,79.6082,78.8583,84.8131,81.5301,80.1564,90.8383,88.4769,105.875,88.8321,88.2177,89.0286,82.5097,88.1173,84.7524,84.8655,85.0142,85.0717,86.9085,89.5545,87.1761,106.985,91.5083,86.9977,82.4041,81.4901,83.9498,83.6785,83.7672,84.3093,86.9225,86.1573,85.0357,88.1034,87.2447,83.4419,83.0425,82.315,81.8951,83.9644,83.7004,87.3188,87.8125,87.5244,88.9785,92.5556,87.2608,135.811,139.691,134.422,134.678,133.999,136.501,86.8905,86.2363,85.65799999999999,86.8483,84.052,85.913,136.205,134.653,132.72799999999998,142.931,142.85399999999998,136.722,87.6703,86.5186,87.2534,85.59100000000001,89.6425,87.602,136.47,136.267,139.29,133.77,136.477,141.306,87.7074,89.5233,86.1794,86.0235,85.5523,86.6056,83.3013,84.486,83.9434,84.3264,86.2562,87.3657,88.8184,86.5844,91.8535,86.6057,88.7166,85.3493,83.1759,85.5115,85.5555,84.9439,85.4706,85.331,88.9255,88.6806,87.7673,87.5796,88.0655,88.2927,85.1066,87.7248,85.2282,81.9587,85.1894,86.7783,92.9294,91.0929,91.4347,90.8806,86.2112,91.58,86.5388,84.9179,84.9544,83.1344,77.653,85.7889,88.5182,88.3487,88.62,85.7057,94.1595,93.5232,76.6007,75.9247,79.8596,78.8285,79.2027,81.93,85.5577,84.3321,83.9959,87.4017,86.0032,86.1572,142.586,148.211,143.641,150.296,146.476,142.38,130.149,129.757,136.111,129.635,133.496,131.858,142.704,156.131,155.159,150.371,154.31799999999998,151.94299999999998,132.114,134.753,135.639,134.093,139.797,133.414,145.545,150.067,151.576,149.767,153.75799999999998,149.97,87.7878,87.3035,86.6394,88.6513,85.7054,85.6495,145.378,147.101,154.964,148.2,156.289,151.139,79.314,80.2953,78.2387,81.928,78.263,82.6376,144.42600000000002,147.725,149.257,150.787,149.005,155.784,88.5396,86.6999,85.7416,84.5108,90.0139,83.8847,130.267,136.186,135.796,138.644,132.695,137.065,85.7579,84.7312,92.3173,90.5105,89.1051,88.0429,136.53,141.576,136.017,133.746,136.44299999999998,136.088,86.8599,85.7289,88.5534,89.2927,86.6865,88.0427,77.5212,78.1374,83.2759,84.2824,83.4615,83.2154,86.2904,88.36399999999999,83.6123,84.5196,84.9518,86.3351,142.166,142.436,149.528,150.343,149.085,158.842,84.9616,85.8946,83.3055,86.7722,87.8099,86.4392,155.085,156.379,148.641,146.80200000000002,153.524,150.499,90.9485,85.5655,89.0897,87.4428,88.0589,93.8923,149.673,149.997,152.694,148.031,148.709,150.376,88.046,85.0632,84.4126,86.1411,85.3745,87.1374,150.971,150.278,148.77100000000002,148.987,148.153,149.582,85.5052,85.615,87.2284,90.3431,89.0406,104.564,143.839,151.175,153.592,151.673,149.833,149.322,86.2855,83.1276,86.0122,84.5294,87.5804,96.8009,137.65,141.85299999999998,138.936,136.583,135.815,140.281,77.9666,80.4587,84.133,83.5467,83.7135,81.0717,137.665,134.299,135.42700000000002,139.44299999999998,138.594,141.168,83.1587,76.7995,83.6778,82.8756,88.1663,83.2632,141.52,144.058,138.998,128.404,130.793,130.379,135.2,130.972,127.02600000000001,87.757,83.7683,88.3246,86.2696,84.4384,86.0901,135.139,137.975,135.388,140.05,133.851,135.423,86.7412,84.7805,84.3427,82.5773,85.1482,89.0677,133.559,138.58,139.209,132.619,140.881,135.247,136.766,147.52200000000002,136.575,144.72799999999998,141.578,143.67600000000002,141.311,137.664,141.639,138.58,137.071,138.707,133.618,86.9762,83.4029,91.0397,85.5632,89.85799999999999,84.8988,139.716,142.849,144.113,153.275,140.252,142.838,86.2693,85.3829,84.3682,84.4219,91.0532,86.164,146.761,146.702,143.222,139.52100000000002,140.869,149.39600000000002,85.916,82.8032,88.512,83.6741,83.7841,84.4483,151.749,144.593,113.244,145.893,143.624,148.047,87.3726,85.6705,86.9584,90.2737,82.8902,84.8924,140.002,145.773,125.324,143.358,142.369,145.393,137.02700000000002,89.405,85.6819,87.4005,85.5935,91.7513,88.5371,83.406,85.415,85.2794,86.4682,85.1575,85.4589,87.3875,86.4015,84.8647,86.2732,84.4981,84.1438,141.56,148.504,143.097,143.148,128.011,143.804,87.4704,89.2841,86.1334,91.5539,90.0667,84.6969,115.162,142.489,147.90200000000002,149.342,140.628,129.27,123.415,130.034,134.811,129.895,133.168,102.51,87.4228,84.5778,86.0338,84.6952,83.0855,85.2152,139.982,134.143,117.522,129.077,131.33,135.64600000000002,84.2267,82.5478,81.056,89.3976,85.2699,82.7967,85.0957,84.0793,87.0103,84.2689,87.0898,85.5683,85.0479,84.7327,86.0748,87.9115,82.5267,91.1179,83.13799999999999,81.5496,87.2657,91.5719,86.1065,88.1922,86.1523,84.1427,83.6573,82.4318,88.8987,86.1143,83.4375,84.6085,88.1786,89.492,88.1591,114.941,88.6732,90.2045,82.8691,83.7292,82.3007,84.3613,83.8504,90.8884,87.3582,86.3016,83.8182,91.1966,141.5,155.415,151.118,148.01,150.55100000000002,144.935,151.892,130.691,130.936,133.722,131.285,136.078,132.201,146.358,151.372,154.595,147.247,153.155,151.567,139.128,138.55100000000002,135.928,135.349,133.526,136.39,148.494,144.503,159.852,146.321,152.461,152.542,88.0847,88.01299999999999,89.3966,87.8408,88.2986,86.3204,137.599,139.784,136.391,136.137,135.292,141.78,88.5909,88.0845,87.3543,84.7,91.3798,87.6794,142.757,141.465,138.559,134.263,139.873,136.524,90.0251,88.7759,89.6379,85.0858,87.0016,86.4785,139.107,140.849,137.614,137.13,141.785,137.656,89.9475,86.1921,86.0368,86.9899,88.9372,89.5691,83.1929,82.0574,83.3111,82.23,83.0375,84.5382,145.666,151.77200000000002,147.086,146.434,152.99,144.279,75.4785,76.4987,84.3523,76.1276,76.3877,84.4118,90.8602,89.0833,87.48,87.2149,90.3854,88.0907],\"speed\":[115.094,123.51899999999999,119.35600000000001,120.15,120.616,120.351,111.566,116.066,114.584,115.59700000000001,112.89299999999999,116.51,125.023,121.484,122.39399999999999,124.275,122.57,126.90899999999999,115.145,115.64200000000001,119.77799999999999,100.993,115.329,116.954,121.906,119.67200000000001,120.35700000000001,122.288,114.03399999999999,121.76,115.994,118.448,117.613,116.571,104.20100000000001,116.447,122.304,119.866,125.214,107.69,117.34,121.197,117.431,115.66,112.292,116.869,120.991,121.902,119.11200000000001,118.973,121.929,124.561,128.625,123.007,121.589,122.24700000000001,124.925,115.88600000000001,119.271,125.264,74.3136,69.4467,72.7269,70.0176,70.5488,68.8895,121.759,117.488,121.4,124.165,107.631,116.06299999999999,70.1079,67.1458,67.7899,70.1697,72.8254,69.7195,118.87200000000001,120.945,122.031,116.615,121.39,114.21600000000001,112.51899999999999,115.23200000000001,109.09,116.822,115.421,113.00399999999999,71.4736,68.0005,76.6898,68.9534,72.1992,72.9394,115.625,117.572,114.67200000000001,116.366,112.006,111.545,68.4885,78.6788,68.735,77.3499,70.5561,70.1335,112.223,112.954,112.221,117.637,118.27600000000001,112.96799999999999,68.1208,70.3217,72.3898,71.5954,67.3293,71.3621,116.505,112.98100000000001,114.501,115.89,118.675,95.4141,66.0809,68.449,67.0301,66.5021,74.9225,68.5518,120.601,118.561,119.766,119.156,114.684,119.993,119.25299999999999,122.79899999999999,123.631,120.899,118.913,117.946,123.439,126.225,110.87100000000001,110.90100000000001,111.786,123.421,121.88,119.948,118.101,116.56700000000001,110.285,118.15100000000001,117.891,127.411,125.697,115.04799999999999,123.40299999999999,118.384,71.51,67.7675,66.9681,68.7728,70.2445,68.0162,122.796,118.711,123.71799999999999,120.665,121.75299999999999,123.463,69.5637,70.5854,66.6613,67.2912,68.0433,68.8752,122.999,119.088,124.516,118.792,124.57700000000001,122.495,72.2822,70.6715,69.9755,70.911,66.03399999999999,72.5802,121.844,119.147,123.081,119.387,118.53399999999999,121.18299999999999,67.6712,64.3544,67.2157,70.7002,72.2397,71.4254,122.479,118.484,123.26899999999999,122.691,116.191,119.65899999999999,115.897,69.6874,69.5484,72.1952,65.6713,68.5473,67.8802,113.99,112.23299999999999,114.007,115.67399999999999,115.92399999999999,109.69,73.7209,67.1838,67.9193,70.1874,71.2291,71.3471,115.20100000000001,115.24,117.206,116.427,114.742,115.61200000000001,74.8842,66.7356,68.81,69.8392,68.2834,72.5315,103.945,113.98899999999999,117.53200000000001,116.139,119.088,113.427,71.8645,67.5178,68.5798,70.6133,74.6965,67.9056,115.822,116.84200000000001,116.631,117.72399999999999,117.667,118.73100000000001,65.0881,67.0542,70.7207,67.5214,66.2752,65.0817,115.585,117.40700000000001,115.354,116.79299999999999,114.494,114.854,69.2563,66.6653,70.2126,72.3305,65.9373,69.0041,113.337,118.264,118.51799999999999,118.695,115.559,120.524,124.823,67.5664,66.1012,67.2093,60.4796,63.8392,66.1553,123.684,124.39399999999999,124.23200000000001,121.54899999999999,123.027,103.79299999999999,63.7175,68.476,75.4909,66.9306,68.5672,63.5104,115.781,114.01299999999999,119.78,121.91799999999999,117.55,117.73100000000001,70.0895,74.64699999999999,69.1258,70.1138,67.2105,72.6581,119.434,117.495,109.585,109.387,124.70299999999999,119.088,73.8241,69.9303,68.9088,67.6414,71.2807,59.9957,62.0561,68.8448,67.2493,72.9122,67.9627,67.6342,67.446,65.3657,67.5033,65.0292,75.2932,61.0591,118.316,118.728,122.07,122.31,124.117,123.56,70.6484,66.9274,68.975,71.0351,60.9476,71.2283,127.15799999999999,100.634,121.245,119.807,117.821,124.01100000000001,66.7162,65.8896,67.0802,64.4362,71.9531,72.1155,106.538,126.45100000000001,114.525,121.024,116.609,100.917,71.0658,68.5403,69.3922,65.8612,65.2083,63.5263,122.351,121.939,123.79299999999999,126.13600000000001,122.626,125.304,67.8305,67.2399,66.9428,67.1659,66.3913,71.3786,124.469,122.083,121.15299999999999,121.71,110.24,113.194,70.025,68.5329,66.2734,68.0082,67.4629,61.9174,111.99799999999999,109.646,111.419,112.221,112.574,110.719,106.975,71.2411,68.2765,65.1745,71.37,67.0779,68.1479,113.77799999999999,110.74,110.73200000000001,113.819,111.714,112.208,111.91799999999999,69.0137,70.8928,65.6733,67.4044,62.9161,66.3346,109.84700000000001,113.865,112.617,94.8116,107.291,113.28399999999999,61.6977,69.0227,71.1831,65.7874,64.2013,65.6641,115.795,122.154,122.855,122.641,114.133,113.755,69.4513,69.0229,69.21,67.9643,66.4468,64.2019,113.454,112.977,119.64399999999999,122.744,122.71600000000001,66.4702,66.7927,64.3678,67.1977,63.8088,65.3639,123.553,118.475,124.01299999999999,121.155,122.374,127.92299999999999,70.2466,67.009,65.2587,67.3457,71.3584,66.0424,68.9561,68.6125,73.5781,69.7358,68.0623,59.7082,66.5317,66.1907,63.6278,65.6442,67.7545,69.1038,116.969,121.065,123.604,119.57700000000001,118.41,117.28399999999999,106.44,106.427,108.286,106.221,109.316,104.15,124.054,121.29899999999999,123.774,121.35,117.098,121.09100000000001,107.335,109.62700000000001,113.338,107.955,112.01700000000001,109.12799999999999,123.23700000000001,119.787,121.39,120.177,121.06299999999999,116.70200000000001,99.5736,116.49700000000001,120.87,121.382,125.635,127.27,123.46600000000001,123.31700000000001,124.01799999999999,121.456,115.602,120.287,117.60799999999999,72.6844,67.0092,68.5109,70.3301,69.8585,72.4534,115.839,119.98,118.264,117.425,120.655,119.536,106.51700000000001,113.84899999999999,117.72200000000001,116.461,116.963,116.96700000000001,120.69,122.884,118.098,116.51100000000001,123.566,123.955,115.648,115.689,114.62299999999999,116.296,116.669,116.23100000000001,120.249,118.876,116.295,107.824,119.3,124.00200000000001,118.28299999999999,115.539,120.704,114.17299999999999,115.046,116.43299999999999,115.899,111.473,120.76899999999999,125.869,116.185,120.204,113.725,115.806,116.15100000000001,118.916,119.09200000000001,118.096,115.75399999999999,123.566,104.18799999999999,121.919,120.611,108.913,118.669,117.721,118.59200000000001,117.20299999999999,115.575,113.876,66.0945,69.7329,67.7744,71.4534,67.3923,67.8923,122.83200000000001,118.439,120.396,124.296,119.42200000000001,123.109,70.7101,65.6119,65.2619,63.6649,65.9563,68.3863,118.625,122.796,120.536,112.064,128.505,120.84100000000001,72.3714,70.456,85.6184,67.074,66.6693,71.4245,67.0927,123.663,120.10799999999999,123.103,121.691,122.26700000000001,110.85700000000001,64.7217,68.9625,66.3646,88.3148,68.7986,67.7542,62.0157,126.79799999999999,129.30100000000002,126.01299999999999,125.242,116.655,107.67200000000001,113.846,69.1672,64.2053,67.2369,67.363,66.6456,72.9282,128.376,117.464,109.23700000000001,110.954,124.126,114.611,68.637,59.2381,67.346,70.7471,62.2597,68.3864,114.165,108.51799999999999,116.396,108.46700000000001,106.792,107.464,61.24,68.003,66.7925,75.1637,60.6679,63.6419,120.161,108.861,121.46,119.925,121.404,120.853,62.9825,63.6786,63.1639,65.2221,64.9278,64.0836,108.22200000000001,113.211,119.03399999999999,122.01100000000001,114.677,123.77799999999999,68.3332,64.8631,67.0521,65.458,66.9373,67.3458,70.1268,70.6942,70.4109,69.873,63.8135,71.196,68.3833,65.95100000000001,64.9106,65.1525,76.3983,64.0106,107.221,110.654,107.443,111.245,112.749,111.471,62.458999999999996,69.1925,67.1065,70.3949,66.6305,64.915,107.515,112.57700000000001,113.774,110.56700000000001,115.521,103.131,66.0729,65.5133,64.1057,66.2663,74.1956,63.5282,109.971,110.969,113.20299999999999,112.38,112.15100000000001,114.23700000000001,67.5877,67.0002,69.0815,73.613,68.7417,67.37899999999999,108.514,114.897,113.927,114.476,112.54899999999999,111.391,67.8143,65.7477,69.3786,70.3519,65.479,67.7573,116.266,112.71,110.664,115.139,111.995,110.939,60.291000000000004,66.5882,69.6141,64.9337,69.6044,72.0032,125.125,108.139,123.979,126.051,123.805,121.73100000000001,68.2655,66.6435,67.0618,66.743,67.7276,65.0581,122.69200000000001,123.86399999999999,109.493,120.286,114.837,126.086,65.1107,68.3419,67.4309,66.6695,64.5675,71.7942,128.041,118.771,107.625,119.87899999999999,117.134,125.79299999999999,61.5778,73.2369,61.3586,63.7429,65.0765,63.2347,125.01299999999999,102.725,121.262,114.988,90.6393,129.665,66.1687,70.8108,68.2544,72.8487,72.335,97.24600000000001,0.0,124.514,104.102,125.696,127.22,130.974,118.083,117.90700000000001,117.17299999999999,114.54299999999999,117.071,115.323,121.051,124.19,123.91799999999999,130.27,128.283,124.71700000000001,117.94,116.09,116.566,116.335,118.681,120.796,120.83,126.883,124.098,126.098,122.834,121.38600000000001,113.085,118.459,117.876,112.305,115.286,113.882,60.8317,66.1697,65.182,66.6006,65.1103,68.797,111.514,117.416,117.304,118.98700000000001,112.493,115.13,119.27600000000001,125.81,120.15,124.42299999999999,119.118,122.001,114.725,115.06700000000001,110.456,109.36200000000001,112.625,113.369,125.185,130.586,120.494,127.47399999999999,128.298,120.87299999999999,71.5566,62.6195,67.0311,70.8808,66.6243,64.5253,120.19200000000001,121.36,126.604,115.818,121.60600000000001,74.675,61.455,64.0819,63.0444,64.5372,63.8008,114.40899999999999,119.975,115.215,115.603,115.875,121.101,65.7431,63.736000000000004,67.0765,66.5823,68.5874,61.6583,117.84200000000001,118.985,119.027,112.15799999999999,116.212,119.571,67.2626,68.9888,65.1123,64.0021,66.5602,68.2764,117.63600000000001,120.583,120.512,120.85600000000001,108.36200000000001,120.515,67.2656,66.5736,68.7446,67.5417,64.5732,69.8962,108.348,103.681,110.59200000000001,107.27799999999999,100.74799999999999,109.579,61.6959,62.0762,67.1125,65.6745,66.2702,61.1012,107.749,113.354,111.91,107.45100000000001,111.5,97.8149,64.1424,67.19,64.4551,65.6822,66.3346,65.0221,111.57,110.678,113.28299999999999,108.617,101.76700000000001,110.803,64.732,65.7918,68.6519,65.3828,66.007,62.1588,112.50299999999999,113.336,105.40700000000001,108.035,111.829,109.51700000000001,68.0593,65.3502,62.4645,64.8893,62.2199,66.6071,121.846,106.568,124.29799999999999,123.007,122.811,126.654,67.1282,71.4819,63.3456,65.6399,66.6523,68.3447,129.247,113.82,127.194,127.1,125.132,118.20700000000001,72.2952,67.0268,66.3389,68.9958,65.4316,61.0642,128.81799999999998,126.397,118.573,116.92299999999999,128.672,106.65899999999999,61.9409,59.4309,69.4445,59.6823,67.3035,66.8148,127.12299999999999,129.14600000000002,115.82799999999999,115.319,125.647,129.55,60.9415,65.3843,61.1367,67.7208,64.5001,62.711000000000006,113.446,120.55799999999999,117.863,116.00299999999999,116.59299999999999,106.226,63.6384,62.2615,70.9808,61.0695,63.5631,65.4479,114.85799999999999,114.554,117.301,116.696,124.01,122.45299999999999,67.0461,70.7387,65.0088,64.232,70.6439,70.7354,120.87299999999999,122.669,116.54299999999999,122.334,117.06700000000001,119.37100000000001,108.53,104.164,121.845,119.99700000000001,127.76700000000001,114.689,117.31,115.745,117.964,113.398,122.065,121.381,124.854,125.476,125.154,126.09100000000001,119.461,125.819,120.056,123.367,121.26700000000001,119.45,124.295,120.039,120.829,126.744,128.047,125.374,115.397,124.625,121.654,117.28399999999999,115.117,128.44899999999998,121.311,119.24600000000001,126.932,126.346,122.774,126.40700000000001,116.23299999999999,127.632,119.92399999999999,118.57799999999999,121.88,119.23899999999999,114.84899999999999,107.77799999999999,114.17,106.035,120.913,102.18799999999999,127.116,124.83,118.113,116.74799999999999,104.26100000000001,109.686,116.40299999999999,117.956,121.179,125.208,122.029,124.70299999999999,123.416,128.93,117.419,117.726,116.40700000000001,114.648,105.925,118.79799999999999,68.2072,64.6197,67.1902,59.761,69.1805,61.2818,119.51700000000001,116.228,115.271,121.977,121.42299999999999,111.31299999999999,61.6626,59.4595,70.333,65.3799,62.9895,69.9402,62.3254,62.3701,60.3338,65.6692,62.1217,58.974,69.5117,67.578,81.1913,71.5368,70.7468,67.8737,62.5785,69.2836,65.6415,67.6402,67.711,63.67100000000001,67.4252,63.5027,64.0288,84.3468,70.9628,67.1014,62.8101,62.4728,63.8874,63.6773,67.4396,63.1468,64.8797,62.1694,65.7571,71.145,67.3329,65.4013,66.568,64.1885,64.0376,64.2363,64.6555,68.8972,66.4553,68.4402,64.1591,74.7431,67.1067,114.486,113.696,111.964,115.194,110.57700000000001,115.175,63.6756,68.6157,69.0556,63.7834,59.1441,64.1995,119.515,113.647,102.335,119.10799999999999,122.01700000000001,117.212,71.5115,65.1479,67.2916,66.3802,67.6649,64.9573,115.07,115.66,120.098,109.665,115.662,116.89200000000001,64.0312,70.8572,69.7274,62.9482,59.1561,63.4589,65.1394,64.0509,65.3239,66.6255,68.0375,69.8941,70.408,66.8642,73.7543,59.9004,61.4746,64.104,66.6497,64.4315,69.1259,67.4125,71.3507,68.7123,70.6558,65.5657,66.623,60.3463,67.8991,67.3746,67.5127,68.578,67.3342,63.05,65.8405,69.8718,76.8526,65.0399,72.5802,70.2315,65.2567,68.2017,70.3675,67.5046,67.6861,64.2321,62.2588,70.7493,68.8641,69.0774,70.6775,65.5083,68.4336,72.6015,57.6175,62.6458,64.9678,57.09,56.3251,60.6988,61.8481,65.3791,64.3761,69.7753,63.2524,68.6924,103.89299999999999,121.555,125.375,124.689,123.227,124.411,111.46799999999999,113.59899999999999,108.98,113.315,117.29799999999999,112.311,125.04799999999999,124.679,128.245,125.24,132.202,131.263,113.073,112.791,119.09,115.60799999999999,117.071,114.927,122.70299999999999,124.57799999999999,127.39399999999999,128.467,129.98,123.193,75.012,69.676,64.6057,65.4887,68.3288,66.813,126.488,123.928,131.627,123.29899999999999,132.121,128.232,63.01,64.9291,63.0343,67.9088,62.6496,63.4327,124.619,124.524,126.72200000000001,128.622,130.18200000000002,126.36200000000001,61.9493,59.9012,62.7114,60.9455,60.2311,57.9801,111.098,113.404,115.152,114.959,113.95200000000001,116.271,66.2516,65.0303,77.8918,77.0455,73.1418,70.2451,113.245,116.478,116.51,117.671,118.649,109.50399999999999,62.8254,63.6714,69.8539,75.2363,66.0121,62.6474,55.7566,64.2957,68.3037,66.3876,63.8198,62.8951,66.5828,68.7551,64.4658,62.9377,59.0283,60.7855,120.015,107.05799999999999,125.85700000000001,127.68700000000001,131.532,129.29,64.7331,61.7342,60.0074,68.5577,63.2336,59.8964,129.72799999999998,126.09,124.069,126.82799999999999,130.259,118.27,71.6602,59.0978,69.6716,70.8512,66.9337,77.3941,124.705,124.2,129.72299999999998,117.83,121.824,125.215,60.4613,62.8358,59.2024,77.3362,63.415,70.3749,126.18799999999999,126.28,125.26299999999999,119.818,125.619,126.758,61.0293,63.6884,69.5732,65.0088,83.3019,85.4212,121.709,121.415,134.619,126.383,129.601,129.957,60.5187,68.3536,64.8719,59.5235,69.4577,76.4294,112.686,120.584,115.728,108.944,117.15100000000001,119.365,58.9969,58.0807,70.1371,67.8785,66.5065,63.0484,116.61,115.415,117.853,108.601,117.42200000000001,122.016,59.8918,55.1473,64.6625,57.3631,68.969,65.5785,118.094,118.899,122.792,106.652,113.603,115.015,112.161,110.93799999999999,109.775,71.4152,64.6733,71.6385,67.7372,64.5598,73.8897,115.48200000000001,116.837,116.242,119.147,112.41799999999999,117.23100000000001,72.6313,69.9822,69.0433,66.8344,67.0653,69.5909,116.566,122.76299999999999,118.346,114.665,119.134,115.32,119.99,125.493,116.095,122.53200000000001,120.848,122.051,122.083,114.445,113.62700000000001,120.23100000000001,118.402,120.17299999999999,117.205,70.975,63.3386,77.1301,70.2939,75.8247,73.0075,120.708,118.20700000000001,125.184,131.188,119.61399999999999,124.04299999999999,68.4693,66.9188,69.6907,67.6934,67.3946,70.6941,127.88,123.678,121.351,118.76299999999999,113.036,126.414,61.7423,60.4787,69.2044,68.09899999999999,63.6878,66.5274,126.619,120.37299999999999,92.1715,124.32799999999999,123.493,119.30799999999999,72.1445,68.3842,67.07600000000001,71.2055,72.0554,68.5483,116.819,124.209,108.36399999999999,115.836,105.54899999999999,122.367,119.29,69.6349,64.3274,67.7129,64.6283,69.4657,68.1516,72.6248,72.5062,70.1395,68.4625,63.9774,61.5665,66.2245,67.5111,65.916,62.8679,62.5532,63.9175,120.295,123.979,118.08,121.25,100.695,121.52,71.6217,74.3524,67.7385,65.3637,70.2554,64.5842,97.2473,120.977,123.741,116.52,110.275,106.307,101.969,106.072,112.249,111.575,113.73100000000001,83.4247,71.9565,66.9789,69.4408,70.67,61.0646,62.42100000000001,113.27600000000001,110.486,92.1124,0.0,115.05799999999999,115.245,65.6582,61.1091,60.5231,78.4158,72.3034,68.1281,67.6239,69.297,67.7073,66.0838,68.2473,66.98100000000001,67.9325,59.5642,67.9168,67.1542,67.4587,72.9087,63.8327,63.0349,70.4019,72.2843,64.3741,69.6425,69.1788,59.8964,68.9437,67.5959,67.2608,65.9976,61.1739,65.8269,62.7162,67.0794,61.3043,94.7018,70.0826,75.6852,58.7213,65.5642,64.1357,68.3086,59.4664,70.61,68.0695,66.0993,62.8795,76.318,0.0,102.583,126.039,124.819,127.478,126.461,126.436,112.24600000000001,111.227,117.727,114.84200000000001,115.645,112.04,119.506,131.725,131.032,120.822,128.648,130.253,115.81200000000001,116.12799999999999,119.926,115.381,118.59,114.874,126.311,128.54,131.236,121.35600000000001,129.51,0.0,64.8906,66.5847,65.903,61.8337,64.317,65.6923,116.34200000000001,114.619,115.65799999999999,116.42299999999999,112.73299999999999,119.531,61.5324,61.1754,69.6201,66.4112,78.3688,64.2835,120.647,120.90799999999999,113.571,101.464,117.823,114.932,71.5417,63.7697,64.7532,61.5783,65.7825,64.4872,118.477,117.57799999999999,115.867,115.102,118.52,98.5797,70.1463,64.2813,62.0458,67.4775,65.7678,65.404,65.0073,57.6774,66.6952,63.5265,69.9075,71.5059,122.986,123.789,121.884,127.493,127.95100000000001,115.68700000000001,51.3556,56.9548,67.3849,61.1262,60.7523,66.6387,67.7217,61.5809,62.2662,64.2705,64.1243,62.3868],\"x\":[0.06737339999999999,-0.024311199999999998,0.395881,0.029274900000000003,0.225438,0.348197,-0.0567101,0.0311651,0.0547097,-0.028366200000000005,-0.160166,0.134692,0.296456,0.22229000000000002,0.444283,0.279717,-0.125135,0.29596999999999996,0.32519499999999996,0.564616,0.331879,0.41656400000000005,0.242788,0.0800053,0.0407422,0.430133,0.538338,0.35214,0.587575,0.24734499999999998,0.459192,-0.09792039999999999,0.136697,-0.048354400000000006,-0.471183,-0.015302000000000001,0.134095,0.447622,0.441097,0.34531999999999996,0.436583,0.44293000000000005,0.298478,0.267075,0.331968,0.599279,0.524303,0.44026800000000005,0.331447,0.493913,0.409492,0.446978,0.505552,0.32658000000000004,0.537503,0.345987,0.582483,0.6792060000000001,0.62547,0.47643599999999997,-0.211378,-0.16826,-0.04195019999999999,-0.08891389999999999,-0.0597345,0.250286,0.373031,0.483284,0.34089400000000003,0.353458,0.493712,0.311483,0.215173,0.180749,0.06305219999999999,0.0057578,0.0700091,-0.108267,0.453154,0.506001,0.5633130000000001,0.382277,0.055143700000000004,0.588525,0.0752283,-0.20677600000000002,0.153016,-0.06716319999999999,0.057664599999999996,-0.176501,0.08719500000000001,0.148537,0.0840371,-0.180025,0.31093200000000004,0.109431,0.310166,0.5364909999999999,0.420493,0.0732575,-0.11221700000000001,0.000637047,0.191109,0.257821,0.0569293,-0.0573751,0.275973,0.332408,-0.245579,0.443954,0.54675,0.143715,-0.0188586,-0.150609,0.38506,0.657439,0.49566800000000005,0.441562,0.508963,0.687837,0.0469215,-0.11314300000000001,0.3399,0.37254899999999996,0.459106,0.168209,0.413259,0.364519,0.626445,0.502268,0.265314,0.630909,0.442065,0.24420300000000003,0.251889,0.41348999999999997,0.472166,0.185648,0.338225,0.198157,0.499692,0.20919400000000002,0.522267,0.454946,0.44561999999999996,0.335777,0.304271,0.292946,0.503833,0.15190499999999998,0.346121,0.631676,0.555649,0.614571,0.674616,0.48586599999999996,0.22787800000000002,0.144317,0.313514,0.383223,0.124695,0.504416,0.0288312,-0.18841,0.406995,-0.181229,0.34072800000000003,0.231334,0.361985,0.24862399999999998,0.310886,0.22026199999999999,0.164444,0.368471,-0.0732535,-0.0459593,-0.023615099999999997,0.34184000000000003,0.0270861,0.256753,0.06763860000000001,0.29079,0.132389,0.0752421,-0.06604310000000001,0.48275500000000005,-0.0657105,0.1557,0.140991,-0.13122999999999999,0.21749000000000002,0.0010885,0.19051600000000002,0.27832399999999996,0.2564,0.336433,0.21513400000000002,0.256504,0.157862,0.272776,0.213158,0.129726,0.099096,-0.0134905,0.321037,0.38984800000000003,0.386454,0.342801,0.351207,0.323168,0.30378299999999997,0.147545,0.401327,0.031687599999999996,0.0623057,0.280235,0.118191,0.142481,-0.045678199999999995,-0.0708048,0.191605,0.0903604,-0.0240702,0.150114,0.0204916,0.20468599999999998,0.00945278,0.15174400000000002,0.339309,-0.35087399999999996,-0.10591300000000001,0.057538900000000004,-0.122302,-0.0206005,-0.0128126,0.370929,0.06584910000000001,-0.107574,-0.030029200000000002,0.062380200000000004,0.228021,0.286664,-0.051216599999999994,0.0905398,-0.0599606,0.0869604,-0.11951800000000001,-0.0983695,0.208367,0.388301,-0.0929989,-0.129429,0.166594,-0.12301199999999998,0.00747838,0.013430600000000001,0.033910699999999995,-0.0449272,-0.00825779,-0.245155,0.126443,0.129727,0.0405139,0.00709561,0.07521749999999999,-0.07927739999999998,-0.0724558,-0.018682400000000002,0.269073,-0.0436722,0.272851,0.0634349,0.137168,0.30408,-0.14708,0.0944958,-0.126987,0.249029,0.451574,0.503307,0.317798,0.177655,0.461372,0.5960840000000001,0.0613492,0.0652834,0.174172,0.12449400000000001,-0.0425458,0.041464999999999995,0.623379,-0.12459400000000001,-0.0382313,0.0337347,0.297732,0.334546,-0.080795,-0.29933899999999997,-0.201483,0.023556200000000003,-0.0907698,-0.568613,0.000511078,0.463225,0.153352,0.37384,0.5096310000000001,0.461917,-0.24103899999999998,-0.32582,-0.159098,-0.101577,-0.181384,-0.0697434,0.211281,0.46766,0.371816,0.47003599999999995,0.372132,0.357156,-0.0870174,-0.102985,-0.547662,-0.0840521,-0.0739474,-0.23696,0.80535,0.17438199999999998,0.21565700000000002,0.288831,-0.045626099999999996,0.0491486,0.0424728,0.10684600000000001,0.232692,-0.203328,-0.0602288,-0.369753,0.31701399999999996,0.7420869999999999,0.401089,0.228909,-0.199346,-0.033245800000000006,0.37235799999999997,0.5478310000000001,-0.372444,-0.227836,-0.153628,0.09535969999999999,-0.319358,0.351697,0.305758,0.43331499999999995,0.08685019999999999,0.21764899999999998,0.311423,-0.135801,-0.374213,0.151692,-0.27612,-0.385256,0.554254,-0.114547,0.30704000000000004,0.48177600000000004,0.539324,0.14518499999999998,-0.0381758,-0.198355,-0.030649799999999998,-0.060836400000000006,0.619549,0.225237,0.16079300000000002,0.137574,0.25192600000000004,-0.35789299999999996,-0.32509099999999996,-0.46917600000000004,0.398015,0.387984,-0.206904,-0.30839,-0.204525,-0.175939,0.35020300000000004,-0.0478957,0.18403,0.248969,-0.000979944,0.22474299999999997,0.801221,0.497654,-0.293224,-0.182333,-0.15853499999999998,-0.137399,-0.390463,-0.42998100000000006,-0.49334399999999995,-0.204488,-0.473578,-0.525081,-0.475078,0.691871,0.716067,0.527658,-0.186531,0.0862677,-0.47661099999999995,0.210364,0.179677,-0.0674313,-0.374988,-0.565805,-0.537007,-0.711943,0.654669,0.48712799999999995,0.533749,-0.25300700000000004,0.7163390000000001,0.544157,0.048378199999999996,-0.0059856,0.152578,0.363373,-0.10761300000000001,0.129697,-0.366311,0.09557489999999999,0.601849,0.571892,0.74439,0.353773,0.416293,-0.388908,-0.5872930000000001,0.21473299999999998,0.346536,0.241452,-0.11733800000000001,-0.196825,-0.21088200000000001,-0.197684,-0.22522399999999998,-0.126756,0.298586,0.20852600000000002,0.259911,0.43597299999999994,0.403401,0.365742,0.308992,0.410218,0.489396,0.0929176,-0.322494,0.0586327,-0.016465599999999997,-0.401534,-0.635899,-0.682,-0.17996800000000002,-0.11395799999999999,0.0112818,0.320142,0.08464119999999999,-0.0111553,-0.13076,-0.033193099999999996,0.343323,0.29232800000000003,0.0373957,0.268729,0.23488299999999998,-0.18803399999999998,0.29190900000000003,-0.09963510000000002,-0.173566,-0.393545,-0.28891300000000003,0.07263939999999999,0.113837,0.218297,-0.0174141,0.124247,-0.19606600000000002,-0.327966,0.0505126,0.350026,-0.00314719,-0.232508,-0.253029,0.479882,0.369987,0.42926499999999995,0.668614,0.35488000000000003,0.528061,-0.057694100000000005,0.208404,-0.385264,-0.34274899999999997,-0.22526100000000002,-0.0971923,0.23433600000000002,0.5992069999999999,0.0648262,0.405912,-0.0677337,0.269278,0.23331500000000002,0.386687,0.263312,0.279943,0.223162,0.141316,0.172573,0.174797,0.471124,0.356817,0.49229300000000004,0.155333,0.030956,-0.0654431,-0.100984,-0.30534,0.131865,0.519509,-0.053313099999999995,0.353916,0.267667,0.0717367,0.190985,0.162957,0.273798,0.0937252,0.0359111,0.10363499999999999,-0.103808,0.22920700000000002,0.14717,0.26561599999999996,-0.0505528,0.0975665,0.41921400000000003,-0.012153299999999999,-0.127626,-0.0044534,-0.586505,-0.445338,-0.294495,-0.596037,-0.32582300000000003,0.6685220000000001,0.0313694,0.528778,0.051144199999999994,-0.017855000000000003,0.0191041,0.172493,0.0948285,0.330219,0.231475,-0.214381,0.0262183,-0.00178903,0.225942,-0.036422300000000005,-0.07394919999999999,0.133674,0.253855,-0.308981,-0.28891,-0.53518,-0.344188,-0.253377,-0.10867,0.060051099999999996,-0.413322,-0.157308,-0.505944,-0.308787,-0.23071599999999998,-0.628155,-0.43884300000000004,-0.321917,-0.685531,-0.297054,-0.615549,-0.42527600000000004,-0.22664099999999998,-0.211313,-0.0976199,-0.0819177,-0.286283,0.299675,0.139852,0.265625,0.294423,0.11311800000000001,0.227142,-0.0973388,-0.0597194,0.0718933,-0.091475,0.0700043,-0.0317843,0.295786,0.16888699999999998,0.04444,0.283796,0.149058,0.388675,-0.24679600000000002,-0.16728900000000002,-0.5874550000000001,-0.435465,-0.313265,-0.08443919999999999,-0.027148500000000002,0.2044,0.277883,0.173308,0.0989993,0.324901,0.439716,-0.282012,-0.158173,-0.05575880000000001,-0.0672291,0.00355046,-0.48303599999999997,0.017266999999999998,-0.028772500000000003,-0.217676,-0.12857000000000002,0.209839,0.26533,-0.726232,0.262573,-0.5135649999999999,-0.0973347,-0.133905,-0.145378,-0.08945089999999999,-0.13452,-0.217718,0.194822,0.174075,0.295213,0.0982144,0.19831500000000002,-0.34731300000000004,0.538428,0.738206,-0.06300639999999999,-0.181944,0.00669993,0.48298599999999997,0.147697,0.265904,0.529669,0.516356,0.401262,0.640188,-0.00608737,-0.00247614,-0.271971,-0.398826,0.594737,-0.27839200000000003,-0.522786,-0.5024109999999999,-0.422257,-0.459926,-0.45554399999999995,0.601345,0.505155,0.14540799999999998,0.0392668,-0.261767,-0.148733,-0.429055,-0.697202,-0.506736,-0.17285999999999999,-0.181839,-0.25493699999999997,0.750527,0.7116600000000001,-0.08887089999999999,0.00137112,-0.190104,-0.309083,-0.491113,-0.296003,-0.315614,-0.19694,-0.10242799999999999,-0.178981,-0.00664503,-0.0543216,-0.26922199999999996,-0.11900999999999999,-0.3086,-0.060508900000000004,-0.19808299999999998,-0.36492600000000003,-0.414471,-0.159606,-0.47167,-0.34424699999999997,0.00321049,-0.288605,-0.130116,-0.188447,0.171724,-0.107975,-0.46510200000000007,-0.347171,-0.247294,-0.112901,-0.6148600000000001,-0.5506850000000001,-0.339428,-0.0147901,-0.208483,-0.150342,-0.18348399999999998,0.00747884,-0.5760310000000001,-0.0647392,-0.408125,-0.338179,-0.331806,-0.39355300000000004,-0.101514,-0.049884500000000005,-0.40065500000000004,-0.323909,-0.34952,-0.08608880000000001,-0.47452,-0.411792,-0.45858999999999994,-0.318601,-0.414667,-0.06541699999999999,-0.25743699999999997,0.022855,-0.099634,-0.111524,-0.21561,-0.0883343,-0.639864,-0.304033,-0.523165,-0.31393499999999996,-0.47508100000000003,-0.591827,0.115823,0.144286,-0.115928,-0.103584,-0.102378,0.06384379999999999,-0.16528099999999998,0.16116,0.275476,0.363132,0.479108,0.518396,-0.11827,-0.275906,0.0302817,0.159946,-0.117276,0.24075700000000003,0.11671500000000001,-0.279495,0.36897199999999997,0.0710297,0.317012,0.12403099999999999,0.0252061,0.20674800000000002,-0.0358348,-0.26660500000000004,-0.033377,-0.128994,0.47398900000000005,0.685561,0.55392,0.440196,-0.327819,0.303108,-0.08559030000000001,0.0858595,0.0856337,-0.270923,-0.139751,0.5541510000000001,0.7156170000000001,0.40437,-0.462603,0.38660900000000004,0.389627,0.22763000000000003,-0.269388,-0.31955100000000003,-0.668824,0.09247799999999999,-0.06376119999999999,-0.29163,0.0,-0.293246,-0.244596,0.240736,-0.65749,-0.506602,0.274567,0.0911923,-0.289381,-0.0838197,0.0589927,0.176342,-0.31040700000000004,-0.144084,-0.304771,-0.357126,-0.00669742,-0.270857,0.131103,-0.22513899999999998,-0.183721,-0.323395,-0.0867539,-0.516551,-0.279699,0.029390100000000002,0.09203330000000001,-0.046441500000000004,-0.08278560000000001,0.000947919,-0.22424899999999998,-0.133132,-0.38659,-0.40598,-0.16036,-0.531208,-0.16338,-0.285697,-0.156283,-0.258682,-0.107924,-0.09250610000000001,-0.136642,-0.503638,-0.551716,-0.313318,-0.455172,-0.26720900000000003,0.242898,0.0870857,0.0816526,0.263882,0.0072322,0.05911519999999999,-0.288704,-0.34821599999999997,-0.45632700000000004,-0.588869,-0.648282,-0.38725,0.129306,-0.132212,0.0792793,0.04656180000000001,-0.133733,0.11789100000000001,-0.492483,-0.21311799999999997,-0.358381,-0.114896,-0.570982,-0.393517,0.259212,0.45632799999999996,0.17696099999999998,0.160103,0.12328800000000001,-0.685084,-0.49318500000000004,-0.572391,-0.6550199999999999,-0.596063,-0.757452,-0.364061,-0.5240779999999999,-0.33515,-0.589778,-0.44958000000000004,-0.414009,-0.47766800000000004,-0.595122,-0.495576,-0.544516,-0.581527,-0.6616529999999999,-0.392268,-0.563725,-0.48416499999999996,-0.35601,-0.575194,-0.385592,-0.529224,-0.427126,-0.379844,-0.199864,-0.48998800000000003,-0.514681,-0.157843,-0.471854,-0.45210600000000006,-0.476979,-0.48268999999999995,-0.34726999999999997,-0.588603,-0.62175,-0.458925,-0.42421800000000004,-0.56262,-0.722168,0.202685,-0.0773337,-0.46388500000000005,-0.623088,-0.539728,-0.24898699999999999,-0.511089,-0.613708,-0.387482,-0.660759,-0.6562439999999999,-0.665095,-0.307756,-0.11279000000000002,-0.25472399999999995,0.0349769,-0.529846,-0.519349,-0.217373,-0.00755401,-0.307288,-0.204985,-0.255912,-0.166735,-0.08748,-0.47917299999999996,-0.165665,-0.334219,-0.482571,0.0293847,-0.12306600000000001,-0.042348699999999996,-0.16393,-0.0661526,-0.198324,-0.122456,-0.40862,-0.18179,-0.340273,-0.33661599999999997,-0.240679,-0.5021100000000001,0.0149984,-0.101921,-0.000455857,-0.048911,-0.031238,-0.271123,0.029162900000000002,-0.328421,-0.465663,0.154393,-0.0470236,0.284475,-0.147793,-0.301216,-0.0655116,-0.38660900000000004,-0.22821100000000002,-0.173199,-0.116827,0.308139,-0.6785479999999999,-0.531076,-0.608292,-0.8437459999999999,-0.034742699999999994,-0.264858,-0.41595699999999997,0.20830300000000002,-0.0258478,-0.19023199999999998,-0.398473,-0.18273499999999998,0.0231902,-0.969873,-0.479051,-0.08203099999999999,-0.210207,-0.142047,-0.165339,0.06895830000000001,-0.383496,-0.38040799999999997,-0.45068800000000003,-0.48595299999999997,0.116047,0.21547800000000003,-0.231071,-0.46715500000000004,-0.618979,-0.759364,-0.536779,-0.497859,-0.512842,-0.562213,-0.624488,-0.34042100000000003,-0.480716,-0.39105500000000004,-0.313145,-0.593482,-0.831405,-0.326777,-0.225985,-0.577176,-0.524896,-0.532507,-0.366029,-0.319575,-0.545006,-0.39472399999999996,-0.427254,-0.31604499999999996,-0.642325,-0.18468900000000002,-0.479332,-0.40919099999999997,-0.255159,-0.388365,-0.470778,-0.48261000000000004,-0.246971,-0.522231,-0.11595,-0.45899700000000004,-0.624325,-0.388808,-0.816102,-0.451669,-0.77958,-0.653666,-0.283539,-0.400939,-0.304352,-0.274226,-0.284431,-0.48887200000000003,-0.24276999999999999,-0.017159900000000002,0.116698,0.150893,-0.8958510000000001,-0.400594,-0.33271999999999996,-0.30052199999999996,-0.507251,-0.361509,-0.380945,-0.27459,0.0316638,-0.234202,-0.165428,0.136247,0.550632,0.46334,-0.44001,-0.303544,-0.301597,-0.516419,-0.22676500000000002,-0.397498,-0.8720969999999999,-0.8585309999999999,-0.581836,-0.459029,-1.03164,-0.6951649999999999,-0.414803,-0.364686,-0.42573900000000003,-0.299599,-0.391071,-0.570675,-0.6885140000000001,0.00410085,-0.586113,-0.5815100000000001,-0.339339,-0.457912,-0.43710200000000005,-0.333917,0.0222309,-0.45976300000000003,-0.44946099999999994,-0.311893,-0.00622262,0.0759347,0.22565900000000003,-0.471329,-0.829633,-0.342663,-0.5444,-0.30478299999999997,-0.47453,-0.43189799999999995,-0.16630799999999998,-0.506357,-0.722008,-0.5304840000000001,-0.49266499999999996,-0.53865,-0.387096,-0.508462,-0.628616,-0.23596199999999998,-0.147979,-0.605338,-0.311251,-0.345669,-0.486755,-0.432252,-0.221759,-0.394124,-0.365152,-0.245531,-0.15416300000000002,-0.046104400000000004,-0.126066,-0.0134405,-0.319183,-0.11215499999999999,-0.406715,-0.6268560000000001,-0.5208659999999999,-0.187341,-0.355601,-0.156106,-0.171034,-0.42409399999999997,-0.107369,-0.191465,0.046159399999999996,-0.201629,-0.317949,-0.5487270000000001,-0.5038229999999999,-0.489575,-0.11246400000000001,-0.558592,-0.507869,0.08087539999999999,-0.22735100000000003,-0.500638,-0.146698,-0.0021049,-0.42644499999999996,-0.515536,-0.396067,-0.394854,-0.326185,-0.44781000000000004,0.12136500000000001,-0.387952,-0.239912,0.103197,-0.200951,-0.462104,-0.37809699999999996,-0.174041,-0.538412,-0.23432399999999998,-0.268295,-0.417335,-0.413447,-0.484324,-0.25856799999999996,-0.342005,-0.394637,-0.339147,-0.247867,-0.426708,-0.399328,-0.110874,-0.30034,-0.274742,-0.6582140000000001,-0.359977,-0.328936,-0.480376,-0.43946599999999997,-0.46562299999999995,-0.373909,-0.439567,-0.578186,-0.474074,-0.253396,-0.18551700000000002,-0.3308,-0.5031260000000001,-0.431241,-0.219261,-0.386117,-0.367529,-0.41531,-0.62576,-0.393851,-0.516301,-0.374314,-0.08465299999999999,-0.364626,-0.0322316,-0.312106,-0.0757105,-0.311338,-0.236629,-0.151921,-0.31963800000000003,-0.45799999999999996,-0.41638100000000006,-0.309802,-0.401643,-0.274162,0.258415,-0.137962,-0.032299400000000006,-0.10496099999999998,-0.258227,-0.625866,-0.418192,-0.647562,-0.423309,-0.415292,-0.159425,-0.13938499999999998,-0.474318,-0.49759799999999993,-0.091718,-0.032027999999999994,-0.797671,-0.589885,-0.535281,-0.41726899999999995,-0.519116,-0.649712,-0.261315,-0.29031799999999996,-0.156411,-0.273477,0.139905,-0.11483099999999999,-0.435726,-0.375294,-0.254727,-0.295968,-0.57235,-0.595979,0.0224463,-0.268169,0.0588491,-0.424831,-0.338914,-0.253242,-0.582176,-0.24735,-0.22954699999999997,-0.12466500000000001,-0.22662600000000002,-0.336048,-0.126203,0.0816096,-0.36188200000000004,-0.22090500000000002,0.0126433,0.00434153,-0.5124810000000001,-0.432356,-0.464139,-0.29978,-0.5449609999999999,-0.349075,-0.5392939999999999,-0.808446,-0.27557800000000005,-0.07591569999999999,0.15629500000000002,-0.367095,-0.311379,-0.211523,-0.23543000000000003,0.07421760000000001,-0.173263,0.123298,-0.9087059999999999,-0.801241,-0.0843954,0.163493,0.101315,-0.09008530000000001,0.11986500000000001,0.101884,0.05555369999999999,-0.0938026,0.133022,-0.249977,0.013720600000000001,0.147124,-0.133437,0.06030750000000001,-0.155577,-0.270458,-0.0164678,0.0090809,-0.123394,-0.207456,-0.320309,-0.101721,-0.0648331,0.38679600000000003,0.0931443,-0.398981,0.152835,-0.432137,-0.360466,-0.514305,-0.151785,-0.489058,-0.575645,-0.334258,-0.401792,-0.468218,-0.26709299999999997,-0.221807,-0.521063,-0.5695560000000001,-0.33452600000000005,-0.642664,-0.28817,-0.351132,-0.45241400000000004,-0.314706,-0.48230200000000006,-0.40971199999999997,-0.45236899999999997,-0.44991800000000004,-0.357964,-0.491943,-0.5695399999999999,-0.6977720000000001,-0.618644,-0.38923,-0.5002939999999999,-0.40634000000000003,0.155602,-0.172778,-0.395456,-0.37301999999999996,-0.0328685,-0.066705,-0.6653,-0.5182640000000001,-0.591951,-0.549646,-0.520637,-0.5038560000000001,-0.475688,-0.581846,0.013717600000000002,-0.0891793,-0.7330300000000001,-0.615898,-0.27434000000000003,-0.521419,-0.5378069999999999,-0.202704,-0.47563500000000003,-0.558515,0.139076,-0.199309,0.156685,-0.0969765,-0.266036,-0.334833,-0.297613,-0.499116,-0.301738,-0.515243,-0.406379,-0.206844,-0.012156299999999998,-0.09245439999999999,-0.157799,0.358239,0.158247,-0.0752681,-0.492277,-0.5475,-0.47834499999999996,-0.42522200000000004,-0.52871,-0.230163,-0.07185760000000001,0.072463,0.202934,-0.0812075,-0.0749095,0.114049,-0.561443,-0.575839,-0.24039899999999997,-0.747369,-0.8937,-0.0444346,-0.72836,-0.848031,-0.570154,-0.66445,-0.777885,-0.668932,-0.687325,-0.628326,-0.529605,-0.631969,-0.542679,-0.37194699999999997,-0.377202,-0.6478119999999999,-0.431638,-0.7784810000000001,-0.350009,-0.373172,-0.0752132,-0.101046,0.0139505,-0.267395,-0.13986600000000002,-0.113122,-0.43537200000000004,-0.566446,-0.21583000000000002,-0.331348,-0.635149,-0.405965,-0.409519,-0.0939471,-0.188444,-0.29437399999999997,-0.0442851,-0.43053400000000003,-0.479917,-0.34115300000000004,-0.277412,-0.224741,0.0008608760000000001,-0.333187,-0.14163800000000001,-0.326279,-0.12225599999999999,0.362678,0.5145460000000001,0.682505,0.696365,0.5684279999999999,0.8688110000000001,-0.197298,-0.380542,-0.08160650000000001,0.12201600000000001,0.133438,0.268137,0.563974,0.9007620000000001,0.733861,0.533877,0.508463,0.598755,-0.07688110000000001,0.191709,0.09059869999999999,-0.0563986,-0.10575899999999999,-0.0139059,0.379517,-0.07307469999999999,0.350844,0.287586,0.354667,0.39,0.507513,-0.170992,0.167047,-0.00684978,0.662118,0.402929,0.43226800000000004,0.774976,0.537438,0.553953,0.738742,0.333928,0.501838,0.48836899999999994,0.49503800000000003,0.264876,0.167952,0.0502465,-0.0804254,0.613206,0.6539560000000001,0.641408,0.709367,-0.280549,-0.09869030000000001,-0.0033332,0.383897,0.540083,0.502582,0.333789,0.010590299999999999,0.6230600000000001,0.6665369999999999,0.791864,0.45219899999999996,0.751541,0.46245,0.230517,0.378723,0.5828,0.341364,0.323954,0.16609200000000002,0.600795,-0.398735,-0.27057600000000004,0.057048800000000004,0.909285,-0.47666899999999995,0.287456,0.347435,0.17158800000000002,0.360716,0.514658,0.365738,0.450176,-0.100673,-0.048229900000000006,0.0619856,-0.154533,-0.0378192,-0.0309074,0.387583,0.475613,0.5157470000000001,0.789938,0.484444,0.584845,-0.324837,-0.271715,-0.103735,0.752278,0.503748,-0.280184,0.383019,0.372261,0.348041,0.448161,0.384743,-0.14241800000000002,0.728472,-0.211218,-0.24361300000000002,-0.19736199999999998,0.024850999999999998,0.655319,0.201794,0.250756,0.176843,0.29452,0.33161799999999997,0.5815899999999999,-0.163412,-0.134857,0.315744,-0.390926,-0.4428,-0.663958,0.561686,-0.320128,0.570909,0.789706,0.71751,0.757448,-0.112925,-0.136163,-0.361281,0.0,-0.628426,0.345465,0.8152510000000001,0.813823,0.34791,0.29803,0.5061439999999999,0.7339680000000001,0.00968982,-0.288923,-0.389818,0.325996,0.64439,0.114631,0.7261569999999999,0.545769,0.463001,0.684757,0.611182,0.163708,0.31971,0.635905,0.687127,0.519716,-0.321209,0.392698,0.784716,0.578937,0.6380600000000001,0.452016,0.954498,0.781525,-0.423378,0.560896,0.9423940000000001,-0.170155,0.367667,-0.306304,-0.00849027,-0.00610186,-0.40568200000000004,0.23865999999999998,0.0574752,-0.307429,0.112143,-0.200182,0.215889,0.8383010000000001,-0.253277,-0.414336,0.0,-0.376422,-0.10067999999999999,-0.283442,-0.15599200000000002,-0.447087,-0.397811,0.0276036,0.109274,-0.098088,-0.16407,-0.16934100000000002,-0.23227399999999998,-0.051038400000000005,0.329624,0.41626,0.239519,0.47973299999999997,0.0473748,-0.399323,-0.36240300000000003,-0.094802,-0.43848000000000004,-0.563918,-0.30954899999999996,0.449245,0.21173499999999998,0.41859700000000005,0.24143299999999998,0.343499,0.0,-0.279192,0.193328,0.24906199999999998,0.14137,0.0726978,0.0624856,-0.470929,-0.343643,-0.619158,-0.415411,-0.38069000000000003,-0.1878,-0.5381,-0.42671899999999996,-0.428021,0.22361999999999999,-0.0723732,-0.674821,-0.14407799999999998,-0.354009,-0.0304985,0.452658,-0.228654,-0.370655,-0.47783100000000006,-0.606234,-0.5343979999999999,0.07560560000000001,0.0787457,0.340196,-0.262492,-0.42680100000000004,-0.199543,-0.427817,-0.42308900000000005,-0.213337,-0.0172763,0.035733999999999995,0.09702260000000001,0.29651500000000003,-0.010265,-0.0254077,0.050285199999999995,-0.19880599999999998,-0.152587,-0.110918,-0.10439100000000001,-0.08133839999999999,-0.42211099999999996,-0.278922,-0.0752548,-0.267235,-0.44938900000000004,-0.649522,-0.31859699999999996,-0.269552,-0.222018,-0.11464200000000001,-0.00316758,-0.30887800000000004,-0.640817,-0.52145,-0.571771,-0.356749,-0.32024400000000003,-0.251906],\"y\":[-2.93727,-3.2861800000000008,-2.865730000000001,-3.0395700000000003,-6.574910000000001,-2.7027900000000002,3.6847600000000007,2.2236200000000004,2.254660000000001,3.0680899999999998,4.090580000000001,4.04037,-4.19068,-2.7916800000000004,-3.9713600000000007,-3.6838500000000005,-6.241860000000001,-3.28437,4.15983,5.33017,6.91673,7.975630000000001,4.283640000000001,2.45244,-3.4306300000000007,1.2485,1.4818999999999996,-2.1363600000000007,-0.4560600000000008,-4.595400000000001,5.54302,2.5639600000000007,2.253780000000001,4.309240000000001,-1.6331999999999987,2.71777,-3.7028800000000004,-1.61322,-2.73362,-4.825450000000001,1.4467999999999996,-3.3834600000000012,2.4828800000000006,1.89105,0.40110000000000134,1.91338,2.94247,3.017080000000001,0.05320000000000036,0.9431999999999992,-0.5055700000000005,-2.558810000000001,-3.7260400000000002,-3.6157200000000005,1.796330000000001,2.66327,1.6764100000000006,0.23207000000000022,1.5964500000000008,3.9710800000000006,-5.886080000000001,-5.4752,-4.38116,-4.805930000000001,-3.0978899999999996,-5.566390000000001,2.1016500000000002,2.839010000000001,2.0361899999999995,3.583640000000001,-2.2654999999999994,-0.6699000000000002,-6.232010000000001,-7.060630000000001,-4.694980000000001,-7.44821,-5.685530000000001,-4.01674,2.53252,1.3894000000000002,1.5379699999999996,-1.6803999999999988,7.647170000000001,1.9208600000000011,-4.91553,-3.4339399999999998,-2.75917,-3.3357100000000015,-4.394190000000001,-1.1530699999999996,5.283110000000001,6.138310000000001,6.452590000000001,4.102390000000001,6.17817,3.79981,-5.66757,-3.8916700000000004,-1.46673,-4.4183,-1.0501400000000007,-1.1083100000000012,5.83323,7.220970000000001,5.61627,4.299440000000001,5.13991,6.309620000000001,-1.6774600000000017,-2.897030000000001,-0.9117800000000003,-4.44545,-4.176140000000001,-1.1100200000000005,5.0651,5.7589500000000005,5.5901000000000005,4.48451,5.405320000000001,6.986740000000001,-4.383570000000001,-3.282210000000001,-5.8234900000000005,-2.2135300000000004,-3.9656100000000007,-10.0026498,6.07394,7.44548,6.022780000000001,5.909790000000001,4.3066,4.79312,-6.436120000000001,-3.0179600000000013,-3.2915400000000004,-1.7173800000000004,-0.07390000000000008,-3.8106800000000005,3.204910000000001,3.876730000000001,2.4564700000000004,6.72597,3.5170400000000006,3.08479,-2.108430000000001,-3.9138400000000004,1.8597000000000001,2.09,0.45149999999999935,-6.962490000000001,2.2494899999999998,5.54502,2.0905200000000006,2.32949,3.8068800000000005,4.048540000000001,1.1714000000000002,-2.5985000000000005,-1.7690800000000007,-0.4626999999999999,-1.9644600000000008,-0.6866699999999994,4.8402400000000005,3.290230000000001,7.314450000000001,5.59957,5.43334,4.992980000000001,-3.5074700000000005,-3.6089400000000005,-1.0677400000000006,-2.0082500000000003,-1.9644600000000008,-2.6251300000000004,5.425960000000001,5.1319300000000005,4.400080000000001,6.4924,5.003630000000001,5.93227,-2.5752000000000006,-5.25928,-3.522640000000001,-3.07029,-6.7205200000000005,-3.2328900000000003,3.9577100000000005,4.694190000000001,4.54316,6.049600000000001,6.8933100000000005,4.75267,-2.155360000000001,-1.406930000000001,-2.84509,-2.8238399999999997,-3.1740700000000004,-3.05537,5.57514,5.264150000000001,4.9801,5.927110000000001,5.340140000000001,4.31245,-5.5719,-1.7373200000000004,-2.9298100000000007,-5.49422,-1.4914699999999996,-2.0294500000000006,-1.3087300000000006,3.6199500000000002,5.296290000000001,5.2090700000000005,6.295440000000001,4.475140000000001,4.59647,-5.108340000000001,-3.2696200000000006,-3.0004100000000014,-2.6082100000000015,-2.7150300000000005,-3.691280000000001,5.540000000000001,5.54802,7.437390000000001,5.8383,4.668500000000001,5.8011800000000004,-1.6618000000000013,-2.1746300000000005,-3.6224100000000004,-3.2278000000000002,-2.3169000000000004,-3.04847,7.087340000000001,5.4891700000000005,5.790760000000001,6.092530000000001,4.74396,7.288590000000001,-6.05032,-3.7131000000000007,-4.03286,-2.93412,-3.62486,-3.85022,4.19671,6.056710000000001,9.217768000000001,3.982240000000001,3.4801600000000015,8.49834,-2.4011500000000003,-6.61068,-2.88779,-4.756130000000001,-2.77844,-3.7483200000000005,3.87115,7.715260000000001,4.7642500000000005,6.69412,3.34847,6.230530000000001,-2.2675400000000003,-2.94522,-4.140390000000001,-4.20937,-2.8342800000000006,-5.671280000000001,5.20631,7.86725,3.7678400000000005,3.9655700000000005,7.28486,5.354450000000001,-1.3694699999999997,-2.24247,-1.8735600000000012,-4.409000000000001,-3.5836000000000006,-2.277680000000001,-2.338630000000001,5.7239700000000004,6.781580000000001,5.8803600000000005,5.753290000000001,4.041,4.163810000000001,-5.019240000000001,-5.879600000000001,-2.36867,-1.4490700000000007,-2.673180000000001,2.109,6.29227,3.219680000000001,7.4164900000000005,5.804950000000001,4.34257,5.886900000000001,-4.6789700000000005,-1.9149700000000003,-4.103960000000001,-3.53341,-1.3253400000000006,-2.0973500000000005,1.3227899999999995,4.1589100000000006,4.902630000000001,5.24362,5.74124,4.277690000000001,-2.4150100000000014,-3.12017,0.5103999999999989,0.5408999999999988,-3.5689900000000003,-2.3875200000000003,3.87237,4.863040000000001,4.304100000000001,7.08811,4.83472,7.044550000000001,-5.749560000000001,-4.42617,-4.6145000000000005,-5.5221100000000005,-7.239590000000001,-5.97395,6.74026,4.547680000000001,5.8773100000000005,5.957800000000001,4.79237,7.7814000000000005,-1.7379499999999997,-1.785260000000001,-2.6858200000000005,-3.1827199999999998,-3.918100000000001,-3.28202,5.768180000000001,6.8746100000000006,4.7693200000000004,5.761620000000001,7.045140000000001,4.243040000000001,-4.931580000000001,-1.47574,-6.656370000000001,-4.86052,-1.135200000000001,-1.6056899999999992,5.073740000000001,5.5155,4.7841000000000005,5.923430000000001,5.24371,3.667790000000001,-5.326530000000001,-4.17454,-5.1774000000000004,-1.7884399999999996,1.8612000000000002,-8.07534,3.63476,6.145240000000001,6.391430000000001,5.96318,5.594830000000001,6.12607,-3.9035100000000007,-4.176640000000001,-2.1594000000000007,-2.80004,-2.635110000000001,-3.6036400000000004,6.326650000000001,4.406340000000001,6.579130000000001,5.487630000000001,6.07172,5.81179,-2.9712200000000006,-4.92797,-2.666260000000001,-2.4476500000000003,-5.413320000000001,-2.9171000000000005,4.53477,5.48956,5.63693,5.906390000000001,4.868730000000001,5.35077,-3.78791,-1.9907000000000004,-3.596450000000001,-6.77051,-2.9526899999999996,-2.0499600000000004,-1.9360400000000002,3.19444,3.7602700000000002,4.74985,3.714600000000001,5.813650000000001,4.91556,-4.83035,-3.9633000000000003,-1.2698400000000003,-3.5581900000000006,-1.36482,-1.7098300000000002,-4.31575,4.282990000000001,4.6300300000000005,5.126340000000001,4.895030000000001,4.1033800000000005,3.7196300000000004,-2.86102,-3.8342600000000004,-2.226750000000001,-7.306850000000001,-3.3150000000000004,-3.8554900000000005,6.91321,7.1273,8.283370000000001,5.3132,3.804690000000001,6.052130000000001,-1.1966300000000007,-3.46279,-2.92565,-5.488160000000001,1.0191,1.5273000000000003,5.809380000000001,4.12627,6.64091,7.1971300000000005,6.01947,6.91063,1.2296999999999993,2.5762,-1.6424699999999994,-1.7662600000000008,-2.97154,6.95922,5.3864600000000005,6.033180000000001,6.42305,6.217410000000001,4.899450000000001,-3.1181800000000006,-2.744630000000001,-5.59632,-6.19143,-3.1116900000000003,-5.20837,6.2090700000000005,4.16647,6.1237900000000005,5.29685,4.655480000000001,4.490190000000001,-6.245830000000001,-4.204440000000001,-2.57127,-5.71602,-6.152290000000001,-6.24676,6.054010000000001,4.195180000000001,6.1916400000000005,2.2442800000000007,5.621,6.1085400000000005,-2.970650000000001,-3.3074399999999997,-4.00117,-3.8876300000000006,-2.2259900000000004,-7.28495,4.250630000000001,3.6248500000000003,5.80041,2.1996899999999995,3.3353399999999995,1.6662800000000004,-3.6584700000000003,-3.75396,-4.305160000000001,-3.0924899999999997,-2.87514,-2.762030000000001,4.294510000000001,3.3857300000000006,2.776230000000001,4.262340000000001,2.5788399999999996,5.355340000000001,-4.478130000000001,-4.3363700000000005,-2.9960899999999997,-1.88293,-3.4915899999999995,0.7324000000000002,-3.062199999999999,1.4301500000000011,2.97042,2.057760000000002,3.34462,3.0518,4.340310000000001,-5.86657,-5.95301,-2.1542399999999997,0.7547999999999995,-2.494080000000001,-3.0342700000000002,6.36286,5.71074,4.7849200000000005,6.461780000000001,6.00576,5.30276,-4.775130000000001,-3.9740900000000003,-2.6291700000000002,-2.1845100000000013,-3.3137100000000013,-3.1161700000000003,3.094780000000001,2.6245000000000003,2.878050000000001,2.334760000000001,4.832800000000001,4.32486,-1.7026000000000003,-3.3737899999999996,-4.641180000000001,1.0738000000000003,-3.7804,-5.181690000000001,1.7638200000000008,2.245260000000001,1.7173300000000005,3.21249,2.5823600000000013,3.9919400000000005,-4.60665,-3.31579,1.5886999999999993,-5.435480000000001,-3.0821500000000004,-3.5780900000000004,3.67145,2.388750000000001,5.3978600000000005,3.020360000000001,2.52532,1.7017500000000005,-4.984800000000001,1.7253999999999987,-2.3024500000000003,-4.93451,-4.1699600000000006,-1.6108000000000011,4.47599,4.04128,2.65282,4.348530000000001,4.147430000000001,4.441940000000001,-3.6759700000000004,-2.3770300000000004,-5.847130000000001,-3.9200600000000003,-1.883939999999999,-3.433480000000001,2.61442,3.43912,3.008980000000001,4.75372,3.5754800000000007,1.9950200000000002,-4.983130000000001,-4.38971,-5.67997,-3.288500000000001,-5.25806,-5.20206,3.4757000000000007,1.1646900000000002,1.2763100000000005,1.83765,1.63598,2.3341000000000003,-4.618240000000001,-4.4237,-8.13852,-6.577940000000001,-5.493640000000001,-6.064300000000001,-1.1594999999999995,1.0282499999999999,3.3307,-2.2866999999999997,2.9516800000000005,-0.6734999999999989,-2.37782,-5.5478000000000005,-9.072791,-6.110100000000001,-5.01081,-4.115430000000001,-5.71842,0.9298400000000004,-1.489799999999999,1.92502,3.0055000000000005,2.556960000000001,-2.2322999999999986,-6.50277,-5.132280000000001,-5.06147,-6.86481,-5.19867,-7.1674500000000005,-6.321110000000001,4.13116,3.698640000000001,5.186260000000001,2.9580100000000007,-1.4450000000000003,5.4287600000000005,-1.6240000000000006,-4.27607,-6.5375700000000005,-4.681050000000001,-5.0555900000000005,-4.88351,-3.934050000000001,4.2589500000000005,-1.2851999999999997,1.6514800000000012,-2.251899999999999,2.75052,-1.8279999999999994,-6.017780000000001,-6.890930000000001,-4.94782,-4.12542,-5.148280000000001,-4.46647,0.5510700000000011,3.6296600000000003,2.20007,-2.175699999999999,-2.667299999999999,1.6711500000000008,-6.04464,-5.73801,-5.564230000000001,-3.7812300000000008,-6.7967900000000006,-6.001550000000001,2.4831899999999996,6.683280000000001,3.22647,2.332980000000001,3.0712200000000003,2.57939,-4.02521,-4.60756,-5.3014,-5.26184,-6.29616,-4.7377,3.5798000000000005,-1.7043,2.4471100000000012,5.01131,4.71427,4.19712,-4.668850000000001,-5.224990000000001,-5.85332,-5.40615,-4.65071,-4.716540000000001,0.8822800000000015,3.36022,3.06879,3.69709,7.10111,4.021610000000001,-5.37772,-4.93045,-5.58539,-4.3422600000000005,-5.52559,-6.56991,3.8969000000000005,2.18572,3.2639899999999997,4.76449,4.634880000000001,2.590560000000001,-9.931624000000001,-5.060910000000001,-7.57992,-5.895910000000001,-6.342410000000001,-8.07718,1.7317300000000007,1.4926600000000008,6.003450000000001,3.852380000000001,3.297430000000001,-1.819799999999999,-4.70431,-7.32793,-5.435910000000001,-4.7898700000000005,-6.38656,-7.69576,1.984,4.693600000000001,2.20822,3.0510900000000003,4.00856,3.7058600000000004,-5.2689,-5.017480000000001,-3.10144,-4.8006,-4.576200000000001,-4.62012,1.4269800000000004,2.9677300000000004,4.283690000000001,2.8399400000000004,3.3576300000000012,1.9732900000000004,-3.3940300000000008,-6.01003,-2.524680000000001,-5.06601,-6.29593,-6.024240000000001,4.26637,3.267760000000001,2.7189500000000004,5.414160000000001,2.60325,4.47182,-7.31838,-3.843630000000001,-5.585750000000001,-5.86547,-3.69092,-4.0394000000000005,6.0414,7.986740000000001,4.88996,6.011590000000001,3.1371200000000004,3.05159,-4.391140000000001,-4.5861,-5.05576,-7.88245,-5.763610000000001,-5.560130000000001,2.5147700000000004,4.46342,0.680200000000001,-1.2157,-1.2698999999999998,4.32157,-3.4421500000000007,-6.414820000000001,-6.026040000000001,-4.6303600000000005,-4.78002,-3.87751,3.005630000000001,-0.031200000000000117,-0.7600999999999996,-1.2565999999999988,8.112860000000001,9.476511,-3.479380000000001,-6.672280000000001,-6.2679100000000005,-3.3856,-2.8025600000000015,-4.93287,7.672750000000001,9.338461,8.882940000000001,-2.324,-3.5276999999999994,7.78751,-6.49859,-4.87018,-2.8735300000000006,-5.8223400000000005,-4.33124,-4.195240000000001,0.0,-3.3821700000000003,-10.1465517,-4.06289,-5.72817,-7.505170000000001,5.0140400000000005,5.8434800000000005,3.2421300000000004,3.4574500000000006,4.6730100000000006,3.8683900000000007,-2.437380000000001,-6.574890000000001,-3.7874800000000004,-4.270600000000001,-5.132790000000001,-2.5357000000000003,3.8005700000000004,3.1395500000000007,4.115130000000001,2.936750000000001,6.3707400000000005,4.0822,-5.17467,-5.90221,-2.7191,-4.78221,-0.9978499999999997,-0.04150000000000098,3.5011600000000014,3.338330000000001,3.4256800000000007,3.011800000000001,3.0856200000000005,3.1037800000000004,-5.663250000000001,-4.87221,-6.48857,-6.460650000000001,-5.689590000000001,-5.930300000000001,2.9848800000000004,3.7599100000000005,3.81562,3.4199399999999995,0.4966000000000008,4.706440000000001,-3.0608700000000004,-6.30561,-2.7291100000000013,-2.5115500000000006,0.12139999999999951,0.1264000000000003,3.071460000000001,2.9840500000000008,2.31165,-0.33779999999999966,2.3673900000000003,3.21854,-0.24544999999999995,-1.9352999999999998,1.0782999999999987,-0.7894300000000012,-1.3811100000000014,1.0208999999999993,7.171000000000001,6.723540000000001,5.28531,7.4642,5.83588,5.6094100000000005,0.404399999999999,0.34559999999999924,-0.6930899999999998,1.7775999999999996,-0.2791100000000011,6.82216,6.20912,5.668830000000001,5.164610000000001,5.888660000000001,5.87119,-3.7706300000000006,-4.103700000000001,-2.893930000000001,-2.6817200000000003,0.3288999999999991,-3.87097,5.292590000000001,6.28421,4.817780000000001,6.299190000000001,6.465210000000001,5.50512,-4.180400000000001,-4.69251,-2.39722,0.4897999999999989,-0.29873000000000083,-2.43952,4.86169,4.616780000000001,5.62628,5.1957,5.56676,4.99361,-3.0796100000000015,-5.19881,-3.1794399999999996,-4.71452,1.3671999999999986,-2.4832600000000014,6.430280000000001,4.646000000000001,4.71802,5.39723,5.987940000000001,6.652180000000001,-6.034630000000001,-4.951250000000001,-0.7007300000000001,-0.6333400000000005,2.950899999999999,-5.447710000000001,5.709230000000001,5.40447,4.948330000000001,6.57387,5.041740000000001,5.81254,-3.0586200000000003,-2.15104,-3.78111,-4.769990000000001,-4.79982,3.2769999999999992,6.6302900000000005,5.3929100000000005,5.626480000000001,6.67783,4.7041,6.50902,-3.45247,-1.2016600000000004,-3.6756800000000007,-6.1942,2.459999999999999,-3.31022,6.929600000000001,7.17286,6.006130000000001,5.8371900000000005,4.726030000000001,5.8754100000000005,-4.136330000000001,-5.45176,-4.932080000000001,-7.081790000000001,-4.056830000000001,-1.9726100000000013,6.507790000000001,5.53186,5.448290000000001,5.756200000000001,5.343800000000001,6.837750000000001,-3.6912900000000004,-8.53213,-6.1785000000000005,-4.93285,-3.4391800000000003,-2.4663700000000004,5.61495,4.2773900000000005,4.22785,5.624750000000001,5.91225,5.804340000000001,-4.4245600000000005,2.2136999999999993,-3.1996700000000002,-3.0365,-3.10684,0.773299999999999,4.27491,4.974950000000001,5.70471,5.52249,6.105830000000001,6.5214300000000005,-3.1482200000000002,-6.87509,1.0340000000000007,1.0977999999999994,-5.459530000000001,-7.94495,7.37696,6.24549,5.92091,5.36624,5.472160000000001,4.1512400000000005,-6.01785,-2.9118700000000004,1.3843999999999994,2.4428,-3.759240000000001,-3.6910600000000002,5.9091000000000005,5.650810000000001,5.34271,5.017180000000001,5.511550000000001,5.888090000000001,-0.7152899999999995,-3.8611700000000004,-1.769210000000001,-3.0103800000000005,-3.18799,2.070999999999998,5.861740000000001,5.90336,5.102990000000001,5.611890000000001,5.69597,4.99075,-3.46654,-2.7487600000000008,-4.094900000000001,-3.128660000000001,-4.0651,-6.67915,6.22191,5.05611,5.442130000000001,5.9764100000000004,6.491140000000001,4.689780000000001,-5.1113100000000005,-3.251760000000001,-3.5700400000000005,-2.104680000000001,-5.24641,-6.696290000000001,7.893330000000001,8.91291,8.258320000000001,6.020560000000001,4.017040000000001,-1.8149999999999995,-3.92377,-4.1923200000000005,-4.522480000000001,-3.76581,-4.262250000000001,-2.87472,4.074630000000001,2.828030000000001,5.59056,0.9527199999999993,-0.6588999999999992,1.4176600000000015,-4.352320000000001,-4.0653500000000005,-3.5887000000000002,-2.482030000000001,-2.752010000000001,-2.7421500000000005,-0.07369999999999877,4.918780000000001,3.50227,3.115360000000001,-0.6452999999999989,3.6934000000000005,-2.4618800000000007,-3.0725000000000007,-0.08730000000000082,-4.03195,-5.0857,-3.422360000000001,3.8130700000000006,6.070380000000001,5.958,6.148390000000001,-1.4917999999999996,5.19425,-3.3948600000000013,-3.0660500000000006,-3.756430000000001,-5.188630000000001,-3.18489,1.5556999999999999,7.92766,8.59126,1.835139999999999,9.851213000000001,6.92478,3.9174100000000003,-3.4134700000000002,-4.3105,-9.120507,1.2490000000000006,-3.0303200000000006,-1.925180000000001,1.5653000000000006,3.3095500000000007,-0.7421999999999986,2.2945900000000004,4.00569,4.1544300000000005,-2.4406800000000004,-3.4585300000000005,-2.6017300000000008,-3.12244,-4.971400000000001,-3.5237500000000006,8.09967,6.289020000000001,6.498900000000001,6.21588,6.32249,5.772100000000001,-3.8835700000000006,-2.239130000000001,-4.619790000000001,-4.840310000000001,-4.220830000000001,0.49160000000000004,5.605300000000001,6.051010000000001,5.75755,5.15394,7.00046,5.10707,-6.452280000000001,-5.817550000000001,-5.39877,-5.061330000000001,-6.4482800000000005,-6.345180000000001,5.29542,5.268190000000001,5.67065,6.616300000000001,5.69867,5.443030000000001,-4.78697,-1.8317200000000007,-5.3737200000000005,-4.36597,-6.416580000000001,-3.9889300000000008,5.450290000000001,5.41572,5.89228,5.43017,5.073640000000001,6.484780000000001,-4.482430000000001,-4.969410000000001,-5.671640000000001,-4.23575,-5.4562100000000004,-5.7212700000000005,6.756740000000001,4.8140600000000004,5.34665,7.21007,4.5099800000000005,-5.373410000000001,-6.507300000000001,-4.209020000000001,-9.01715,-5.068430000000001,-4.8677600000000005,5.89482,5.1931,5.96705,4.77717,6.275040000000001,5.684940000000001,-2.8831300000000004,-3.3746800000000006,-3.03829,-2.1055800000000007,-1.6859300000000008,-4.6487300000000005,5.788730000000001,6.515510000000001,7.20852,6.82461,6.126380000000001,5.264780000000001,-3.99739,-3.0017899999999997,0.3703000000000003,-3.050560000000001,-3.831880000000001,-5.888260000000001,7.41498,5.732060000000001,5.51891,5.14395,5.71631,6.562880000000001,-4.71154,-3.412960000000001,-3.609750000000001,-0.28129000000000026,-4.869680000000001,-3.0910900000000003,5.038760000000001,5.009880000000001,6.55537,6.140630000000001,5.84865,6.142430000000001,-5.16021,-4.528030000000001,-7.446960000000001,-5.20096,-5.10491,-4.156930000000001,4.230860000000001,5.556240000000001,3.8872400000000003,6.2660800000000005,6.12429,4.8559600000000005,-7.02271,-5.249160000000001,-5.31161,-5.12666,-7.158580000000001,-5.231240000000001,3.9504300000000008,5.235430000000001,4.84295,5.765070000000001,6.75935,5.16952,-5.944660000000001,-4.271190000000001,-4.366510000000001,-5.61522,-4.252190000000001,-5.95057,7.00826,5.72456,4.5326200000000005,4.91892,5.077400000000001,5.4099900000000005,-5.12106,-5.68531,-6.14419,-5.588010000000001,-6.34197,-3.767830000000001,4.678750000000001,4.53497,4.485250000000001,5.959230000000001,5.71297,4.96644,-4.6570800000000006,-6.25521,-4.98332,-5.9120800000000004,-6.37807,-6.502540000000001,5.25507,4.69761,5.5128900000000005,4.8303400000000005,5.12141,5.07131,-7.9875300000000005,-5.40995,-5.60322,-3.9457900000000006,-6.91216,-6.8506100000000005,2.397360000000001,2.7447800000000004,5.966130000000001,3.988080000000001,3.8508500000000003,1.5830000000000002,-2.20184,-8.070260000000001,-5.18926,-3.88811,-3.2126100000000015,-4.255840000000001,2.3651800000000005,3.6162400000000003,5.842960000000001,4.83499,6.019290000000001,5.68471,-6.8325700000000005,-8.208,-2.274980000000001,-3.45017,-0.5346800000000016,-5.34705,5.062340000000001,6.1396500000000005,5.5958000000000006,5.109890000000001,7.0571600000000005,6.880280000000001,-2.0668300000000004,-0.34813000000000116,-2.85192,-1.24634,-5.47077,-2.72239,6.17446,5.9014500000000005,5.361470000000001,5.611490000000001,4.46591,6.31921,-2.9651500000000004,-2.7559700000000005,-4.947590000000001,-4.188090000000001,-2.773030000000001,-6.92694,6.03626,6.149230000000001,5.5094,5.428570000000001,6.13617,6.230600000000001,-3.8405700000000005,-4.12762,-4.48385,-4.946350000000001,-3.1836800000000007,-3.403710000000001,4.71551,5.85995,4.143190000000001,4.93117,4.07584,6.14437,-1.60994,0.1064999999999987,-2.6520100000000006,-2.691410000000001,-3.2085300000000005,0.8335999999999988,5.351440000000001,6.32685,5.0546500000000005,6.85759,3.86266,6.177100000000001,-6.313400000000001,-6.67325,-4.83832,-4.884640000000001,-5.29131,-5.1900900000000005,6.4369000000000005,7.08363,6.40312,6.57245,6.24777,6.1911000000000005,-6.89498,-9.556036,-5.41586,-3.6293500000000005,-6.55046,-6.761340000000001,4.382510000000001,6.17872,6.45892,5.019710000000001,4.8916200000000005,5.61022,-2.8315200000000003,-5.32061,-3.416810000000001,-5.69927,-4.87572,-6.794640000000001,5.080140000000001,5.582120000000001,5.02986,4.6205300000000005,4.674580000000001,6.62097,-5.95292,-0.45248999999999917,-2.364750000000001,2.028699999999999,0.7222999999999988,-0.8358899999999991,6.2668800000000005,5.01652,4.90222,6.2583400000000005,5.01958,5.106980000000001,-2.3190300000000006,-5.69376,-1.3245100000000019,0.8920999999999992,-1.5066900000000008,-4.6293500000000005,5.97095,5.3811100000000005,4.43496,6.563730000000001,6.48587,4.2658700000000005,-0.82958,0.8044999999999991,-4.202100000000001,-4.426430000000001,-2.24259,-6.047180000000001,5.687460000000001,6.85205,5.42471,6.301130000000001,3.88025,4.5997,-2.45057,-3.2549200000000003,-4.03517,-4.39042,-2.447160000000001,-5.949480000000001,6.04626,6.19492,6.462350000000001,4.89376,5.234100000000001,6.038430000000001,-3.5900300000000005,-4.048050000000001,-5.509860000000001,-0.17246000000000095,-3.0396100000000015,-4.13482,4.873430000000001,5.491960000000001,5.614260000000001,6.2999600000000004,4.0481300000000005,4.9516800000000005,-4.1637200000000005,-3.9370200000000004,-6.7978000000000005,-2.013110000000001,-3.1802,-0.8773100000000014,-1.3114500000000007,-3.0844700000000005,-3.4915200000000004,6.189260000000001,4.764240000000001,5.601190000000001,4.89527,5.366580000000001,4.453730000000001,-4.619940000000001,-1.2581800000000012,-3.5436700000000005,-4.3504700000000005,-1.8222600000000018,-3.300910000000001,6.701590000000001,6.46236,4.657100000000001,5.554410000000001,5.070900000000001,3.5879600000000007,-2.7494700000000005,-4.073290000000001,-4.452850000000001,-2.0762100000000014,-4.972430000000001,-3.18279,0.85304,3.78352,1.9600500000000007,3.928230000000001,1.9020600000000005,3.130750000000001,3.5141400000000003,-2.8256500000000004,-6.55639,-2.2431800000000006,-3.0719399999999997,-1.3352199999999996,-1.8327399999999994,2.437760000000001,5.650830000000001,3.417060000000001,3.0096500000000006,5.25472,3.8479400000000004,-0.4621399999999998,0.48269999999999946,-2.3749100000000007,-2.2158500000000005,-0.4121100000000002,-2.1892000000000005,4.4622,4.8658600000000005,6.963590000000001,3.31874,3.93497,4.02622,-2.5170500000000002,1.8826999999999998,-1.5328499999999998,-1.9443600000000014,1.900599999999999,-3.0313800000000004,6.69758,6.255510000000001,5.00738,6.356480000000001,5.587400000000001,6.114180000000001,-2.475650000000001,-2.0734200000000005,-7.747770000000001,-3.4981100000000014,-1.6536399999999993,1.159699999999999,5.43465,3.9261600000000003,4.69872,6.30996,7.449730000000001,5.034540000000001,-0.9543499999999998,-1.2935999999999996,-3.63337,2.7882999999999996,3.715399999999999,-4.0619000000000005,-1.4503199999999996,4.48492,4.4496,6.252600000000001,5.4914700000000005,3.97041,7.18609,-4.072550000000001,-4.841540000000001,-5.013000000000001,-5.12964,-6.18841,-7.33093,6.552290000000001,5.989890000000001,4.83066,4.90827,4.490080000000001,6.312800000000001,-3.1739500000000005,-3.9286400000000006,0.3747999999999987,-1.3513900000000003,-0.6898600000000012,-4.16221,4.07496,3.919740000000001,6.02111,4.72267,6.98517,3.5424000000000007,-1.4136900000000008,-1.8430900000000001,-2.359280000000001,1.8729999999999993,1.9139999999999997,0.17249999999999943,1.1623300000000008,6.011500000000001,4.24075,4.06988,2.7853000000000003,2.70765,-4.374180000000001,-4.19022,-5.649490000000001,-5.94047,-5.97586,-5.079840000000001,7.0454300000000005,0.9566800000000004,-0.8828999999999994,-0.0,3.4105000000000008,3.5587600000000004,-4.0527500000000005,-3.987590000000001,-5.86261,-5.94678,-4.816400000000001,-4.65462,4.6818800000000005,5.763920000000001,4.213500000000001,5.643080000000001,4.0463000000000005,6.393630000000001,-2.450280000000001,-5.56125,-7.905150000000001,-4.46847,-4.956530000000001,-4.739130000000001,4.255230000000001,4.1942200000000005,4.9160900000000005,4.94611,5.86143,7.187100000000001,-6.66936,-6.0722000000000005,-5.85634,-6.061960000000001,-4.84731,-4.79654,3.5146500000000005,2.6837100000000014,3.08605,5.51312,6.28407,0.4496500000000001,-3.36059,-6.43672,-6.00736,-6.530100000000001,-6.31446,-4.3804300000000005,6.3592,7.739380000000001,4.930960000000001,6.8415300000000006,5.978040000000001,4.612830000000001,0.0,-9.180231000000001,-4.37007,-3.172430000000001,-5.70871,-5.76537,-5.13442,1.6043000000000003,3.304830000000001,2.4777700000000005,1.62167,4.40866,3.3158600000000007,2.0304,-3.2462100000000014,-2.1736500000000003,0.2898999999999994,-4.876860000000001,-3.8887300000000007,2.0247200000000003,2.6126899999999997,3.5526100000000005,3.306400000000001,2.7265500000000005,3.6634700000000002,-2.760160000000001,-2.16434,-4.65001,1.2716999999999992,-1.1842699999999997,0.0,6.52502,5.53359,6.834910000000001,6.87574,6.275460000000001,6.4255700000000004,-3.80882,-3.053510000000001,-2.0313499999999998,-2.5696700000000003,0.6608999999999998,-2.57472,5.642330000000001,6.20129,7.4474100000000005,7.018420000000001,4.6767900000000004,4.86392,-4.22027,-2.5577199999999998,-2.79777,-9.550596,-1.2133100000000017,0.01019999999999932,4.339510000000001,5.9884,6.66967,6.168660000000001,5.21896,5.477580000000001,-4.318030000000001,-2.5784100000000008,-4.2413300000000005,-1.6260899999999996,-3.7478100000000003,-10.197705000000001,5.740630000000001,5.03777,6.768650000000001,4.074590000000001,6.291650000000001,7.16912,-5.743460000000001,-5.95659,-5.922820000000001,-5.37582,-5.493380000000001,-6.731580000000001,1.6902600000000003,6.3041,1.9682300000000001,4.075080000000001,6.293330000000001,-2.054499999999999,-6.623330000000001,-7.4307,-7.045670000000001,-5.7636400000000005,-7.287940000000001,-4.852900000000001,5.69972,6.252460000000001,5.2914,5.24327,7.13486,6.578760000000001]}},\"id\":\"b164ac49-7b9b-48a3-a0b8-d778b6a92c08\",\"type\":\"ColumnDataSource\"},{\"attributes\":{},\"id\":\"59c8c4ab-edf3-49f0-8f6a-31749797faad\",\"type\":\"BasicTickFormatter\"},{\"attributes\":{\"data_source\":{\"id\":\"b164ac49-7b9b-48a3-a0b8-d778b6a92c08\",\"type\":\"ColumnDataSource\"},\"glyph\":{\"id\":\"a002e04e-1c26-4957-a106-bd149b7995fa\",\"type\":\"Circle\"},\"hover_glyph\":null,\"nonselection_glyph\":{\"id\":\"b3816af5-abfd-458d-ac57-440a8c70144f\",\"type\":\"Circle\"},\"selection_glyph\":null},\"id\":\"2ec63dbc-c19d-4a02-a93c-3603c750586f\",\"type\":\"GlyphRenderer\"},{\"attributes\":{\"fill_color\":{\"value\":\"#1f77b4\"},\"line_color\":{\"value\":\"#1f77b4\"},\"x\":{\"field\":\"x\"},\"y\":{\"field\":\"y\"}},\"id\":\"a002e04e-1c26-4957-a106-bd149b7995fa\",\"type\":\"Circle\"},{\"attributes\":{\"overlay\":{\"id\":\"a765f0fd-8061-466b-b0e0-8d99bf2e70a7\",\"type\":\"BoxAnnotation\"},\"plot\":{\"id\":\"81203f8d-ef7e-47ed-af45-983d688bc477\",\"subtype\":\"Figure\",\"type\":\"Plot\"}},\"id\":\"e5a46534-4ac5-4cd3-b91e-dd451e03c388\",\"type\":\"BoxZoomTool\"},{\"attributes\":{\"callback\":null,\"plot\":{\"id\":\"81203f8d-ef7e-47ed-af45-983d688bc477\",\"subtype\":\"Figure\",\"type\":\"Plot\"},\"tooltips\":[[\"Bowler\",\"@Bowler\"],[\"Batsman\",\"@Batsman\"],[\"Bounce Speed km/h\",\"@speed\"],[\"Release Speed km/h\",\"@rspeed\"]]},\"id\":\"fd3af0f1-9f2a-4f21-8806-75a5f7ffe782\",\"type\":\"HoverTool\"},{\"attributes\":{\"callback\":null},\"id\":\"599ab41e-2872-4d58-87d4-7ee67d1eb7fe\",\"type\":\"DataRange1d\"},{\"attributes\":{\"formatter\":{\"id\":\"7be594df-2dbf-4fbf-bd19-7aa0cad775ce\",\"type\":\"BasicTickFormatter\"},\"plot\":{\"id\":\"81203f8d-ef7e-47ed-af45-983d688bc477\",\"subtype\":\"Figure\",\"type\":\"Plot\"},\"ticker\":{\"id\":\"7e3606ae-f916-4652-8424-381d132305be\",\"type\":\"BasicTicker\"}},\"id\":\"6ff4f772-a1fd-477c-880a-333025800897\",\"type\":\"LinearAxis\"},{\"attributes\":{\"bottom_units\":\"screen\",\"fill_alpha\":{\"value\":0.5},\"fill_color\":{\"value\":\"lightgrey\"},\"left_units\":\"screen\",\"level\":\"overlay\",\"line_alpha\":{\"value\":1.0},\"line_color\":{\"value\":\"black\"},\"line_dash\":[4,4],\"line_width\":{\"value\":2},\"plot\":null,\"render_mode\":\"css\",\"right_units\":\"screen\",\"top_units\":\"screen\"},\"id\":\"a765f0fd-8061-466b-b0e0-8d99bf2e70a7\",\"type\":\"BoxAnnotation\"},{\"attributes\":{},\"id\":\"7be594df-2dbf-4fbf-bd19-7aa0cad775ce\",\"type\":\"BasicTickFormatter\"},{\"attributes\":{},\"id\":\"7e3606ae-f916-4652-8424-381d132305be\",\"type\":\"BasicTicker\"},{\"attributes\":{},\"id\":\"42224224-3cd2-4678-96f3-e13f30524833\",\"type\":\"ToolEvents\"},{\"attributes\":{\"plot\":{\"id\":\"81203f8d-ef7e-47ed-af45-983d688bc477\",\"subtype\":\"Figure\",\"type\":\"Plot\"}},\"id\":\"ebf8f820-961c-4ab1-91bf-4358e445a2fc\",\"type\":\"ResetTool\"},{\"attributes\":{\"plot\":null,\"text\":\"Mouse over the dots\"},\"id\":\"3c120464-87dd-4645-985c-67e54a897ce3\",\"type\":\"Title\"},{\"attributes\":{},\"id\":\"21bcc1d3-8de3-4ae4-b7dd-280e4a106ccf\",\"type\":\"BasicTicker\"},{\"attributes\":{\"callback\":null},\"id\":\"0cf4a029-574d-49c9-b57b-00272d85e6a9\",\"type\":\"DataRange1d\"},{\"attributes\":{\"fill_alpha\":{\"value\":0.1},\"fill_color\":{\"value\":\"#1f77b4\"},\"line_alpha\":{\"value\":0.1},\"line_color\":{\"value\":\"#1f77b4\"},\"x\":{\"field\":\"x\"},\"y\":{\"field\":\"y\"}},\"id\":\"b3816af5-abfd-458d-ac57-440a8c70144f\",\"type\":\"Circle\"},{\"attributes\":{\"plot\":{\"id\":\"81203f8d-ef7e-47ed-af45-983d688bc477\",\"subtype\":\"Figure\",\"type\":\"Plot\"},\"ticker\":{\"id\":\"7e3606ae-f916-4652-8424-381d132305be\",\"type\":\"BasicTicker\"}},\"id\":\"8c016a19-9d47-4b15-8ca6-c38b28b53bcc\",\"type\":\"Grid\"},{\"attributes\":{\"active_drag\":\"auto\",\"active_scroll\":\"auto\",\"active_tap\":\"auto\",\"tools\":[{\"id\":\"fd3af0f1-9f2a-4f21-8806-75a5f7ffe782\",\"type\":\"HoverTool\"},{\"id\":\"e5a46534-4ac5-4cd3-b91e-dd451e03c388\",\"type\":\"BoxZoomTool\"},{\"id\":\"ebf8f820-961c-4ab1-91bf-4358e445a2fc\",\"type\":\"ResetTool\"}]},\"id\":\"8c4f57fc-6a92-434b-a550-981519e97977\",\"type\":\"Toolbar\"},{\"attributes\":{\"dimension\":1,\"plot\":{\"id\":\"81203f8d-ef7e-47ed-af45-983d688bc477\",\"subtype\":\"Figure\",\"type\":\"Plot\"},\"ticker\":{\"id\":\"21bcc1d3-8de3-4ae4-b7dd-280e4a106ccf\",\"type\":\"BasicTicker\"}},\"id\":\"54989d83-b807-4758-ae9b-dc64cb692628\",\"type\":\"Grid\"},{\"attributes\":{\"below\":[{\"id\":\"6ff4f772-a1fd-477c-880a-333025800897\",\"type\":\"LinearAxis\"}],\"left\":[{\"id\":\"fec7dae7-5732-4bd1-945f-1f9df93883a6\",\"type\":\"LinearAxis\"}],\"plot_height\":2012,\"plot_width\":366,\"renderers\":[{\"id\":\"6ff4f772-a1fd-477c-880a-333025800897\",\"type\":\"LinearAxis\"},{\"id\":\"8c016a19-9d47-4b15-8ca6-c38b28b53bcc\",\"type\":\"Grid\"},{\"id\":\"fec7dae7-5732-4bd1-945f-1f9df93883a6\",\"type\":\"LinearAxis\"},{\"id\":\"54989d83-b807-4758-ae9b-dc64cb692628\",\"type\":\"Grid\"},{\"id\":\"a765f0fd-8061-466b-b0e0-8d99bf2e70a7\",\"type\":\"BoxAnnotation\"},{\"id\":\"2ec63dbc-c19d-4a02-a93c-3603c750586f\",\"type\":\"GlyphRenderer\"}],\"title\":{\"id\":\"3c120464-87dd-4645-985c-67e54a897ce3\",\"type\":\"Title\"},\"tool_events\":{\"id\":\"42224224-3cd2-4678-96f3-e13f30524833\",\"type\":\"ToolEvents\"},\"toolbar\":{\"id\":\"8c4f57fc-6a92-434b-a550-981519e97977\",\"type\":\"Toolbar\"},\"x_range\":{\"id\":\"0cf4a029-574d-49c9-b57b-00272d85e6a9\",\"type\":\"DataRange1d\"},\"y_range\":{\"id\":\"599ab41e-2872-4d58-87d4-7ee67d1eb7fe\",\"type\":\"DataRange1d\"}},\"id\":\"81203f8d-ef7e-47ed-af45-983d688bc477\",\"subtype\":\"Figure\",\"type\":\"Plot\"},{\"attributes\":{\"formatter\":{\"id\":\"59c8c4ab-edf3-49f0-8f6a-31749797faad\",\"type\":\"BasicTickFormatter\"},\"plot\":{\"id\":\"81203f8d-ef7e-47ed-af45-983d688bc477\",\"subtype\":\"Figure\",\"type\":\"Plot\"},\"ticker\":{\"id\":\"21bcc1d3-8de3-4ae4-b7dd-280e4a106ccf\",\"type\":\"BasicTicker\"}},\"id\":\"fec7dae7-5732-4bd1-945f-1f9df93883a6\",\"type\":\"LinearAxis\"}],\"root_ids\":[\"81203f8d-ef7e-47ed-af45-983d688bc477\"]},\"title\":\"Bokeh Application\",\"version\":\"0.12.2\"}};\n",
       "            var render_items = [{\"docid\":\"44d39109-d893-4ec5-81a0-78cf38c1ac7a\",\"elementid\":\"cb0cc472-4396-4610-b364-f7204e34ab9c\",\"modelid\":\"81203f8d-ef7e-47ed-af45-983d688bc477\"}];\n",
       "            \n",
       "            Bokeh.embed.embed_items(docs_json, render_items);\n",
       "        });\n",
       "      },\n",
       "      function(Bokeh) {\n",
       "      }\n",
       "    ];\n",
       "  \n",
       "    function run_inline_js() {\n",
       "      \n",
       "      if ((window.Bokeh !== undefined) || (force === \"1\")) {\n",
       "        for (var i = 0; i < inline_js.length; i++) {\n",
       "          inline_js[i](window.Bokeh);\n",
       "        }if (force === \"1\") {\n",
       "          display_loaded();\n",
       "        }} else if (Date.now() < window._bokeh_timeout) {\n",
       "        setTimeout(run_inline_js, 100);\n",
       "      } else if (!window._bokeh_failed_load) {\n",
       "        console.log(\"Bokeh: BokehJS failed to load within specified timeout.\");\n",
       "        window._bokeh_failed_load = true;\n",
       "      } else if (!force) {\n",
       "        var cell = $(\"#cb0cc472-4396-4610-b364-f7204e34ab9c\").parents('.cell').data().cell;\n",
       "        cell.output_area.append_execute_result(NB_LOAD_WARNING)\n",
       "      }\n",
       "  \n",
       "    }\n",
       "  \n",
       "    if (window._bokeh_is_loading === 0) {\n",
       "      console.log(\"Bokeh: BokehJS loaded, going straight to plotting\");\n",
       "      run_inline_js();\n",
       "    } else {\n",
       "      load_libs(js_urls, function() {\n",
       "        console.log(\"Bokeh: BokehJS plotting callback run at\", now());\n",
       "        run_inline_js();\n",
       "      });\n",
       "    }\n",
       "  }(this));\n",
       "</script>"
      ]
     },
     "metadata": {},
     "output_type": "display_data"
    }
   ],
   "source": [
    "p = figure(plot_width=width, plot_height=height,tools=[hover,BoxZoomTool(),ResetTool()],title=\"Mouse over the dots\")\n",
    "p.circle(df.bounceY, df.bounceX, size=4, source=source)\n",
    "show(p)\n"
   ]
  },
  {
   "cell_type": "code",
   "execution_count": 154,
   "metadata": {
    "collapsed": false
   },
   "outputs": [
    {
     "ename": "AttributeError",
     "evalue": "'module' object has no attribute 'plot'",
     "output_type": "error",
     "traceback": [
      "\u001b[0;31m---------------------------------------------------------------------------\u001b[0m",
      "\u001b[0;31mAttributeError\u001b[0m                            Traceback (most recent call last)",
      "\u001b[0;32m<ipython-input-154-d1a249ef70e1>\u001b[0m in \u001b[0;36m<module>\u001b[0;34m()\u001b[0m\n\u001b[1;32m      1\u001b[0m \u001b[0mgr\u001b[0m\u001b[1;33m.\u001b[0m\u001b[0minline\u001b[0m\u001b[1;33m(\u001b[0m\u001b[1;34m'mov'\u001b[0m\u001b[1;33m)\u001b[0m\u001b[1;33m\u001b[0m\u001b[0m\n\u001b[0;32m----> 2\u001b[0;31m \u001b[0mgr\u001b[0m\u001b[1;33m.\u001b[0m\u001b[0mplot\u001b[0m\u001b[1;33m(\u001b[0m\u001b[0mdf\u001b[0m\u001b[1;33m.\u001b[0m\u001b[0mbounceX\u001b[0m\u001b[1;33m,\u001b[0m \u001b[0mdf\u001b[0m\u001b[1;33m.\u001b[0m\u001b[0mbounceY\u001b[0m\u001b[1;33m)\u001b[0m\u001b[1;33m\u001b[0m\u001b[0m\n\u001b[0m\u001b[1;32m      3\u001b[0m \u001b[1;31m#temp = sns.jointplot(df.bounceX, df.bounceY, kind=\"hex\")\u001b[0m\u001b[1;33m\u001b[0m\u001b[1;33m\u001b[0m\u001b[0m\n\u001b[1;32m      4\u001b[0m \u001b[0mgr\u001b[0m\u001b[1;33m.\u001b[0m\u001b[0mshow\u001b[0m\u001b[1;33m(\u001b[0m\u001b[1;33m)\u001b[0m\u001b[1;33m\u001b[0m\u001b[0m\n",
      "\u001b[0;31mAttributeError\u001b[0m: 'module' object has no attribute 'plot'"
     ]
    }
   ],
   "source": [
    "gr.inline('mov')\n",
    "gr.plot(df.bounceX, df.bounceY)\n",
    "#temp = sns.jointplot(df.bounceX, df.bounceY, kind=\"hex\")\n",
    "gr.show()"
   ]
  },
  {
   "cell_type": "code",
   "execution_count": null,
   "metadata": {
    "collapsed": false
   },
   "outputs": [],
   "source": [
    "plt.scatter(df.bounceX, df.bounceY, edgecolors='none')\n",
    "plt.grid(True)\n",
    "plt.show()"
   ]
  },
  {
   "cell_type": "code",
   "execution_count": null,
   "metadata": {
    "collapsed": false
   },
   "outputs": [],
   "source": [
    "ax = sns.kdeplot(df.bounceX, df.bounceY, cmap=\"Blues\", shade=True, shade_lowest=False)"
   ]
  },
  {
   "cell_type": "code",
   "execution_count": null,
   "metadata": {
    "collapsed": false
   },
   "outputs": [],
   "source": [
    "#fig = plt.figure()\n",
    "#ax = fig.add_subplot(111, projection='3d')\n",
    "#ax.scatter(df.bounceX, df.bounceY)\n",
    "#plt.show()"
   ]
  },
  {
   "cell_type": "code",
   "execution_count": null,
   "metadata": {
    "collapsed": false
   },
   "outputs": [],
   "source": [
    "trace1 = go.Scatter3d(x=df.releaseX, y=df.releaseY, z=df.releaseZ, mode='markers', \n",
    "                    marker=dict(size=4,line=dict(color='red', width=1), \n",
    "                    opacity=0\n",
    ")\n",
    ")\n",
    "trace2 = go.Scatter3d(\n",
    "    x=df.bounceX,\n",
    "    y=df.bounceY,\n",
    "    z=df.bounceZ,\n",
    "    text=['Text A', 'Text B', 'Text C'],\n",
    "    mode='markers',\n",
    "    marker=dict(\n",
    "        color='blue',\n",
    "        size=4,\n",
    "        symbol='circle',\n",
    "        line=dict(\n",
    "            color='green',\n",
    "            width=1\n",
    "        ),\n",
    "        opacity=0.9\n",
    "    )\n",
    ")\n",
    "\n",
    "trace3 = go.Scatter3d(\n",
    "    x=df.stumpPosX,\n",
    "    y=df.stumpPosY,\n",
    "    z=df.stumpPosZ,\n",
    "    mode='markers',\n",
    "    marker=dict(\n",
    "        color='blue',\n",
    "        size=4,\n",
    "        symbol='circle',\n",
    "        line=dict(\n",
    "            color='yellow',\n",
    "            width=1\n",
    "        ),\n",
    "        opacity=0.9\n",
    "    )\n",
    ")\n",
    "data = [trace1, trace2, trace3]\n",
    "#layout = go.Layout(scene=Scene(aspectmode=\"data\"),autosize=False, width=1000, height=500,margin=dict(l=0,r=0, b=0,t=0))\n",
    "layout = go.Layout(scene=Scene(aspectmode=\"data\"),margin=dict(l=80,r=80, b=0,t=0))\n",
    "#layout = go.Layout(autosize=False, width=10, height=5, margin=go.Margin(l=50, r=50, b=100, t=100, pad=4, paper_bgcolor='#7f7f7f', plot_bgcolor='#c7c7c7'))\n",
    "\n",
    "\n",
    "\n",
    "\n",
    "fig = go.Figure(data=data, layout=layout)\n",
    "py.iplot(fig, filename='simple-3d-scatter')"
   ]
  },
  {
   "cell_type": "code",
   "execution_count": null,
   "metadata": {
    "collapsed": false
   },
   "outputs": [],
   "source": [
    "help('Scatter3d')"
   ]
  },
  {
   "cell_type": "code",
   "execution_count": null,
   "metadata": {
    "collapsed": false
   },
   "outputs": [],
   "source": [
    "import plotly.plotly as py\n",
    "from plotly.grid_objs import Grid, Column\n",
    "\n",
    "import time\n",
    "\n",
    "column_1 = Column([0.5], 'x')\n",
    "column_2 = Column([0.5], 'y')\n",
    "column_3 = Column([1.5], 'x2')\n",
    "column_4 = Column([1.5], 'y2')\n",
    "\n",
    "grid = Grid([column_1, column_2, column_3, column_4])\n",
    "py.grid_ops.upload(grid, 'ping_pong_grid'+str(time.time()), auto_open=False)df.dtypes"
   ]
  },
  {
   "cell_type": "code",
   "execution_count": 2,
   "metadata": {
    "collapsed": false
   },
   "outputs": [],
   "source": [
    "from sklearn.datasets import load_iris\n",
    "from sklearn.decomposition import FactorAnalysis\n",
    "iris = load_iris()\n",
    "X, y = iris.data, iris.target\n",
    "factor = FactorAnalysis(n_components=4, random_state=101).fit(X)\n"
   ]
  },
  {
   "cell_type": "code",
   "execution_count": 3,
   "metadata": {
    "collapsed": false
   },
   "outputs": [
    {
     "data": {
      "text/plain": [
       "FactorAnalysis(copy=True, iterated_power=3, max_iter=1000, n_components=4,\n",
       "        noise_variance_init=None, random_state=101,\n",
       "        svd_method='randomized', tol=0.01)"
      ]
     },
     "execution_count": 3,
     "metadata": {},
     "output_type": "execute_result"
    }
   ],
   "source": [
    "factor"
   ]
  },
  {
   "cell_type": "code",
   "execution_count": 4,
   "metadata": {
    "collapsed": false
   },
   "outputs": [
    {
     "ename": "ImportError",
     "evalue": "No module named mdp",
     "output_type": "error",
     "traceback": [
      "\u001b[0;31m\u001b[0m",
      "\u001b[0;31mImportError\u001b[0mTraceback (most recent call last)",
      "\u001b[0;32m<ipython-input-4-9906a52834ed>\u001b[0m in \u001b[0;36m<module>\u001b[0;34m()\u001b[0m\n\u001b[0;32m----> 1\u001b[0;31m \u001b[0;32mimport\u001b[0m \u001b[0mmdp\u001b[0m\u001b[0;34m\u001b[0m\u001b[0m\n\u001b[0m",
      "\u001b[0;31mImportError\u001b[0m: No module named mdp"
     ]
    }
   ],
   "source": [
    "import mdp"
   ]
  }
 ],
 "metadata": {
  "anaconda-cloud": {},
  "kernelspec": {
   "display_name": "Python 2",
   "language": "python",
   "name": "python2"
  },
  "language_info": {
   "codemirror_mode": {
    "name": "ipython",
    "version": 2
   },
   "file_extension": ".py",
   "mimetype": "text/x-python",
   "name": "python",
   "nbconvert_exporter": "python",
   "pygments_lexer": "ipython2",
   "version": "2.7.6"
  }
 },
 "nbformat": 4,
 "nbformat_minor": 0
}
