{
 "cells": [
  {
   "cell_type": "markdown",
   "metadata": {
    "slideshow": {
     "slide_type": "slide"
    }
   },
   "source": [
    "# Assignment 2\n",
    "## FIT5147\n",
    "### Data Exploration and Visualisation Project Proposal\n",
    "#### Linus McManamey"
   ]
  },
  {
   "cell_type": "code",
   "execution_count": 1,
   "metadata": {
    "collapsed": true,
    "slideshow": {
     "slide_type": "skip"
    }
   },
   "outputs": [],
   "source": [
    "import pandas as pd\n",
    "import numpy as np\n"
   ]
  },
  {
   "cell_type": "code",
   "execution_count": 2,
   "metadata": {
    "collapsed": true,
    "slideshow": {
     "slide_type": "skip"
    }
   },
   "outputs": [],
   "source": [
    "import plotly\n",
    "plotly.tools.set_credentials_file(username='linus.austen.mcmanamey', api_key='3tqgEzyZAGTIeFY5sQ1T')\n",
    "import plotly.plotly as py\n",
    "import plotly.graph_objs as go\n",
    "from plotly.graph_objs import *\n",
    "from plotly.graph_objs import Surface, Layout, Scene\n",
    "from plotly.grid_objs import Grid, Column"
   ]
  },
  {
   "cell_type": "code",
   "execution_count": 3,
   "metadata": {
    "collapsed": true,
    "slideshow": {
     "slide_type": "subslide"
    }
   },
   "outputs": [],
   "source": [
    "df = pd.read_csv('day_5.csv', parse_dates=True)"
   ]
  },
  {
   "cell_type": "code",
   "execution_count": 4,
   "metadata": {
    "collapsed": false,
    "slideshow": {
     "slide_type": "slide"
    }
   },
   "outputs": [
    {
     "data": {
      "text/html": [
       "<div>\n",
       "<table border=\"1\" class=\"dataframe\">\n",
       "  <thead>\n",
       "    <tr style=\"text-align: right;\">\n",
       "      <th></th>\n",
       "      <th>Batsman</th>\n",
       "      <th>Bowler</th>\n",
       "      <th>TimeBowled</th>\n",
       "      <th>Inning</th>\n",
       "      <th>Over</th>\n",
       "      <th>Ball</th>\n",
       "      <th>Runs</th>\n",
       "      <th>Wicket</th>\n",
       "      <th>Bat_hand</th>\n",
       "      <th>bowler_hand</th>\n",
       "      <th>...</th>\n",
       "      <th>bounceY</th>\n",
       "      <th>bounceSpeed</th>\n",
       "      <th>stumpPosX</th>\n",
       "      <th>stumpPosY</th>\n",
       "      <th>stumpPosZ</th>\n",
       "      <th>stumpSpeed</th>\n",
       "      <th>deviation</th>\n",
       "      <th>swing</th>\n",
       "      <th>dropAngle</th>\n",
       "      <th>bounceAngle</th>\n",
       "    </tr>\n",
       "  </thead>\n",
       "  <tbody>\n",
       "    <tr>\n",
       "      <th>0</th>\n",
       "      <td>Matt Renshaw</td>\n",
       "      <td>Mohammad Amir</td>\n",
       "      <td>2017-01-03T12:30:59</td>\n",
       "      <td>1</td>\n",
       "      <td>0</td>\n",
       "      <td>1</td>\n",
       "      <td>1</td>\n",
       "      <td>N</td>\n",
       "      <td>L</td>\n",
       "      <td>L</td>\n",
       "      <td>...</td>\n",
       "      <td>0.067373</td>\n",
       "      <td>115.094</td>\n",
       "      <td>0</td>\n",
       "      <td>-0.258717</td>\n",
       "      <td>0.819833</td>\n",
       "      <td>104.076</td>\n",
       "      <td>-0.157018</td>\n",
       "      <td>0.000000</td>\n",
       "      <td>11.6850</td>\n",
       "      <td>8.28837</td>\n",
       "    </tr>\n",
       "    <tr>\n",
       "      <th>1</th>\n",
       "      <td>David Warner</td>\n",
       "      <td>Mohammad Amir</td>\n",
       "      <td>2017-01-03T12:31:59</td>\n",
       "      <td>1</td>\n",
       "      <td>0</td>\n",
       "      <td>2</td>\n",
       "      <td>0</td>\n",
       "      <td>N</td>\n",
       "      <td>L</td>\n",
       "      <td>L</td>\n",
       "      <td>...</td>\n",
       "      <td>-0.024311</td>\n",
       "      <td>123.519</td>\n",
       "      <td>0</td>\n",
       "      <td>-0.417401</td>\n",
       "      <td>0.869449</td>\n",
       "      <td>111.793</td>\n",
       "      <td>-0.171320</td>\n",
       "      <td>0.169020</td>\n",
       "      <td>11.3981</td>\n",
       "      <td>8.65345</td>\n",
       "    </tr>\n",
       "    <tr>\n",
       "      <th>2</th>\n",
       "      <td>David Warner</td>\n",
       "      <td>Mohammad Amir</td>\n",
       "      <td>2017-01-03T12:32:37</td>\n",
       "      <td>1</td>\n",
       "      <td>0</td>\n",
       "      <td>3</td>\n",
       "      <td>4</td>\n",
       "      <td>N</td>\n",
       "      <td>L</td>\n",
       "      <td>L</td>\n",
       "      <td>...</td>\n",
       "      <td>0.395881</td>\n",
       "      <td>119.356</td>\n",
       "      <td>0</td>\n",
       "      <td>0.267965</td>\n",
       "      <td>1.004610</td>\n",
       "      <td>105.865</td>\n",
       "      <td>-0.048457</td>\n",
       "      <td>0.800153</td>\n",
       "      <td>11.6678</td>\n",
       "      <td>9.65483</td>\n",
       "    </tr>\n",
       "    <tr>\n",
       "      <th>3</th>\n",
       "      <td>David Warner</td>\n",
       "      <td>Mohammad Amir</td>\n",
       "      <td>2017-01-03T12:33:27</td>\n",
       "      <td>1</td>\n",
       "      <td>0</td>\n",
       "      <td>4</td>\n",
       "      <td>0</td>\n",
       "      <td>N</td>\n",
       "      <td>L</td>\n",
       "      <td>L</td>\n",
       "      <td>...</td>\n",
       "      <td>0.029275</td>\n",
       "      <td>120.150</td>\n",
       "      <td>0</td>\n",
       "      <td>-0.292473</td>\n",
       "      <td>0.939165</td>\n",
       "      <td>107.590</td>\n",
       "      <td>0.486985</td>\n",
       "      <td>0.000000</td>\n",
       "      <td>11.1250</td>\n",
       "      <td>9.15531</td>\n",
       "    </tr>\n",
       "    <tr>\n",
       "      <th>4</th>\n",
       "      <td>Matt Renshaw</td>\n",
       "      <td>Mohammad Amir</td>\n",
       "      <td>2017-01-03T12:34:08</td>\n",
       "      <td>1</td>\n",
       "      <td>0</td>\n",
       "      <td>5</td>\n",
       "      <td>0</td>\n",
       "      <td>N</td>\n",
       "      <td>L</td>\n",
       "      <td>L</td>\n",
       "      <td>...</td>\n",
       "      <td>0.225438</td>\n",
       "      <td>120.616</td>\n",
       "      <td>0</td>\n",
       "      <td>0.089841</td>\n",
       "      <td>0.421594</td>\n",
       "      <td>113.984</td>\n",
       "      <td>-0.086229</td>\n",
       "      <td>-0.261696</td>\n",
       "      <td>10.3502</td>\n",
       "      <td>7.15035</td>\n",
       "    </tr>\n",
       "  </tbody>\n",
       "</table>\n",
       "<p>5 rows × 25 columns</p>\n",
       "</div>"
      ],
      "text/plain": [
       "        Batsman          Bowler            TimeBowled   Inning   Over   Ball  \\\n",
       "0  Matt Renshaw   Mohammad Amir   2017-01-03T12:30:59        1      0      1   \n",
       "1  David Warner   Mohammad Amir   2017-01-03T12:31:59        1      0      2   \n",
       "2  David Warner   Mohammad Amir   2017-01-03T12:32:37        1      0      3   \n",
       "3  David Warner   Mohammad Amir   2017-01-03T12:33:27        1      0      4   \n",
       "4  Matt Renshaw   Mohammad Amir   2017-01-03T12:34:08        1      0      5   \n",
       "\n",
       "    Runs  Wicket  Bat_hand  bowler_hand      ...         bounceY  \\\n",
       "0      1       N         L            L      ...        0.067373   \n",
       "1      0       N         L            L      ...       -0.024311   \n",
       "2      4       N         L            L      ...        0.395881   \n",
       "3      0       N         L            L      ...        0.029275   \n",
       "4      0       N         L            L      ...        0.225438   \n",
       "\n",
       "    bounceSpeed   stumpPosX   stumpPosY   stumpPosZ   stumpSpeed   deviation  \\\n",
       "0       115.094           0   -0.258717    0.819833      104.076   -0.157018   \n",
       "1       123.519           0   -0.417401    0.869449      111.793   -0.171320   \n",
       "2       119.356           0    0.267965    1.004610      105.865   -0.048457   \n",
       "3       120.150           0   -0.292473    0.939165      107.590    0.486985   \n",
       "4       120.616           0    0.089841    0.421594      113.984   -0.086229   \n",
       "\n",
       "      swing   dropAngle   bounceAngle   \n",
       "0  0.000000     11.6850        8.28837  \n",
       "1  0.169020     11.3981        8.65345  \n",
       "2  0.800153     11.6678        9.65483  \n",
       "3  0.000000     11.1250        9.15531  \n",
       "4 -0.261696     10.3502        7.15035  \n",
       "\n",
       "[5 rows x 25 columns]"
      ]
     },
     "execution_count": 4,
     "metadata": {},
     "output_type": "execute_result"
    }
   ],
   "source": [
    "df.head(5)"
   ]
  },
  {
   "cell_type": "markdown",
   "metadata": {
    "slideshow": {
     "slide_type": "slide"
    }
   },
   "source": [
    "# Data Cleaning"
   ]
  },
  {
   "cell_type": "code",
   "execution_count": 5,
   "metadata": {
    "collapsed": false,
    "slideshow": {
     "slide_type": "subslide"
    }
   },
   "outputs": [
    {
     "data": {
      "text/plain": [
       "Batsman           object\n",
       " Bowler           object\n",
       " TimeBowled       object\n",
       " Inning            int64\n",
       " Over              int64\n",
       " Ball              int64\n",
       " Runs              int64\n",
       " Wicket           object\n",
       " Bat_hand         object\n",
       " bowler_hand      object\n",
       " releaseX        float64\n",
       " releaseY        float64\n",
       " releaseZ        float64\n",
       " releaseSpeed    float64\n",
       " bounceX         float64\n",
       " bounceY         float64\n",
       " bounceSpeed     float64\n",
       " stumpPosX         int64\n",
       " stumpPosY       float64\n",
       " stumpPosZ       float64\n",
       " stumpSpeed      float64\n",
       " deviation       float64\n",
       " swing           float64\n",
       " dropAngle       float64\n",
       " bounceAngle     float64\n",
       "dtype: object"
      ]
     },
     "execution_count": 5,
     "metadata": {},
     "output_type": "execute_result"
    }
   ],
   "source": [
    "df.dtypes"
   ]
  },
  {
   "cell_type": "markdown",
   "metadata": {
    "slideshow": {
     "slide_type": "slide"
    }
   },
   "source": [
    "### Remove leading space in variable names\n",
    "There is a leading space before the start of every variable execpt the first variable. As you can see above starting at \"Bowler\" and for the rest of the variables"
   ]
  },
  {
   "cell_type": "code",
   "execution_count": 6,
   "metadata": {
    "collapsed": true,
    "slideshow": {
     "slide_type": "subslide"
    }
   },
   "outputs": [],
   "source": [
    "df = df.rename(columns=lambda x: x.strip())"
   ]
  },
  {
   "cell_type": "code",
   "execution_count": 7,
   "metadata": {
    "collapsed": false,
    "slideshow": {
     "slide_type": "subslide"
    }
   },
   "outputs": [
    {
     "data": {
      "text/plain": [
       "Batsman          object\n",
       "Bowler           object\n",
       "TimeBowled       object\n",
       "Inning            int64\n",
       "Over              int64\n",
       "Ball              int64\n",
       "Runs              int64\n",
       "Wicket           object\n",
       "Bat_hand         object\n",
       "bowler_hand      object\n",
       "releaseX        float64\n",
       "releaseY        float64\n",
       "releaseZ        float64\n",
       "releaseSpeed    float64\n",
       "bounceX         float64\n",
       "bounceY         float64\n",
       "bounceSpeed     float64\n",
       "stumpPosX         int64\n",
       "stumpPosY       float64\n",
       "stumpPosZ       float64\n",
       "stumpSpeed      float64\n",
       "deviation       float64\n",
       "swing           float64\n",
       "dropAngle       float64\n",
       "bounceAngle     float64\n",
       "dtype: object"
      ]
     },
     "execution_count": 7,
     "metadata": {},
     "output_type": "execute_result"
    }
   ],
   "source": [
    "df.dtypes"
   ]
  },
  {
   "cell_type": "markdown",
   "metadata": {
    "slideshow": {
     "slide_type": "slide"
    }
   },
   "source": [
    "### Remove columns that are not needed\n",
    "The following variables are not required for the data visualsation so they will be removed\n",
    "* Batsman\n",
    "* Inning\n",
    "* Bat_hand\n",
    "* Runs\n",
    "* Wicket"
   ]
  },
  {
   "cell_type": "code",
   "execution_count": 8,
   "metadata": {
    "collapsed": false,
    "scrolled": true,
    "slideshow": {
     "slide_type": "subslide"
    }
   },
   "outputs": [],
   "source": [
    "df = df.drop('Batsman', axis=1)\n",
    "df = df.drop('Inning', axis=1)\n",
    "df = df.drop('Bat_hand', axis=1)\n",
    "df = df.drop('Runs', axis=1)\n",
    "df = df.drop('Wicket', axis=1)"
   ]
  },
  {
   "cell_type": "code",
   "execution_count": 9,
   "metadata": {
    "collapsed": false,
    "slideshow": {
     "slide_type": "subslide"
    }
   },
   "outputs": [
    {
     "data": {
      "text/plain": [
       "Bowler           object\n",
       "TimeBowled       object\n",
       "Over              int64\n",
       "Ball              int64\n",
       "bowler_hand      object\n",
       "releaseX        float64\n",
       "releaseY        float64\n",
       "releaseZ        float64\n",
       "releaseSpeed    float64\n",
       "bounceX         float64\n",
       "bounceY         float64\n",
       "bounceSpeed     float64\n",
       "stumpPosX         int64\n",
       "stumpPosY       float64\n",
       "stumpPosZ       float64\n",
       "stumpSpeed      float64\n",
       "deviation       float64\n",
       "swing           float64\n",
       "dropAngle       float64\n",
       "bounceAngle     float64\n",
       "dtype: object"
      ]
     },
     "execution_count": 9,
     "metadata": {},
     "output_type": "execute_result"
    }
   ],
   "source": [
    "df.dtypes"
   ]
  },
  {
   "cell_type": "markdown",
   "metadata": {},
   "source": []
  },
  {
   "cell_type": "code",
   "execution_count": 10,
   "metadata": {
    "collapsed": false,
    "slideshow": {
     "slide_type": "subslide"
    }
   },
   "outputs": [
    {
     "name": "stdout",
     "output_type": "stream",
     "text": [
      "<class 'pandas.core.frame.DataFrame'>\n",
      "RangeIndex: 1770 entries, 0 to 1769\n",
      "Data columns (total 20 columns):\n",
      "Bowler          1770 non-null object\n",
      "TimeBowled      1770 non-null object\n",
      "Over            1770 non-null int64\n",
      "Ball            1770 non-null int64\n",
      "bowler_hand     1770 non-null object\n",
      "releaseX        1770 non-null float64\n",
      "releaseY        1770 non-null float64\n",
      "releaseZ        1770 non-null float64\n",
      "releaseSpeed    1770 non-null float64\n",
      "bounceX         1770 non-null float64\n",
      "bounceY         1770 non-null float64\n",
      "bounceSpeed     1770 non-null float64\n",
      "stumpPosX       1770 non-null int64\n",
      "stumpPosY       1770 non-null float64\n",
      "stumpPosZ       1770 non-null float64\n",
      "stumpSpeed      1770 non-null float64\n",
      "deviation       1770 non-null float64\n",
      "swing           1770 non-null float64\n",
      "dropAngle       1770 non-null float64\n",
      "bounceAngle     1770 non-null float64\n",
      "dtypes: float64(14), int64(3), object(3)\n",
      "memory usage: 276.6+ KB\n"
     ]
    }
   ],
   "source": [
    "df.info()"
   ]
  },
  {
   "cell_type": "markdown",
   "metadata": {
    "slideshow": {
     "slide_type": "slide"
    }
   },
   "source": [
    "# Description of the data source used"
   ]
  },
  {
   "cell_type": "code",
   "execution_count": 11,
   "metadata": {
    "collapsed": false,
    "slideshow": {
     "slide_type": "subslide"
    }
   },
   "outputs": [
    {
     "name": "stdout",
     "output_type": "stream",
     "text": [
      "('The data source is a csv file of about', 1770, 'records.')\n"
     ]
    }
   ],
   "source": [
    "print (\"The data source is a csv file of about\", len(df),\"records.\") "
   ]
  },
  {
   "cell_type": "markdown",
   "metadata": {
    "slideshow": {
     "slide_type": "subslide"
    }
   },
   "source": [
    "It is the recorded ball tracking data using three dimensional coordinates for one day of a five day cricket match. \n",
    "The data set strucure has the following variables:\n",
    "\n",
    "* **TimeBowled** -The date and time the ball was bowled\n",
    "* **Over** - The over number the ball was bowled in\n",
    "* **Ball** - The sequence number of the ball bowled in that over\n",
    "* **releaseX** - The X coordinate when the ball was released from the bowler \n",
    "* **releaseY** - The Y coordinate when the ball was released from the bowler \n",
    "* **releaseZ** - The Z coordinate when the ball was released from the bowler \n",
    "* **releaseSpeed**  - The speed of the ball as it is released from the bowler's hand\n",
    "* **bounceX** - The X coordinate when the ball hits the surface\n",
    "* **bounceY** - The Y coordinate when the ball hits the surface\n",
    "* **bounceZ** - The Z coordinate when the ball hits the surface - a zero value\n",
    "* **bounceSpeed** - The speed the of ball as it hits the ground \n",
    "* **stumpPosX** - The X coordinate of the ball when it is at the  batsman's stumps \n",
    "* **stumpPosY** - The Y coordinate of the ball when it is at the  batsman's stumps\n",
    "* **stumpPosZ** - The Z coordinate of the ball when it is at the  batsman's stumps\n",
    "* **stumpSpeed** - The speed the of ball when it is at the  batsman's stumps\n",
    "* **Deviation** - The angle of deviation from the straight line of the ball trajectory\n",
    "* **Swing** - The angle of swing from the straight line of the ball trajectory\n",
    "* **dropAngle** - The angle that the ball leaves the bowler's hand\n",
    "* **bounceAngle** - The angle the ball bounces from the surface of the cricket pitch\n"
   ]
  },
  {
   "cell_type": "markdown",
   "metadata": {
    "slideshow": {
     "slide_type": "slide"
    }
   },
   "source": [
    "# Data Transformations"
   ]
  },
  {
   "cell_type": "markdown",
   "metadata": {
    "slideshow": {
     "slide_type": "subslide"
    }
   },
   "source": [
    "## Data Transformation - Create an hour variable for time comparsions"
   ]
  },
  {
   "cell_type": "code",
   "execution_count": 12,
   "metadata": {
    "collapsed": true,
    "slideshow": {
     "slide_type": "subslide"
    }
   },
   "outputs": [],
   "source": [
    "df = df.set_index(pd.DatetimeIndex(df['TimeBowled']),inplace=False)"
   ]
  },
  {
   "cell_type": "code",
   "execution_count": 13,
   "metadata": {
    "collapsed": true,
    "slideshow": {
     "slide_type": "subslide"
    }
   },
   "outputs": [],
   "source": [
    "df['hour'] = df.index.hour"
   ]
  },
  {
   "cell_type": "code",
   "execution_count": 14,
   "metadata": {
    "collapsed": false,
    "slideshow": {
     "slide_type": "subslide"
    }
   },
   "outputs": [
    {
     "data": {
      "text/html": [
       "<div>\n",
       "<table border=\"1\" class=\"dataframe\">\n",
       "  <thead>\n",
       "    <tr style=\"text-align: right;\">\n",
       "      <th></th>\n",
       "      <th>Bowler</th>\n",
       "      <th>TimeBowled</th>\n",
       "      <th>Over</th>\n",
       "      <th>Ball</th>\n",
       "      <th>bowler_hand</th>\n",
       "      <th>releaseX</th>\n",
       "      <th>releaseY</th>\n",
       "      <th>releaseZ</th>\n",
       "      <th>releaseSpeed</th>\n",
       "      <th>bounceX</th>\n",
       "      <th>...</th>\n",
       "      <th>bounceSpeed</th>\n",
       "      <th>stumpPosX</th>\n",
       "      <th>stumpPosY</th>\n",
       "      <th>stumpPosZ</th>\n",
       "      <th>stumpSpeed</th>\n",
       "      <th>deviation</th>\n",
       "      <th>swing</th>\n",
       "      <th>dropAngle</th>\n",
       "      <th>bounceAngle</th>\n",
       "      <th>hour</th>\n",
       "    </tr>\n",
       "    <tr>\n",
       "      <th>TimeBowled</th>\n",
       "      <th></th>\n",
       "      <th></th>\n",
       "      <th></th>\n",
       "      <th></th>\n",
       "      <th></th>\n",
       "      <th></th>\n",
       "      <th></th>\n",
       "      <th></th>\n",
       "      <th></th>\n",
       "      <th></th>\n",
       "      <th></th>\n",
       "      <th></th>\n",
       "      <th></th>\n",
       "      <th></th>\n",
       "      <th></th>\n",
       "      <th></th>\n",
       "      <th></th>\n",
       "      <th></th>\n",
       "      <th></th>\n",
       "      <th></th>\n",
       "      <th></th>\n",
       "    </tr>\n",
       "  </thead>\n",
       "  <tbody>\n",
       "    <tr>\n",
       "      <th>2017-01-03 12:30:59</th>\n",
       "      <td>Mohammad Amir</td>\n",
       "      <td>2017-01-03T12:30:59</td>\n",
       "      <td>0</td>\n",
       "      <td>1</td>\n",
       "      <td>L</td>\n",
       "      <td>18.5209</td>\n",
       "      <td>0.560635</td>\n",
       "      <td>1.92669</td>\n",
       "      <td>136.226</td>\n",
       "      <td>7.12273</td>\n",
       "      <td>...</td>\n",
       "      <td>115.094</td>\n",
       "      <td>0</td>\n",
       "      <td>-0.258717</td>\n",
       "      <td>0.819833</td>\n",
       "      <td>104.076</td>\n",
       "      <td>-0.157018</td>\n",
       "      <td>0.00000</td>\n",
       "      <td>11.6850</td>\n",
       "      <td>8.28837</td>\n",
       "      <td>12</td>\n",
       "    </tr>\n",
       "    <tr>\n",
       "      <th>2017-01-03 12:31:59</th>\n",
       "      <td>Mohammad Amir</td>\n",
       "      <td>2017-01-03T12:31:59</td>\n",
       "      <td>0</td>\n",
       "      <td>2</td>\n",
       "      <td>L</td>\n",
       "      <td>18.5723</td>\n",
       "      <td>0.643373</td>\n",
       "      <td>1.92308</td>\n",
       "      <td>143.716</td>\n",
       "      <td>6.77382</td>\n",
       "      <td>...</td>\n",
       "      <td>123.519</td>\n",
       "      <td>0</td>\n",
       "      <td>-0.417401</td>\n",
       "      <td>0.869449</td>\n",
       "      <td>111.793</td>\n",
       "      <td>-0.171320</td>\n",
       "      <td>0.16902</td>\n",
       "      <td>11.3981</td>\n",
       "      <td>8.65345</td>\n",
       "      <td>12</td>\n",
       "    </tr>\n",
       "  </tbody>\n",
       "</table>\n",
       "<p>2 rows × 21 columns</p>\n",
       "</div>"
      ],
      "text/plain": [
       "                             Bowler            TimeBowled  Over  Ball  \\\n",
       "TimeBowled                                                              \n",
       "2017-01-03 12:30:59   Mohammad Amir   2017-01-03T12:30:59     0     1   \n",
       "2017-01-03 12:31:59   Mohammad Amir   2017-01-03T12:31:59     0     2   \n",
       "\n",
       "                    bowler_hand  releaseX  releaseY  releaseZ  releaseSpeed  \\\n",
       "TimeBowled                                                                    \n",
       "2017-01-03 12:30:59           L   18.5209  0.560635   1.92669       136.226   \n",
       "2017-01-03 12:31:59           L   18.5723  0.643373   1.92308       143.716   \n",
       "\n",
       "                     bounceX  ...   bounceSpeed  stumpPosX  stumpPosY  \\\n",
       "TimeBowled                    ...                                       \n",
       "2017-01-03 12:30:59  7.12273  ...       115.094          0  -0.258717   \n",
       "2017-01-03 12:31:59  6.77382  ...       123.519          0  -0.417401   \n",
       "\n",
       "                     stumpPosZ  stumpSpeed  deviation    swing  dropAngle  \\\n",
       "TimeBowled                                                                  \n",
       "2017-01-03 12:30:59   0.819833     104.076  -0.157018  0.00000    11.6850   \n",
       "2017-01-03 12:31:59   0.869449     111.793  -0.171320  0.16902    11.3981   \n",
       "\n",
       "                     bounceAngle  hour  \n",
       "TimeBowled                              \n",
       "2017-01-03 12:30:59      8.28837    12  \n",
       "2017-01-03 12:31:59      8.65345    12  \n",
       "\n",
       "[2 rows x 21 columns]"
      ]
     },
     "execution_count": 14,
     "metadata": {},
     "output_type": "execute_result"
    }
   ],
   "source": [
    "df.head(2)"
   ]
  },
  {
   "cell_type": "markdown",
   "metadata": {
    "slideshow": {
     "slide_type": "slide"
    }
   },
   "source": [
    "## Data Transformation - Create bounceZ coordinate \n",
    "the data set does not currently have a Z cordinate for the bounce set of variables. This is the co ordinate where the ball hits the ground, it will be set to 0 because that is the height off the surface when it strikes it."
   ]
  },
  {
   "cell_type": "code",
   "execution_count": 15,
   "metadata": {
    "collapsed": true,
    "slideshow": {
     "slide_type": "fragment"
    }
   },
   "outputs": [],
   "source": [
    "df['bounceZ'] = 0"
   ]
  },
  {
   "cell_type": "markdown",
   "metadata": {
    "slideshow": {
     "slide_type": "subslide"
    }
   },
   "source": [
    "### Function to visualised ball data\n",
    "The ball colours are the three diffents states of the recorded ball\n",
    "* **Red** - The co ordinates of the ball when it leaves the bowlers hand\n",
    "* **Green** - The co ordinates of the ball when it hits the ground\n",
    "* **Yellow** - The co ordinates that the ball is when it arrives at the stumps at the other end"
   ]
  },
  {
   "cell_type": "code",
   "execution_count": 16,
   "metadata": {
    "collapsed": false,
    "slideshow": {
     "slide_type": "fragment"
    }
   },
   "outputs": [],
   "source": [
    "def callGraph(df,file_name, header_text):\n",
    "    ball_size = 3\n",
    "    ball_released = go.Scatter3d(name=\"ball released\",x=df.releaseX, y=df.releaseY, z=df.releaseZ, mode='markers',marker=dict(size=ball_size,line=dict(color='red', width=1), opacity=0.9))\n",
    "    ball_bounce = go.Scatter3d(name=\"ball bounce\",x=df.bounceX,y=df.bounceY,z=df.bounceZ,text=['Text A', 'Text B', 'Text C'],mode='markers',marker=dict(color='blue', size=ball_size,symbol='circle',line=dict(color='green', width=1),opacity=0.9))\n",
    "    ball_stumps = go.Scatter3d(name=\"ball at stumps\",x=df.stumpPosX,y=df.stumpPosY,z=df.stumpPosZ,mode='markers',marker=dict(color='blue', size=ball_size,symbol='circle',line=dict(color='yellow', width=1),opacity=0.9))\n",
    "    data = [ball_released, ball_bounce, ball_stumps]\n",
    "    layout = go.Layout(scene=Scene(aspectmode=\"data\"))\n",
    "    layout = go.Layout(title=header_text,scene=Scene(aspectmode=\"data\"))\n",
    "    fig = go.Figure(data=data, layout=layout)\n",
    "    return py.iplot(fig, filename=file_name)"
   ]
  },
  {
   "cell_type": "code",
   "execution_count": 17,
   "metadata": {
    "collapsed": false,
    "slideshow": {
     "slide_type": "slide"
    }
   },
   "outputs": [
    {
     "data": {
      "text/html": [
       "<iframe id=\"igraph\" scrolling=\"no\" style=\"border:none;\" seamless=\"seamless\" src=\"https://plot.ly/~linus.austen.mcmanamey/478.embed\" height=\"525px\" width=\"100%\"></iframe>"
      ],
      "text/plain": [
       "<plotly.tools.PlotlyDisplay object>"
      ]
     },
     "execution_count": 17,
     "metadata": {},
     "output_type": "execute_result"
    }
   ],
   "source": [
    "file_name = \"one_end_all_balls\"\n",
    "header_text = \"Initial test of data set\"\n",
    "callGraph(df,file_name, header_text)"
   ]
  },
  {
   "cell_type": "markdown",
   "metadata": {
    "slideshow": {
     "slide_type": "slide"
    }
   },
   "source": [
    "## Data Transformation - Convert universal co-ordinates to seperate bowling ends\n",
    "the current data shows all the balls leaving the bowlers hand from one end. In cricket each over(6 balls) is bowled from altenate ends. The information below is taken from the rules of the game of cricket."
   ]
  },
  {
   "cell_type": "markdown",
   "metadata": {
    "slideshow": {
     "slide_type": "fragment"
    }
   },
   "source": [
    "### The wickets\n",
    "* Two sets of wickets shall be pitched opposite and parallel to each other at a distance of 22 yards/20.12 m between the centres of the two middle stumps. \n",
    "\n",
    "https://www.lords.org/mcc/laws-of-cricket/laws/law-8-the-wickets/"
   ]
  },
  {
   "cell_type": "code",
   "execution_count": 18,
   "metadata": {
    "collapsed": true,
    "slideshow": {
     "slide_type": "fragment"
    }
   },
   "outputs": [],
   "source": [
    "#### Global Wicket Variable\n",
    "# measurement in meters\n",
    "LENGTH_OF_PITCH = 20.12"
   ]
  },
  {
   "cell_type": "markdown",
   "metadata": {
    "slideshow": {
     "slide_type": "slide"
    }
   },
   "source": [
    "### The functions below seperate the alternate bowling ends "
   ]
  },
  {
   "cell_type": "code",
   "execution_count": 19,
   "metadata": {
    "collapsed": true,
    "slideshow": {
     "slide_type": "fragment"
    }
   },
   "outputs": [],
   "source": [
    "def releaseXMod(row):\n",
    "    if(row['Over'] == 0):\n",
    "          rValue = row['releaseX'] - (LENGTH_OF_PITCH/2)\n",
    "    if(row['Over'] % 2 != 0):\n",
    "        rValue = -(row['releaseX'] - (LENGTH_OF_PITCH/2))\n",
    "    else:\n",
    "        rValue = row['releaseX'] - (LENGTH_OF_PITCH/2)\n",
    "    return(rValue)  "
   ]
  },
  {
   "cell_type": "code",
   "execution_count": 20,
   "metadata": {
    "collapsed": true,
    "slideshow": {
     "slide_type": "fragment"
    }
   },
   "outputs": [],
   "source": [
    "def bounceXMod(row):\n",
    "    if(row['Over'] == 0):\n",
    "          rValue = (row['bounceX'] - (LENGTH_OF_PITCH/2))\n",
    "    if(row['Over'] % 2 != 0):\n",
    "        rValue = -(row['bounceX'] - (LENGTH_OF_PITCH/2))\n",
    "    else:\n",
    "        rValue = (row['bounceX'] - (LENGTH_OF_PITCH/2))\n",
    "    return(rValue)  "
   ]
  },
  {
   "cell_type": "code",
   "execution_count": 21,
   "metadata": {
    "collapsed": true,
    "slideshow": {
     "slide_type": "fragment"
    }
   },
   "outputs": [],
   "source": [
    "def stumpPosXMod(row):\n",
    "    if(row['Over'] == 0):\n",
    "          rValue = -(LENGTH_OF_PITCH/2)\n",
    "    if(row['Over'] % 2 != 0):\n",
    "        rValue = (LENGTH_OF_PITCH/2)\n",
    "    else:\n",
    "        rValue = -(LENGTH_OF_PITCH/2)\n",
    "    return(rValue)"
   ]
  },
  {
   "cell_type": "code",
   "execution_count": 22,
   "metadata": {
    "collapsed": true,
    "slideshow": {
     "slide_type": "fragment"
    }
   },
   "outputs": [],
   "source": [
    "def bounceZMod(row):\n",
    "    if(row['Over'] == 0):\n",
    "          rValue = 0.0001\n",
    "    if(row['Over'] % 2 != 0):\n",
    "        rValue = 0.0001\n",
    "    else:\n",
    "        rValue = 0.0001\n",
    "    return(rValue)"
   ]
  },
  {
   "cell_type": "code",
   "execution_count": 23,
   "metadata": {
    "collapsed": true,
    "slideshow": {
     "slide_type": "skip"
    }
   },
   "outputs": [],
   "source": [
    "def endMod(row):\n",
    "    if(row['Over'] == 0):\n",
    "          rValue = \"north\"\n",
    "    if(row['Over'] % 2 != 0):\n",
    "        rValue = \"south\"\n",
    "    else:\n",
    "        rValue = \"north\"\n",
    "    return(rValue)"
   ]
  },
  {
   "cell_type": "code",
   "execution_count": 24,
   "metadata": {
    "collapsed": true,
    "slideshow": {
     "slide_type": "fragment"
    }
   },
   "outputs": [],
   "source": [
    "df['bounceX'] = df.apply(bounceXMod, axis=1)\n",
    "df['releaseX'] = df.apply(releaseXMod, axis=1)\n",
    "df['stumpPosX'] = df.apply(stumpPosXMod, axis=1)\n",
    "df['bounceZ'] = df.apply(bounceZMod, axis=1)"
   ]
  },
  {
   "cell_type": "markdown",
   "metadata": {
    "slideshow": {
     "slide_type": "subslide"
    }
   },
   "source": [
    "### Create a new variable to seperate the bowling ends of the cricket pitch"
   ]
  },
  {
   "cell_type": "code",
   "execution_count": 25,
   "metadata": {
    "collapsed": true,
    "slideshow": {
     "slide_type": "fragment"
    }
   },
   "outputs": [],
   "source": [
    "df['bowlerEnd'] = df.apply(endMod, axis=1)"
   ]
  },
  {
   "cell_type": "code",
   "execution_count": 26,
   "metadata": {
    "collapsed": false,
    "slideshow": {
     "slide_type": "slide"
    }
   },
   "outputs": [
    {
     "data": {
      "text/html": [
       "<iframe id=\"igraph\" scrolling=\"no\" style=\"border:none;\" seamless=\"seamless\" src=\"https://plot.ly/~linus.austen.mcmanamey/480.embed\" height=\"525px\" width=\"100%\"></iframe>"
      ],
      "text/plain": [
       "<plotly.tools.PlotlyDisplay object>"
      ]
     },
     "execution_count": 26,
     "metadata": {},
     "output_type": "execute_result"
    }
   ],
   "source": [
    "file_name = \"seperate_ends_all_balls\"\n",
    "header_text = \"test for seperate bowling ends of data set\"\n",
    "callGraph(df,file_name, header_text)"
   ]
  },
  {
   "cell_type": "markdown",
   "metadata": {
    "slideshow": {
     "slide_type": "slide"
    }
   },
   "source": [
    "## Test the bowling ends have been seperated"
   ]
  },
  {
   "cell_type": "code",
   "execution_count": 27,
   "metadata": {
    "collapsed": false,
    "slideshow": {
     "slide_type": "subslide"
    }
   },
   "outputs": [
    {
     "data": {
      "text/html": [
       "<iframe id=\"igraph\" scrolling=\"no\" style=\"border:none;\" seamless=\"seamless\" src=\"https://plot.ly/~linus.austen.mcmanamey/482.embed\" height=\"525px\" width=\"100%\"></iframe>"
      ],
      "text/plain": [
       "<plotly.tools.PlotlyDisplay object>"
      ]
     },
     "execution_count": 27,
     "metadata": {},
     "output_type": "execute_result"
    }
   ],
   "source": [
    "### Northern end\n",
    "northDF = df[df.bowlerEnd == \"north\"] \n",
    "file_name = \"Northen_end_all_balls\"\n",
    "header_text = \"Test for Northern bowling end of data set\"\n",
    "callGraph(northDF,file_name, header_text)"
   ]
  },
  {
   "cell_type": "code",
   "execution_count": 28,
   "metadata": {
    "collapsed": false,
    "slideshow": {
     "slide_type": "subslide"
    }
   },
   "outputs": [
    {
     "data": {
      "text/html": [
       "<iframe id=\"igraph\" scrolling=\"no\" style=\"border:none;\" seamless=\"seamless\" src=\"https://plot.ly/~linus.austen.mcmanamey/484.embed\" height=\"525px\" width=\"100%\"></iframe>"
      ],
      "text/plain": [
       "<plotly.tools.PlotlyDisplay object>"
      ]
     },
     "execution_count": 28,
     "metadata": {},
     "output_type": "execute_result"
    }
   ],
   "source": [
    "### Southern end\n",
    "northDF = df[df.bowlerEnd != \"north\"] \n",
    "file_name = \"Southern_end_all_balls\"\n",
    "header_text = \"Test for Southern bowling end of data set\"\n",
    "callGraph(northDF,file_name, header_text)"
   ]
  },
  {
   "cell_type": "code",
   "execution_count": 29,
   "metadata": {
    "collapsed": false,
    "slideshow": {
     "slide_type": "slide"
    }
   },
   "outputs": [
    {
     "data": {
      "text/html": [
       "<div>\n",
       "<table border=\"1\" class=\"dataframe\">\n",
       "  <thead>\n",
       "    <tr style=\"text-align: right;\">\n",
       "      <th></th>\n",
       "      <th>Over</th>\n",
       "      <th>Ball</th>\n",
       "      <th>releaseX</th>\n",
       "      <th>releaseY</th>\n",
       "      <th>releaseZ</th>\n",
       "      <th>releaseSpeed</th>\n",
       "      <th>bounceX</th>\n",
       "      <th>bounceY</th>\n",
       "      <th>bounceSpeed</th>\n",
       "      <th>stumpPosX</th>\n",
       "      <th>stumpPosY</th>\n",
       "      <th>stumpPosZ</th>\n",
       "      <th>stumpSpeed</th>\n",
       "      <th>deviation</th>\n",
       "      <th>swing</th>\n",
       "      <th>dropAngle</th>\n",
       "      <th>bounceAngle</th>\n",
       "      <th>hour</th>\n",
       "      <th>bounceZ</th>\n",
       "    </tr>\n",
       "  </thead>\n",
       "  <tbody>\n",
       "    <tr>\n",
       "      <th>count</th>\n",
       "      <td>1770.000000</td>\n",
       "      <td>1770.000000</td>\n",
       "      <td>1770.000000</td>\n",
       "      <td>1770.000000</td>\n",
       "      <td>1770.000000</td>\n",
       "      <td>1770.000000</td>\n",
       "      <td>1770.000000</td>\n",
       "      <td>1770.000000</td>\n",
       "      <td>1770.000000</td>\n",
       "      <td>1770.000000</td>\n",
       "      <td>1770.000000</td>\n",
       "      <td>1770.000000</td>\n",
       "      <td>1770.000000</td>\n",
       "      <td>1770.000000</td>\n",
       "      <td>1770.000000</td>\n",
       "      <td>1770.000000</td>\n",
       "      <td>1770.000000</td>\n",
       "      <td>1770.000000</td>\n",
       "      <td>1.770000e+03</td>\n",
       "    </tr>\n",
       "    <tr>\n",
       "      <th>mean</th>\n",
       "      <td>53.571751</td>\n",
       "      <td>3.489266</td>\n",
       "      <td>0.060099</td>\n",
       "      <td>-0.259907</td>\n",
       "      <td>2.014936</td>\n",
       "      <td>114.742325</td>\n",
       "      <td>0.427255</td>\n",
       "      <td>-0.064053</td>\n",
       "      <td>94.390839</td>\n",
       "      <td>-0.079571</td>\n",
       "      <td>-0.022888</td>\n",
       "      <td>0.792228</td>\n",
       "      <td>86.335865</td>\n",
       "      <td>-0.440527</td>\n",
       "      <td>0.149608</td>\n",
       "      <td>14.120395</td>\n",
       "      <td>10.476318</td>\n",
       "      <td>16.548588</td>\n",
       "      <td>1.000000e-04</td>\n",
       "    </tr>\n",
       "    <tr>\n",
       "      <th>std</th>\n",
       "      <td>38.090023</td>\n",
       "      <td>1.712901</td>\n",
       "      <td>8.565403</td>\n",
       "      <td>0.727812</td>\n",
       "      <td>0.095051</td>\n",
       "      <td>27.535262</td>\n",
       "      <td>4.673186</td>\n",
       "      <td>0.369196</td>\n",
       "      <td>26.307992</td>\n",
       "      <td>10.062528</td>\n",
       "      <td>0.350389</td>\n",
       "      <td>0.258032</td>\n",
       "      <td>24.154028</td>\n",
       "      <td>2.651768</td>\n",
       "      <td>1.381338</td>\n",
       "      <td>2.417227</td>\n",
       "      <td>2.831218</td>\n",
       "      <td>2.205692</td>\n",
       "      <td>1.802996e-18</td>\n",
       "    </tr>\n",
       "    <tr>\n",
       "      <th>min</th>\n",
       "      <td>0.000000</td>\n",
       "      <td>0.000000</td>\n",
       "      <td>-9.337600</td>\n",
       "      <td>-2.594640</td>\n",
       "      <td>1.637280</td>\n",
       "      <td>75.478500</td>\n",
       "      <td>-10.197705</td>\n",
       "      <td>-2.855350</td>\n",
       "      <td>0.000000</td>\n",
       "      <td>-10.060000</td>\n",
       "      <td>-3.172690</td>\n",
       "      <td>0.045800</td>\n",
       "      <td>46.251500</td>\n",
       "      <td>-8.062580</td>\n",
       "      <td>-5.024840</td>\n",
       "      <td>6.724470</td>\n",
       "      <td>4.675410</td>\n",
       "      <td>12.000000</td>\n",
       "      <td>1.000000e-04</td>\n",
       "    </tr>\n",
       "    <tr>\n",
       "      <th>25%</th>\n",
       "      <td>19.000000</td>\n",
       "      <td>2.000000</td>\n",
       "      <td>-8.561925</td>\n",
       "      <td>-0.768941</td>\n",
       "      <td>1.950045</td>\n",
       "      <td>85.558125</td>\n",
       "      <td>-3.859750</td>\n",
       "      <td>-0.346796</td>\n",
       "      <td>67.386750</td>\n",
       "      <td>-10.060000</td>\n",
       "      <td>-0.244339</td>\n",
       "      <td>0.654771</td>\n",
       "      <td>61.153800</td>\n",
       "      <td>-2.215323</td>\n",
       "      <td>-0.563010</td>\n",
       "      <td>11.922800</td>\n",
       "      <td>8.057850</td>\n",
       "      <td>15.000000</td>\n",
       "      <td>1.000000e-04</td>\n",
       "    </tr>\n",
       "    <tr>\n",
       "      <th>50%</th>\n",
       "      <td>49.000000</td>\n",
       "      <td>3.000000</td>\n",
       "      <td>8.140250</td>\n",
       "      <td>-0.613263</td>\n",
       "      <td>1.977375</td>\n",
       "      <td>129.659000</td>\n",
       "      <td>0.701250</td>\n",
       "      <td>-0.092753</td>\n",
       "      <td>108.180500</td>\n",
       "      <td>-10.060000</td>\n",
       "      <td>-0.038021</td>\n",
       "      <td>0.763645</td>\n",
       "      <td>98.577750</td>\n",
       "      <td>-0.172455</td>\n",
       "      <td>0.121947</td>\n",
       "      <td>14.989450</td>\n",
       "      <td>9.968970</td>\n",
       "      <td>17.000000</td>\n",
       "      <td>1.000000e-04</td>\n",
       "    </tr>\n",
       "    <tr>\n",
       "      <th>75%</th>\n",
       "      <td>86.000000</td>\n",
       "      <td>5.000000</td>\n",
       "      <td>8.536150</td>\n",
       "      <td>0.372109</td>\n",
       "      <td>2.058852</td>\n",
       "      <td>140.542500</td>\n",
       "      <td>4.972823</td>\n",
       "      <td>0.208496</td>\n",
       "      <td>118.853500</td>\n",
       "      <td>10.060000</td>\n",
       "      <td>0.205626</td>\n",
       "      <td>0.881053</td>\n",
       "      <td>108.275250</td>\n",
       "      <td>0.448278</td>\n",
       "      <td>0.885530</td>\n",
       "      <td>16.246750</td>\n",
       "      <td>12.625850</td>\n",
       "      <td>18.000000</td>\n",
       "      <td>1.000000e-04</td>\n",
       "    </tr>\n",
       "    <tr>\n",
       "      <th>max</th>\n",
       "      <td>134.000000</td>\n",
       "      <td>6.000000</td>\n",
       "      <td>12.076000</td>\n",
       "      <td>1.406560</td>\n",
       "      <td>2.262040</td>\n",
       "      <td>159.852000</td>\n",
       "      <td>9.851213</td>\n",
       "      <td>0.954498</td>\n",
       "      <td>134.619000</td>\n",
       "      <td>10.060000</td>\n",
       "      <td>1.131090</td>\n",
       "      <td>2.420820</td>\n",
       "      <td>128.043000</td>\n",
       "      <td>9.567350</td>\n",
       "      <td>4.715010</td>\n",
       "      <td>22.994400</td>\n",
       "      <td>29.397600</td>\n",
       "      <td>20.000000</td>\n",
       "      <td>1.000000e-04</td>\n",
       "    </tr>\n",
       "  </tbody>\n",
       "</table>\n",
       "</div>"
      ],
      "text/plain": [
       "              Over         Ball     releaseX     releaseY     releaseZ  \\\n",
       "count  1770.000000  1770.000000  1770.000000  1770.000000  1770.000000   \n",
       "mean     53.571751     3.489266     0.060099    -0.259907     2.014936   \n",
       "std      38.090023     1.712901     8.565403     0.727812     0.095051   \n",
       "min       0.000000     0.000000    -9.337600    -2.594640     1.637280   \n",
       "25%      19.000000     2.000000    -8.561925    -0.768941     1.950045   \n",
       "50%      49.000000     3.000000     8.140250    -0.613263     1.977375   \n",
       "75%      86.000000     5.000000     8.536150     0.372109     2.058852   \n",
       "max     134.000000     6.000000    12.076000     1.406560     2.262040   \n",
       "\n",
       "       releaseSpeed      bounceX      bounceY  bounceSpeed    stumpPosX  \\\n",
       "count   1770.000000  1770.000000  1770.000000  1770.000000  1770.000000   \n",
       "mean     114.742325     0.427255    -0.064053    94.390839    -0.079571   \n",
       "std       27.535262     4.673186     0.369196    26.307992    10.062528   \n",
       "min       75.478500   -10.197705    -2.855350     0.000000   -10.060000   \n",
       "25%       85.558125    -3.859750    -0.346796    67.386750   -10.060000   \n",
       "50%      129.659000     0.701250    -0.092753   108.180500   -10.060000   \n",
       "75%      140.542500     4.972823     0.208496   118.853500    10.060000   \n",
       "max      159.852000     9.851213     0.954498   134.619000    10.060000   \n",
       "\n",
       "         stumpPosY    stumpPosZ   stumpSpeed    deviation        swing  \\\n",
       "count  1770.000000  1770.000000  1770.000000  1770.000000  1770.000000   \n",
       "mean     -0.022888     0.792228    86.335865    -0.440527     0.149608   \n",
       "std       0.350389     0.258032    24.154028     2.651768     1.381338   \n",
       "min      -3.172690     0.045800    46.251500    -8.062580    -5.024840   \n",
       "25%      -0.244339     0.654771    61.153800    -2.215323    -0.563010   \n",
       "50%      -0.038021     0.763645    98.577750    -0.172455     0.121947   \n",
       "75%       0.205626     0.881053   108.275250     0.448278     0.885530   \n",
       "max       1.131090     2.420820   128.043000     9.567350     4.715010   \n",
       "\n",
       "         dropAngle  bounceAngle         hour       bounceZ  \n",
       "count  1770.000000  1770.000000  1770.000000  1.770000e+03  \n",
       "mean     14.120395    10.476318    16.548588  1.000000e-04  \n",
       "std       2.417227     2.831218     2.205692  1.802996e-18  \n",
       "min       6.724470     4.675410    12.000000  1.000000e-04  \n",
       "25%      11.922800     8.057850    15.000000  1.000000e-04  \n",
       "50%      14.989450     9.968970    17.000000  1.000000e-04  \n",
       "75%      16.246750    12.625850    18.000000  1.000000e-04  \n",
       "max      22.994400    29.397600    20.000000  1.000000e-04  "
      ]
     },
     "execution_count": 29,
     "metadata": {},
     "output_type": "execute_result"
    }
   ],
   "source": [
    "df.describe()"
   ]
  },
  {
   "cell_type": "markdown",
   "metadata": {
    "slideshow": {
     "slide_type": "subslide"
    }
   },
   "source": [
    "### Final Check for null or Zero values\n",
    "* **Over** should have a value of greater than Zero as the Number of \"overs\" (set of 6 balls) bowled starts at 1\n",
    "* zero values can be expected in the **Runs** column above as the batsman does not always score a run of eevery ball\n",
    "* **Ball**, however should always be a number from one to six\n",
    "* **bounceSpeed** should also have a speed greater than 0\n"
   ]
  },
  {
   "cell_type": "code",
   "execution_count": 30,
   "metadata": {
    "collapsed": false,
    "slideshow": {
     "slide_type": "fragment"
    }
   },
   "outputs": [
    {
     "data": {
      "text/plain": [
       "25"
      ]
     },
     "execution_count": 30,
     "metadata": {},
     "output_type": "execute_result"
    }
   ],
   "source": [
    "sum(df.Over == 0)"
   ]
  },
  {
   "cell_type": "code",
   "execution_count": 31,
   "metadata": {
    "collapsed": false,
    "slideshow": {
     "slide_type": "fragment"
    }
   },
   "outputs": [
    {
     "data": {
      "text/plain": [
       "1745"
      ]
     },
     "execution_count": 31,
     "metadata": {},
     "output_type": "execute_result"
    }
   ],
   "source": [
    "df = df[df.Over != 0]\n",
    "len(df)"
   ]
  },
  {
   "cell_type": "code",
   "execution_count": 32,
   "metadata": {
    "collapsed": false,
    "slideshow": {
     "slide_type": "fragment"
    }
   },
   "outputs": [
    {
     "data": {
      "text/plain": [
       "1    294\n",
       "3    291\n",
       "2    291\n",
       "6    290\n",
       "5    290\n",
       "4    288\n",
       "0      1\n",
       "Name: Ball, dtype: int64"
      ]
     },
     "execution_count": 32,
     "metadata": {},
     "output_type": "execute_result"
    }
   ],
   "source": [
    "df.Ball.value_counts()"
   ]
  },
  {
   "cell_type": "code",
   "execution_count": 33,
   "metadata": {
    "collapsed": false,
    "slideshow": {
     "slide_type": "fragment"
    }
   },
   "outputs": [
    {
     "data": {
      "text/plain": [
       "1744"
      ]
     },
     "execution_count": 33,
     "metadata": {},
     "output_type": "execute_result"
    }
   ],
   "source": [
    "df = df[df.Ball != 0]\n",
    "len(df)"
   ]
  },
  {
   "cell_type": "code",
   "execution_count": 34,
   "metadata": {
    "collapsed": false,
    "slideshow": {
     "slide_type": "fragment"
    }
   },
   "outputs": [
    {
     "data": {
      "text/plain": [
       "2"
      ]
     },
     "execution_count": 34,
     "metadata": {},
     "output_type": "execute_result"
    }
   ],
   "source": [
    "### number of zero reading bounce speeds\n",
    "sum(df.bounceSpeed == 0)"
   ]
  },
  {
   "cell_type": "code",
   "execution_count": 35,
   "metadata": {
    "collapsed": false,
    "slideshow": {
     "slide_type": "fragment"
    }
   },
   "outputs": [
    {
     "data": {
      "text/plain": [
       "1742"
      ]
     },
     "execution_count": 35,
     "metadata": {},
     "output_type": "execute_result"
    }
   ],
   "source": [
    "df = df[df.bounceSpeed != 0]\n",
    "len(df)"
   ]
  },
  {
   "cell_type": "code",
   "execution_count": 36,
   "metadata": {
    "collapsed": false,
    "slideshow": {
     "slide_type": "fragment"
    }
   },
   "outputs": [
    {
     "data": {
      "text/html": [
       "<div>\n",
       "<table border=\"1\" class=\"dataframe\">\n",
       "  <thead>\n",
       "    <tr style=\"text-align: right;\">\n",
       "      <th></th>\n",
       "      <th>Over</th>\n",
       "      <th>Ball</th>\n",
       "      <th>releaseX</th>\n",
       "      <th>releaseY</th>\n",
       "      <th>releaseZ</th>\n",
       "      <th>releaseSpeed</th>\n",
       "      <th>bounceX</th>\n",
       "      <th>bounceY</th>\n",
       "      <th>bounceSpeed</th>\n",
       "      <th>stumpPosX</th>\n",
       "      <th>stumpPosY</th>\n",
       "      <th>stumpPosZ</th>\n",
       "      <th>stumpSpeed</th>\n",
       "      <th>deviation</th>\n",
       "      <th>swing</th>\n",
       "      <th>dropAngle</th>\n",
       "      <th>bounceAngle</th>\n",
       "      <th>hour</th>\n",
       "      <th>bounceZ</th>\n",
       "    </tr>\n",
       "  </thead>\n",
       "  <tbody>\n",
       "    <tr>\n",
       "      <th>count</th>\n",
       "      <td>1742.000000</td>\n",
       "      <td>1742.000000</td>\n",
       "      <td>1742.000000</td>\n",
       "      <td>1742.000000</td>\n",
       "      <td>1742.000000</td>\n",
       "      <td>1742.000000</td>\n",
       "      <td>1742.000000</td>\n",
       "      <td>1742.000000</td>\n",
       "      <td>1742.000000</td>\n",
       "      <td>1742.00000</td>\n",
       "      <td>1742.000000</td>\n",
       "      <td>1742.000000</td>\n",
       "      <td>1742.000000</td>\n",
       "      <td>1742.000000</td>\n",
       "      <td>1742.000000</td>\n",
       "      <td>1742.000000</td>\n",
       "      <td>1742.000000</td>\n",
       "      <td>1742.000000</td>\n",
       "      <td>1.742000e+03</td>\n",
       "    </tr>\n",
       "    <tr>\n",
       "      <th>mean</th>\n",
       "      <td>54.357635</td>\n",
       "      <td>3.490815</td>\n",
       "      <td>-0.066430</td>\n",
       "      <td>-0.264900</td>\n",
       "      <td>2.015659</td>\n",
       "      <td>114.331468</td>\n",
       "      <td>0.494881</td>\n",
       "      <td>-0.063182</td>\n",
       "      <td>94.303224</td>\n",
       "      <td>0.06930</td>\n",
       "      <td>-0.020255</td>\n",
       "      <td>0.794608</td>\n",
       "      <td>85.952580</td>\n",
       "      <td>-0.448014</td>\n",
       "      <td>0.154251</td>\n",
       "      <td>14.171516</td>\n",
       "      <td>10.511466</td>\n",
       "      <td>16.557979</td>\n",
       "      <td>1.000000e-04</td>\n",
       "    </tr>\n",
       "    <tr>\n",
       "      <th>std</th>\n",
       "      <td>37.801396</td>\n",
       "      <td>1.710755</td>\n",
       "      <td>8.565901</td>\n",
       "      <td>0.729227</td>\n",
       "      <td>0.095556</td>\n",
       "      <td>27.510201</td>\n",
       "      <td>4.668055</td>\n",
       "      <td>0.370732</td>\n",
       "      <td>25.950115</td>\n",
       "      <td>10.06265</td>\n",
       "      <td>0.349839</td>\n",
       "      <td>0.257364</td>\n",
       "      <td>24.091123</td>\n",
       "      <td>2.671450</td>\n",
       "      <td>1.385690</td>\n",
       "      <td>2.389808</td>\n",
       "      <td>2.833647</td>\n",
       "      <td>2.198590</td>\n",
       "      <td>1.653883e-18</td>\n",
       "    </tr>\n",
       "    <tr>\n",
       "      <th>min</th>\n",
       "      <td>1.000000</td>\n",
       "      <td>1.000000</td>\n",
       "      <td>-9.337600</td>\n",
       "      <td>-2.594640</td>\n",
       "      <td>1.637280</td>\n",
       "      <td>75.478500</td>\n",
       "      <td>-10.197705</td>\n",
       "      <td>-2.855350</td>\n",
       "      <td>51.355600</td>\n",
       "      <td>-10.06000</td>\n",
       "      <td>-3.172690</td>\n",
       "      <td>0.045800</td>\n",
       "      <td>46.251500</td>\n",
       "      <td>-8.062580</td>\n",
       "      <td>-5.024840</td>\n",
       "      <td>6.724470</td>\n",
       "      <td>4.675410</td>\n",
       "      <td>12.000000</td>\n",
       "      <td>1.000000e-04</td>\n",
       "    </tr>\n",
       "    <tr>\n",
       "      <th>25%</th>\n",
       "      <td>20.000000</td>\n",
       "      <td>2.000000</td>\n",
       "      <td>-8.563800</td>\n",
       "      <td>-0.769451</td>\n",
       "      <td>1.949965</td>\n",
       "      <td>85.480700</td>\n",
       "      <td>-3.838993</td>\n",
       "      <td>-0.347302</td>\n",
       "      <td>67.375700</td>\n",
       "      <td>-10.06000</td>\n",
       "      <td>-0.235279</td>\n",
       "      <td>0.655613</td>\n",
       "      <td>61.109775</td>\n",
       "      <td>-2.260245</td>\n",
       "      <td>-0.554173</td>\n",
       "      <td>11.974825</td>\n",
       "      <td>8.095203</td>\n",
       "      <td>15.000000</td>\n",
       "      <td>1.000000e-04</td>\n",
       "    </tr>\n",
       "    <tr>\n",
       "      <th>50%</th>\n",
       "      <td>50.000000</td>\n",
       "      <td>3.000000</td>\n",
       "      <td>-8.112100</td>\n",
       "      <td>-0.615452</td>\n",
       "      <td>1.977550</td>\n",
       "      <td>129.039000</td>\n",
       "      <td>1.020000</td>\n",
       "      <td>-0.092480</td>\n",
       "      <td>107.719500</td>\n",
       "      <td>10.06000</td>\n",
       "      <td>-0.036143</td>\n",
       "      <td>0.763873</td>\n",
       "      <td>97.933550</td>\n",
       "      <td>-0.181305</td>\n",
       "      <td>0.122744</td>\n",
       "      <td>15.099900</td>\n",
       "      <td>10.126900</td>\n",
       "      <td>17.000000</td>\n",
       "      <td>1.000000e-04</td>\n",
       "    </tr>\n",
       "    <tr>\n",
       "      <th>75%</th>\n",
       "      <td>86.000000</td>\n",
       "      <td>5.000000</td>\n",
       "      <td>8.531025</td>\n",
       "      <td>0.372109</td>\n",
       "      <td>2.068880</td>\n",
       "      <td>140.274750</td>\n",
       "      <td>5.009255</td>\n",
       "      <td>0.210233</td>\n",
       "      <td>118.707000</td>\n",
       "      <td>10.06000</td>\n",
       "      <td>0.207648</td>\n",
       "      <td>0.881841</td>\n",
       "      <td>108.157000</td>\n",
       "      <td>0.454240</td>\n",
       "      <td>0.898038</td>\n",
       "      <td>16.259425</td>\n",
       "      <td>12.670925</td>\n",
       "      <td>18.000000</td>\n",
       "      <td>1.000000e-04</td>\n",
       "    </tr>\n",
       "    <tr>\n",
       "      <th>max</th>\n",
       "      <td>134.000000</td>\n",
       "      <td>6.000000</td>\n",
       "      <td>12.076000</td>\n",
       "      <td>1.406560</td>\n",
       "      <td>2.262040</td>\n",
       "      <td>159.852000</td>\n",
       "      <td>9.851213</td>\n",
       "      <td>0.954498</td>\n",
       "      <td>134.619000</td>\n",
       "      <td>10.06000</td>\n",
       "      <td>1.131090</td>\n",
       "      <td>2.420820</td>\n",
       "      <td>126.267000</td>\n",
       "      <td>9.567350</td>\n",
       "      <td>4.715010</td>\n",
       "      <td>22.994400</td>\n",
       "      <td>29.397600</td>\n",
       "      <td>20.000000</td>\n",
       "      <td>1.000000e-04</td>\n",
       "    </tr>\n",
       "  </tbody>\n",
       "</table>\n",
       "</div>"
      ],
      "text/plain": [
       "              Over         Ball     releaseX     releaseY     releaseZ  \\\n",
       "count  1742.000000  1742.000000  1742.000000  1742.000000  1742.000000   \n",
       "mean     54.357635     3.490815    -0.066430    -0.264900     2.015659   \n",
       "std      37.801396     1.710755     8.565901     0.729227     0.095556   \n",
       "min       1.000000     1.000000    -9.337600    -2.594640     1.637280   \n",
       "25%      20.000000     2.000000    -8.563800    -0.769451     1.949965   \n",
       "50%      50.000000     3.000000    -8.112100    -0.615452     1.977550   \n",
       "75%      86.000000     5.000000     8.531025     0.372109     2.068880   \n",
       "max     134.000000     6.000000    12.076000     1.406560     2.262040   \n",
       "\n",
       "       releaseSpeed      bounceX      bounceY  bounceSpeed   stumpPosX  \\\n",
       "count   1742.000000  1742.000000  1742.000000  1742.000000  1742.00000   \n",
       "mean     114.331468     0.494881    -0.063182    94.303224     0.06930   \n",
       "std       27.510201     4.668055     0.370732    25.950115    10.06265   \n",
       "min       75.478500   -10.197705    -2.855350    51.355600   -10.06000   \n",
       "25%       85.480700    -3.838993    -0.347302    67.375700   -10.06000   \n",
       "50%      129.039000     1.020000    -0.092480   107.719500    10.06000   \n",
       "75%      140.274750     5.009255     0.210233   118.707000    10.06000   \n",
       "max      159.852000     9.851213     0.954498   134.619000    10.06000   \n",
       "\n",
       "         stumpPosY    stumpPosZ   stumpSpeed    deviation        swing  \\\n",
       "count  1742.000000  1742.000000  1742.000000  1742.000000  1742.000000   \n",
       "mean     -0.020255     0.794608    85.952580    -0.448014     0.154251   \n",
       "std       0.349839     0.257364    24.091123     2.671450     1.385690   \n",
       "min      -3.172690     0.045800    46.251500    -8.062580    -5.024840   \n",
       "25%      -0.235279     0.655613    61.109775    -2.260245    -0.554173   \n",
       "50%      -0.036143     0.763873    97.933550    -0.181305     0.122744   \n",
       "75%       0.207648     0.881841   108.157000     0.454240     0.898038   \n",
       "max       1.131090     2.420820   126.267000     9.567350     4.715010   \n",
       "\n",
       "         dropAngle  bounceAngle         hour       bounceZ  \n",
       "count  1742.000000  1742.000000  1742.000000  1.742000e+03  \n",
       "mean     14.171516    10.511466    16.557979  1.000000e-04  \n",
       "std       2.389808     2.833647     2.198590  1.653883e-18  \n",
       "min       6.724470     4.675410    12.000000  1.000000e-04  \n",
       "25%      11.974825     8.095203    15.000000  1.000000e-04  \n",
       "50%      15.099900    10.126900    17.000000  1.000000e-04  \n",
       "75%      16.259425    12.670925    18.000000  1.000000e-04  \n",
       "max      22.994400    29.397600    20.000000  1.000000e-04  "
      ]
     },
     "execution_count": 36,
     "metadata": {},
     "output_type": "execute_result"
    }
   ],
   "source": [
    "df.describe()"
   ]
  },
  {
   "cell_type": "code",
   "execution_count": 37,
   "metadata": {
    "collapsed": false,
    "slideshow": {
     "slide_type": "fragment"
    }
   },
   "outputs": [
    {
     "data": {
      "text/plain": [
       "Bowler                   Asad Shafiq\n",
       "TimeBowled       2017-01-03T12:35:55\n",
       "Over                               1\n",
       "Ball                               1\n",
       "bowler_hand                        L\n",
       "releaseX                     -9.3376\n",
       "releaseY                    -2.59464\n",
       "releaseZ                     1.63728\n",
       "releaseSpeed                 75.4785\n",
       "bounceX                     -10.1977\n",
       "bounceY                     -2.85535\n",
       "bounceSpeed                  51.3556\n",
       "stumpPosX                     -10.06\n",
       "stumpPosY                   -3.17269\n",
       "stumpPosZ                  0.0458002\n",
       "stumpSpeed                   46.2515\n",
       "deviation                   -8.06258\n",
       "swing                       -5.02484\n",
       "dropAngle                    6.72447\n",
       "bounceAngle                  4.67541\n",
       "hour                              12\n",
       "bounceZ                       0.0001\n",
       "bowlerEnd                      north\n",
       "dtype: object"
      ]
     },
     "execution_count": 37,
     "metadata": {},
     "output_type": "execute_result"
    }
   ],
   "source": [
    "df.min()"
   ]
  },
  {
   "cell_type": "markdown",
   "metadata": {
    "slideshow": {
     "slide_type": "slide"
    }
   },
   "source": [
    "## Export data set for further data analysis in R"
   ]
  },
  {
   "cell_type": "code",
   "execution_count": 38,
   "metadata": {
    "collapsed": true,
    "slideshow": {
     "slide_type": "subslide"
    }
   },
   "outputs": [],
   "source": [
    "df.to_csv('pitch_data.csv')"
   ]
  }
 ],
 "metadata": {
  "kernelspec": {
   "display_name": "Python 2",
   "language": "python",
   "name": "python2"
  },
  "language_info": {
   "codemirror_mode": {
    "name": "ipython",
    "version": 2
   },
   "file_extension": ".py",
   "mimetype": "text/x-python",
   "name": "python",
   "nbconvert_exporter": "python",
   "pygments_lexer": "ipython2",
   "version": "2.7.13"
  }
 },
 "nbformat": 4,
 "nbformat_minor": 2
}
