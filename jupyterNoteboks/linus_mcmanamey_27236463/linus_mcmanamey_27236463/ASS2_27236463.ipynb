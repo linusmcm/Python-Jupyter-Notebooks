{
 "cells": [
  {
   "cell_type": "markdown",
   "metadata": {
    "collapsed": true
   },
   "source": [
    "# FIT5145 Assessment 2\n",
    "#### Student Name: Linus McManamey\n",
    "#### Student ID:  27236463\n",
    "\n",
    "Date: 05/02/2017\n",
    "\n",
    "Version: 1.0\n",
    "\n",
    "Environment: Python 2.7.11 and Jupyter notebook"
   ]
  },
  {
   "cell_type": "code",
   "execution_count": 7,
   "metadata": {
    "collapsed": false
   },
   "outputs": [],
   "source": [
    "import geocoder\n",
    "import pandas as pd\n",
    "import numpy as np\n",
    "import matplotlib\n",
    "import matplotlib.pyplot as plt\n",
    "import time\n",
    "import seaborn as sns\n",
    "from IPython.core.interactiveshell import InteractiveShell\n",
    "InteractiveShell.ast_node_interactivity = \"all\"\n",
    "%matplotlib inline"
   ]
  },
  {
   "cell_type": "markdown",
   "metadata": {},
   "source": [
    "### PLOTLY LIBRARIES"
   ]
  },
  {
   "cell_type": "code",
   "execution_count": 53,
   "metadata": {
    "collapsed": false
   },
   "outputs": [
    {
     "data": {
      "text/html": [
       "<script>requirejs.config({paths: { 'plotly': ['https://cdn.plot.ly/plotly-latest.min']},});if(!window.Plotly) {{require(['plotly'],function(plotly) {window.Plotly=plotly;});}}</script>"
      ],
      "text/vnd.plotly.v1+html": [
       "<script>requirejs.config({paths: { 'plotly': ['https://cdn.plot.ly/plotly-latest.min']},});if(!window.Plotly) {{require(['plotly'],function(plotly) {window.Plotly=plotly;});}}</script>"
      ]
     },
     "metadata": {},
     "output_type": "display_data"
    }
   ],
   "source": [
    "import plotly\n",
    "plotly.tools.set_credentials_file(username='linus.austen.mcmanamey', api_key='3tqgEzyZAGTIeFY5sQ1T')\n",
    "import plotly.plotly as py\n",
    "import plotly.graph_objs as go\n",
    "from plotly.graph_objs import *\n",
    "from plotly.graph_objs import Surface, Layout, Scene\n",
    "from plotly.grid_objs import Grid, Column\n",
    "from plotly.tools import FigureFactory as FF\n",
    "from plotly.offline import init_notebook_mode, iplot\n",
    "from IPython.display import display, HTML\n",
    "init_notebook_mode(connected=True)\n",
    "import plotly.tools as tls\n",
    "#import colorlover as cl"
   ]
  },
  {
   "cell_type": "code",
   "execution_count": 9,
   "metadata": {
    "collapsed": true
   },
   "outputs": [],
   "source": [
    "### CONSTANTS\n",
    "SPEED = 1200\n",
    "EASER = 'linear'"
   ]
  },
  {
   "cell_type": "code",
   "execution_count": 10,
   "metadata": {
    "collapsed": true
   },
   "outputs": [],
   "source": [
    "#! conda install --channel https://conda.anaconda.org/conda-forge plotly=1.13.0"
   ]
  },
  {
   "cell_type": "code",
   "execution_count": 11,
   "metadata": {
    "collapsed": false
   },
   "outputs": [],
   "source": [
    "#! pip install cufflinks --upgrade"
   ]
  },
  {
   "cell_type": "code",
   "execution_count": 12,
   "metadata": {
    "collapsed": true
   },
   "outputs": [],
   "source": [
    "#!pip install geocoder"
   ]
  },
  {
   "cell_type": "markdown",
   "metadata": {},
   "source": [
    "# Part A: Motion Chart"
   ]
  },
  {
   "cell_type": "markdown",
   "metadata": {},
   "source": [
    "## Task 1"
   ]
  },
  {
   "cell_type": "markdown",
   "metadata": {},
   "source": [
    "#### List all csv files in directory"
   ]
  },
  {
   "cell_type": "code",
   "execution_count": 13,
   "metadata": {
    "collapsed": false
   },
   "outputs": [
    {
     "name": "stderr",
     "output_type": "stream",
     "text": [
      "'ls' is not recognized as an internal or external command,\n",
      "operable program or batch file.\n"
     ]
    }
   ],
   "source": [
    "!ls *.csv"
   ]
  },
  {
   "cell_type": "markdown",
   "metadata": {},
   "source": [
    "#### List all excel files in directory"
   ]
  },
  {
   "cell_type": "code",
   "execution_count": 14,
   "metadata": {
    "collapsed": false
   },
   "outputs": [
    {
     "name": "stderr",
     "output_type": "stream",
     "text": [
      "'ls' is not recognized as an internal or external command,\n",
      "operable program or batch file.\n"
     ]
    }
   ],
   "source": [
    "!ls *.xls"
   ]
  },
  {
   "cell_type": "code",
   "execution_count": 15,
   "metadata": {
    "collapsed": false
   },
   "outputs": [
    {
     "data": {
      "text/html": [
       "<div>\n",
       "<table border=\"1\" class=\"dataframe\">\n",
       "  <thead>\n",
       "    <tr style=\"text-align: right;\">\n",
       "      <th></th>\n",
       "      <th>State/Territory</th>\n",
       "      <th>Date</th>\n",
       "      <th>Employment Rate (15-64)</th>\n",
       "      <th>Unemployment Rate (15+)</th>\n",
       "      <th>Participation Rate (15+)</th>\n",
       "    </tr>\n",
       "  </thead>\n",
       "  <tbody>\n",
       "    <tr>\n",
       "      <th>0</th>\n",
       "      <td>NSW</td>\n",
       "      <td>1978-02-01</td>\n",
       "      <td>n/a</td>\n",
       "      <td>6.773762</td>\n",
       "      <td>60.735313</td>\n",
       "    </tr>\n",
       "    <tr>\n",
       "      <th>1</th>\n",
       "      <td>NSW</td>\n",
       "      <td>1978-03-01</td>\n",
       "      <td>n/a</td>\n",
       "      <td>6.490161</td>\n",
       "      <td>59.851078</td>\n",
       "    </tr>\n",
       "    <tr>\n",
       "      <th>2</th>\n",
       "      <td>NSW</td>\n",
       "      <td>1978-04-01</td>\n",
       "      <td>63.7195</td>\n",
       "      <td>6.507978</td>\n",
       "      <td>60.168513</td>\n",
       "    </tr>\n",
       "    <tr>\n",
       "      <th>3</th>\n",
       "      <td>NSW</td>\n",
       "      <td>1978-05-01</td>\n",
       "      <td>63.682</td>\n",
       "      <td>6.115171</td>\n",
       "      <td>60.003564</td>\n",
       "    </tr>\n",
       "    <tr>\n",
       "      <th>4</th>\n",
       "      <td>NSW</td>\n",
       "      <td>1978-06-01</td>\n",
       "      <td>63.6829</td>\n",
       "      <td>6.424127</td>\n",
       "      <td>60.145380</td>\n",
       "    </tr>\n",
       "  </tbody>\n",
       "</table>\n",
       "</div>"
      ],
      "text/plain": [
       "  State/Territory       Date Employment Rate (15-64)  Unemployment Rate (15+)  \\\n",
       "0             NSW 1978-02-01                     n/a                 6.773762   \n",
       "1             NSW 1978-03-01                     n/a                 6.490161   \n",
       "2             NSW 1978-04-01                 63.7195                 6.507978   \n",
       "3             NSW 1978-05-01                  63.682                 6.115171   \n",
       "4             NSW 1978-06-01                 63.6829                 6.424127   \n",
       "\n",
       "   Participation Rate (15+)  \n",
       "0                 60.735313  \n",
       "1                 59.851078  \n",
       "2                 60.168513  \n",
       "3                 60.003564  \n",
       "4                 60.145380  "
      ]
     },
     "execution_count": 15,
     "metadata": {},
     "output_type": "execute_result"
    }
   ],
   "source": [
    "SA4 = pd.read_excel('SA4 Time Series - October 2016.xls', sheetname = 'Time Series') # we will have to specify the sheet name\n",
    "SA4.head(5)"
   ]
  },
  {
   "cell_type": "markdown",
   "metadata": {},
   "source": [
    "#### Rename columns"
   ]
  },
  {
   "cell_type": "code",
   "execution_count": 16,
   "metadata": {
    "collapsed": false
   },
   "outputs": [
    {
     "data": {
      "text/html": [
       "<div>\n",
       "<table border=\"1\" class=\"dataframe\">\n",
       "  <thead>\n",
       "    <tr style=\"text-align: right;\">\n",
       "      <th></th>\n",
       "      <th>State</th>\n",
       "      <th>Date</th>\n",
       "      <th>E_Rate</th>\n",
       "      <th>U_Rate</th>\n",
       "      <th>P_Rate</th>\n",
       "    </tr>\n",
       "  </thead>\n",
       "  <tbody>\n",
       "    <tr>\n",
       "      <th>0</th>\n",
       "      <td>NSW</td>\n",
       "      <td>1978-02-01</td>\n",
       "      <td>n/a</td>\n",
       "      <td>6.773762</td>\n",
       "      <td>60.735313</td>\n",
       "    </tr>\n",
       "    <tr>\n",
       "      <th>1</th>\n",
       "      <td>NSW</td>\n",
       "      <td>1978-03-01</td>\n",
       "      <td>n/a</td>\n",
       "      <td>6.490161</td>\n",
       "      <td>59.851078</td>\n",
       "    </tr>\n",
       "  </tbody>\n",
       "</table>\n",
       "</div>"
      ],
      "text/plain": [
       "  State       Date E_Rate    U_Rate     P_Rate\n",
       "0   NSW 1978-02-01    n/a  6.773762  60.735313\n",
       "1   NSW 1978-03-01    n/a  6.490161  59.851078"
      ]
     },
     "execution_count": 16,
     "metadata": {},
     "output_type": "execute_result"
    }
   ],
   "source": [
    "SA4 = SA4.rename(columns={'State/Territory':'State'})\n",
    "SA4 = SA4.rename(columns={'Employment Rate (15-64)':'E_Rate'})\n",
    "SA4 = SA4.rename(columns={'Unemployment Rate (15+)':'U_Rate'})\n",
    "SA4 = SA4.rename(columns={'Participation Rate (15+)':'P_Rate'})\n",
    "SA4.head(2)"
   ]
  },
  {
   "cell_type": "code",
   "execution_count": 17,
   "metadata": {
    "collapsed": false
   },
   "outputs": [
    {
     "name": "stdout",
     "output_type": "stream",
     "text": [
      "check for number of n/a's  in E_Rate\n"
     ]
    },
    {
     "data": {
      "text/plain": [
       "16"
      ]
     },
     "execution_count": 17,
     "metadata": {},
     "output_type": "execute_result"
    }
   ],
   "source": [
    "print(\"check for number of n/a's  in E_Rate\")\n",
    "len(SA4[SA4.E_Rate  == 'n/a'])"
   ]
  },
  {
   "cell_type": "markdown",
   "metadata": {},
   "source": [
    "#### Remove 'n/a' and cast as float"
   ]
  },
  {
   "cell_type": "code",
   "execution_count": 18,
   "metadata": {
    "collapsed": false
   },
   "outputs": [
    {
     "name": "stdout",
     "output_type": "stream",
     "text": [
      "3704\n"
     ]
    }
   ],
   "source": [
    "SA4 = SA4[SA4.E_Rate  != 'n/a']\n",
    "SA4.E_Rate = SA4.E_Rate.astype('float')\n",
    "print(len(SA4))"
   ]
  },
  {
   "cell_type": "markdown",
   "metadata": {},
   "source": [
    "#### Check  dataframe types"
   ]
  },
  {
   "cell_type": "code",
   "execution_count": 19,
   "metadata": {
    "collapsed": false
   },
   "outputs": [
    {
     "data": {
      "text/plain": [
       "State             object\n",
       "Date      datetime64[ns]\n",
       "E_Rate           float64\n",
       "U_Rate           float64\n",
       "P_Rate           float64\n",
       "dtype: object"
      ]
     },
     "execution_count": 19,
     "metadata": {},
     "output_type": "execute_result"
    }
   ],
   "source": [
    "SA4.dtypes"
   ]
  },
  {
   "cell_type": "markdown",
   "metadata": {},
   "source": [
    "#### Check for null values"
   ]
  },
  {
   "cell_type": "code",
   "execution_count": 20,
   "metadata": {
    "collapsed": false
   },
   "outputs": [
    {
     "data": {
      "text/plain": [
       "0"
      ]
     },
     "execution_count": 20,
     "metadata": {},
     "output_type": "execute_result"
    },
    {
     "data": {
      "text/plain": [
       "0"
      ]
     },
     "execution_count": 20,
     "metadata": {},
     "output_type": "execute_result"
    },
    {
     "data": {
      "text/plain": [
       "0"
      ]
     },
     "execution_count": 20,
     "metadata": {},
     "output_type": "execute_result"
    }
   ],
   "source": [
    "SA4.U_Rate.isnull().sum()\n",
    "SA4.P_Rate.isnull().sum()\n",
    "SA4.E_Rate.isnull().sum()"
   ]
  },
  {
   "cell_type": "markdown",
   "metadata": {},
   "source": [
    "#### Set Date as index and then remove \"Date\" column"
   ]
  },
  {
   "cell_type": "code",
   "execution_count": 21,
   "metadata": {
    "collapsed": false
   },
   "outputs": [
    {
     "data": {
      "text/html": [
       "<div>\n",
       "<table border=\"1\" class=\"dataframe\">\n",
       "  <thead>\n",
       "    <tr style=\"text-align: right;\">\n",
       "      <th></th>\n",
       "      <th>State</th>\n",
       "      <th>E_Rate</th>\n",
       "      <th>U_Rate</th>\n",
       "      <th>P_Rate</th>\n",
       "    </tr>\n",
       "    <tr>\n",
       "      <th>Date</th>\n",
       "      <th></th>\n",
       "      <th></th>\n",
       "      <th></th>\n",
       "      <th></th>\n",
       "    </tr>\n",
       "  </thead>\n",
       "  <tbody>\n",
       "    <tr>\n",
       "      <th>1978-04-01</th>\n",
       "      <td>NSW</td>\n",
       "      <td>63.719468</td>\n",
       "      <td>6.507978</td>\n",
       "      <td>60.168513</td>\n",
       "    </tr>\n",
       "    <tr>\n",
       "      <th>1978-05-01</th>\n",
       "      <td>NSW</td>\n",
       "      <td>63.682010</td>\n",
       "      <td>6.115171</td>\n",
       "      <td>60.003564</td>\n",
       "    </tr>\n",
       "  </tbody>\n",
       "</table>\n",
       "</div>"
      ],
      "text/plain": [
       "           State     E_Rate    U_Rate     P_Rate\n",
       "Date                                            \n",
       "1978-04-01   NSW  63.719468  6.507978  60.168513\n",
       "1978-05-01   NSW  63.682010  6.115171  60.003564"
      ]
     },
     "execution_count": 21,
     "metadata": {},
     "output_type": "execute_result"
    }
   ],
   "source": [
    "SA4.index = pd.to_datetime(SA4.Date)\n",
    "SA4 = SA4.drop('Date', axis=1)\n",
    "SA4.head(2)"
   ]
  },
  {
   "cell_type": "markdown",
   "metadata": {},
   "source": [
    "#### Import csv files to pandas data frame"
   ]
  },
  {
   "cell_type": "code",
   "execution_count": 22,
   "metadata": {
    "collapsed": false
   },
   "outputs": [],
   "source": [
    "ERP = pd.read_csv('ERP_by state and gender.csv',infer_datetime_format=True,parse_dates=True, index_col=0)\n",
    "jobVacDF = pd.read_csv('Job Vacancies.csv',header=0,index_col=0, infer_datetime_format=True, parse_dates=True)"
   ]
  },
  {
   "cell_type": "code",
   "execution_count": 23,
   "metadata": {
    "collapsed": false
   },
   "outputs": [
    {
     "data": {
      "text/html": [
       "<div>\n",
       "<table border=\"1\" class=\"dataframe\">\n",
       "  <thead>\n",
       "    <tr style=\"text-align: right;\">\n",
       "      <th></th>\n",
       "      <th>2006-01-01</th>\n",
       "      <th>2006-02-01</th>\n",
       "      <th>2006-03-01</th>\n",
       "      <th>2006-04-01</th>\n",
       "      <th>2006-05-01</th>\n",
       "      <th>2006-06-01</th>\n",
       "      <th>2006-07-01</th>\n",
       "      <th>2006-08-01</th>\n",
       "      <th>2006-09-01</th>\n",
       "      <th>2006-10-01</th>\n",
       "      <th>...</th>\n",
       "      <th>2016-01-01</th>\n",
       "      <th>2016-02-01</th>\n",
       "      <th>2016-03-01</th>\n",
       "      <th>2016-04-01</th>\n",
       "      <th>2016-05-01</th>\n",
       "      <th>2016-06-01</th>\n",
       "      <th>2016-07-01</th>\n",
       "      <th>2016-08-01</th>\n",
       "      <th>2016-09-01</th>\n",
       "      <th>2016-10-01</th>\n",
       "    </tr>\n",
       "    <tr>\n",
       "      <th>State</th>\n",
       "      <th></th>\n",
       "      <th></th>\n",
       "      <th></th>\n",
       "      <th></th>\n",
       "      <th></th>\n",
       "      <th></th>\n",
       "      <th></th>\n",
       "      <th></th>\n",
       "      <th></th>\n",
       "      <th></th>\n",
       "      <th></th>\n",
       "      <th></th>\n",
       "      <th></th>\n",
       "      <th></th>\n",
       "      <th></th>\n",
       "      <th></th>\n",
       "      <th></th>\n",
       "      <th></th>\n",
       "      <th></th>\n",
       "      <th></th>\n",
       "      <th></th>\n",
       "    </tr>\n",
       "  </thead>\n",
       "  <tbody>\n",
       "    <tr>\n",
       "      <th>NSW</th>\n",
       "      <td>73047.8</td>\n",
       "      <td>73995.0</td>\n",
       "      <td>75246.3</td>\n",
       "      <td>76539.8</td>\n",
       "      <td>75614.9</td>\n",
       "      <td>81637.1</td>\n",
       "      <td>77047.4</td>\n",
       "      <td>78148.5</td>\n",
       "      <td>76411.3</td>\n",
       "      <td>82945.5</td>\n",
       "      <td>...</td>\n",
       "      <td>65297.0</td>\n",
       "      <td>64206.1</td>\n",
       "      <td>63909.2</td>\n",
       "      <td>65951.1</td>\n",
       "      <td>66060.8</td>\n",
       "      <td>66225.8</td>\n",
       "      <td>65063.3</td>\n",
       "      <td>65154.9</td>\n",
       "      <td>63121.4</td>\n",
       "      <td>63534.1</td>\n",
       "    </tr>\n",
       "    <tr>\n",
       "      <th>VIC</th>\n",
       "      <td>49399.3</td>\n",
       "      <td>51027.9</td>\n",
       "      <td>51492.4</td>\n",
       "      <td>51473.1</td>\n",
       "      <td>50570.0</td>\n",
       "      <td>53746.2</td>\n",
       "      <td>52149.5</td>\n",
       "      <td>52783.5</td>\n",
       "      <td>51013.6</td>\n",
       "      <td>56556.5</td>\n",
       "      <td>...</td>\n",
       "      <td>42227.9</td>\n",
       "      <td>41179.8</td>\n",
       "      <td>40338.7</td>\n",
       "      <td>42380.6</td>\n",
       "      <td>42968.9</td>\n",
       "      <td>42947.6</td>\n",
       "      <td>42292.8</td>\n",
       "      <td>42511.9</td>\n",
       "      <td>40092.0</td>\n",
       "      <td>42182.9</td>\n",
       "    </tr>\n",
       "  </tbody>\n",
       "</table>\n",
       "<p>2 rows × 130 columns</p>\n",
       "</div>"
      ],
      "text/plain": [
       "       2006-01-01  2006-02-01  2006-03-01  2006-04-01  2006-05-01  2006-06-01  \\\n",
       "State                                                                           \n",
       "NSW       73047.8     73995.0     75246.3     76539.8     75614.9     81637.1   \n",
       "VIC       49399.3     51027.9     51492.4     51473.1     50570.0     53746.2   \n",
       "\n",
       "       2006-07-01  2006-08-01  2006-09-01  2006-10-01     ...      2016-01-01  \\\n",
       "State                                                     ...                   \n",
       "NSW       77047.4     78148.5     76411.3     82945.5     ...         65297.0   \n",
       "VIC       52149.5     52783.5     51013.6     56556.5     ...         42227.9   \n",
       "\n",
       "       2016-02-01  2016-03-01  2016-04-01  2016-05-01  2016-06-01  2016-07-01  \\\n",
       "State                                                                           \n",
       "NSW       64206.1     63909.2     65951.1     66060.8     66225.8     65063.3   \n",
       "VIC       41179.8     40338.7     42380.6     42968.9     42947.6     42292.8   \n",
       "\n",
       "       2016-08-01  2016-09-01  2016-10-01  \n",
       "State                                      \n",
       "NSW       65154.9     63121.4     63534.1  \n",
       "VIC       42511.9     40092.0     42182.9  \n",
       "\n",
       "[2 rows x 130 columns]"
      ]
     },
     "execution_count": 23,
     "metadata": {},
     "output_type": "execute_result"
    }
   ],
   "source": [
    "jobVacDF.head(2)"
   ]
  },
  {
   "cell_type": "markdown",
   "metadata": {},
   "source": [
    "#### Transpose dataframe"
   ]
  },
  {
   "cell_type": "code",
   "execution_count": 24,
   "metadata": {
    "collapsed": false
   },
   "outputs": [],
   "source": [
    "jobVacDF = jobVacDF.T"
   ]
  },
  {
   "cell_type": "code",
   "execution_count": 25,
   "metadata": {
    "collapsed": false
   },
   "outputs": [
    {
     "data": {
      "text/html": [
       "<div>\n",
       "<table border=\"1\" class=\"dataframe\">\n",
       "  <thead>\n",
       "    <tr style=\"text-align: right;\">\n",
       "      <th>State</th>\n",
       "      <th>NSW</th>\n",
       "      <th>VIC</th>\n",
       "      <th>QLD</th>\n",
       "      <th>SA</th>\n",
       "      <th>WA</th>\n",
       "      <th>TAS</th>\n",
       "      <th>NT</th>\n",
       "      <th>ACT</th>\n",
       "    </tr>\n",
       "  </thead>\n",
       "  <tbody>\n",
       "    <tr>\n",
       "      <th>2006-01-01</th>\n",
       "      <td>73047.8</td>\n",
       "      <td>49399.3</td>\n",
       "      <td>49807.5</td>\n",
       "      <td>13111.4</td>\n",
       "      <td>18087.6</td>\n",
       "      <td>2895.0</td>\n",
       "      <td>2563.0</td>\n",
       "      <td>3165.3</td>\n",
       "    </tr>\n",
       "    <tr>\n",
       "      <th>2006-02-01</th>\n",
       "      <td>73995.0</td>\n",
       "      <td>51027.9</td>\n",
       "      <td>49526.3</td>\n",
       "      <td>13160.9</td>\n",
       "      <td>18943.3</td>\n",
       "      <td>2874.7</td>\n",
       "      <td>2402.0</td>\n",
       "      <td>3335.5</td>\n",
       "    </tr>\n",
       "    <tr>\n",
       "      <th>2006-03-01</th>\n",
       "      <td>75246.3</td>\n",
       "      <td>51492.4</td>\n",
       "      <td>49233.0</td>\n",
       "      <td>13669.6</td>\n",
       "      <td>19739.3</td>\n",
       "      <td>3272.3</td>\n",
       "      <td>2485.0</td>\n",
       "      <td>3473.9</td>\n",
       "    </tr>\n",
       "    <tr>\n",
       "      <th>2006-04-01</th>\n",
       "      <td>76539.8</td>\n",
       "      <td>51473.1</td>\n",
       "      <td>50440.4</td>\n",
       "      <td>13308.7</td>\n",
       "      <td>19854.2</td>\n",
       "      <td>2833.2</td>\n",
       "      <td>2590.6</td>\n",
       "      <td>3493.0</td>\n",
       "    </tr>\n",
       "    <tr>\n",
       "      <th>2006-05-01</th>\n",
       "      <td>75614.9</td>\n",
       "      <td>50570.0</td>\n",
       "      <td>51387.3</td>\n",
       "      <td>13095.8</td>\n",
       "      <td>20351.9</td>\n",
       "      <td>2747.1</td>\n",
       "      <td>2805.4</td>\n",
       "      <td>3666.7</td>\n",
       "    </tr>\n",
       "  </tbody>\n",
       "</table>\n",
       "</div>"
      ],
      "text/plain": [
       "State           NSW      VIC      QLD       SA       WA     TAS      NT  \\\n",
       "2006-01-01  73047.8  49399.3  49807.5  13111.4  18087.6  2895.0  2563.0   \n",
       "2006-02-01  73995.0  51027.9  49526.3  13160.9  18943.3  2874.7  2402.0   \n",
       "2006-03-01  75246.3  51492.4  49233.0  13669.6  19739.3  3272.3  2485.0   \n",
       "2006-04-01  76539.8  51473.1  50440.4  13308.7  19854.2  2833.2  2590.6   \n",
       "2006-05-01  75614.9  50570.0  51387.3  13095.8  20351.9  2747.1  2805.4   \n",
       "\n",
       "State          ACT  \n",
       "2006-01-01  3165.3  \n",
       "2006-02-01  3335.5  \n",
       "2006-03-01  3473.9  \n",
       "2006-04-01  3493.0  \n",
       "2006-05-01  3666.7  "
      ]
     },
     "execution_count": 25,
     "metadata": {},
     "output_type": "execute_result"
    }
   ],
   "source": [
    "jobVacDF.head(5)"
   ]
  },
  {
   "cell_type": "markdown",
   "metadata": {},
   "source": [
    "#### Convert index column to datetime value"
   ]
  },
  {
   "cell_type": "code",
   "execution_count": 26,
   "metadata": {
    "collapsed": false,
    "scrolled": true
   },
   "outputs": [],
   "source": [
    "jobVacDF.index = pd.to_datetime(jobVacDF.index)"
   ]
  },
  {
   "cell_type": "code",
   "execution_count": 27,
   "metadata": {
    "collapsed": false
   },
   "outputs": [
    {
     "data": {
      "text/plain": [
       "<matplotlib.axes._subplots.AxesSubplot at 0xe683828>"
      ]
     },
     "execution_count": 27,
     "metadata": {},
     "output_type": "execute_result"
    },
    {
     "data": {
      "image/png": "[encoded data removed]",
      "text/plain": [
       "<matplotlib.figure.Figure at 0xe73dcc0>"
      ]
     },
     "metadata": {},
     "output_type": "display_data"
    }
   ],
   "source": [
    "jobVacDF['2006-01-01':'2016-10-01'].plot()"
   ]
  },
  {
   "cell_type": "markdown",
   "metadata": {},
   "source": []
  },
  {
   "cell_type": "markdown",
   "metadata": {},
   "source": [
    "## Plot  -  Number of Job Vacancies per year by State"
   ]
  },
  {
   "cell_type": "code",
   "execution_count": 28,
   "metadata": {
    "collapsed": false,
    "scrolled": false
   },
   "outputs": [
    {
     "data": {
      "text/html": [
       "<iframe id=\"igraph\" scrolling=\"no\" style=\"border:none;\" seamless=\"seamless\" src=\"https://plot.ly/~linus.austen.mcmanamey/486.embed\" height=\"525px\" width=\"100%\"></iframe>"
      ],
      "text/plain": [
       "<plotly.tools.PlotlyDisplay object>"
      ]
     },
     "execution_count": 28,
     "metadata": {},
     "output_type": "execute_result"
    }
   ],
   "source": [
    "data = []\n",
    "for (name, series) in jobVacDF.iteritems():\n",
    "            data.append(dict(type='scatter', mode='lines',x=jobVacDF.index, y=jobVacDF[name], name=jobVacDF[name].name))\n",
    "\n",
    "layout = dict(title='Number of Job Vacancies per year by State',showlegend=True)\n",
    "fig = dict(data=data, layout=layout)\n",
    "py.iplot(fig, filename = 'Number_of_Job_Vacancies_per_year_by_State')"
   ]
  },
  {
   "cell_type": "markdown",
   "metadata": {},
   "source": [
    "#### Rename  Estimated Resident Population dataframe columns"
   ]
  },
  {
   "cell_type": "code",
   "execution_count": 29,
   "metadata": {
    "collapsed": false
   },
   "outputs": [],
   "source": [
    "ERP = ERP.rename(columns={'Estimated Resident Population ;  Male ;  New South Wales ;':'NSW_Male'})\n",
    "ERP = ERP.rename(columns={'Estimated Resident Population ;  Male ;  Victoria ;':'VIC_Male'})\n",
    "ERP = ERP.rename(columns={'Estimated Resident Population ;  Male ;  Queensland ;':'QLD_Male'})\n",
    "ERP = ERP.rename(columns={'Estimated Resident Population ;  Male ;  South Australia ;':'SA_Male'})\n",
    "ERP = ERP.rename(columns={'Estimated Resident Population ;  Male ;  Western Australia ;':'WA_Male'})\n",
    "ERP = ERP.rename(columns={'Estimated Resident Population ;  Male ;  Tasmania ;':'TAS_Male'})\n",
    "ERP = ERP.rename(columns={'Estimated Resident Population ;  Male ;  Northern Territory ;':'NT_Male'})\n",
    "ERP = ERP.rename(columns={'Estimated Resident Population ;  Male ;  Australian Capital Territory ;':'ACT_Male'})\n",
    "ERP = ERP.rename(columns={'Estimated Resident Population ;  Male ;  Australia ;':'AUST_Male'})\n",
    "\n",
    "ERP = ERP.rename(columns={'Estimated Resident Population ;  Female ;  New South Wales ;':'NSW_Female'})\n",
    "ERP = ERP.rename(columns={'Estimated Resident Population ;  Female ;  Victoria ;':'VIC_Female'})\n",
    "ERP = ERP.rename(columns={'Estimated Resident Population ;  Female ;  Queensland ;':'QLD_Female'})\n",
    "ERP = ERP.rename(columns={'Estimated Resident Population ;  Female ;  South Australia ;':'SA_Female'})\n",
    "ERP = ERP.rename(columns={'Estimated Resident Population ;  Female ;  Western Australia ;':'WA_Female'})\n",
    "ERP = ERP.rename(columns={'Estimated Resident Population ;  Female ;  Tasmania ;':'TAS_Female'})\n",
    "ERP = ERP.rename(columns={'Estimated Resident Population ;  Female ;  Northern Territory ;':'NT_Female'})\n",
    "ERP = ERP.rename(columns={'Estimated Resident Population ;  Female ;  Australian Capital Territory ;':'ACT_Female'})\n",
    "ERP = ERP.rename(columns={'Estimated Resident Population ;  Female ;  Australia ;':'AUST_Female'})\n",
    "\n",
    "\n",
    "ERP = ERP.rename(columns={'Estimated Resident Population ;  Persons ;  New South Wales ;':'NSW_Persons'})\n",
    "ERP = ERP.rename(columns={'Estimated Resident Population ;  Persons ;  Victoria ;':'VIC_Persons'})\n",
    "ERP = ERP.rename(columns={'Estimated Resident Population ;  Persons ;  Queensland ;':'QLD_Persons'})\n",
    "ERP = ERP.rename(columns={'Estimated Resident Population ;  Persons ;  South Australia ;':'SA_Persons'})\n",
    "ERP = ERP.rename(columns={'Estimated Resident Population ;  Persons ;  Western Australia ;':'WA_Persons'})\n",
    "ERP = ERP.rename(columns={'Estimated Resident Population ;  Persons ;  Tasmania ;':'TAS_Persons'})\n",
    "ERP = ERP.rename(columns={'Estimated Resident Population ;  Persons ;  Northern Territory ;':'NT_Persons'})\n",
    "ERP = ERP.rename(columns={'Estimated Resident Population ;  Persons ;  Australian Capital Territory ;':'ACT_Persons'})\n",
    "ERP = ERP.rename(columns={'Estimated Resident Population ;  Persons ;  Australia ;':'TOTAL'})"
   ]
  },
  {
   "cell_type": "markdown",
   "metadata": {},
   "source": [
    "#### Convert index column to datetime value"
   ]
  },
  {
   "cell_type": "code",
   "execution_count": 30,
   "metadata": {
    "collapsed": false
   },
   "outputs": [],
   "source": [
    "ERP.index = pd.to_datetime(ERP.index)"
   ]
  },
  {
   "cell_type": "code",
   "execution_count": 31,
   "metadata": {
    "collapsed": false
   },
   "outputs": [
    {
     "data": {
      "text/html": [
       "<div>\n",
       "<table border=\"1\" class=\"dataframe\">\n",
       "  <thead>\n",
       "    <tr style=\"text-align: right;\">\n",
       "      <th></th>\n",
       "      <th>NSW_Male</th>\n",
       "      <th>VIC_Male</th>\n",
       "      <th>QLD_Male</th>\n",
       "      <th>SA_Male</th>\n",
       "      <th>WA_Male</th>\n",
       "      <th>TAS_Male</th>\n",
       "      <th>NT_Male</th>\n",
       "      <th>ACT_Male</th>\n",
       "      <th>AUST_Male</th>\n",
       "      <th>NSW_Female</th>\n",
       "      <th>...</th>\n",
       "      <th>AUST_Female</th>\n",
       "      <th>NSW_Persons</th>\n",
       "      <th>VIC_Persons</th>\n",
       "      <th>QLD_Persons</th>\n",
       "      <th>SA_Persons</th>\n",
       "      <th>WA_Persons</th>\n",
       "      <th>TAS_Persons</th>\n",
       "      <th>NT_Persons</th>\n",
       "      <th>ACT_Persons</th>\n",
       "      <th>TOTAL</th>\n",
       "    </tr>\n",
       "  </thead>\n",
       "  <tbody>\n",
       "    <tr>\n",
       "      <th>2005-12-01</th>\n",
       "      <td>3327461</td>\n",
       "      <td>2481962</td>\n",
       "      <td>1977783</td>\n",
       "      <td>762665</td>\n",
       "      <td>1022918</td>\n",
       "      <td>240625</td>\n",
       "      <td>107839</td>\n",
       "      <td>164850</td>\n",
       "      <td>10087382</td>\n",
       "      <td>3390562</td>\n",
       "      <td>...</td>\n",
       "      <td>10224161</td>\n",
       "      <td>6718023</td>\n",
       "      <td>5023203</td>\n",
       "      <td>3964175</td>\n",
       "      <td>1544852</td>\n",
       "      <td>2029936</td>\n",
       "      <td>488098</td>\n",
       "      <td>207385</td>\n",
       "      <td>333505</td>\n",
       "      <td>20311543</td>\n",
       "    </tr>\n",
       "    <tr>\n",
       "      <th>2006-03-01</th>\n",
       "      <td>3336005</td>\n",
       "      <td>2495951</td>\n",
       "      <td>1989764</td>\n",
       "      <td>765272</td>\n",
       "      <td>1030021</td>\n",
       "      <td>241193</td>\n",
       "      <td>108137</td>\n",
       "      <td>165351</td>\n",
       "      <td>10132982</td>\n",
       "      <td>3399523</td>\n",
       "      <td>...</td>\n",
       "      <td>10265150</td>\n",
       "      <td>6735528</td>\n",
       "      <td>5048207</td>\n",
       "      <td>3987653</td>\n",
       "      <td>1550135</td>\n",
       "      <td>2042450</td>\n",
       "      <td>489140</td>\n",
       "      <td>208347</td>\n",
       "      <td>334299</td>\n",
       "      <td>20398132</td>\n",
       "    </tr>\n",
       "  </tbody>\n",
       "</table>\n",
       "<p>2 rows × 27 columns</p>\n",
       "</div>"
      ],
      "text/plain": [
       "            NSW_Male  VIC_Male  QLD_Male  SA_Male  WA_Male  TAS_Male  NT_Male  \\\n",
       "2005-12-01   3327461   2481962   1977783   762665  1022918    240625   107839   \n",
       "2006-03-01   3336005   2495951   1989764   765272  1030021    241193   108137   \n",
       "\n",
       "            ACT_Male  AUST_Male  NSW_Female    ...     AUST_Female  \\\n",
       "2005-12-01    164850   10087382     3390562    ...        10224161   \n",
       "2006-03-01    165351   10132982     3399523    ...        10265150   \n",
       "\n",
       "            NSW_Persons  VIC_Persons  QLD_Persons  SA_Persons  WA_Persons  \\\n",
       "2005-12-01      6718023      5023203      3964175     1544852     2029936   \n",
       "2006-03-01      6735528      5048207      3987653     1550135     2042450   \n",
       "\n",
       "            TAS_Persons  NT_Persons  ACT_Persons     TOTAL  \n",
       "2005-12-01       488098      207385       333505  20311543  \n",
       "2006-03-01       489140      208347       334299  20398132  \n",
       "\n",
       "[2 rows x 27 columns]"
      ]
     },
     "execution_count": 31,
     "metadata": {},
     "output_type": "execute_result"
    }
   ],
   "source": [
    "ERP.head(2)"
   ]
  },
  {
   "cell_type": "markdown",
   "metadata": {},
   "source": [
    "#### Break down dataframes in to population totals by state"
   ]
  },
  {
   "cell_type": "code",
   "execution_count": 32,
   "metadata": {
    "collapsed": false
   },
   "outputs": [],
   "source": [
    "maleDF = ERP[[col for col in ERP.columns if \"Male\" in col]]\n",
    "femaleDF = ERP[[col for col in ERP.columns if \"Female\" in col]]\n",
    "personDF = ERP[[col for col in ERP.columns if \"Persons\" in col]]"
   ]
  },
  {
   "cell_type": "markdown",
   "metadata": {},
   "source": [
    "#### Rename to population totals by state"
   ]
  },
  {
   "cell_type": "code",
   "execution_count": 33,
   "metadata": {
    "collapsed": false
   },
   "outputs": [],
   "source": [
    "personDF = personDF.rename(columns={'NSW_Persons':'NSW'})\n",
    "personDF = personDF.rename(columns={'VIC_Persons':'VIC'})\n",
    "personDF = personDF.rename(columns={'QLD_Persons':'QLD'})\n",
    "personDF = personDF.rename(columns={'SA_Persons':'SA'})\n",
    "personDF = personDF.rename(columns={'WA_Persons':'WA'})\n",
    "personDF = personDF.rename(columns={'TAS_Persons':'TAS'})\n",
    "personDF = personDF.rename(columns={'NT_Persons':'NT'})\n",
    "personDF = personDF.rename(columns={'ACT_Persons':'ACT'})"
   ]
  },
  {
   "cell_type": "code",
   "execution_count": 34,
   "metadata": {
    "collapsed": false
   },
   "outputs": [],
   "source": [
    "populationDF = personDF.copy()"
   ]
  },
  {
   "cell_type": "markdown",
   "metadata": {},
   "source": [
    "## Initial plot to check populationDF working"
   ]
  },
  {
   "cell_type": "code",
   "execution_count": 35,
   "metadata": {
    "collapsed": false
   },
   "outputs": [
    {
     "data": {
      "text/html": [
       "<iframe id=\"igraph\" scrolling=\"no\" style=\"border:none;\" seamless=\"seamless\" src=\"https://plot.ly/~linus.austen.mcmanamey/488.embed\" height=\"525px\" width=\"100%\"></iframe>"
      ],
      "text/plain": [
       "<plotly.tools.PlotlyDisplay object>"
      ]
     },
     "execution_count": 35,
     "metadata": {},
     "output_type": "execute_result"
    }
   ],
   "source": [
    "data = []\n",
    "for (name, series) in populationDF.iteritems():\n",
    "            data.append(dict(type='scatter', mode='lines',x=populationDF.index, y=populationDF[name], name=populationDF[name].name))\n",
    "\n",
    "\n",
    "layout = dict(title='Population States of Australia',showlegend=True)\n",
    "fig = dict(data=data, layout=layout)\n",
    "py.iplot(fig, filename = 'Population_States_of_Australia')"
   ]
  },
  {
   "cell_type": "markdown",
   "metadata": {},
   "source": [
    "#### Retrive list of dates from index of population dataframe and subset other dataframes for the same dates"
   ]
  },
  {
   "cell_type": "code",
   "execution_count": 36,
   "metadata": {
    "collapsed": false
   },
   "outputs": [],
   "source": [
    "baseDates = populationDF.index.tolist()\n",
    "jobVacDF = jobVacDF.ix[baseDates]\n",
    "SA4 = SA4.ix[baseDates]"
   ]
  },
  {
   "cell_type": "code",
   "execution_count": 37,
   "metadata": {
    "collapsed": false
   },
   "outputs": [
    {
     "data": {
      "text/html": [
       "<div>\n",
       "<table border=\"1\" class=\"dataframe\">\n",
       "  <thead>\n",
       "    <tr style=\"text-align: right;\">\n",
       "      <th>State</th>\n",
       "      <th>NSW</th>\n",
       "      <th>VIC</th>\n",
       "      <th>QLD</th>\n",
       "      <th>SA</th>\n",
       "      <th>WA</th>\n",
       "      <th>TAS</th>\n",
       "      <th>NT</th>\n",
       "      <th>ACT</th>\n",
       "    </tr>\n",
       "  </thead>\n",
       "  <tbody>\n",
       "    <tr>\n",
       "      <th>2005-12-01</th>\n",
       "      <td>NaN</td>\n",
       "      <td>NaN</td>\n",
       "      <td>NaN</td>\n",
       "      <td>NaN</td>\n",
       "      <td>NaN</td>\n",
       "      <td>NaN</td>\n",
       "      <td>NaN</td>\n",
       "      <td>NaN</td>\n",
       "    </tr>\n",
       "    <tr>\n",
       "      <th>2006-03-01</th>\n",
       "      <td>75246.3</td>\n",
       "      <td>51492.4</td>\n",
       "      <td>49233.0</td>\n",
       "      <td>13669.6</td>\n",
       "      <td>19739.3</td>\n",
       "      <td>3272.3</td>\n",
       "      <td>2485.0</td>\n",
       "      <td>3473.9</td>\n",
       "    </tr>\n",
       "  </tbody>\n",
       "</table>\n",
       "</div>"
      ],
      "text/plain": [
       "State           NSW      VIC      QLD       SA       WA     TAS      NT  \\\n",
       "2005-12-01      NaN      NaN      NaN      NaN      NaN     NaN     NaN   \n",
       "2006-03-01  75246.3  51492.4  49233.0  13669.6  19739.3  3272.3  2485.0   \n",
       "\n",
       "State          ACT  \n",
       "2005-12-01     NaN  \n",
       "2006-03-01  3473.9  "
      ]
     },
     "execution_count": 37,
     "metadata": {},
     "output_type": "execute_result"
    },
    {
     "data": {
      "text/html": [
       "<div>\n",
       "<table border=\"1\" class=\"dataframe\">\n",
       "  <thead>\n",
       "    <tr style=\"text-align: right;\">\n",
       "      <th></th>\n",
       "      <th>NSW</th>\n",
       "      <th>VIC</th>\n",
       "      <th>QLD</th>\n",
       "      <th>SA</th>\n",
       "      <th>WA</th>\n",
       "      <th>TAS</th>\n",
       "      <th>NT</th>\n",
       "      <th>ACT</th>\n",
       "    </tr>\n",
       "  </thead>\n",
       "  <tbody>\n",
       "    <tr>\n",
       "      <th>2005-12-01</th>\n",
       "      <td>6718023</td>\n",
       "      <td>5023203</td>\n",
       "      <td>3964175</td>\n",
       "      <td>1544852</td>\n",
       "      <td>2029936</td>\n",
       "      <td>488098</td>\n",
       "      <td>207385</td>\n",
       "      <td>333505</td>\n",
       "    </tr>\n",
       "    <tr>\n",
       "      <th>2006-03-01</th>\n",
       "      <td>6735528</td>\n",
       "      <td>5048207</td>\n",
       "      <td>3987653</td>\n",
       "      <td>1550135</td>\n",
       "      <td>2042450</td>\n",
       "      <td>489140</td>\n",
       "      <td>208347</td>\n",
       "      <td>334299</td>\n",
       "    </tr>\n",
       "  </tbody>\n",
       "</table>\n",
       "</div>"
      ],
      "text/plain": [
       "                NSW      VIC      QLD       SA       WA     TAS      NT  \\\n",
       "2005-12-01  6718023  5023203  3964175  1544852  2029936  488098  207385   \n",
       "2006-03-01  6735528  5048207  3987653  1550135  2042450  489140  208347   \n",
       "\n",
       "               ACT  \n",
       "2005-12-01  333505  \n",
       "2006-03-01  334299  "
      ]
     },
     "execution_count": 37,
     "metadata": {},
     "output_type": "execute_result"
    },
    {
     "data": {
      "text/html": [
       "<div>\n",
       "<table border=\"1\" class=\"dataframe\">\n",
       "  <thead>\n",
       "    <tr style=\"text-align: right;\">\n",
       "      <th></th>\n",
       "      <th>State</th>\n",
       "      <th>E_Rate</th>\n",
       "      <th>U_Rate</th>\n",
       "      <th>P_Rate</th>\n",
       "    </tr>\n",
       "    <tr>\n",
       "      <th>Date</th>\n",
       "      <th></th>\n",
       "      <th></th>\n",
       "      <th></th>\n",
       "      <th></th>\n",
       "    </tr>\n",
       "  </thead>\n",
       "  <tbody>\n",
       "    <tr>\n",
       "      <th>2005-12-01</th>\n",
       "      <td>NSW</td>\n",
       "      <td>70.481740</td>\n",
       "      <td>5.293757</td>\n",
       "      <td>63.106123</td>\n",
       "    </tr>\n",
       "    <tr>\n",
       "      <th>2005-12-01</th>\n",
       "      <td>VIC</td>\n",
       "      <td>71.806591</td>\n",
       "      <td>5.260037</td>\n",
       "      <td>64.045364</td>\n",
       "    </tr>\n",
       "  </tbody>\n",
       "</table>\n",
       "</div>"
      ],
      "text/plain": [
       "           State     E_Rate    U_Rate     P_Rate\n",
       "Date                                            \n",
       "2005-12-01   NSW  70.481740  5.293757  63.106123\n",
       "2005-12-01   VIC  71.806591  5.260037  64.045364"
      ]
     },
     "execution_count": 37,
     "metadata": {},
     "output_type": "execute_result"
    }
   ],
   "source": [
    "jobVacDF.head(2)\n",
    "populationDF.head(2)\n",
    "SA4.head(2)"
   ]
  },
  {
   "cell_type": "markdown",
   "metadata": {},
   "source": [
    "#### Drop All NAN rows"
   ]
  },
  {
   "cell_type": "code",
   "execution_count": 38,
   "metadata": {
    "collapsed": false
   },
   "outputs": [],
   "source": [
    "populationDF = populationDF.dropna(how='any')\n",
    "jobVacDF = jobVacDF.dropna(how='any')"
   ]
  },
  {
   "cell_type": "markdown",
   "metadata": {},
   "source": [
    "#### chage structure of dataframe to match other two\n",
    "* Extract the unemployment rate"
   ]
  },
  {
   "cell_type": "code",
   "execution_count": 39,
   "metadata": {
    "collapsed": false
   },
   "outputs": [
    {
     "name": "stdout",
     "output_type": "stream",
     "text": [
      "Before_____________\n"
     ]
    },
    {
     "data": {
      "text/html": [
       "<div>\n",
       "<table border=\"1\" class=\"dataframe\">\n",
       "  <thead>\n",
       "    <tr style=\"text-align: right;\">\n",
       "      <th></th>\n",
       "      <th>State</th>\n",
       "      <th>E_Rate</th>\n",
       "      <th>U_Rate</th>\n",
       "      <th>P_Rate</th>\n",
       "    </tr>\n",
       "    <tr>\n",
       "      <th>Date</th>\n",
       "      <th></th>\n",
       "      <th></th>\n",
       "      <th></th>\n",
       "      <th></th>\n",
       "    </tr>\n",
       "  </thead>\n",
       "  <tbody>\n",
       "    <tr>\n",
       "      <th>2005-12-01</th>\n",
       "      <td>NSW</td>\n",
       "      <td>70.481740</td>\n",
       "      <td>5.293757</td>\n",
       "      <td>63.106123</td>\n",
       "    </tr>\n",
       "    <tr>\n",
       "      <th>2005-12-01</th>\n",
       "      <td>VIC</td>\n",
       "      <td>71.806591</td>\n",
       "      <td>5.260037</td>\n",
       "      <td>64.045364</td>\n",
       "    </tr>\n",
       "  </tbody>\n",
       "</table>\n",
       "</div>"
      ],
      "text/plain": [
       "           State     E_Rate    U_Rate     P_Rate\n",
       "Date                                            \n",
       "2005-12-01   NSW  70.481740  5.293757  63.106123\n",
       "2005-12-01   VIC  71.806591  5.260037  64.045364"
      ]
     },
     "execution_count": 39,
     "metadata": {},
     "output_type": "execute_result"
    },
    {
     "name": "stdout",
     "output_type": "stream",
     "text": [
      "After_____________\n"
     ]
    },
    {
     "data": {
      "text/html": [
       "<div>\n",
       "<table border=\"1\" class=\"dataframe\">\n",
       "  <thead>\n",
       "    <tr style=\"text-align: right;\">\n",
       "      <th>State</th>\n",
       "      <th>ACT</th>\n",
       "      <th>NSW</th>\n",
       "      <th>NT</th>\n",
       "      <th>QLD</th>\n",
       "      <th>SA</th>\n",
       "      <th>TAS</th>\n",
       "      <th>VIC</th>\n",
       "      <th>WA</th>\n",
       "    </tr>\n",
       "  </thead>\n",
       "  <tbody>\n",
       "    <tr>\n",
       "      <th>2005-12-01</th>\n",
       "      <td>3.422536</td>\n",
       "      <td>5.293757</td>\n",
       "      <td>6.004577</td>\n",
       "      <td>4.863610</td>\n",
       "      <td>4.868181</td>\n",
       "      <td>5.962563</td>\n",
       "      <td>5.260037</td>\n",
       "      <td>4.326411</td>\n",
       "    </tr>\n",
       "    <tr>\n",
       "      <th>2006-03-01</th>\n",
       "      <td>3.254369</td>\n",
       "      <td>4.978780</td>\n",
       "      <td>5.765331</td>\n",
       "      <td>4.705125</td>\n",
       "      <td>5.035000</td>\n",
       "      <td>6.608448</td>\n",
       "      <td>5.112932</td>\n",
       "      <td>3.988064</td>\n",
       "    </tr>\n",
       "  </tbody>\n",
       "</table>\n",
       "</div>"
      ],
      "text/plain": [
       "State            ACT       NSW        NT       QLD        SA       TAS  \\\n",
       "2005-12-01  3.422536  5.293757  6.004577  4.863610  4.868181  5.962563   \n",
       "2006-03-01  3.254369  4.978780  5.765331  4.705125  5.035000  6.608448   \n",
       "\n",
       "State            VIC        WA  \n",
       "2005-12-01  5.260037  4.326411  \n",
       "2006-03-01  5.112932  3.988064  "
      ]
     },
     "execution_count": 39,
     "metadata": {},
     "output_type": "execute_result"
    }
   ],
   "source": [
    "print(\"Before_____________\")\n",
    "SA4.head(2)\n",
    "unemploymentDF = SA4.pivot(columns='State', values='U_Rate')\n",
    "del unemploymentDF.index.name\n",
    "print(\"After_____________\")\n",
    "unemploymentDF.head(2)"
   ]
  },
  {
   "cell_type": "markdown",
   "metadata": {},
   "source": [
    "#### Check structure an print "
   ]
  },
  {
   "cell_type": "code",
   "execution_count": 40,
   "metadata": {
    "collapsed": false
   },
   "outputs": [
    {
     "name": "stdout",
     "output_type": "stream",
     "text": [
      "38\n"
     ]
    },
    {
     "data": {
      "text/html": [
       "<div>\n",
       "<table border=\"1\" class=\"dataframe\">\n",
       "  <thead>\n",
       "    <tr style=\"text-align: right;\">\n",
       "      <th>State</th>\n",
       "      <th>NSW</th>\n",
       "      <th>VIC</th>\n",
       "      <th>QLD</th>\n",
       "      <th>SA</th>\n",
       "      <th>WA</th>\n",
       "      <th>TAS</th>\n",
       "      <th>NT</th>\n",
       "      <th>ACT</th>\n",
       "    </tr>\n",
       "  </thead>\n",
       "  <tbody>\n",
       "    <tr>\n",
       "      <th>2006-03-01</th>\n",
       "      <td>75246.3</td>\n",
       "      <td>51492.4</td>\n",
       "      <td>49233.0</td>\n",
       "      <td>13669.6</td>\n",
       "      <td>19739.3</td>\n",
       "      <td>3272.3</td>\n",
       "      <td>2485.0</td>\n",
       "      <td>3473.9</td>\n",
       "    </tr>\n",
       "    <tr>\n",
       "      <th>2006-06-01</th>\n",
       "      <td>81637.1</td>\n",
       "      <td>53746.2</td>\n",
       "      <td>54667.4</td>\n",
       "      <td>13611.8</td>\n",
       "      <td>22077.5</td>\n",
       "      <td>2978.1</td>\n",
       "      <td>3201.0</td>\n",
       "      <td>3719.0</td>\n",
       "    </tr>\n",
       "  </tbody>\n",
       "</table>\n",
       "</div>"
      ],
      "text/plain": [
       "State           NSW      VIC      QLD       SA       WA     TAS      NT  \\\n",
       "2006-03-01  75246.3  51492.4  49233.0  13669.6  19739.3  3272.3  2485.0   \n",
       "2006-06-01  81637.1  53746.2  54667.4  13611.8  22077.5  2978.1  3201.0   \n",
       "\n",
       "State          ACT  \n",
       "2006-03-01  3473.9  \n",
       "2006-06-01  3719.0  "
      ]
     },
     "execution_count": 40,
     "metadata": {},
     "output_type": "execute_result"
    },
    {
     "name": "stdout",
     "output_type": "stream",
     "text": [
      "39\n"
     ]
    },
    {
     "data": {
      "text/html": [
       "<div>\n",
       "<table border=\"1\" class=\"dataframe\">\n",
       "  <thead>\n",
       "    <tr style=\"text-align: right;\">\n",
       "      <th></th>\n",
       "      <th>NSW</th>\n",
       "      <th>VIC</th>\n",
       "      <th>QLD</th>\n",
       "      <th>SA</th>\n",
       "      <th>WA</th>\n",
       "      <th>TAS</th>\n",
       "      <th>NT</th>\n",
       "      <th>ACT</th>\n",
       "    </tr>\n",
       "  </thead>\n",
       "  <tbody>\n",
       "    <tr>\n",
       "      <th>2005-12-01</th>\n",
       "      <td>6718023</td>\n",
       "      <td>5023203</td>\n",
       "      <td>3964175</td>\n",
       "      <td>1544852</td>\n",
       "      <td>2029936</td>\n",
       "      <td>488098</td>\n",
       "      <td>207385</td>\n",
       "      <td>333505</td>\n",
       "    </tr>\n",
       "    <tr>\n",
       "      <th>2006-03-01</th>\n",
       "      <td>6735528</td>\n",
       "      <td>5048207</td>\n",
       "      <td>3987653</td>\n",
       "      <td>1550135</td>\n",
       "      <td>2042450</td>\n",
       "      <td>489140</td>\n",
       "      <td>208347</td>\n",
       "      <td>334299</td>\n",
       "    </tr>\n",
       "  </tbody>\n",
       "</table>\n",
       "</div>"
      ],
      "text/plain": [
       "                NSW      VIC      QLD       SA       WA     TAS      NT  \\\n",
       "2005-12-01  6718023  5023203  3964175  1544852  2029936  488098  207385   \n",
       "2006-03-01  6735528  5048207  3987653  1550135  2042450  489140  208347   \n",
       "\n",
       "               ACT  \n",
       "2005-12-01  333505  \n",
       "2006-03-01  334299  "
      ]
     },
     "execution_count": 40,
     "metadata": {},
     "output_type": "execute_result"
    },
    {
     "name": "stdout",
     "output_type": "stream",
     "text": [
      "39\n"
     ]
    },
    {
     "data": {
      "text/html": [
       "<div>\n",
       "<table border=\"1\" class=\"dataframe\">\n",
       "  <thead>\n",
       "    <tr style=\"text-align: right;\">\n",
       "      <th>State</th>\n",
       "      <th>ACT</th>\n",
       "      <th>NSW</th>\n",
       "      <th>NT</th>\n",
       "      <th>QLD</th>\n",
       "      <th>SA</th>\n",
       "      <th>TAS</th>\n",
       "      <th>VIC</th>\n",
       "      <th>WA</th>\n",
       "    </tr>\n",
       "  </thead>\n",
       "  <tbody>\n",
       "    <tr>\n",
       "      <th>2005-12-01</th>\n",
       "      <td>3.422536</td>\n",
       "      <td>5.293757</td>\n",
       "      <td>6.004577</td>\n",
       "      <td>4.863610</td>\n",
       "      <td>4.868181</td>\n",
       "      <td>5.962563</td>\n",
       "      <td>5.260037</td>\n",
       "      <td>4.326411</td>\n",
       "    </tr>\n",
       "    <tr>\n",
       "      <th>2006-03-01</th>\n",
       "      <td>3.254369</td>\n",
       "      <td>4.978780</td>\n",
       "      <td>5.765331</td>\n",
       "      <td>4.705125</td>\n",
       "      <td>5.035000</td>\n",
       "      <td>6.608448</td>\n",
       "      <td>5.112932</td>\n",
       "      <td>3.988064</td>\n",
       "    </tr>\n",
       "  </tbody>\n",
       "</table>\n",
       "</div>"
      ],
      "text/plain": [
       "State            ACT       NSW        NT       QLD        SA       TAS  \\\n",
       "2005-12-01  3.422536  5.293757  6.004577  4.863610  4.868181  5.962563   \n",
       "2006-03-01  3.254369  4.978780  5.765331  4.705125  5.035000  6.608448   \n",
       "\n",
       "State            VIC        WA  \n",
       "2005-12-01  5.260037  4.326411  \n",
       "2006-03-01  5.112932  3.988064  "
      ]
     },
     "execution_count": 40,
     "metadata": {},
     "output_type": "execute_result"
    }
   ],
   "source": [
    "print(len(jobVacDF))\n",
    "jobVacDF.head(2)\n",
    "print(len(populationDF))\n",
    "populationDF.head(2)\n",
    "print(len(unemploymentDF))\n",
    "unemploymentDF.head(2)"
   ]
  },
  {
   "cell_type": "markdown",
   "metadata": {
    "collapsed": false
   },
   "source": [
    "#### Drop first row so dates indexes are the same for each dataframe"
   ]
  },
  {
   "cell_type": "code",
   "execution_count": 41,
   "metadata": {
    "collapsed": false
   },
   "outputs": [],
   "source": [
    "unemploymentDF = unemploymentDF.drop(unemploymentDF.index[[0]])\n",
    "populationDF = populationDF.drop(populationDF.index[[0]])"
   ]
  },
  {
   "cell_type": "code",
   "execution_count": 42,
   "metadata": {
    "collapsed": false
   },
   "outputs": [
    {
     "name": "stdout",
     "output_type": "stream",
     "text": [
      "38\n"
     ]
    },
    {
     "data": {
      "text/html": [
       "<div>\n",
       "<table border=\"1\" class=\"dataframe\">\n",
       "  <thead>\n",
       "    <tr style=\"text-align: right;\">\n",
       "      <th>State</th>\n",
       "      <th>NSW</th>\n",
       "      <th>VIC</th>\n",
       "      <th>QLD</th>\n",
       "      <th>SA</th>\n",
       "      <th>WA</th>\n",
       "      <th>TAS</th>\n",
       "      <th>NT</th>\n",
       "      <th>ACT</th>\n",
       "    </tr>\n",
       "  </thead>\n",
       "  <tbody>\n",
       "    <tr>\n",
       "      <th>2006-03-01</th>\n",
       "      <td>75246.3</td>\n",
       "      <td>51492.4</td>\n",
       "      <td>49233.0</td>\n",
       "      <td>13669.6</td>\n",
       "      <td>19739.3</td>\n",
       "      <td>3272.3</td>\n",
       "      <td>2485.0</td>\n",
       "      <td>3473.9</td>\n",
       "    </tr>\n",
       "    <tr>\n",
       "      <th>2006-06-01</th>\n",
       "      <td>81637.1</td>\n",
       "      <td>53746.2</td>\n",
       "      <td>54667.4</td>\n",
       "      <td>13611.8</td>\n",
       "      <td>22077.5</td>\n",
       "      <td>2978.1</td>\n",
       "      <td>3201.0</td>\n",
       "      <td>3719.0</td>\n",
       "    </tr>\n",
       "  </tbody>\n",
       "</table>\n",
       "</div>"
      ],
      "text/plain": [
       "State           NSW      VIC      QLD       SA       WA     TAS      NT  \\\n",
       "2006-03-01  75246.3  51492.4  49233.0  13669.6  19739.3  3272.3  2485.0   \n",
       "2006-06-01  81637.1  53746.2  54667.4  13611.8  22077.5  2978.1  3201.0   \n",
       "\n",
       "State          ACT  \n",
       "2006-03-01  3473.9  \n",
       "2006-06-01  3719.0  "
      ]
     },
     "execution_count": 42,
     "metadata": {},
     "output_type": "execute_result"
    },
    {
     "name": "stdout",
     "output_type": "stream",
     "text": [
      "38\n"
     ]
    },
    {
     "data": {
      "text/html": [
       "<div>\n",
       "<table border=\"1\" class=\"dataframe\">\n",
       "  <thead>\n",
       "    <tr style=\"text-align: right;\">\n",
       "      <th></th>\n",
       "      <th>NSW</th>\n",
       "      <th>VIC</th>\n",
       "      <th>QLD</th>\n",
       "      <th>SA</th>\n",
       "      <th>WA</th>\n",
       "      <th>TAS</th>\n",
       "      <th>NT</th>\n",
       "      <th>ACT</th>\n",
       "    </tr>\n",
       "  </thead>\n",
       "  <tbody>\n",
       "    <tr>\n",
       "      <th>2006-03-01</th>\n",
       "      <td>6735528</td>\n",
       "      <td>5048207</td>\n",
       "      <td>3987653</td>\n",
       "      <td>1550135</td>\n",
       "      <td>2042450</td>\n",
       "      <td>489140</td>\n",
       "      <td>208347</td>\n",
       "      <td>334299</td>\n",
       "    </tr>\n",
       "    <tr>\n",
       "      <th>2006-06-01</th>\n",
       "      <td>6742690</td>\n",
       "      <td>5061266</td>\n",
       "      <td>4007992</td>\n",
       "      <td>1552529</td>\n",
       "      <td>2050581</td>\n",
       "      <td>489302</td>\n",
       "      <td>209057</td>\n",
       "      <td>335170</td>\n",
       "    </tr>\n",
       "  </tbody>\n",
       "</table>\n",
       "</div>"
      ],
      "text/plain": [
       "                NSW      VIC      QLD       SA       WA     TAS      NT  \\\n",
       "2006-03-01  6735528  5048207  3987653  1550135  2042450  489140  208347   \n",
       "2006-06-01  6742690  5061266  4007992  1552529  2050581  489302  209057   \n",
       "\n",
       "               ACT  \n",
       "2006-03-01  334299  \n",
       "2006-06-01  335170  "
      ]
     },
     "execution_count": 42,
     "metadata": {},
     "output_type": "execute_result"
    },
    {
     "name": "stdout",
     "output_type": "stream",
     "text": [
      "38\n"
     ]
    },
    {
     "data": {
      "text/html": [
       "<div>\n",
       "<table border=\"1\" class=\"dataframe\">\n",
       "  <thead>\n",
       "    <tr style=\"text-align: right;\">\n",
       "      <th>State</th>\n",
       "      <th>ACT</th>\n",
       "      <th>NSW</th>\n",
       "      <th>NT</th>\n",
       "      <th>QLD</th>\n",
       "      <th>SA</th>\n",
       "      <th>TAS</th>\n",
       "      <th>VIC</th>\n",
       "      <th>WA</th>\n",
       "    </tr>\n",
       "  </thead>\n",
       "  <tbody>\n",
       "    <tr>\n",
       "      <th>2006-03-01</th>\n",
       "      <td>3.254369</td>\n",
       "      <td>4.978780</td>\n",
       "      <td>5.765331</td>\n",
       "      <td>4.705125</td>\n",
       "      <td>5.035000</td>\n",
       "      <td>6.608448</td>\n",
       "      <td>5.112932</td>\n",
       "      <td>3.988064</td>\n",
       "    </tr>\n",
       "    <tr>\n",
       "      <th>2006-06-01</th>\n",
       "      <td>3.004263</td>\n",
       "      <td>5.288439</td>\n",
       "      <td>4.942226</td>\n",
       "      <td>4.500243</td>\n",
       "      <td>4.730513</td>\n",
       "      <td>6.669892</td>\n",
       "      <td>5.021526</td>\n",
       "      <td>3.351213</td>\n",
       "    </tr>\n",
       "  </tbody>\n",
       "</table>\n",
       "</div>"
      ],
      "text/plain": [
       "State            ACT       NSW        NT       QLD        SA       TAS  \\\n",
       "2006-03-01  3.254369  4.978780  5.765331  4.705125  5.035000  6.608448   \n",
       "2006-06-01  3.004263  5.288439  4.942226  4.500243  4.730513  6.669892   \n",
       "\n",
       "State            VIC        WA  \n",
       "2006-03-01  5.112932  3.988064  \n",
       "2006-06-01  5.021526  3.351213  "
      ]
     },
     "execution_count": 42,
     "metadata": {},
     "output_type": "execute_result"
    }
   ],
   "source": [
    "print(len(jobVacDF))\n",
    "jobVacDF.head(2)\n",
    "print(len(populationDF))\n",
    "populationDF.head(2)\n",
    "print(len(unemploymentDF))\n",
    "unemploymentDF.head(2)"
   ]
  },
  {
   "cell_type": "code",
   "execution_count": 43,
   "metadata": {
    "collapsed": false
   },
   "outputs": [],
   "source": [
    "dataset = pd.DataFrame() \n",
    "dataset['unemployment'] = unemploymentDF.unstack()\n",
    "dataset['population'] = populationDF.unstack()\n",
    "dataset['jobVacancies'] = jobVacDF.unstack()"
   ]
  },
  {
   "cell_type": "code",
   "execution_count": 44,
   "metadata": {
    "collapsed": false
   },
   "outputs": [],
   "source": [
    "dataset.reset_index(level=0, inplace=True)"
   ]
  },
  {
   "cell_type": "markdown",
   "metadata": {
    "collapsed": false
   },
   "source": [
    "### Plot table of dataframe"
   ]
  },
  {
   "cell_type": "code",
   "execution_count": 45,
   "metadata": {
    "collapsed": false
   },
   "outputs": [
    {
     "name": "stderr",
     "output_type": "stream",
     "text": [
      "C:\\Users\\linus\\Anaconda2\\lib\\site-packages\\plotly\\tools.py:1422: UserWarning:\n",
      "\n",
      "plotly.tools.FigureFactory.create_table is deprecated. Use plotly.figure_factory.create_table\n",
      "\n"
     ]
    },
    {
     "data": {
      "text/html": [
       "<iframe id=\"igraph\" scrolling=\"no\" style=\"border:none;\" seamless=\"seamless\" src=\"https://plot.ly/~linus.austen.mcmanamey/490.embed\" height=\"380px\" width=\"100%\"></iframe>"
      ],
      "text/plain": [
       "<plotly.tools.PlotlyDisplay object>"
      ]
     },
     "execution_count": 45,
     "metadata": {},
     "output_type": "execute_result"
    }
   ],
   "source": [
    "table = FF.create_table(dataset.head(10))\n",
    "py.iplot(table)"
   ]
  },
  {
   "cell_type": "markdown",
   "metadata": {
    "collapsed": false
   },
   "source": [
    "# Generate a Motion chart\n",
    "* number of job vacancies on the x-axis, \n",
    "* unemployment rate on the y-axis, \n",
    "* the colour the bubbles is given by the state and the size of the bubbles is given by the population of the state."
   ]
  },
  {
   "cell_type": "code",
   "execution_count": 46,
   "metadata": {
    "collapsed": false
   },
   "outputs": [],
   "source": [
    "years = dataset.index.unique()\n",
    "years = years.strftime('%Y-%m-%d')\n",
    "years = sorted(years)\n",
    "states = dataset.State.unique()\n",
    "states = sorted(states)\n",
    "figure = {\n",
    "    'data': [],\n",
    "    'layout': {},\n",
    "    'frames': [],\n",
    "    'config': {'scrollzoom': True}\n",
    "}\n",
    "\n",
    "# fill in most of layout\n",
    "figure['layout']['xaxis'] = {'range': [ dataset.jobVacancies.min(), dataset.jobVacancies.max()],'title': 'Job Vacancies'}\n",
    "figure['layout']['yaxis'] = {'range': [ dataset.unemployment.min(), dataset.unemployment.max()],'title': 'unemployment', 'type':'linear'}\n",
    "figure['layout']['hovermode'] = 'closest'\n",
    "#figure['layout']['autosize'] = False\n",
    "figure['layout']['Margin']  = {'l':50, 'r': 50, 'b': 100, 't': 100, 'pad':4}"
   ]
  },
  {
   "cell_type": "code",
   "execution_count": 47,
   "metadata": {
    "collapsed": true
   },
   "outputs": [],
   "source": [
    "figure['layout']['updatemenus'] = [\n",
    "    {\n",
    "        'buttons': [\n",
    "            {\n",
    "                'args': [None, {'frame': {'duration': SPEED, 'redraw': False},'fromcurrent': False, \n",
    "                                'transition': {'duration': SPEED, 'easing': EASER}}],\n",
    "                'label': 'Play','method': 'animate'},\n",
    "            {\n",
    "                'args': [[None], {'frame': {'duration': SPEED, 'redraw': False}, 'mode': 'immediate',\n",
    "                'transition': {'duration': SPEED}}],\n",
    "                'label': 'Pause',\n",
    "                'method': 'animate'\n",
    "            }\n",
    "        ],\n",
    "        'direction': 'left',\n",
    "        'pad': {'r': 10, 't': 10},\n",
    "        'showactive': True,\n",
    "        'type': 'buttons',\n",
    "        'x': 0.1,\n",
    "        'xanchor': 'right',\n",
    "        'y': 0,\n",
    "        'yanchor': 'top'\n",
    "    }\n",
    "]"
   ]
  },
  {
   "cell_type": "code",
   "execution_count": 48,
   "metadata": {
    "collapsed": false
   },
   "outputs": [],
   "source": [
    "    \n",
    "sliders_dict = {\n",
    "    'active': 1,\n",
    "    'yanchor': 'top',\n",
    "    'xanchor': 'left',\n",
    "    'currentvalue': {\n",
    "        'font': {'size': 20},\n",
    "        'prefix': 'Year: ',\n",
    "        'visible': True,\n",
    "        'xanchor': 'right'\n",
    "    },\n",
    "    'transition': {'duration': SPEED, 'easing': EASER},\n",
    "    'pad': {'b': 1, 't': 1},\n",
    "    'len': 0.9,\n",
    "    'x': 0.1,\n",
    "    'y': 0,\n",
    "    'steps': []\n",
    "}"
   ]
  },
  {
   "cell_type": "code",
   "execution_count": 49,
   "metadata": {
    "collapsed": false
   },
   "outputs": [],
   "source": [
    "figure['layout']['slider'] = {\n",
    "    'args': [\n",
    "        'slider.value', {\n",
    "            'duration': SPEED,\n",
    "            'ease': EASER\n",
    "        }\n",
    "    ],\n",
    "    'initialValue': years[0],\n",
    "    'plotlycommand': 'animate',\n",
    "    'values': years,\n",
    "    'visible': True\n",
    "}"
   ]
  },
  {
   "cell_type": "code",
   "execution_count": 50,
   "metadata": {
    "collapsed": false
   },
   "outputs": [],
   "source": [
    "\n",
    "for state in states:\n",
    "    dataset_by_state = dataset[dataset['State'] == state]\n",
    "    figure['data'].append(dict(text=state,\n",
    "                               hoverinfo =\"all\", \n",
    "                               type='scatter', \n",
    "                               x=dataset_by_state['jobVacancies'], \n",
    "                               y=dataset_by_state['unemployment'],\n",
    "                               name=state,mode='markers',\n",
    "                               marker=dict(symbol='circle', \n",
    "                                           size=dataset_by_state['population']/10000,\n",
    "                                           sizeref=2, \n",
    "                                           sizemode='radius')))"
   ]
  },
  {
   "cell_type": "code",
   "execution_count": 51,
   "metadata": {
    "collapsed": false,
    "scrolled": false
   },
   "outputs": [
    {
     "ename": "PlotlyError",
     "evalue": "Invalid 'figure_or_data' argument. Plotly will not be able to properly parse the resulting JSON. If you want to send this 'figure_or_data' to Plotly anyway (not recommended), you can set 'validate=False' as a plot option.\nHere's why you're seeing this error:\n\n'Margin' is not allowed in 'layout'\n\nPath To Error: ['layout']['Margin']\n\nValid attributes for 'layout' at path ['layout'] under parents ['figure']:\n\n    ['angularaxis', 'annotations', 'autosize', 'bargap', 'bargroupgap',\n    'barmode', 'barnorm', 'boxgap', 'boxgroupgap', 'boxmode', 'calendar',\n    'direction', 'dragmode', 'font', 'geo', 'height', 'hiddenlabels',\n    'hiddenlabelssrc', 'hidesources', 'hovermode', 'images', 'legend',\n    'mapbox', 'margin', 'orientation', 'paper_bgcolor', 'plot_bgcolor',\n    'radialaxis', 'scene', 'separators', 'shapes', 'showlegend', 'sliders',\n    'smith', 'ternary', 'title', 'titlefont', 'updatemenus', 'width',\n    'xaxis', 'yaxis']\n\nRun `<layout-object>.help('attribute')` on any of the above.\n'<layout-object>' is the object at ['layout']",
     "output_type": "error",
     "traceback": [
      "\u001b[0;31m---------------------------------------------------------------------------\u001b[0m",
      "\u001b[0;31mPlotlyError\u001b[0m                               Traceback (most recent call last)",
      "\u001b[0;32m<ipython-input-51-efdf689e3eff>\u001b[0m in \u001b[0;36m<module>\u001b[0;34m()\u001b[0m\n\u001b[1;32m     23\u001b[0m \u001b[1;33m\u001b[0m\u001b[0m\n\u001b[1;32m     24\u001b[0m \u001b[0mfigure\u001b[0m\u001b[1;33m[\u001b[0m\u001b[1;34m'layout'\u001b[0m\u001b[1;33m]\u001b[0m\u001b[1;33m[\u001b[0m\u001b[1;34m'sliders'\u001b[0m\u001b[1;33m]\u001b[0m \u001b[1;33m=\u001b[0m \u001b[1;33m[\u001b[0m\u001b[0msliders_dict\u001b[0m\u001b[1;33m]\u001b[0m\u001b[1;33m\u001b[0m\u001b[0m\n\u001b[0;32m---> 25\u001b[0;31m \u001b[0miplot\u001b[0m\u001b[1;33m(\u001b[0m\u001b[0mfigure\u001b[0m\u001b[1;33m)\u001b[0m\u001b[1;33m\u001b[0m\u001b[0m\n\u001b[0m",
      "\u001b[0;32mC:\\Users\\linus\\Anaconda2\\lib\\site-packages\\plotly\\offline\\offline.pyc\u001b[0m in \u001b[0;36miplot\u001b[0;34m(figure_or_data, show_link, link_text, validate, image, filename, image_width, image_height, config)\u001b[0m\n\u001b[1;32m    343\u001b[0m     )\n\u001b[1;32m    344\u001b[0m \u001b[1;33m\u001b[0m\u001b[0m\n\u001b[0;32m--> 345\u001b[0;31m     \u001b[0mfigure\u001b[0m \u001b[1;33m=\u001b[0m \u001b[0mtools\u001b[0m\u001b[1;33m.\u001b[0m\u001b[0mreturn_figure_from_figure_or_data\u001b[0m\u001b[1;33m(\u001b[0m\u001b[0mfigure_or_data\u001b[0m\u001b[1;33m,\u001b[0m \u001b[0mvalidate\u001b[0m\u001b[1;33m)\u001b[0m\u001b[1;33m\u001b[0m\u001b[0m\n\u001b[0m\u001b[1;32m    346\u001b[0m \u001b[1;33m\u001b[0m\u001b[0m\n\u001b[1;32m    347\u001b[0m     \u001b[1;31m# Though it can add quite a bit to the display-bundle size, we include\u001b[0m\u001b[1;33m\u001b[0m\u001b[1;33m\u001b[0m\u001b[0m\n",
      "\u001b[0;32mC:\\Users\\linus\\Anaconda2\\lib\\site-packages\\plotly\\tools.pyc\u001b[0m in \u001b[0;36mreturn_figure_from_figure_or_data\u001b[0;34m(figure_or_data, validate_figure)\u001b[0m\n\u001b[1;32m   1393\u001b[0m                                          \u001b[1;34m\"plot option.\\nHere's why you're \"\u001b[0m\u001b[1;33m\u001b[0m\u001b[0m\n\u001b[1;32m   1394\u001b[0m                                          \u001b[1;34m\"seeing this error:\\n\\n{0}\"\u001b[0m\u001b[1;33m\u001b[0m\u001b[0m\n\u001b[0;32m-> 1395\u001b[0;31m                                          \"\".format(err))\n\u001b[0m\u001b[1;32m   1396\u001b[0m         \u001b[1;32mif\u001b[0m \u001b[1;32mnot\u001b[0m \u001b[0mfigure\u001b[0m\u001b[1;33m[\u001b[0m\u001b[1;34m'data'\u001b[0m\u001b[1;33m]\u001b[0m\u001b[1;33m:\u001b[0m\u001b[1;33m\u001b[0m\u001b[0m\n\u001b[1;32m   1397\u001b[0m             raise exceptions.PlotlyEmptyDataError(\n",
      "\u001b[0;31mPlotlyError\u001b[0m: Invalid 'figure_or_data' argument. Plotly will not be able to properly parse the resulting JSON. If you want to send this 'figure_or_data' to Plotly anyway (not recommended), you can set 'validate=False' as a plot option.\nHere's why you're seeing this error:\n\n'Margin' is not allowed in 'layout'\n\nPath To Error: ['layout']['Margin']\n\nValid attributes for 'layout' at path ['layout'] under parents ['figure']:\n\n    ['angularaxis', 'annotations', 'autosize', 'bargap', 'bargroupgap',\n    'barmode', 'barnorm', 'boxgap', 'boxgroupgap', 'boxmode', 'calendar',\n    'direction', 'dragmode', 'font', 'geo', 'height', 'hiddenlabels',\n    'hiddenlabelssrc', 'hidesources', 'hovermode', 'images', 'legend',\n    'mapbox', 'margin', 'orientation', 'paper_bgcolor', 'plot_bgcolor',\n    'radialaxis', 'scene', 'separators', 'shapes', 'showlegend', 'sliders',\n    'smith', 'ternary', 'title', 'titlefont', 'updatemenus', 'width',\n    'xaxis', 'yaxis']\n\nRun `<layout-object>.help('attribute')` on any of the above.\n'<layout-object>' is the object at ['layout']"
     ]
    }
   ],
   "source": [
    "year = years[0]\n",
    "for year in years:\n",
    "    frame = {'data': [], 'name': str(year)}\n",
    "    for state in states:\n",
    "        dataset_by_state = dataset[dataset.index == year]\n",
    "        dataset_by_state = dataset_by_state[dataset_by_state['State'] == state]\n",
    "        frame['data'].append(dict(text=state,\n",
    "                                  hoverinfo =\"all\",\n",
    "                                  type='scatter',\n",
    "                                  x=dataset_by_state['jobVacancies'], \n",
    "                                  y=dataset_by_state['unemployment'],\n",
    "                                  name=state,mode='markers',\n",
    "                                  marker=dict(symbol='circle', \n",
    "                                              size=dataset_by_state['population']/10000 ,\n",
    "                                              sizeref=2, \n",
    "                                              sizemode='radius')))\n",
    "    \n",
    "    figure['frames'].append(frame)\n",
    "    slider_step = {'args': [[year],{'frame': {'duration': SPEED, 'redraw': False},\n",
    "         'mode': 'immediate','transition': {'duration': SPEED,  'easing': EASER}}],'label': year,'method': 'animate'}\n",
    "    sliders_dict['steps'].append(slider_step)\n",
    "\n",
    "    \n",
    "figure['layout']['sliders'] = [sliders_dict]\n",
    "iplot(figure)"
   ]
  },
  {
   "cell_type": "markdown",
   "metadata": {},
   "source": [
    "<H1>Questions - Task 1</H1>\n",
    "<body>\n",
    "<h3><p style=\"color:red;\">What are the overall patterns across different states in Australia?</p></h3>\n",
    "</body>\n",
    "    \n",
    "Over the period of 2006 to 2015:\n",
    "the Larger states (NSW, QLD, VIC and WA) have more job opportunites and lower unemploymet, the smaller population states sucjh as TAS, NT and the Act have higher unemployment and less job oporunities.\n",
    "between 2006 – 2009 across all the states there is generally low unemploymnet, 2014 sees an over contraction in the number of jobs across the spectrum\n",
    "<body>\n",
    "<h3><p style=\"color:red;\">Which state has high unemployment rate and low number of vacancies (you may point out different period of time)?</p></h3>\n",
    "</body>\n",
    "\n",
    "Tasmania\n",
    "\n",
    "<body><h3><p style=\"color:red;\">which state has the low unemployment rate but with a lot of vacancies? Any idea about why?</p></h3>\n",
    "</body>\n",
    "\n",
    "New South Wales.\n",
    "\n",
    "\n"
   ]
  },
  {
   "cell_type": "markdown",
   "metadata": {},
   "source": [
    "<h1>Part 2</h1>\n",
    "\n",
    "Twitter data from the various Australian Government departments was used for this task. \n",
    "\n",
    "APS Twitter Leaderboard\n",
    "\n",
    "https://www.data.gov.au/dataset/aps-twitter-leaderboard\n"
   ]
  },
  {
   "cell_type": "markdown",
   "metadata": {},
   "source": [
    "#### List all files in the dataFile directory"
   ]
  },
  {
   "cell_type": "code",
   "execution_count": null,
   "metadata": {
    "collapsed": false
   },
   "outputs": [],
   "source": [
    "!ls dataFiles/*.csv"
   ]
  },
  {
   "cell_type": "markdown",
   "metadata": {},
   "source": [
    "#### The top sixteen government departments (most followers) from the most recent file were used "
   ]
  },
  {
   "cell_type": "code",
   "execution_count": null,
   "metadata": {
    "collapsed": false
   },
   "outputs": [],
   "source": [
    "top16 = pd.read_csv('dataFiles/twitterfollowers-2016-01-05.csv')\n",
    "top16 = top16.nlargest(16, 'End of Month Followers')\n",
    "top16_list = top16['Display Name'].tolist()"
   ]
  },
  {
   "cell_type": "markdown",
   "metadata": {},
   "source": [
    "#### Read in all csv files from directory"
   ]
  },
  {
   "cell_type": "code",
   "execution_count": null,
   "metadata": {
    "collapsed": true
   },
   "outputs": [],
   "source": [
    "files = !ls dataFiles/*.csv\n",
    "df = concat([read_csv(f) for f in files])"
   ]
  },
  {
   "cell_type": "markdown",
   "metadata": {},
   "source": [
    "### keep the top Sixteen government departments"
   ]
  },
  {
   "cell_type": "code",
   "execution_count": null,
   "metadata": {
    "collapsed": false
   },
   "outputs": [],
   "source": [
    "df.dtypes"
   ]
  },
  {
   "cell_type": "code",
   "execution_count": null,
   "metadata": {
    "collapsed": false
   },
   "outputs": [],
   "source": [
    "df = df[df['Display Name'].isin(top16_list)]\n",
    "df.head()"
   ]
  },
  {
   "cell_type": "markdown",
   "metadata": {},
   "source": [
    "### Create dummy variable to allow conversion to datetime"
   ]
  },
  {
   "cell_type": "code",
   "execution_count": null,
   "metadata": {
    "collapsed": false
   },
   "outputs": [],
   "source": [
    "df['day'] = 01                           \n",
    "df['date'] = pd.to_datetime(df[['Year', 'Month', 'day']],format='%Y-%m-%d')"
   ]
  },
  {
   "cell_type": "markdown",
   "metadata": {},
   "source": [
    "### Set date to index"
   ]
  },
  {
   "cell_type": "code",
   "execution_count": null,
   "metadata": {
    "collapsed": false
   },
   "outputs": [],
   "source": [
    "df = df.set_index(df[\"date\"])"
   ]
  },
  {
   "cell_type": "markdown",
   "metadata": {},
   "source": [
    "### Drop un-needed columns"
   ]
  },
  {
   "cell_type": "code",
   "execution_count": null,
   "metadata": {
    "collapsed": true
   },
   "outputs": [],
   "source": [
    "df = df.drop('Verified', axis=1)\n",
    "df = df.drop('date', axis=1)\n",
    "df = df.drop('Others Retweeted', axis=1)\n",
    "df = df.drop('Times Other User Mentioned', axis=1)\n",
    "df = df.drop('day', axis=1)\n",
    "df = df.drop('Month', axis=1)\n",
    "df = df.drop('Year', axis=1)"
   ]
  },
  {
   "cell_type": "markdown",
   "metadata": {},
   "source": [
    "### Rename Columns"
   ]
  },
  {
   "cell_type": "code",
   "execution_count": null,
   "metadata": {
    "collapsed": false
   },
   "outputs": [],
   "source": [
    "df = df.rename(columns={'End of Month Followers':'Followers'})\n",
    "df = df.rename(columns={'Total Times Retweeted':'Retweeted'})\n",
    "df = df.rename(columns={'Total Times Favourited':'Favourited'})\n",
    "df = df.rename(columns={'Display Name':'Display_Name'})\n",
    "df = df.rename(columns={'Twitter':'Twitter_Name'})\n",
    "df.head()"
   ]
  },
  {
   "cell_type": "markdown",
   "metadata": {},
   "source": [
    "# Generate Motion Plot"
   ]
  },
  {
   "cell_type": "code",
   "execution_count": null,
   "metadata": {
    "collapsed": false
   },
   "outputs": [],
   "source": [
    "dataset = df.copy()\n",
    "years = dataset.index.unique()\n",
    "years = years.strftime('%Y-%m-%d')\n",
    "years = sorted(years)\n",
    "Display_Names = dataset.Display_Name.unique()\n",
    "Display_Names = sorted(Display_Names)\n",
    "figure = {'data': [],'layout': {},'frames': [],'config': {'scrollzoom': True}}\n",
    "\n",
    "# fill in most of layout\n",
    "figure['layout']['title'] = \"Australian Government departments Twitter data\"\n",
    "figure['layout']['xaxis'] = {'range': [ dataset.Tweets.min(), dataset.Tweets.max()],'title': 'Tweets'}\n",
    "figure['layout']['yaxis'] = {'range': [ dataset.Retweeted.min(), dataset.Retweeted.max()],'title': 'Retweeted', 'type':'linear'}\n",
    "figure['layout']['hovermode'] = 'closest'\n",
    "#figure['layout']['autosize'] = False\n",
    "figure['layout']['Margin']  = {'l':10, 'r': 5, 'b': 10, 't': 10, 'pad':1}\n",
    "\n",
    "figure['layout']['updatemenus'] = [\n",
    "    {\n",
    "        'buttons': [\n",
    "            {\n",
    "                'args': [None, {'frame': {'duration': SPEED, 'redraw': False},'fromcurrent': True, \n",
    "                                'transition': {'duration': SPEED, 'easing': EASER}}],\n",
    "                'label': 'Play',\n",
    "                'method': 'animate'},\n",
    "            {\n",
    "                'args': [[None], {'frame': {'duration': SPEED, 'redraw': False}, 'mode': 'immediate',\n",
    "                'transition': {'duration': 0}}],\n",
    "                'label': 'Pause',\n",
    "                'method': 'animate'}\n",
    "        ],\n",
    "        'direction': 'left',\n",
    "        'pad': {'r': 10, 't': 10},\n",
    "        'showactive': True,\n",
    "        'type': 'buttons',\n",
    "        'x': 0.1,\n",
    "        'xanchor': 'right',\n",
    "        'y': 0,\n",
    "        'yanchor': 'top'\n",
    "    }\n",
    "]\n",
    "\n",
    "figure['layout']['slider'] = {\n",
    "    'args': [\n",
    "        'slider.value', {\n",
    "            'duration': SPEED,\n",
    "            'ease': EASER\n",
    "        }\n",
    "    ],\n",
    "    'initialValue': years[0],\n",
    "    'plotlycommand': 'animate',\n",
    "    'values': years,\n",
    "    'visible': True\n",
    "}\n",
    "\n",
    "sliders_dict = {\n",
    "    'active': 1,\n",
    "    'yanchor': 'top',\n",
    "    'xanchor': 'left',\n",
    "    'currentvalue': {\n",
    "        'font': {'size': 20},\n",
    "        'prefix': 'Year: ',\n",
    "        'visible': True,\n",
    "        'xanchor': 'right'\n",
    "    },\n",
    "    'transition': {'duration': SPEED, 'easing': EASER},\n",
    "    'pad': {'b': 1, 't': 1},\n",
    "    'len': 0.9,\n",
    "    'x': 0.1,\n",
    "    'y':-0.05,\n",
    "    'steps': []\n",
    "}\n",
    "\n",
    "for Display_Name in Display_Names:\n",
    "    dataset_by_Display_Name = dataset[dataset['Display_Name'] == Display_Name]\n",
    "    figure['data'].append(dict(text=dataset_by_Display_Name.Twitter_Name,\n",
    "                               hoverinfo =\"all\", \n",
    "                               type='scatter', \n",
    "                               x=dataset_by_Display_Name['Tweets'], \n",
    "                               y=dataset_by_Display_Name['Retweeted'],\n",
    "                               name=Display_Name,\n",
    "                               mode='markers',\n",
    "                               marker=dict(symbol='circle', \n",
    "                                           size=dataset_by_Display_Name['Followers']/1000,\n",
    "                                           sizeref=0.75, \n",
    "                                           sizemode='radius')))\n",
    "\n",
    "for year in years:\n",
    "    frame = {'data': [], 'name': str(year)}\n",
    "    for Display_Name in Display_Names:\n",
    "        dataset_by_Display_Name = dataset[dataset.index == year]\n",
    "        dataset_by_Display_Name = dataset_by_Display_Name[dataset_by_Display_Name['Display_Name'] == Display_Name]\n",
    "        frame['data'].append(dict(text=dataset_by_Display_Name.Twitter_Name,\n",
    "                                  hoverinfo =\"all\",\n",
    "                                  type='scatter',\n",
    "                                  x=dataset_by_Display_Name['Tweets'], \n",
    "                                  y=dataset_by_Display_Name['Retweeted'],\n",
    "                                  name=Display_Name,\n",
    "                                  mode='markers',\n",
    "                                  marker=dict(symbol='circle', \n",
    "                                              size=dataset_by_Display_Name['Followers']/1000,\n",
    "                                              sizeref=0.75, \n",
    "                                              sizemode='radius')))\n",
    "    figure['frames'].append(frame)\n",
    "    slider_step = {'args': [[year],{'frame': {'duration': SPEED, 'redraw': False},\n",
    "         'mode': 'immediate','transition': {'duration': SPEED,  'easing': EASER}}],'label': year,'method': 'animate'}\n",
    "    sliders_dict['steps'].append(slider_step)\n",
    "\n",
    "    \n",
    "figure['layout']['sliders'] = [sliders_dict]\n",
    "iplot(figure)"
   ]
  },
  {
   "cell_type": "markdown",
   "metadata": {},
   "source": [
    "<H1>Questions - Task 2</H1>\n",
    "<body>\n",
    "<h3><p style=\"color:red;\">Interpret using a Motion Chart and communicate your findings.</p></h3>\n",
    "</body>\n",
    "\n",
    "* The @australia twitter account has the largest followers by far.\n",
    "* It is Tourism Australia's official account. \n",
    "* It has steadliy increased its followers over the period.\n",
    "* It gets the most retweets from its posts.\n",
    "* The other departments are not getting the same return on their tweets as the @australia account does as the are all hovering in the bottom corner. \n",
    "* The other intersting account that has a rapid increase in followers is the @artsculturegov account.\n",
    "* The @AusHumanRights (green bubble) account generates alot of outgoing information however it doesnt have any real impact as its information is not being passed on via retweets.\n"
   ]
  },
  {
   "cell_type": "markdown",
   "metadata": {},
   "source": [
    "<h1>Part 3 </h1>\n",
    "* Load the data into a Pandas dataframes"
   ]
  },
  {
   "cell_type": "code",
   "execution_count": null,
   "metadata": {
    "collapsed": false
   },
   "outputs": [],
   "source": [
    "#df = pd.read_csv('Rate.csv')"
   ]
  },
  {
   "cell_type": "markdown",
   "metadata": {},
   "source": [
    "#### Create sample dataframe because 2GB makes my system crash"
   ]
  },
  {
   "cell_type": "code",
   "execution_count": null,
   "metadata": {
    "collapsed": true
   },
   "outputs": [],
   "source": [
    "#df = df.sample(frac=0.05, replace=True)\n",
    "#df.to_csv('sampleRate.csv')"
   ]
  },
  {
   "cell_type": "code",
   "execution_count": null,
   "metadata": {
    "collapsed": false
   },
   "outputs": [],
   "source": [
    "df = pd.read_csv('sampleRate.csv')"
   ]
  },
  {
   "cell_type": "markdown",
   "metadata": {},
   "source": [
    "## EDA\n",
    "* its dimensions\n",
    "* the attributes\n",
    "* do some general statistics (e.g., using describe() function). Communicate your findings"
   ]
  },
  {
   "cell_type": "code",
   "execution_count": null,
   "metadata": {
    "collapsed": false
   },
   "outputs": [],
   "source": [
    "### attributes\n",
    "df.info()"
   ]
  },
  {
   "cell_type": "code",
   "execution_count": null,
   "metadata": {
    "collapsed": false
   },
   "outputs": [],
   "source": [
    "df.head(5)"
   ]
  },
  {
   "cell_type": "code",
   "execution_count": null,
   "metadata": {
    "collapsed": false
   },
   "outputs": [],
   "source": [
    "### dimensions\n",
    "print(\"shape: \", df.shape)\n",
    "print (\"number of rows: \" ,len(df.index))\n",
    "print (\"number of cells: \" ,df.size)"
   ]
  },
  {
   "cell_type": "markdown",
   "metadata": {},
   "source": [
    "Extract the following columns from the data..."
   ]
  },
  {
   "cell_type": "code",
   "execution_count": null,
   "metadata": {
    "collapsed": false
   },
   "outputs": [],
   "source": [
    "columnNames = ['BusinessYear', 'StateCode', 'IssuerId' ,'PlanId', 'Age', 'IndividualRate', 'IndividualTobaccoRate']\n",
    "df = df[columnNames]\n",
    "df.info()"
   ]
  },
  {
   "cell_type": "markdown",
   "metadata": {},
   "source": [
    "### Audit data column ‘IndividualRate’ \n",
    "* Do some statistics of the value range of ‘IndividualRate’. \n",
    "* Show the distribution of ‘IndividualRate’ values using boxplot and histogram. \n",
    "* Communicate your findings\n",
    "* e.g., is there anything look suspicious to you? Are there any outliers? What do you think is a reasonable rate for individual plans? [Hint: you may have to adjust the limit of y axis to be able to see the plot.]"
   ]
  },
  {
   "cell_type": "code",
   "execution_count": null,
   "metadata": {
    "collapsed": false
   },
   "outputs": [],
   "source": [
    "df.IndividualRate.describe()"
   ]
  },
  {
   "cell_type": "code",
   "execution_count": null,
   "metadata": {
    "collapsed": false
   },
   "outputs": [],
   "source": [
    "bplot1 = plt.boxplot(df.IndividualRate)"
   ]
  },
  {
   "cell_type": "markdown",
   "metadata": {},
   "source": [
    " #### Show the distribution of ‘IndividualRate’ values using boxplot and histogram"
   ]
  },
  {
   "cell_type": "code",
   "execution_count": null,
   "metadata": {
    "collapsed": false
   },
   "outputs": [],
   "source": [
    "df =  df[df. IndividualRate < 9000]\n",
    "df =  df[df. IndividualRate > 0]"
   ]
  },
  {
   "cell_type": "code",
   "execution_count": null,
   "metadata": {
    "collapsed": false
   },
   "outputs": [],
   "source": [
    "df.IndividualRate.min()\n",
    "df.IndividualRate.max()"
   ]
  },
  {
   "cell_type": "code",
   "execution_count": null,
   "metadata": {
    "collapsed": false
   },
   "outputs": [],
   "source": [
    "temp = plt.hist(df.IndividualRate)"
   ]
  },
  {
   "cell_type": "code",
   "execution_count": null,
   "metadata": {
    "collapsed": false
   },
   "outputs": [],
   "source": [
    "df.IndividualRate.kurt()\n",
    "df.IndividualRate.skew()"
   ]
  },
  {
   "cell_type": "code",
   "execution_count": null,
   "metadata": {
    "collapsed": false
   },
   "outputs": [],
   "source": [
    "df.IndividualRate.min()\n",
    "df.IndividualRate.max()"
   ]
  },
  {
   "cell_type": "markdown",
   "metadata": {},
   "source": [
    "# Task 3.2"
   ]
  },
  {
   "cell_type": "markdown",
   "metadata": {},
   "source": [
    "Prepare the data for the later tasks, extract the rows where ‘IndividualRate’ is greater than 0 and less than 9000."
   ]
  },
  {
   "cell_type": "code",
   "execution_count": null,
   "metadata": {
    "collapsed": false
   },
   "outputs": [],
   "source": [
    "StateCode_list = df.StateCode.unique()\n",
    "StateCode_list = np.sort(StateCode_list)"
   ]
  },
  {
   "cell_type": "code",
   "execution_count": null,
   "metadata": {
    "collapsed": false
   },
   "outputs": [],
   "source": [
    "StateCode_Name = []\n",
    "for i in StateCode_list:\n",
    "        g = geocoder.google(i,components=\"administrative_area:%s|country:US\" %(i))\n",
    "        t = g.address.partition(\",\")  \n",
    "        StateCode_Name.append(t[0].encode(\"utf-8\"))"
   ]
  },
  {
   "cell_type": "markdown",
   "metadata": {},
   "source": [
    "* compare the number of carries (i.e., issuers)\n",
    "* total number pf plans"
   ]
  },
  {
   "cell_type": "code",
   "execution_count": null,
   "metadata": {
    "collapsed": false
   },
   "outputs": [],
   "source": [
    "print(\"Listed Carries: \",len(df.IssuerId.unique()))\n",
    "print(\"Listed Plans: \",len(df.PlanId.unique()))\n",
    "print(\"Listed States: \",len(df.StateCode.unique()))"
   ]
  },
  {
   "cell_type": "markdown",
   "metadata": {},
   "source": [
    "## Number of Issuers by States of US "
   ]
  },
  {
   "cell_type": "code",
   "execution_count": null,
   "metadata": {
    "collapsed": false
   },
   "outputs": [],
   "source": [
    "number_providers = df[['IssuerId','PlanId']].groupby(df['StateCode']).agg(['nunique'])\n",
    "number_providers.columns = number_providers.columns.droplevel(1)"
   ]
  },
  {
   "cell_type": "code",
   "execution_count": null,
   "metadata": {
    "collapsed": false
   },
   "outputs": [],
   "source": [
    "layout = go.Layout(title='Number of Issuers by US State',yaxis=dict(title='Number of Issuers',titlefont=dict(family='Courier New, monospace',size=18,)))\n",
    "\n",
    "data = [go.Bar(x=list(number_providers.index), y=list(number_providers.IssuerId))]\n",
    "fig = go.Figure(data=data, layout=layout)\n",
    "py.iplot(fig,filename='Number_of_Issuers_by_US_State')"
   ]
  },
  {
   "cell_type": "markdown",
   "metadata": {
    "collapsed": false,
    "scrolled": false
   },
   "source": [
    "## Number of Policies by States of US "
   ]
  },
  {
   "cell_type": "code",
   "execution_count": null,
   "metadata": {
    "collapsed": false
   },
   "outputs": [],
   "source": [
    "layout = go.Layout(title='Number of Plans by US State',yaxis=dict(title='Number of Plans',titlefont=dict(family='Courier New, monospace',size=18,)))\n",
    "\n",
    "data = [go.Bar(x=list(number_providers.index), y=list(number_providers.PlanId))]\n",
    "fig = go.Figure(data=data, layout=layout)\n",
    "py.iplot(fig,filename='Number_of_Plans_by_US_State')"
   ]
  },
  {
   "cell_type": "code",
   "execution_count": null,
   "metadata": {
    "collapsed": false
   },
   "outputs": [],
   "source": [
    "bubbleDF = pd.DataFrame()\n",
    "bubbleDF['State'] = StateCode_Name\n",
    "bubbleDF['numberIssuers'] = list(number_providers.IssuerId)\n",
    "bubbleDF['numberPlanId'] = list(number_providers.PlanId)\n",
    "bubbleDF.head()"
   ]
  },
  {
   "cell_type": "markdown",
   "metadata": {},
   "source": [
    "# Import us census data for population estimates for 2014"
   ]
  },
  {
   "cell_type": "code",
   "execution_count": null,
   "metadata": {
    "collapsed": false
   },
   "outputs": [],
   "source": [
    "population = pd.read_csv('us_statedata.csv',thousands=\",\")\n",
    "population.head()"
   ]
  },
  {
   "cell_type": "code",
   "execution_count": null,
   "metadata": {
    "collapsed": false
   },
   "outputs": [],
   "source": [
    "df2 = pd.merge(bubbleDF, population, on='State',how='inner')\n",
    "df2.head(5)"
   ]
  },
  {
   "cell_type": "code",
   "execution_count": null,
   "metadata": {
    "collapsed": false
   },
   "outputs": [],
   "source": [
    "cf.set_config_file(theme='ggplot')"
   ]
  },
  {
   "cell_type": "code",
   "execution_count": null,
   "metadata": {
    "collapsed": false,
    "scrolled": false
   },
   "outputs": [],
   "source": [
    "df2.iplot(kind='bubble', x='numberIssuers', y='numberPlanId', size='Population', text='State',\n",
    "             xTitle='numberof Issuers', yTitle='number of Plans',title= \"Population of USA States 2014 - Issuers to Policies\")"
   ]
  },
  {
   "cell_type": "markdown",
   "metadata": {
    "collapsed": false
   },
   "source": [
    "<H1>Questions - Task 3.2</H1>\n",
    "<body>\n",
    "<h3><p style=\"color:red;\">Whether there are more plans for where there are larger populations?</p></h3>\n",
    "</body>\n",
    "\n",
    "THe above graph would indicatre that based on population there are more plociy issuers and plans the larger hte population\n",
    "\n",
    "<body>\n",
    "<h3><p style=\"color:red;\">which state has the largest/least number of health insurance issuers or plans?</p></h3>\n",
    "</body>\n",
    "\n",
    "Texas would appear from this graph to have the largest number of health insurance issuers, however Wisconsin has per capaita the highest rate for both policies and plans.\n",
    "\n",
    "\n",
    "\n",
    "<body>\n",
    "<h3><p style=\"color:red;\">whether there are more plans for where there are larger populations?</p></h3>\n",
    "</body>\n",
    "\n",
    "the above information would indicate that the above statement is true"
   ]
  },
  {
   "cell_type": "markdown",
   "metadata": {
    "collapsed": false
   },
   "source": [
    "# Task 3.3\n",
    "* How many issuers offers plans to non-smokers vs. smokers across different states? \n"
   ]
  },
  {
   "cell_type": "markdown",
   "metadata": {
    "collapsed": true
   },
   "source": [
    "### remove all NaN values from dataframe to create IndividualTobaccoRate dataframe"
   ]
  },
  {
   "cell_type": "code",
   "execution_count": null,
   "metadata": {
    "collapsed": false,
    "scrolled": false
   },
   "outputs": [],
   "source": [
    "tRate_DF = df.dropna()"
   ]
  },
  {
   "cell_type": "markdown",
   "metadata": {},
   "source": [
    "### Group by state and do a unique count on number of issuers with smoking policies"
   ]
  },
  {
   "cell_type": "code",
   "execution_count": null,
   "metadata": {
    "collapsed": false
   },
   "outputs": [],
   "source": [
    "plans_smoking = tRate_DF[['IssuerId', 'PlanId']].groupby(tRate_DF['StateCode']).agg(['nunique'])\n",
    "plans_smoking.columns = plans_smoking.columns.droplevel(1)"
   ]
  },
  {
   "cell_type": "markdown",
   "metadata": {},
   "source": [
    "###  Graph of Policy issuers with smoking policies"
   ]
  },
  {
   "cell_type": "code",
   "execution_count": null,
   "metadata": {
    "collapsed": false
   },
   "outputs": [],
   "source": [
    "layout = go.Layout(barmode='group',title='Number of Issuers per State - Smoker -V- NonSmoker Plans', yaxis=dict(title='Number of Plans',titlefont=dict(family='Courier New, monospace',size=18,)))\n",
    "dataZ = go.Bar(x=StateCode_Name, y=list(number_providers.IssuerId), name='Total Issuers')\n",
    "dataX = go.Bar(x=StateCode_Name, y=list(plans_smoking.IssuerId), name='Issuers with Smoker only Plans')\n",
    "data = [dataX, dataZ]\n",
    "fig = go.Figure(data=data, layout=layout)\n",
    "py.iplot(fig, filename='Number_of_Issuers_per_State_Smoker_V_NonSmoker_Plans')"
   ]
  },
  {
   "cell_type": "markdown",
   "metadata": {
    "collapsed": true
   },
   "source": [
    "###  Graph of Plans with smoking policies"
   ]
  },
  {
   "cell_type": "code",
   "execution_count": null,
   "metadata": {
    "collapsed": false
   },
   "outputs": [],
   "source": [
    "layout = go.Layout(barmode='group',title='Number of Plans per State - Smoker -V- Non', yaxis=dict(title='Number of Plans',titlefont=dict(family='Courier New, monospace',size=18,)))\n",
    "dataZ = go.Bar(x=StateCode_Name, y=list(number_providers.PlanId), name='Total Plans')\n",
    "dataX = go.Bar(x=StateCode_Name, y=list(plans_smoking.PlanId), name='Smoking Plans')\n",
    "data = [dataX, dataZ]\n",
    "fig = go.Figure(data=data, layout=layout)\n",
    "py.iplot(fig, filename='Number_of_Plans_per_State_Smoker_V_Non')"
   ]
  },
  {
   "cell_type": "markdown",
   "metadata": {
    "collapsed": true
   },
   "source": [
    "### Do all states provided plans for tobacco users?"
   ]
  },
  {
   "cell_type": "code",
   "execution_count": null,
   "metadata": {
    "collapsed": false
   },
   "outputs": [],
   "source": [
    "no_tab_policy = df[['IndividualTobaccoRate']].groupby(df['StateCode']).agg(['nunique'])\n",
    "no_tab_policy.columns = no_tab_policy.columns.droplevel(1)\n",
    "no_tab_policy = no_tab_policy.loc[no_tab_policy['IndividualTobaccoRate'] < 1]\n",
    "no_tab = list(no_tab_policy.index)\n",
    "no_tab_name= []\n",
    "for i in no_tab:\n",
    "        g = geocoder.google(i,components=\"administrative_area:%s|country:US\" %(i))\n",
    "        t = g.address.partition(\",\")  \n",
    "        no_tab_name.append(t[0].encode(\"utf-8\"))\n",
    "print \"These States have No policies for Smokers: \", no_tab_name "
   ]
  },
  {
   "cell_type": "markdown",
   "metadata": {},
   "source": [
    "# Task 3.4"
   ]
  },
  {
   "cell_type": "code",
   "execution_count": null,
   "metadata": {
    "collapsed": false
   },
   "outputs": [],
   "source": [
    "mean_plan_price = df[['IndividualTobaccoRate', 'IndividualRate']].groupby(df['StateCode']).agg(['mean'])\n",
    "mean_plan_price.columns = mean_plan_price.columns.droplevel(1)"
   ]
  },
  {
   "cell_type": "code",
   "execution_count": null,
   "metadata": {
    "collapsed": false
   },
   "outputs": [],
   "source": [
    "layout = go.Layout(barmode='group',title='Mean Price of Plans- Smoker -V- Non', yaxis=dict(title='Cost of Plans',titlefont=dict(family='Courier New, monospace',size=18,)))\n",
    "dataZ = go.Bar(x=StateCode_Name, y=list(mean_plan_price.IndividualRate), name='Non Smoking Plans')\n",
    "dataX = go.Bar(x=StateCode_Name, y=list(mean_plan_price.IndividualTobaccoRate), name='Smoking Plans')\n",
    "data = [dataX, dataZ]\n",
    "fig = go.Figure(data=data, layout=layout)\n",
    "py.iplot(fig, filename='Mean_Price_of_Plans_Smoker_V_Non')"
   ]
  },
  {
   "cell_type": "markdown",
   "metadata": {},
   "source": [
    "# Task 3.5"
   ]
  },
  {
   "cell_type": "code",
   "execution_count": null,
   "metadata": {
    "collapsed": false
   },
   "outputs": [],
   "source": [
    "df.head()"
   ]
  },
  {
   "cell_type": "code",
   "execution_count": null,
   "metadata": {
    "collapsed": false
   },
   "outputs": [],
   "source": [
    "df = df.drop(df[df.Age == 'Family Option'].index)\n",
    "df['Age'] = df['Age'].replace(['0-20'], '20')\n",
    "df['Age'] = df['Age'].replace(['65 and over'], '65')\n",
    "age_mean = df[['IndividualRate', 'IndividualTobaccoRate']].groupby(df['Age']).agg(['mean'])\n",
    "age_mean.columns = age_mean.columns.droplevel(1)"
   ]
  },
  {
   "cell_type": "code",
   "execution_count": null,
   "metadata": {
    "collapsed": false
   },
   "outputs": [],
   "source": [
    "layout = go.Layout(barmode='group',title='Mean Policy Cost based on Age', xaxis=dict(title='Age',titlefont=dict(family='Courier New, monospace',size=18,)),yaxis=dict(title='Mean Cost of Plan',titlefont=dict(family='Courier New, monospace',size=18,)))\n",
    "dataZ = go.Scatter(x=list(age_mean.index), y=list(age_mean.IndividualRate), \n",
    "                   name='Non Smoker', \n",
    "                   mode = 'lines+markers')\n",
    "dataX = go.Scatter(x=list(age_mean.index), y=list(age_mean.IndividualTobaccoRate), \n",
    "                   mode = 'lines+markers',\n",
    "                   name = 'Smoker')\n",
    "data = [dataX, dataZ]\n",
    "fig = go.Figure(data=data, layout=layout)\n",
    "py.iplot(fig, filename='Mean_Policy_Cost_based_on_Age')"
   ]
  },
  {
   "cell_type": "markdown",
   "metadata": {},
   "source": [
    "<H1>Questions - Task 3.5</H1>\n",
    "<body>\n",
    "<h3><p style=\"color:red;\">As a whole, compare the average rates/cost for non-smokers vs. smokers at different ages. how does the rates looks like as age of the subscriber increases?</p></h3>\n",
    "</body>\n",
    "\n",
    "As you can see from the above graph there is a definate increase for both smokers and non smokers on ayarage in the US. however ther is a definate increase in the rate of mean cost for smokers as they get older\n"
   ]
  },
  {
   "cell_type": "code",
   "execution_count": null,
   "metadata": {
    "collapsed": false
   },
   "outputs": [],
   "source": [
    "age_list = df.Age.unique()\n",
    "age_list = np.sort(age_list)"
   ]
  },
  {
   "cell_type": "markdown",
   "metadata": {
    "collapsed": false
   },
   "source": [
    "### Generate Mean Price by Age and State"
   ]
  },
  {
   "cell_type": "code",
   "execution_count": null,
   "metadata": {
    "collapsed": false,
    "scrolled": false
   },
   "outputs": [],
   "source": [
    "df2 = df.copy()\n",
    "df2.set_index(['StateCode', 'Age'], inplace=True)\n",
    "df2 = df2.groupby(level=[0,1]).mean()\n",
    "columnNames = ['IndividualRate', 'IndividualTobaccoRate']\n",
    "df2 = df2[columnNames]\n",
    "df2.head(5)"
   ]
  },
  {
   "cell_type": "markdown",
   "metadata": {},
   "source": [
    "### Remove all Index's to reset State Code as the only index"
   ]
  },
  {
   "cell_type": "code",
   "execution_count": null,
   "metadata": {
    "collapsed": false
   },
   "outputs": [],
   "source": [
    "df2.reset_index(inplace=True)  \n",
    "df2.head(5)"
   ]
  },
  {
   "cell_type": "code",
   "execution_count": null,
   "metadata": {
    "collapsed": false
   },
   "outputs": [],
   "source": [
    "columnNames = ['StateCode', 'Age','IndividualRate','IndividualTobaccoRate']\n",
    "df2 = df2[columnNames]\n",
    "df2 = df2.set_index(df2.StateCode)\n",
    "df2.head(5)"
   ]
  },
  {
   "cell_type": "code",
   "execution_count": null,
   "metadata": {
    "collapsed": false
   },
   "outputs": [],
   "source": [
    "columnNames = ['Age','IndividualRate','IndividualTobaccoRate']\n",
    "df2 = df2[columnNames]\n",
    "df2.head(5)"
   ]
  },
  {
   "cell_type": "code",
   "execution_count": null,
   "metadata": {
    "collapsed": false
   },
   "outputs": [],
   "source": [
    "layout = go.Layout(barmode='group',title='Mean Policy Cost based on Age All states', xaxis=dict(title='Age',titlefont=dict(family='Courier New, monospace',size=18,)),yaxis=dict(title='Mean Cost of Plan',titlefont=dict(family='Courier New, monospace',size=18,)))\n",
    "dataZ = go.Scatter(x=list(df2.Age), y=list(df2.IndividualRate), \n",
    "                   name='Non Smoker', \n",
    "                   mode = 'lines+markers')\n",
    "dataX = go.Scatter(x=list(df2.Age), y=list(df2.IndividualTobaccoRate), \n",
    "                   mode = 'lines+markers',\n",
    "                   name = 'Smoker')\n",
    "data = [dataX, dataZ]\n",
    "fig = go.Figure(data=data, layout=layout)\n",
    "py.iplot(fig, filename='Mean_Policy_cost_based_on_Age_All_states')"
   ]
  },
  {
   "cell_type": "markdown",
   "metadata": {
    "collapsed": false
   },
   "source": [
    "<h3>This graph is not particularly helpful,however what it has plotted is the mean cost by age for smokers and non smokers for every state in the US.</h3>\n",
    "\n",
    "<body>\n",
    "<h3><p style=\"color:red;\"> At which states the changes of non-smoker and smoker look parallel, and at which states the tobacco user rate has a bigger slope?</p></h3>\n",
    "</body>\n",
    "\n",
    "\n",
    "The next set of graphs could not be produced any other way, i aploogise i tried numerous ways in an attempt  to produce sub plots. this is the only way i could show every state."
   ]
  },
  {
   "cell_type": "code",
   "execution_count": null,
   "metadata": {
    "collapsed": false,
    "scrolled": false
   },
   "outputs": [],
   "source": [
    "figure = {'data': [],'layout': {}}\n",
    "#figure['data'].append\n",
    "#figure['layout'] = layout\n",
    "j = 0\n",
    "for i in StateCode_list:\n",
    "    tempDF = pd.DataFrame()\n",
    "    tempDF = df2.ix[df2.index == i]\n",
    "    layout = go.Layout(barmode='group',title='%s  - Mean Policy Cost based on Age' %StateCode_Name[j], xaxis=dict(title='Age',titlefont=dict(family='Courier New, monospace',size=18,)),yaxis=dict(title='Mean Cost of Plan',titlefont=dict(family='Courier New, monospace',size=18,)))\n",
    "    dataZ = go.Scatter(x=list(tempDF.Age), y=list(tempDF.IndividualRate), \n",
    "                   name='Non Smoker', \n",
    "                   mode = 'lines+markers')\n",
    "    dataX = go.Scatter(x=list(tempDF.Age), y=list(tempDF.IndividualTobaccoRate), \n",
    "                   mode = 'lines+markers',\n",
    "                   name = 'Smoker')\n",
    "    data = [dataX, dataZ]\n",
    "    del tempDF\n",
    "    j = j + 1\n",
    "    fig = go.Figure(data=data, layout=layout)\n",
    "    py.iplot(fig,filename='Mean_Policy_Cost_based_Age_%s' %i)\n",
    "\n"
   ]
  },
  {
   "cell_type": "markdown",
   "metadata": {},
   "source": [
    "<body>\n",
    "<h3><p style=\"color:red;\"> At which states the changes of non-smoker and smoker look parallel, and at which states the tobacco user rate has a bigger slope?</p></h3>\n",
    "</body>\n",
    " \n",
    "Missouri, Florida, Nebraska, Nevada, Ohio, Texas, Wyoming and Virgina (which had nearly double the policy rate for  smokers) had the largest slopes. Wisconsin was has a very high range for both smokers and non smokers which was interesting as it had the highestest number od issuers and plans which would lead  you to assume that the market there would be more competitive."
   ]
  },
  {
   "cell_type": "markdown",
   "metadata": {},
   "source": [
    "<h1>Task 4</h1>\n",
    "\n",
    "* Exploratory Analysis on another data set\n",
    "* US green house emissions data set was used from kaggle\n",
    "\n",
    "https://www.kaggle.com/sogun3/uspollution\n",
    "\n",
    "* I am attempting to plot the different types of emissions over time and by state\n"
   ]
  },
  {
   "cell_type": "code",
   "execution_count": null,
   "metadata": {
    "collapsed": false
   },
   "outputs": [],
   "source": [
    "df = pd.read_csv('pollution_us_2000_2016.csv')"
   ]
  },
  {
   "cell_type": "code",
   "execution_count": null,
   "metadata": {
    "collapsed": false
   },
   "outputs": [],
   "source": [
    "df.dtypes"
   ]
  },
  {
   "cell_type": "markdown",
   "metadata": {},
   "source": [
    "#### Remove unwanted columns"
   ]
  },
  {
   "cell_type": "code",
   "execution_count": null,
   "metadata": {
    "collapsed": false
   },
   "outputs": [],
   "source": [
    "df = df.drop('Unnamed: 0', 1)\n",
    "df = df.drop('County Code', 1)\n",
    "df = df.drop('Site Num', 1)\n",
    "df = df.drop('State Code', 1)\n",
    "df = df.drop('Address', 1)\n",
    "df = df.drop('County', 1)\n",
    "df = df.drop('NO2 Units', 1)\n",
    "df = df.drop('NO2 1st Max Hour', 1)\n",
    "df = df.drop('O3 Units', 1)\n",
    "df = df.drop('O3 1st Max Hour', 1)\n",
    "df = df.drop('SO2 Units', 1)\n",
    "df = df.drop('SO2 1st Max Hour', 1)\n",
    "df = df.drop('CO Units', 1)\n",
    "df = df.drop('CO 1st Max Hour', 1)"
   ]
  },
  {
   "cell_type": "markdown",
   "metadata": {},
   "source": [
    "#### set dateime index"
   ]
  },
  {
   "cell_type": "code",
   "execution_count": null,
   "metadata": {
    "collapsed": false
   },
   "outputs": [],
   "source": [
    "df = df.set_index(pd.DatetimeIndex(df['Date Local']))\n",
    "df = df.drop('Date Local', 1)"
   ]
  },
  {
   "cell_type": "markdown",
   "metadata": {},
   "source": [
    "#### Create a year variable for later grouping"
   ]
  },
  {
   "cell_type": "code",
   "execution_count": null,
   "metadata": {
    "collapsed": true
   },
   "outputs": [],
   "source": [
    "df['year'] = df.index.year"
   ]
  },
  {
   "cell_type": "markdown",
   "metadata": {},
   "source": [
    "#### rename variables for easier indexing"
   ]
  },
  {
   "cell_type": "code",
   "execution_count": null,
   "metadata": {
    "collapsed": false
   },
   "outputs": [],
   "source": [
    "df = df.rename(columns={'O3 Mean':'Ozone_mean'})\n",
    "df = df.rename(columns={'O3 1st Max Value':'Ozone_max'})\n",
    "df = df.rename(columns={'CO Mean':'Carbon_mean'})\n",
    "df = df.rename(columns={'CO 1st Max Value':'Carbon_max'})\n",
    "df = df.rename(columns={'O3 AQI':'Ozone_AQI'})\n",
    "df = df.rename(columns={'CO AQI':'Carbon_AQI'})\n",
    "df = df.rename(columns={'SO2 Mean':'Sulphur_mean'})\n",
    "df = df.rename(columns={'SO2 1st Max Value':'Sulphur_max'})\n",
    "df = df.rename(columns={'SO2 AQI':'Sulphur_AQI'})\n",
    "df = df.rename(columns={'NO2 Mean':'Nitrogen_mean'})\n",
    "df = df.rename(columns={'NO2 1st Max Value':'Nitrogen_max'})\n",
    "df = df.rename(columns={'NO2 AQI':'Nitrogen_AQI'})\n",
    "df.head(2)"
   ]
  },
  {
   "cell_type": "code",
   "execution_count": null,
   "metadata": {
    "collapsed": true
   },
   "outputs": [],
   "source": [
    "AQI = df[['Nitrogen_AQI','Ozone_AQI', 'Sulphur_AQI', 'Carbon_AQI']].groupby(df['year']).agg(['mean'])\n",
    "AQI.columns = AQI.columns.droplevel(1)"
   ]
  },
  {
   "cell_type": "code",
   "execution_count": null,
   "metadata": {
    "collapsed": true
   },
   "outputs": [],
   "source": [
    "pollution = df[['Ozone_mean','Ozone_max', 'Carbon_mean', 'Carbon_max', 'Sulphur_mean', 'Sulphur_max','Nitrogen_mean' ,'Nitrogen_max']].groupby(df['year']).agg(['mean'])\n",
    "pollution.columns = pollution.columns.droplevel(1)"
   ]
  },
  {
   "cell_type": "code",
   "execution_count": null,
   "metadata": {
    "collapsed": false
   },
   "outputs": [],
   "source": [
    "layout = go.Layout(barmode='group',title='US Air Quality Index 2000 - 2016', yaxis=dict(title='Air Quality Index',titlefont=dict(family='Courier New, monospace',size=18,)))\n",
    "dataZ = go.Scatter(x=AQI.index, y=list(AQI.Nitrogen_AQI), name='Nitrogen AQI',mode ='lines+markers')\n",
    "dataX = go.Scatter(x=AQI.index, y=list(AQI.Ozone_AQI), name='Ozone AQI', mode ='lines+markers')\n",
    "\n",
    "dataA = go.Scatter(x=AQI.index, y=list(AQI.Sulphur_AQI), name='Sulphur AQI',mode ='lines+markers')\n",
    "dataB = go.Scatter(x=AQI.index, y=list(AQI.Carbon_AQI), name='Carbon AQI', mode ='lines+markers')\n",
    "\n",
    "\n",
    "data = [dataX, dataZ, dataA, dataB]\n",
    "fig = go.Figure(data=data, layout=layout)\n",
    "py.iplot(fig, filename='US_Air_Quality_Index_2000_2016')"
   ]
  },
  {
   "cell_type": "markdown",
   "metadata": {},
   "source": [
    "## Overall air quality seems to be improving since 2000\n",
    "\n",
    "https://en.wikipedia.org/wiki/Air_quality_index\n",
    "\n",
    "An air quality index (AQI) is a number used by government agencies [1] to communicate to the public how polluted the air currently is or how polluted it is forecast to become.As the AQI increases, an increasingly large percentage of the population is likely to experience increasingly severe adverse health effects"
   ]
  },
  {
   "cell_type": "code",
   "execution_count": null,
   "metadata": {
    "collapsed": false
   },
   "outputs": [],
   "source": [
    "layout = go.Layout(barmode='group',title='US Nitrogen Dixoide Emssions 2000 - 2016', yaxis=dict(title='Parts per Million',titlefont=dict(family='Courier New, monospace',size=18,)))\n",
    "dataZ = go.Scatter(x=pollution.index, y=list(pollution.Nitrogen_mean), name='Nitrogen Emmssions Mean',mode ='lines+markers')\n",
    "dataX = go.Scatter(x=pollution.index, y=list(pollution.Nitrogen_max), name='Nitrogen Emmssions Max', mode ='lines+markers')\n",
    "\n",
    "data = [dataX, dataZ]\n",
    "fig = go.Figure(data=data, layout=layout)\n",
    "py.iplot(fig, filename='US_Nitrogen_Dixoide_Emssions_2000_2016')"
   ]
  },
  {
   "cell_type": "code",
   "execution_count": null,
   "metadata": {
    "collapsed": false
   },
   "outputs": [],
   "source": [
    "layout = go.Layout(barmode='group',title='US Sulphur Dixoide Emssions 2000 - 2016', yaxis=dict(title='Parts per Million',titlefont=dict(family='Courier New, monospace',size=18,)))\n",
    "dataZ = go.Scatter(x=pollution.index, y=list(pollution.Sulphur_mean), name='Sulphur Dixoide Emmssions Mean',mode ='lines+markers')\n",
    "dataX = go.Scatter(x=pollution.index, y=list(pollution.Sulphur_max), name='Sulphur Dixoide Emmssions Max', mode ='lines+markers')\n",
    "\n",
    "data = [dataX, dataZ]\n",
    "fig = go.Figure(data=data, layout=layout)\n",
    "py.iplot(fig, filename='US_Sulphur_Dixoide_Emssions_2000_2016')"
   ]
  },
  {
   "cell_type": "code",
   "execution_count": null,
   "metadata": {
    "collapsed": false
   },
   "outputs": [],
   "source": [
    "layout = go.Layout(barmode='group',title='US Ozone Emssions 2000 - 2016', yaxis=dict(title='Parts per Million',titlefont=dict(family='Courier New, monospace',size=18,)))\n",
    "dataZ = go.Scatter(x=pollution.index, y=list(pollution.Ozone_mean), name='Ozone Emmssions Mean',mode ='lines+markers')\n",
    "dataX = go.Scatter(x=pollution.index, y=list(pollution.Ozone_max), name='Ozone Emmssions Max', mode ='lines+markers')\n",
    "\n",
    "data = [dataX, dataZ]\n",
    "fig = go.Figure(data=data, layout=layout)\n",
    "py.iplot(fig, filename='US_Ozone_Emssions_2000_2016')"
   ]
  },
  {
   "cell_type": "code",
   "execution_count": null,
   "metadata": {
    "collapsed": false
   },
   "outputs": [],
   "source": [
    "layout = go.Layout(barmode='group',title='US Carbon Emssions 2000 - 2016', yaxis=dict(title='Parts per Million',titlefont=dict(family='Courier New, monospace',size=18,)))\n",
    "dataZ = go.Scatter(x=pollution.index, y=list(pollution.Carbon_mean), name='Carbon Emmssions Mean',mode ='lines+markers')\n",
    "dataX = go.Scatter(x=pollution.index, y=list(pollution.Carbon_max), name='Carbon Emmssions Max', mode ='lines+markers')\n",
    "\n",
    "data = [dataX, dataZ]\n",
    "fig = go.Figure(data=data, layout=layout)\n",
    "py.iplot(fig,filename='US_Carbon_Emssions_2000_2016')"
   ]
  },
  {
   "cell_type": "markdown",
   "metadata": {},
   "source": [
    "### At this point i want to demonstrate the overall mean AQI per state "
   ]
  },
  {
   "cell_type": "code",
   "execution_count": null,
   "metadata": {
    "collapsed": true
   },
   "outputs": [],
   "source": [
    "df2 = df.copy()\n",
    "df2.set_index(['State', 'year'], inplace=True)\n",
    "df2 = df2.groupby(level=[0,1]).mean()"
   ]
  },
  {
   "cell_type": "code",
   "execution_count": null,
   "metadata": {
    "collapsed": false
   },
   "outputs": [],
   "source": [
    "df2.reset_index(inplace=True)  \n",
    "df2 = df2.set_index(df2.State)\n",
    "df2.head(5)"
   ]
  },
  {
   "cell_type": "code",
   "execution_count": null,
   "metadata": {
    "collapsed": false
   },
   "outputs": [],
   "source": [
    "columnNames = ['Nitrogen_AQI','Ozone_AQI','Sulphur_AQI', 'Carbon_AQI', 'year']\n",
    "df2 = df2[columnNames]\n",
    "df2.head(5)"
   ]
  },
  {
   "cell_type": "code",
   "execution_count": null,
   "metadata": {
    "collapsed": true
   },
   "outputs": [],
   "source": [
    "df2['overall_AQI'] = df2['Nitrogen_AQI']+df2['Ozone_AQI']+df2['Sulphur_AQI']+df2['Carbon_AQI']"
   ]
  },
  {
   "cell_type": "code",
   "execution_count": null,
   "metadata": {
    "collapsed": false
   },
   "outputs": [],
   "source": [
    "trace1 = Scatter3d(\n",
    "    y=df2.year,\n",
    "    z=df2.overall_AQI,\n",
    "    x=df2.index,\n",
    "    text=df2.index,\n",
    "    mode='markers',\n",
    "    marker=dict(\n",
    "        sizemode='diameter',\n",
    "        sizeref=750,\n",
    "        size=df2.overall_AQI*150,\n",
    "        color = df2.overall_AQI,\n",
    "        colorscale = 'Jet',\n",
    "        colorbar = dict(title = 'Air Quality Index'),\n",
    "        line=dict(color='rgb(140, 140, 170)')\n",
    "    )\n",
    ")\n",
    "\n",
    "data=[trace1]\n",
    "layout=dict(height=800, width=800, title='US States Air Quality Index 2000 - 2016',scene=Scene(aspectmode=\"manual\"))\n",
    "fig=dict(data=data, layout=layout)\n",
    "py.iplot(fig, filename='3DBubble')"
   ]
  },
  {
   "cell_type": "markdown",
   "metadata": {},
   "source": [
    "### This graph demonstrates that over the last 16 years that there has been an overall improvement in Air Quality in the United States.\n",
    "\n",
    "The dark red values denote poor air quality - Michigan in 2001 had the worst results and Tennesse in 2016 have the best results.\n"
   ]
  }
 ],
 "metadata": {
  "anaconda-cloud": {},
  "kernelspec": {
   "display_name": "Python 2",
   "language": "python",
   "name": "python2"
  },
  "language_info": {
   "codemirror_mode": {
    "name": "ipython",
    "version": 2
   },
   "file_extension": ".py",
   "mimetype": "text/x-python",
   "name": "python",
   "nbconvert_exporter": "python",
   "pygments_lexer": "ipython2",
   "version": "2.7.13"
  }
 },
 "nbformat": 4,
 "nbformat_minor": 1
}
